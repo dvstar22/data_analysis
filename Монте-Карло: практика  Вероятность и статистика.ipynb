{
  "nbformat": 4,
  "nbformat_minor": 0,
  "metadata": {
    "colab": {
      "name": "4-probability-and-statistics-monte-carlo-practice.ipynb",
      "provenance": [],
      "collapsed_sections": [],
      "include_colab_link": true
    },
    "kernelspec": {
      "name": "python3",
      "display_name": "Python 3"
    },
    "language_info": {
      "name": "python"
    }
  },
  "cells": [
    {
      "cell_type": "markdown",
      "metadata": {
        "id": "view-in-github",
        "colab_type": "text"
      },
      "source": [
        "<a href=\"https://colab.research.google.com/github/dvstar22/data_analysis/blob/main/%D0%9C%D0%BE%D0%BD%D1%82%D0%B5-%D0%9A%D0%B0%D1%80%D0%BB%D0%BE%3A%20%D0%BF%D1%80%D0%B0%D0%BA%D1%82%D0%B8%D0%BA%D0%B0%20%20%D0%92%D0%B5%D1%80%D0%BE%D1%8F%D1%82%D0%BD%D0%BE%D1%81%D1%82%D1%8C%20%D0%B8%20%D1%81%D1%82%D0%B0%D1%82%D0%B8%D1%81%D1%82%D0%B8%D0%BA%D0%B0.ipynb\" target=\"_parent\"><img src=\"https://colab.research.google.com/assets/colab-badge.svg\" alt=\"Open In Colab\"/></a>"
      ]
    },
    {
      "cell_type": "code",
      "metadata": {
        "id": "SZMCKzr0kDwd"
      },
      "source": [
        "import pandas as pd\n",
        "import numpy as np"
      ],
      "execution_count": null,
      "outputs": []
    },
    {
      "cell_type": "code",
      "metadata": {
        "id": "aoGPxPf7KAGP"
      },
      "source": [
        "dice = pd.Series([1,2,3,4,5,6])"
      ],
      "execution_count": null,
      "outputs": []
    },
    {
      "cell_type": "code",
      "metadata": {
        "colab": {
          "base_uri": "https://localhost:8080/"
        },
        "id": "2Q5Tel0CK4wA",
        "outputId": "1255db43-3865-4d4c-dbf8-e33331d27cf1"
      },
      "source": [
        "dice.sample(1).values[0]"
      ],
      "execution_count": null,
      "outputs": [
        {
          "output_type": "execute_result",
          "data": {
            "text/plain": [
              "4"
            ]
          },
          "metadata": {},
          "execution_count": 20
        }
      ]
    },
    {
      "cell_type": "code",
      "metadata": {
        "id": "FgHi5mO2K6Qd"
      },
      "source": [
        "rolls = [dice.sample(1).values[0] for _ in range(100000)]"
      ],
      "execution_count": null,
      "outputs": []
    },
    {
      "cell_type": "code",
      "metadata": {
        "colab": {
          "base_uri": "https://localhost:8080/"
        },
        "id": "7kycTQBuLNh8",
        "outputId": "0b8311c2-322e-4e5f-8a14-aa61de30a8ca"
      },
      "source": [
        "rolls[:10]"
      ],
      "execution_count": null,
      "outputs": [
        {
          "output_type": "execute_result",
          "data": {
            "text/plain": [
              "[4, 5, 4, 1, 2, 5, 1, 1, 3, 1]"
            ]
          },
          "metadata": {},
          "execution_count": 26
        }
      ]
    },
    {
      "cell_type": "code",
      "metadata": {
        "colab": {
          "base_uri": "https://localhost:8080/"
        },
        "id": "hzizs1CHLOz_",
        "outputId": "d724cb10-77de-49af-fbaa-08c2e1f4016e"
      },
      "source": [
        "pd.Series(rolls).value_counts(normalize=True)"
      ],
      "execution_count": null,
      "outputs": [
        {
          "output_type": "execute_result",
          "data": {
            "text/plain": [
              "1    0.16751\n",
              "5    0.16715\n",
              "2    0.16687\n",
              "3    0.16665\n",
              "6    0.16592\n",
              "4    0.16590\n",
              "dtype: float64"
            ]
          },
          "metadata": {},
          "execution_count": 27
        }
      ]
    },
    {
      "cell_type": "code",
      "metadata": {
        "colab": {
          "base_uri": "https://localhost:8080/"
        },
        "id": "o2zKzWI5LVhn",
        "outputId": "81f9ed2b-768a-4f19-e059-e0adfbced597"
      },
      "source": [
        "1/6"
      ],
      "execution_count": null,
      "outputs": [
        {
          "output_type": "execute_result",
          "data": {
            "text/plain": [
              "0.16666666666666666"
            ]
          },
          "metadata": {},
          "execution_count": 28
        }
      ]
    },
    {
      "cell_type": "code",
      "metadata": {
        "colab": {
          "base_uri": "https://localhost:8080/"
        },
        "id": "TlGxatUGLlTN",
        "outputId": "62957a1a-b2d9-4650-b862-4e5bc57acaf1"
      },
      "source": [
        "dice.value_counts(normalize=True)"
      ],
      "execution_count": null,
      "outputs": [
        {
          "output_type": "execute_result",
          "data": {
            "text/plain": [
              "6    0.166667\n",
              "5    0.166667\n",
              "4    0.166667\n",
              "3    0.166667\n",
              "2    0.166667\n",
              "1    0.166667\n",
              "dtype: float64"
            ]
          },
          "metadata": {},
          "execution_count": 30
        }
      ]
    },
    {
      "cell_type": "markdown",
      "metadata": {
        "id": "dSJ7Cb0LMEAf"
      },
      "source": [
        "Определить вероятность того, что в группе, состоящей из 23 человек, у двух людей будет совпадение дней рождения (число и месяц).\n"
      ]
    },
    {
      "cell_type": "code",
      "metadata": {
        "id": "ifHmGVfgMVIc"
      },
      "source": [
        "bd = pd.Series(range(365))"
      ],
      "execution_count": null,
      "outputs": []
    },
    {
      "cell_type": "code",
      "metadata": {
        "colab": {
          "base_uri": "https://localhost:8080/"
        },
        "id": "2Y1fyAlPNMMw",
        "outputId": "a558b719-ba88-4f3c-df49-bb3ef22e7f6c"
      },
      "source": [
        "bd"
      ],
      "execution_count": null,
      "outputs": [
        {
          "output_type": "execute_result",
          "data": {
            "text/plain": [
              "0        0\n",
              "1        1\n",
              "2        2\n",
              "3        3\n",
              "4        4\n",
              "      ... \n",
              "360    360\n",
              "361    361\n",
              "362    362\n",
              "363    363\n",
              "364    364\n",
              "Length: 365, dtype: int64"
            ]
          },
          "metadata": {},
          "execution_count": 33
        }
      ]
    },
    {
      "cell_type": "code",
      "metadata": {
        "id": "9ZwXr8JONOPs"
      },
      "source": [
        "t = bd.sample(23,replace=True)"
      ],
      "execution_count": null,
      "outputs": []
    },
    {
      "cell_type": "code",
      "metadata": {
        "colab": {
          "base_uri": "https://localhost:8080/"
        },
        "id": "PAuNXCC9NulV",
        "outputId": "7bc687f5-b6fc-4562-8a31-cde74cb86d94"
      },
      "source": [
        "t.duplicated()"
      ],
      "execution_count": null,
      "outputs": [
        {
          "output_type": "execute_result",
          "data": {
            "text/plain": [
              "82     False\n",
              "361    False\n",
              "332    False\n",
              "329    False\n",
              "268    False\n",
              "315    False\n",
              "58     False\n",
              "177    False\n",
              "23     False\n",
              "223    False\n",
              "5      False\n",
              "14     False\n",
              "48     False\n",
              "36     False\n",
              "318    False\n",
              "281    False\n",
              "341    False\n",
              "362    False\n",
              "228    False\n",
              "325    False\n",
              "207    False\n",
              "328    False\n",
              "68     False\n",
              "dtype: bool"
            ]
          },
          "metadata": {},
          "execution_count": 49
        }
      ]
    },
    {
      "cell_type": "code",
      "metadata": {
        "colab": {
          "base_uri": "https://localhost:8080/"
        },
        "id": "_bnUe3JCNu-h",
        "outputId": "4af717bb-5ead-4de1-8b5e-131830afae8b"
      },
      "source": [
        "t.duplicated().max()"
      ],
      "execution_count": null,
      "outputs": [
        {
          "output_type": "execute_result",
          "data": {
            "text/plain": [
              "False"
            ]
          },
          "metadata": {},
          "execution_count": 50
        }
      ]
    },
    {
      "cell_type": "code",
      "metadata": {
        "id": "PSTufgyTOEul"
      },
      "source": [
        "rooms = [bd.sample(23,replace=True).duplicated().max() for _ in range(10000)]"
      ],
      "execution_count": null,
      "outputs": []
    },
    {
      "cell_type": "code",
      "metadata": {
        "colab": {
          "base_uri": "https://localhost:8080/"
        },
        "id": "w-z-HUa1OfxT",
        "outputId": "1ca816db-7324-4c76-c0f5-f0e6457419a9"
      },
      "source": [
        "rooms[:10]"
      ],
      "execution_count": null,
      "outputs": [
        {
          "output_type": "execute_result",
          "data": {
            "text/plain": [
              "[False, False, True, False, True, False, False, True, True, True]"
            ]
          },
          "metadata": {},
          "execution_count": 59
        }
      ]
    },
    {
      "cell_type": "code",
      "metadata": {
        "colab": {
          "base_uri": "https://localhost:8080/"
        },
        "id": "SjElUxViOje3",
        "outputId": "7badb7b1-2c05-4428-8d69-a295a37bb2a8"
      },
      "source": [
        "np.mean(rooms)"
      ],
      "execution_count": null,
      "outputs": [
        {
          "output_type": "execute_result",
          "data": {
            "text/plain": [
              "0.5054"
            ]
          },
          "metadata": {},
          "execution_count": 60
        }
      ]
    },
    {
      "cell_type": "code",
      "metadata": {
        "id": "XuClHpr_Oq9-"
      },
      "source": [
        "rooms = [bd.sample(57,replace=True).duplicated().max() for _ in range(10000)]"
      ],
      "execution_count": null,
      "outputs": []
    },
    {
      "cell_type": "code",
      "metadata": {
        "colab": {
          "base_uri": "https://localhost:8080/"
        },
        "id": "EKVJlO7IPTBZ",
        "outputId": "c0573181-10b2-4133-8a01-0636fa2f8a54"
      },
      "source": [
        "np.mean(rooms)"
      ],
      "execution_count": null,
      "outputs": [
        {
          "output_type": "execute_result",
          "data": {
            "text/plain": [
              "0.99"
            ]
          },
          "metadata": {},
          "execution_count": 62
        }
      ]
    },
    {
      "cell_type": "code",
      "metadata": {
        "id": "-wBexRNPRon6"
      },
      "source": [
        ""
      ],
      "execution_count": null,
      "outputs": []
    },
    {
      "cell_type": "code",
      "metadata": {
        "id": "nwRqyswwRowI"
      },
      "source": [
        "rooms = [bd.sample(364,replace=True).duplicated().max() for _ in range(100000)]"
      ],
      "execution_count": null,
      "outputs": []
    },
    {
      "cell_type": "code",
      "metadata": {
        "colab": {
          "base_uri": "https://localhost:8080/"
        },
        "id": "O1bvUb-ZRowJ",
        "outputId": "34687ff8-bb04-4465-f195-1099193a07df"
      },
      "source": [
        "np.mean(rooms)"
      ],
      "execution_count": null,
      "outputs": [
        {
          "output_type": "execute_result",
          "data": {
            "text/plain": [
              "1.0"
            ]
          },
          "metadata": {},
          "execution_count": 81
        }
      ]
    },
    {
      "cell_type": "markdown",
      "metadata": {
        "id": "WIXNF8ddPVCw"
      },
      "source": [
        "Экзамен проходит по следующей схеме: если некоторый билет уже был вытянут, то после ответа экзаменатор откладывает его в сторону. Студент выучил 20 билетов из 30. Когда ему выгоднее идти, первым или вторым, чтобы вероятность вынуть выученный билет была больше?"
      ]
    },
    {
      "cell_type": "code",
      "metadata": {
        "id": "eGwG95DHPkKr"
      },
      "source": [
        "tickets = list(range(1,31))"
      ],
      "execution_count": null,
      "outputs": []
    },
    {
      "cell_type": "code",
      "metadata": {
        "colab": {
          "base_uri": "https://localhost:8080/"
        },
        "id": "UCQnI1bhQQ0I",
        "outputId": "97161add-c1dc-4a89-e87b-7cc404592223"
      },
      "source": [
        "tickets"
      ],
      "execution_count": null,
      "outputs": [
        {
          "output_type": "execute_result",
          "data": {
            "text/plain": [
              "[1,\n",
              " 2,\n",
              " 3,\n",
              " 4,\n",
              " 5,\n",
              " 6,\n",
              " 7,\n",
              " 8,\n",
              " 9,\n",
              " 10,\n",
              " 11,\n",
              " 12,\n",
              " 13,\n",
              " 14,\n",
              " 15,\n",
              " 16,\n",
              " 17,\n",
              " 18,\n",
              " 19,\n",
              " 20,\n",
              " 21,\n",
              " 22,\n",
              " 23,\n",
              " 24,\n",
              " 25,\n",
              " 26,\n",
              " 27,\n",
              " 28,\n",
              " 29,\n",
              " 30]"
            ]
          },
          "metadata": {},
          "execution_count": 66
        }
      ]
    },
    {
      "cell_type": "code",
      "metadata": {
        "id": "dHDPft6FQRxt"
      },
      "source": [
        "student = list(range(1,21))"
      ],
      "execution_count": null,
      "outputs": []
    },
    {
      "cell_type": "code",
      "metadata": {
        "colab": {
          "base_uri": "https://localhost:8080/"
        },
        "id": "A8HcyEW1QZv3",
        "outputId": "f0cdda54-5f5a-4f5b-aff7-046880ca6467"
      },
      "source": [
        "student"
      ],
      "execution_count": null,
      "outputs": [
        {
          "output_type": "execute_result",
          "data": {
            "text/plain": [
              "[1, 2, 3, 4, 5, 6, 7, 8, 9, 10, 11, 12, 13, 14, 15, 16, 17, 18, 19, 20]"
            ]
          },
          "metadata": {},
          "execution_count": 68
        }
      ]
    },
    {
      "cell_type": "code",
      "metadata": {
        "id": "jxe3J_UzQahl"
      },
      "source": [
        "from random import shuffle"
      ],
      "execution_count": null,
      "outputs": []
    },
    {
      "cell_type": "code",
      "metadata": {
        "colab": {
          "base_uri": "https://localhost:8080/"
        },
        "id": "xfz6zANVQq-C",
        "outputId": "c8d85b43-8762-45bf-b279-2365cd1b9aa4"
      },
      "source": [
        "tickets"
      ],
      "execution_count": null,
      "outputs": [
        {
          "output_type": "execute_result",
          "data": {
            "text/plain": [
              "[1,\n",
              " 2,\n",
              " 3,\n",
              " 4,\n",
              " 5,\n",
              " 6,\n",
              " 7,\n",
              " 8,\n",
              " 9,\n",
              " 10,\n",
              " 11,\n",
              " 12,\n",
              " 13,\n",
              " 14,\n",
              " 15,\n",
              " 16,\n",
              " 17,\n",
              " 18,\n",
              " 19,\n",
              " 20,\n",
              " 21,\n",
              " 22,\n",
              " 23,\n",
              " 24,\n",
              " 25,\n",
              " 26,\n",
              " 27,\n",
              " 28,\n",
              " 29,\n",
              " 30]"
            ]
          },
          "metadata": {},
          "execution_count": 70
        }
      ]
    },
    {
      "cell_type": "code",
      "metadata": {
        "id": "Awk9rbsuQr5H"
      },
      "source": [
        "shuffle(tickets)"
      ],
      "execution_count": null,
      "outputs": []
    },
    {
      "cell_type": "code",
      "metadata": {
        "colab": {
          "base_uri": "https://localhost:8080/"
        },
        "id": "03DU_vE1QuOt",
        "outputId": "99d85c1b-666a-4fef-9207-10e843a4a527"
      },
      "source": [
        "tickets"
      ],
      "execution_count": null,
      "outputs": [
        {
          "output_type": "execute_result",
          "data": {
            "text/plain": [
              "[3,\n",
              " 1,\n",
              " 6,\n",
              " 2,\n",
              " 28,\n",
              " 10,\n",
              " 17,\n",
              " 5,\n",
              " 16,\n",
              " 18,\n",
              " 21,\n",
              " 13,\n",
              " 22,\n",
              " 9,\n",
              " 29,\n",
              " 19,\n",
              " 4,\n",
              " 27,\n",
              " 11,\n",
              " 24,\n",
              " 8,\n",
              " 7,\n",
              " 23,\n",
              " 26,\n",
              " 30,\n",
              " 25,\n",
              " 20,\n",
              " 15,\n",
              " 12,\n",
              " 14]"
            ]
          },
          "metadata": {},
          "execution_count": 72
        }
      ]
    },
    {
      "cell_type": "code",
      "metadata": {
        "colab": {
          "base_uri": "https://localhost:8080/"
        },
        "id": "59lyvIAWQvAi",
        "outputId": "7a2e71da-32b2-42e3-da12-90d018aaf63e"
      },
      "source": [
        "3 in student"
      ],
      "execution_count": null,
      "outputs": [
        {
          "output_type": "execute_result",
          "data": {
            "text/plain": [
              "True"
            ]
          },
          "metadata": {},
          "execution_count": 75
        }
      ]
    },
    {
      "cell_type": "code",
      "metadata": {
        "id": "Vcsn9KiAQ55D"
      },
      "source": [
        "n = 100000\n",
        "student = list(range(1,21))\n",
        "tickets = list(range(1,31))\n",
        "result = []\n",
        "\n",
        "for _ in range(n):\n",
        "  shuffle(tickets)\n",
        "  result.append(tickets[0] in student)"
      ],
      "execution_count": null,
      "outputs": []
    },
    {
      "cell_type": "code",
      "metadata": {
        "colab": {
          "base_uri": "https://localhost:8080/"
        },
        "id": "gsodmLJ9R-2W",
        "outputId": "cb378fb6-c066-46fc-847a-cf1ce42dc83c"
      },
      "source": [
        "np.mean(result)"
      ],
      "execution_count": null,
      "outputs": [
        {
          "output_type": "execute_result",
          "data": {
            "text/plain": [
              "0.66842"
            ]
          },
          "metadata": {},
          "execution_count": 90
        }
      ]
    },
    {
      "cell_type": "code",
      "metadata": {
        "id": "STDmKNV0SIUv"
      },
      "source": [
        "n = 100000\n",
        "student = list(range(1,21))\n",
        "tickets = list(range(1,31))\n",
        "result = []\n",
        "\n",
        "for _ in range(n):\n",
        "  shuffle(tickets)\n",
        "  result.append(tickets[1] in student)"
      ],
      "execution_count": null,
      "outputs": []
    },
    {
      "cell_type": "code",
      "metadata": {
        "colab": {
          "base_uri": "https://localhost:8080/"
        },
        "id": "RRsXFGIeSUhA",
        "outputId": "d8ddd6af-b1c3-49b9-c133-805cc085a8ef"
      },
      "source": [
        "np.mean(result)"
      ],
      "execution_count": null,
      "outputs": [
        {
          "output_type": "execute_result",
          "data": {
            "text/plain": [
              "0.66769"
            ]
          },
          "metadata": {},
          "execution_count": 92
        }
      ]
    },
    {
      "cell_type": "code",
      "metadata": {
        "id": "tItoe0qASV6I"
      },
      "source": [
        "n = 100000\n",
        "student = list(range(1,21))\n",
        "tickets = list(range(1,31))\n",
        "result = []\n",
        "\n",
        "for _ in range(n):\n",
        "  shuffle(tickets)\n",
        "  result.append(tickets[2] in student)"
      ],
      "execution_count": null,
      "outputs": []
    },
    {
      "cell_type": "code",
      "metadata": {
        "colab": {
          "base_uri": "https://localhost:8080/"
        },
        "id": "RE1yTX1vSeXe",
        "outputId": "9ec91f69-9250-4792-af85-28fd6c865f06"
      },
      "source": [
        "np.mean(result)"
      ],
      "execution_count": null,
      "outputs": [
        {
          "output_type": "execute_result",
          "data": {
            "text/plain": [
              "0.66418"
            ]
          },
          "metadata": {},
          "execution_count": 94
        }
      ]
    },
    {
      "cell_type": "code",
      "metadata": {
        "colab": {
          "base_uri": "https://localhost:8080/"
        },
        "id": "s3yf493HSgFD",
        "outputId": "63049bb9-594b-4b84-ef99-efe78decdf1f"
      },
      "source": [
        "2 / 3"
      ],
      "execution_count": null,
      "outputs": [
        {
          "output_type": "execute_result",
          "data": {
            "text/plain": [
              "0.6666666666666666"
            ]
          },
          "metadata": {},
          "execution_count": 95
        }
      ]
    },
    {
      "cell_type": "markdown",
      "metadata": {
        "id": "0pmHWtuCSy7-"
      },
      "source": [
        "Ночью произошло ДТП с участием такси. В городе работают две компании такси — «Синие» и «Зелёные». «Зелёным» принадлежит 85% такси, «Синим» 15%. Свидетель аварии утверждает, что такси принадлежало «Синим». Следственный эксперимент показал, что ночью свидетель верно определяет цвет такси в 80%. Какова вероятность того, что такси действительно принадлежало «Синим»?\n"
      ]
    },
    {
      "cell_type": "code",
      "metadata": {
        "colab": {
          "base_uri": "https://localhost:8080/"
        },
        "id": "Sp1bZlCNTIB2",
        "outputId": "b12d6951-935c-44a3-b0c0-fb0f6e4f709f"
      },
      "source": [
        "np.random.binomial(1,0.15)"
      ],
      "execution_count": null,
      "outputs": [
        {
          "output_type": "execute_result",
          "data": {
            "text/plain": [
              "0"
            ]
          },
          "metadata": {},
          "execution_count": 105
        }
      ]
    },
    {
      "cell_type": "code",
      "metadata": {
        "id": "HtLnMKRTTsW5"
      },
      "source": [
        "def witness(taxi):\n",
        "  if np.random.binomial(1,0.8):\n",
        "    return taxi\n",
        "  return abs(taxi - 1)"
      ],
      "execution_count": null,
      "outputs": []
    },
    {
      "cell_type": "code",
      "metadata": {
        "colab": {
          "base_uri": "https://localhost:8080/"
        },
        "id": "6eh7zF3gUY5E",
        "outputId": "a4e62eec-889e-46c4-8630-1ae75cc0dce2"
      },
      "source": [
        "witness(0)"
      ],
      "execution_count": null,
      "outputs": [
        {
          "output_type": "execute_result",
          "data": {
            "text/plain": [
              "1"
            ]
          },
          "metadata": {},
          "execution_count": 112
        }
      ]
    },
    {
      "cell_type": "code",
      "metadata": {
        "id": "f2pmyHjZUctS"
      },
      "source": [
        "n = 100000\n",
        "result = []\n",
        "for _ in range(n):\n",
        "  taxi = np.random.binomial(1,0.15)\n",
        "  witness_answer = witness(taxi)\n",
        "  result.append((taxi,witness_answer))"
      ],
      "execution_count": null,
      "outputs": []
    },
    {
      "cell_type": "code",
      "metadata": {
        "id": "7lHggMg1U6Tm"
      },
      "source": [
        "t = pd.DataFrame(result, columns=['taxi','witness_answer'])"
      ],
      "execution_count": null,
      "outputs": []
    },
    {
      "cell_type": "code",
      "metadata": {
        "colab": {
          "base_uri": "https://localhost:8080/"
        },
        "id": "OagE2ZT0VFgP",
        "outputId": "1d797a5b-13e5-4336-9eff-c0249d2f54fa"
      },
      "source": [
        "t.groupby('witness_answer')['taxi'].mean()"
      ],
      "execution_count": null,
      "outputs": [
        {
          "output_type": "execute_result",
          "data": {
            "text/plain": [
              "witness_answer\n",
              "0    0.043003\n",
              "1    0.416273\n",
              "Name: taxi, dtype: float64"
            ]
          },
          "metadata": {},
          "execution_count": 121
        }
      ]
    },
    {
      "cell_type": "markdown",
      "metadata": {
        "id": "giEbrdofVS6E"
      },
      "source": [
        "Русская рулетка. Есть револьвер с 2 вставленными подряд патронами. Первый крутит барабан и стреляет и остается жив. Твоя очередь: тебе предлагает покрутить барабан перед выстрелом. Согласишься или сразу выстрелишь и почему?"
      ]
    },
    {
      "cell_type": "code",
      "metadata": {
        "id": "k888gd1oWOeU"
      },
      "source": [
        "chamber = [1,1,0,0,0,0]"
      ],
      "execution_count": null,
      "outputs": []
    },
    {
      "cell_type": "code",
      "metadata": {
        "colab": {
          "base_uri": "https://localhost:8080/"
        },
        "id": "uzTl8h79Wx_N",
        "outputId": "9052784d-39c8-42a5-8cc0-01fd915ad587"
      },
      "source": [
        "[1,0,0,0,0,1]"
      ],
      "execution_count": null,
      "outputs": [
        {
          "output_type": "execute_result",
          "data": {
            "text/plain": [
              "[1, 0, 0, 0, 0, 1]"
            ]
          },
          "metadata": {},
          "execution_count": 124
        }
      ]
    },
    {
      "cell_type": "code",
      "metadata": {
        "id": "knZWmN1JXRtx"
      },
      "source": [
        "def one_turn(chamber):\n",
        "  new_chamber = [0,0,0,0,0,0]\n",
        "  n = len(chamber)\n",
        "  for i in range(n):\n",
        "    if i < n-1:\n",
        "      new_chamber[i+1] = chamber[i]\n",
        "    else:\n",
        "      new_chamber[0] = chamber[i]\n",
        "  return new_chamber"
      ],
      "execution_count": null,
      "outputs": []
    },
    {
      "cell_type": "code",
      "metadata": {
        "id": "c6Ta8OL4Xyuj"
      },
      "source": [
        "chamber = [1,1,0,0,0,0]"
      ],
      "execution_count": null,
      "outputs": []
    },
    {
      "cell_type": "code",
      "metadata": {
        "colab": {
          "base_uri": "https://localhost:8080/"
        },
        "id": "Z28xp9CMX0h3",
        "outputId": "944afd74-b295-433c-dc8b-a99c847fae25"
      },
      "source": [
        "one_turn(chamber)"
      ],
      "execution_count": null,
      "outputs": [
        {
          "output_type": "execute_result",
          "data": {
            "text/plain": [
              "[0, 1, 1, 0, 0, 0]"
            ]
          },
          "metadata": {},
          "execution_count": 132
        }
      ]
    },
    {
      "cell_type": "code",
      "metadata": {
        "colab": {
          "base_uri": "https://localhost:8080/"
        },
        "id": "1C9zoJtRX10o",
        "outputId": "e6c1f7e1-d52d-4bc2-ebaf-6c96c2653ac8"
      },
      "source": [
        "one_turn([0, 1, 1, 0, 0, 0])"
      ],
      "execution_count": null,
      "outputs": [
        {
          "output_type": "execute_result",
          "data": {
            "text/plain": [
              "[0, 0, 1, 1, 0, 0]"
            ]
          },
          "metadata": {},
          "execution_count": 133
        }
      ]
    },
    {
      "cell_type": "code",
      "metadata": {
        "colab": {
          "base_uri": "https://localhost:8080/"
        },
        "id": "qXfa6SyVYUAt",
        "outputId": "01d679d0-dfa4-4b2a-8ba7-66abebf45159"
      },
      "source": [
        "one_turn([0, 0, 1, 1, 0, 0])"
      ],
      "execution_count": null,
      "outputs": [
        {
          "output_type": "execute_result",
          "data": {
            "text/plain": [
              "[0, 0, 0, 1, 1, 0]"
            ]
          },
          "metadata": {},
          "execution_count": 134
        }
      ]
    },
    {
      "cell_type": "code",
      "metadata": {
        "colab": {
          "base_uri": "https://localhost:8080/"
        },
        "id": "oHOPXxjeYWog",
        "outputId": "682c5b46-8968-44f8-cab2-384c2b555c47"
      },
      "source": [
        "one_turn([0, 0, 0, 1, 1, 0])"
      ],
      "execution_count": null,
      "outputs": [
        {
          "output_type": "execute_result",
          "data": {
            "text/plain": [
              "[0, 0, 0, 0, 1, 1]"
            ]
          },
          "metadata": {},
          "execution_count": 135
        }
      ]
    },
    {
      "cell_type": "code",
      "metadata": {
        "colab": {
          "base_uri": "https://localhost:8080/"
        },
        "id": "94p2D0QqYZAk",
        "outputId": "64a669aa-89ac-4422-fe11-254592dc6f3d"
      },
      "source": [
        "one_turn([0, 0, 0, 0, 1, 1])"
      ],
      "execution_count": null,
      "outputs": [
        {
          "output_type": "execute_result",
          "data": {
            "text/plain": [
              "[1, 0, 0, 0, 0, 1]"
            ]
          },
          "metadata": {},
          "execution_count": 136
        }
      ]
    },
    {
      "cell_type": "code",
      "metadata": {
        "colab": {
          "base_uri": "https://localhost:8080/"
        },
        "id": "oDAcrTpbYcei",
        "outputId": "65f831e2-48a9-4751-f44f-d213bfabe65d"
      },
      "source": [
        "one_turn([1, 0, 0, 0, 0, 1])"
      ],
      "execution_count": null,
      "outputs": [
        {
          "output_type": "execute_result",
          "data": {
            "text/plain": [
              "[1, 1, 0, 0, 0, 0]"
            ]
          },
          "metadata": {},
          "execution_count": 137
        }
      ]
    },
    {
      "cell_type": "code",
      "metadata": {
        "id": "WSZI4XA0Zfbg"
      },
      "source": [
        "def spin_chamber(chamber):\n",
        "  n = np.random.randint(1,7)\n",
        "  for _ in range(n):\n",
        "    chamber = one_turn(chamber)\n",
        "  return chamber"
      ],
      "execution_count": null,
      "outputs": []
    },
    {
      "cell_type": "code",
      "metadata": {
        "colab": {
          "base_uri": "https://localhost:8080/"
        },
        "id": "v2DgUbdaZ6gL",
        "outputId": "32fc4b1c-3372-4d9e-d31f-bcc60339d24a"
      },
      "source": [
        "spin_chamber([1, 1, 0, 0, 0, 0])"
      ],
      "execution_count": null,
      "outputs": [
        {
          "output_type": "execute_result",
          "data": {
            "text/plain": [
              "[1, 1, 0, 0, 0, 0]"
            ]
          },
          "metadata": {},
          "execution_count": 154
        }
      ]
    },
    {
      "cell_type": "code",
      "metadata": {
        "colab": {
          "base_uri": "https://localhost:8080/"
        },
        "id": "f_bHRQ_9aHft",
        "outputId": "c65ae3a4-af3b-4d12-b284-62da473ad07d"
      },
      "source": [
        "pd.Series([spin_chamber([1, 1, 0, 0, 0, 0]) for _ in range(100000)]).astype(str).value_counts(normalize=True)"
      ],
      "execution_count": null,
      "outputs": [
        {
          "output_type": "execute_result",
          "data": {
            "text/plain": [
              "[0, 1, 1, 0, 0, 0]    0.16757\n",
              "[0, 0, 1, 1, 0, 0]    0.16750\n",
              "[1, 1, 0, 0, 0, 0]    0.16747\n",
              "[1, 0, 0, 0, 0, 1]    0.16637\n",
              "[0, 0, 0, 1, 1, 0]    0.16594\n",
              "[0, 0, 0, 0, 1, 1]    0.16515\n",
              "dtype: float64"
            ]
          },
          "metadata": {},
          "execution_count": 160
        }
      ]
    },
    {
      "cell_type": "code",
      "metadata": {
        "id": "JQMBiy1uYgK1"
      },
      "source": [
        "# заряжаем револьвер\n",
        "chamber = [1,1,0,0,0,0]\n",
        "# первый игрок крутит барабан\n",
        "chamber = spin_chamber(chamber)\n",
        "# первый игрок стреляет\n",
        "chamber = one_turn(chamber)\n",
        "p1 = chamber[0]\n",
        "chamber[0] = 0\n",
        "\n",
        "# второй игрок вращает барабан -- нужно ли это действие?\n",
        "chamber = spin_chamber(chamber)\n",
        "\n",
        "# второй игрок стреляет\n",
        "chamber = one_turn(chamber)\n",
        "p2 = chamber[0]\n"
      ],
      "execution_count": null,
      "outputs": []
    },
    {
      "cell_type": "code",
      "metadata": {
        "colab": {
          "base_uri": "https://localhost:8080/"
        },
        "id": "bJ-OkwtUbuGo",
        "outputId": "f8b5bbbb-dab7-4cdf-be36-438c8afe95a3"
      },
      "source": [
        "p1"
      ],
      "execution_count": null,
      "outputs": [
        {
          "output_type": "execute_result",
          "data": {
            "text/plain": [
              "0"
            ]
          },
          "metadata": {},
          "execution_count": 177
        }
      ]
    },
    {
      "cell_type": "code",
      "metadata": {
        "colab": {
          "base_uri": "https://localhost:8080/"
        },
        "id": "V5Cbg85Nbuwr",
        "outputId": "1c6cc8ef-ced9-4353-e24d-7dd97e89001d"
      },
      "source": [
        "p2"
      ],
      "execution_count": null,
      "outputs": [
        {
          "output_type": "execute_result",
          "data": {
            "text/plain": [
              "0"
            ]
          },
          "metadata": {},
          "execution_count": 178
        }
      ]
    },
    {
      "cell_type": "code",
      "metadata": {
        "id": "aIxNVboFbviw"
      },
      "source": [
        "n = 10000\n",
        "result = []\n",
        "\n",
        "for _ in range(n):\n",
        "  # заряжаем револьвер\n",
        "  chamber = [1,1,0,0,0,0]\n",
        "  # первый игрок крутит барабан\n",
        "  chamber = spin_chamber(chamber)\n",
        "  # первый игрок стреляет\n",
        "  chamber = one_turn(chamber)\n",
        "  p1 = chamber[0]\n",
        "  chamber[0] = 0\n",
        "\n",
        "  # второй игрок вращает барабан -- нужно ли это действие?\n",
        "  chamber = spin_chamber(chamber)\n",
        "\n",
        "  # второй игрок стреляет\n",
        "  chamber = one_turn(chamber)\n",
        "  p2 = chamber[0]\n",
        "\n",
        "  result.append((p1,p2))"
      ],
      "execution_count": null,
      "outputs": []
    },
    {
      "cell_type": "code",
      "metadata": {
        "id": "l2yjqbr0cBgs"
      },
      "source": [
        "t = pd.DataFrame(result,columns=['p1','p2'])"
      ],
      "execution_count": null,
      "outputs": []
    },
    {
      "cell_type": "code",
      "metadata": {
        "colab": {
          "base_uri": "https://localhost:8080/",
          "height": 421
        },
        "id": "uSET753GcEP6",
        "outputId": "30db29a3-184f-4a26-fb3c-0b436ce53398"
      },
      "source": [
        "t"
      ],
      "execution_count": null,
      "outputs": [
        {
          "output_type": "execute_result",
          "data": {
            "text/html": [
              "<div>\n",
              "<style scoped>\n",
              "    .dataframe tbody tr th:only-of-type {\n",
              "        vertical-align: middle;\n",
              "    }\n",
              "\n",
              "    .dataframe tbody tr th {\n",
              "        vertical-align: top;\n",
              "    }\n",
              "\n",
              "    .dataframe thead th {\n",
              "        text-align: right;\n",
              "    }\n",
              "</style>\n",
              "<table border=\"1\" class=\"dataframe\">\n",
              "  <thead>\n",
              "    <tr style=\"text-align: right;\">\n",
              "      <th></th>\n",
              "      <th>p1</th>\n",
              "      <th>p2</th>\n",
              "    </tr>\n",
              "  </thead>\n",
              "  <tbody>\n",
              "    <tr>\n",
              "      <th>0</th>\n",
              "      <td>0</td>\n",
              "      <td>0</td>\n",
              "    </tr>\n",
              "    <tr>\n",
              "      <th>1</th>\n",
              "      <td>0</td>\n",
              "      <td>1</td>\n",
              "    </tr>\n",
              "    <tr>\n",
              "      <th>2</th>\n",
              "      <td>0</td>\n",
              "      <td>0</td>\n",
              "    </tr>\n",
              "    <tr>\n",
              "      <th>3</th>\n",
              "      <td>0</td>\n",
              "      <td>0</td>\n",
              "    </tr>\n",
              "    <tr>\n",
              "      <th>4</th>\n",
              "      <td>0</td>\n",
              "      <td>0</td>\n",
              "    </tr>\n",
              "    <tr>\n",
              "      <th>...</th>\n",
              "      <td>...</td>\n",
              "      <td>...</td>\n",
              "    </tr>\n",
              "    <tr>\n",
              "      <th>9995</th>\n",
              "      <td>0</td>\n",
              "      <td>1</td>\n",
              "    </tr>\n",
              "    <tr>\n",
              "      <th>9996</th>\n",
              "      <td>1</td>\n",
              "      <td>1</td>\n",
              "    </tr>\n",
              "    <tr>\n",
              "      <th>9997</th>\n",
              "      <td>0</td>\n",
              "      <td>1</td>\n",
              "    </tr>\n",
              "    <tr>\n",
              "      <th>9998</th>\n",
              "      <td>0</td>\n",
              "      <td>0</td>\n",
              "    </tr>\n",
              "    <tr>\n",
              "      <th>9999</th>\n",
              "      <td>0</td>\n",
              "      <td>0</td>\n",
              "    </tr>\n",
              "  </tbody>\n",
              "</table>\n",
              "<p>10000 rows × 2 columns</p>\n",
              "</div>"
            ],
            "text/plain": [
              "      p1  p2\n",
              "0      0   0\n",
              "1      0   1\n",
              "2      0   0\n",
              "3      0   0\n",
              "4      0   0\n",
              "...   ..  ..\n",
              "9995   0   1\n",
              "9996   1   1\n",
              "9997   0   1\n",
              "9998   0   0\n",
              "9999   0   0\n",
              "\n",
              "[10000 rows x 2 columns]"
            ]
          },
          "metadata": {},
          "execution_count": 184
        }
      ]
    },
    {
      "cell_type": "code",
      "metadata": {
        "colab": {
          "base_uri": "https://localhost:8080/",
          "height": 143
        },
        "id": "j7kPG76McKea",
        "outputId": "9eba93c6-2cb5-46fa-f7f4-931e29fe3a93"
      },
      "source": [
        "t.groupby('p1')['p2'].agg(['count','mean'])"
      ],
      "execution_count": null,
      "outputs": [
        {
          "output_type": "execute_result",
          "data": {
            "text/html": [
              "<div>\n",
              "<style scoped>\n",
              "    .dataframe tbody tr th:only-of-type {\n",
              "        vertical-align: middle;\n",
              "    }\n",
              "\n",
              "    .dataframe tbody tr th {\n",
              "        vertical-align: top;\n",
              "    }\n",
              "\n",
              "    .dataframe thead th {\n",
              "        text-align: right;\n",
              "    }\n",
              "</style>\n",
              "<table border=\"1\" class=\"dataframe\">\n",
              "  <thead>\n",
              "    <tr style=\"text-align: right;\">\n",
              "      <th></th>\n",
              "      <th>count</th>\n",
              "      <th>mean</th>\n",
              "    </tr>\n",
              "    <tr>\n",
              "      <th>p1</th>\n",
              "      <th></th>\n",
              "      <th></th>\n",
              "    </tr>\n",
              "  </thead>\n",
              "  <tbody>\n",
              "    <tr>\n",
              "      <th>0</th>\n",
              "      <td>6633</td>\n",
              "      <td>0.326851</td>\n",
              "    </tr>\n",
              "    <tr>\n",
              "      <th>1</th>\n",
              "      <td>3367</td>\n",
              "      <td>0.168102</td>\n",
              "    </tr>\n",
              "  </tbody>\n",
              "</table>\n",
              "</div>"
            ],
            "text/plain": [
              "    count      mean\n",
              "p1                 \n",
              "0    6633  0.326851\n",
              "1    3367  0.168102"
            ]
          },
          "metadata": {},
          "execution_count": 185
        }
      ]
    },
    {
      "cell_type": "code",
      "metadata": {
        "id": "RmwnDaZJcYeH"
      },
      "source": [
        "n = 10000\n",
        "result = []\n",
        "\n",
        "for _ in range(n):\n",
        "  # заряжаем револьвер\n",
        "  chamber = [1,1,0,0,0,0]\n",
        "  # первый игрок крутит барабан\n",
        "  chamber = spin_chamber(chamber)\n",
        "  # первый игрок стреляет\n",
        "  chamber = one_turn(chamber)\n",
        "  p1 = chamber[0]\n",
        "  chamber[0] = 0\n",
        "\n",
        "  # второй игрок не вращает барабан\n",
        "  # chamber = spin_chamber(chamber)\n",
        "\n",
        "  # второй игрок стреляет\n",
        "  chamber = one_turn(chamber)\n",
        "  p2 = chamber[0]\n",
        "\n",
        "  result.append((p1,p2))"
      ],
      "execution_count": null,
      "outputs": []
    },
    {
      "cell_type": "code",
      "metadata": {
        "id": "huTRe1d8cksr"
      },
      "source": [
        "t = pd.DataFrame(result,columns=['p1','p2'])"
      ],
      "execution_count": null,
      "outputs": []
    },
    {
      "cell_type": "code",
      "metadata": {
        "colab": {
          "base_uri": "https://localhost:8080/",
          "height": 143
        },
        "id": "jaqfgSfkcmbk",
        "outputId": "6039d692-4a3e-4271-e5c2-6c37785df804"
      },
      "source": [
        "t.groupby('p1')['p2'].agg(['count','mean'])"
      ],
      "execution_count": null,
      "outputs": [
        {
          "output_type": "execute_result",
          "data": {
            "text/html": [
              "<div>\n",
              "<style scoped>\n",
              "    .dataframe tbody tr th:only-of-type {\n",
              "        vertical-align: middle;\n",
              "    }\n",
              "\n",
              "    .dataframe tbody tr th {\n",
              "        vertical-align: top;\n",
              "    }\n",
              "\n",
              "    .dataframe thead th {\n",
              "        text-align: right;\n",
              "    }\n",
              "</style>\n",
              "<table border=\"1\" class=\"dataframe\">\n",
              "  <thead>\n",
              "    <tr style=\"text-align: right;\">\n",
              "      <th></th>\n",
              "      <th>count</th>\n",
              "      <th>mean</th>\n",
              "    </tr>\n",
              "    <tr>\n",
              "      <th>p1</th>\n",
              "      <th></th>\n",
              "      <th></th>\n",
              "    </tr>\n",
              "  </thead>\n",
              "  <tbody>\n",
              "    <tr>\n",
              "      <th>0</th>\n",
              "      <td>6716</td>\n",
              "      <td>0.242108</td>\n",
              "    </tr>\n",
              "    <tr>\n",
              "      <th>1</th>\n",
              "      <td>3284</td>\n",
              "      <td>0.485384</td>\n",
              "    </tr>\n",
              "  </tbody>\n",
              "</table>\n",
              "</div>"
            ],
            "text/plain": [
              "    count      mean\n",
              "p1                 \n",
              "0    6716  0.242108\n",
              "1    3284  0.485384"
            ]
          },
          "metadata": {},
          "execution_count": 188
        }
      ]
    },
    {
      "cell_type": "code",
      "metadata": {
        "id": "vU5xTuqXcokr"
      },
      "source": [
        ""
      ],
      "execution_count": null,
      "outputs": []
    }
  ]
}