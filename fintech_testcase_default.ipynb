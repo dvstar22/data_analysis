{
  "nbformat": 4,
  "nbformat_minor": 0,
  "metadata": {
    "colab": {
      "name": "fintech-testcase-default.ipynb",
      "provenance": [],
      "collapsed_sections": [],
      "include_colab_link": true
    },
    "kernelspec": {
      "name": "python3",
      "display_name": "Python 3"
    },
    "language_info": {
      "name": "python"
    }
  },
  "cells": [
    {
      "cell_type": "markdown",
      "metadata": {
        "id": "view-in-github",
        "colab_type": "text"
      },
      "source": [
        "<a href=\"https://colab.research.google.com/github/dvstar22/data_analysis/blob/main/fintech_testcase_default.ipynb\" target=\"_parent\"><img src=\"https://colab.research.google.com/assets/colab-badge.svg\" alt=\"Open In Colab\"/></a>"
      ]
    },
    {
      "cell_type": "code",
      "source": [
        "! pip install sklearn --upgrade"
      ],
      "metadata": {
        "colab": {
          "base_uri": "https://localhost:8080/"
        },
        "id": "l9mf8AUOiVLE",
        "outputId": "29e6de65-9469-4136-fe2b-bd28f6dedcd1"
      },
      "execution_count": null,
      "outputs": [
        {
          "output_type": "stream",
          "name": "stdout",
          "text": [
            "Requirement already satisfied: sklearn in /usr/local/lib/python3.7/dist-packages (0.0)\n",
            "Requirement already satisfied: scikit-learn in /usr/local/lib/python3.7/dist-packages (from sklearn) (1.0.1)\n",
            "Requirement already satisfied: joblib>=0.11 in /usr/local/lib/python3.7/dist-packages (from scikit-learn->sklearn) (1.1.0)\n",
            "Requirement already satisfied: scipy>=1.1.0 in /usr/local/lib/python3.7/dist-packages (from scikit-learn->sklearn) (1.4.1)\n",
            "Requirement already satisfied: numpy>=1.14.6 in /usr/local/lib/python3.7/dist-packages (from scikit-learn->sklearn) (1.19.5)\n",
            "Requirement already satisfied: threadpoolctl>=2.0.0 in /usr/local/lib/python3.7/dist-packages (from scikit-learn->sklearn) (3.0.0)\n"
          ]
        }
      ]
    },
    {
      "cell_type": "markdown",
      "metadata": {
        "id": "emjUOmjTrKj4"
      },
      "source": [
        "https://docs.google.com/spreadsheets/d/1Frtx1K6j1X8g1ThGrpnMLLslfmmexeoO/edit?usp=sharing&ouid=101807145143614308444&rtpof=true&sd=true"
      ]
    },
    {
      "cell_type": "code",
      "metadata": {
        "id": "9xFzTMp1u4Y0"
      },
      "source": [
        "import matplotlib.pyplot as plt\n",
        "\n",
        "\n",
        "plt.style.use('dark_background')"
      ],
      "execution_count": null,
      "outputs": []
    },
    {
      "cell_type": "code",
      "metadata": {
        "colab": {
          "base_uri": "https://localhost:8080/"
        },
        "id": "WHXV4NPqrMwK",
        "outputId": "bf2ee9f6-d810-44c8-beec-1487b13a86b5"
      },
      "source": [
        "! gdown --id 1Frtx1K6j1X8g1ThGrpnMLLslfmmexeoO"
      ],
      "execution_count": null,
      "outputs": [
        {
          "output_type": "stream",
          "name": "stdout",
          "text": [
            "Downloading...\n",
            "From: https://drive.google.com/uc?id=1Frtx1K6j1X8g1ThGrpnMLLslfmmexeoO\n",
            "To: /content/fintech-testcase-default.xlsx\n",
            "\r  0% 0.00/928k [00:00<?, ?B/s]\r100% 928k/928k [00:00<00:00, 57.0MB/s]\n"
          ]
        }
      ]
    },
    {
      "cell_type": "markdown",
      "metadata": {
        "id": "Cm1yxW-2re9n"
      },
      "source": [
        "Во вложении, файл, нужно сделать следующее\n",
        "\n",
        "-сделать модель, предсказывающую вероятность дефолта (таргет fpd5_flg), \n",
        "в качестве предикторов можно использовать все что есть в файле \n",
        "(не обязательно абсолютно все), кроме dt (это дата выдачи кредита). \n",
        "Можно делать в чем угодно. Преобразовывать переменные можно как угодно. \n",
        "В качестве инструмента можно выбрать обычную логистическую регрессию.  \n",
        "\n",
        "-на выходе должен быть тот же самый файл, но напротив каждого наблюдения \n",
        "должна быть проставлена вероятность дефолта по построенной модели  \n",
        "\n",
        "-нужно сделать мини-отчет по модели в Excel или Word (или Jupiter Notebook), \n",
        "показать Gini (AuROC) модели, распределение (гистограмму) по предсказанной \n",
        "вероятности дефолта и описать кратко что было сделано и как  \n",
        "\n",
        "Оцениваться будет не финальный результат в плане Gini (или других метрик), \n",
        "а скорее ход мыслей и порядок действий.  "
      ]
    },
    {
      "cell_type": "code",
      "metadata": {
        "id": "jmnTYctXrRGs"
      },
      "source": [
        "import pandas as pd\n",
        "import numpy as np"
      ],
      "execution_count": null,
      "outputs": []
    },
    {
      "cell_type": "code",
      "metadata": {
        "id": "sWFLHpRArSda"
      },
      "source": [
        "df = pd.read_excel('/content/fintech-testcase-default.xlsx')"
      ],
      "execution_count": null,
      "outputs": []
    },
    {
      "cell_type": "code",
      "metadata": {
        "colab": {
          "base_uri": "https://localhost:8080/",
          "height": 313
        },
        "id": "aBcfn1PjrYsl",
        "outputId": "9d4f373c-1f43-47f7-9ef6-4d1c5b88a8a7"
      },
      "source": [
        "df.head()"
      ],
      "execution_count": null,
      "outputs": [
        {
          "output_type": "execute_result",
          "data": {
            "text/html": [
              "<div>\n",
              "<style scoped>\n",
              "    .dataframe tbody tr th:only-of-type {\n",
              "        vertical-align: middle;\n",
              "    }\n",
              "\n",
              "    .dataframe tbody tr th {\n",
              "        vertical-align: top;\n",
              "    }\n",
              "\n",
              "    .dataframe thead th {\n",
              "        text-align: right;\n",
              "    }\n",
              "</style>\n",
              "<table border=\"1\" class=\"dataframe\">\n",
              "  <thead>\n",
              "    <tr style=\"text-align: right;\">\n",
              "      <th></th>\n",
              "      <th>fpd5_flg</th>\n",
              "      <th>dt</th>\n",
              "      <th>gender</th>\n",
              "      <th>device_quaility_index</th>\n",
              "      <th>behavioral_index</th>\n",
              "      <th>type_of_document</th>\n",
              "      <th>age</th>\n",
              "      <th>email_domain_formatted</th>\n",
              "      <th>social_status</th>\n",
              "      <th>salary</th>\n",
              "      <th>disbursment_type</th>\n",
              "      <th>os</th>\n",
              "      <th>email_index</th>\n",
              "    </tr>\n",
              "  </thead>\n",
              "  <tbody>\n",
              "    <tr>\n",
              "      <th>0</th>\n",
              "      <td>0</td>\n",
              "      <td>2021-01-22</td>\n",
              "      <td>0</td>\n",
              "      <td>NaN</td>\n",
              "      <td>NaN</td>\n",
              "      <td>UMID</td>\n",
              "      <td>26</td>\n",
              "      <td>GMAIL.COM</td>\n",
              "      <td>Private Company Employee</td>\n",
              "      <td>20000.0</td>\n",
              "      <td>Bank</td>\n",
              "      <td>Android</td>\n",
              "      <td>0.0</td>\n",
              "    </tr>\n",
              "    <tr>\n",
              "      <th>1</th>\n",
              "      <td>0</td>\n",
              "      <td>2020-12-14</td>\n",
              "      <td>1</td>\n",
              "      <td>3.0</td>\n",
              "      <td>4.0</td>\n",
              "      <td>UMID</td>\n",
              "      <td>32</td>\n",
              "      <td>GMAIL.COM</td>\n",
              "      <td>Other</td>\n",
              "      <td>18000.0</td>\n",
              "      <td>E-wallet</td>\n",
              "      <td>Android</td>\n",
              "      <td>1.0</td>\n",
              "    </tr>\n",
              "    <tr>\n",
              "      <th>2</th>\n",
              "      <td>1</td>\n",
              "      <td>2021-01-26</td>\n",
              "      <td>0</td>\n",
              "      <td>0.0</td>\n",
              "      <td>3.0</td>\n",
              "      <td>SSS</td>\n",
              "      <td>41</td>\n",
              "      <td>YAHOO.COM</td>\n",
              "      <td>Private Company Employee</td>\n",
              "      <td>14000.0</td>\n",
              "      <td>Bank</td>\n",
              "      <td>Android</td>\n",
              "      <td>1.0</td>\n",
              "    </tr>\n",
              "    <tr>\n",
              "      <th>3</th>\n",
              "      <td>1</td>\n",
              "      <td>2020-12-10</td>\n",
              "      <td>1</td>\n",
              "      <td>0.0</td>\n",
              "      <td>5.0</td>\n",
              "      <td>TIN</td>\n",
              "      <td>28</td>\n",
              "      <td>GMAIL.COM</td>\n",
              "      <td>BPO Professionals</td>\n",
              "      <td>40000.0</td>\n",
              "      <td>E-wallet</td>\n",
              "      <td>Android</td>\n",
              "      <td>1.0</td>\n",
              "    </tr>\n",
              "    <tr>\n",
              "      <th>4</th>\n",
              "      <td>1</td>\n",
              "      <td>2021-01-17</td>\n",
              "      <td>0</td>\n",
              "      <td>3.0</td>\n",
              "      <td>3.0</td>\n",
              "      <td>UMID</td>\n",
              "      <td>31</td>\n",
              "      <td>GMAIL.COM</td>\n",
              "      <td>BPO Professionals</td>\n",
              "      <td>25000.0</td>\n",
              "      <td>Bank</td>\n",
              "      <td>Android</td>\n",
              "      <td>0.0</td>\n",
              "    </tr>\n",
              "  </tbody>\n",
              "</table>\n",
              "</div>"
            ],
            "text/plain": [
              "   fpd5_flg          dt  gender  ...  disbursment_type       os email_index\n",
              "0         0  2021-01-22       0  ...              Bank  Android         0.0\n",
              "1         0  2020-12-14       1  ...          E-wallet  Android         1.0\n",
              "2         1  2021-01-26       0  ...              Bank  Android         1.0\n",
              "3         1  2020-12-10       1  ...          E-wallet  Android         1.0\n",
              "4         1  2021-01-17       0  ...              Bank  Android         0.0\n",
              "\n",
              "[5 rows x 13 columns]"
            ]
          },
          "metadata": {},
          "execution_count": 6
        }
      ]
    },
    {
      "cell_type": "markdown",
      "metadata": {
        "id": "yIRWEMHWxjig"
      },
      "source": [
        "# EDA"
      ]
    },
    {
      "cell_type": "code",
      "metadata": {
        "id": "bnsKtMchrZFV",
        "colab": {
          "base_uri": "https://localhost:8080/"
        },
        "outputId": "e7561009-6273-42b7-d975-a079328241e6"
      },
      "source": [
        "df['fpd5_flg'].mean()"
      ],
      "execution_count": null,
      "outputs": [
        {
          "output_type": "execute_result",
          "data": {
            "text/plain": [
              "0.2727982815856278"
            ]
          },
          "metadata": {},
          "execution_count": 7
        }
      ]
    },
    {
      "cell_type": "code",
      "metadata": {
        "colab": {
          "base_uri": "https://localhost:8080/"
        },
        "id": "EchX65IHs7mA",
        "outputId": "23859cdb-26d2-4feb-86b1-daf691e34a97"
      },
      "source": [
        "df.isna().mean()"
      ],
      "execution_count": null,
      "outputs": [
        {
          "output_type": "execute_result",
          "data": {
            "text/plain": [
              "fpd5_flg                  0.000000\n",
              "dt                        0.000000\n",
              "gender                    0.000000\n",
              "device_quaility_index     0.036777\n",
              "behavioral_index          0.036777\n",
              "type_of_document          0.000000\n",
              "age                       0.000000\n",
              "email_domain_formatted    0.000000\n",
              "social_status             0.000000\n",
              "salary                    0.046475\n",
              "disbursment_type          0.000000\n",
              "os                        0.001041\n",
              "email_index               0.002148\n",
              "dtype: float64"
            ]
          },
          "metadata": {},
          "execution_count": 8
        }
      ]
    },
    {
      "cell_type": "code",
      "metadata": {
        "id": "DXO-N957tBsE"
      },
      "source": [
        "df['dt'] = pd.to_datetime(df['dt'],format='%Y-%m-%d')"
      ],
      "execution_count": null,
      "outputs": []
    },
    {
      "cell_type": "code",
      "metadata": {
        "colab": {
          "base_uri": "https://localhost:8080/"
        },
        "id": "Wx6PQgxEtQh6",
        "outputId": "e2f46b3b-5df6-420d-acc9-187ce2785304"
      },
      "source": [
        "df['dt'].agg(['min','max'])"
      ],
      "execution_count": null,
      "outputs": [
        {
          "output_type": "execute_result",
          "data": {
            "text/plain": [
              "min   2020-12-09\n",
              "max   2021-02-03\n",
              "Name: dt, dtype: datetime64[ns]"
            ]
          },
          "metadata": {},
          "execution_count": 10
        }
      ]
    },
    {
      "cell_type": "code",
      "metadata": {
        "colab": {
          "base_uri": "https://localhost:8080/"
        },
        "id": "Vgy73O-gtWMB",
        "outputId": "62e7182d-ff69-4469-c9e1-c0ba61cf71e4"
      },
      "source": [
        "len(df)"
      ],
      "execution_count": null,
      "outputs": [
        {
          "output_type": "execute_result",
          "data": {
            "text/plain": [
              "15363"
            ]
          },
          "metadata": {},
          "execution_count": 11
        }
      ]
    },
    {
      "cell_type": "code",
      "metadata": {
        "colab": {
          "base_uri": "https://localhost:8080/",
          "height": 617
        },
        "id": "wv-IFF6Otavr",
        "outputId": "1544fe55-91c2-46bd-f53a-d2ec184377c7"
      },
      "source": [
        "df"
      ],
      "execution_count": null,
      "outputs": [
        {
          "output_type": "execute_result",
          "data": {
            "text/html": [
              "<div>\n",
              "<style scoped>\n",
              "    .dataframe tbody tr th:only-of-type {\n",
              "        vertical-align: middle;\n",
              "    }\n",
              "\n",
              "    .dataframe tbody tr th {\n",
              "        vertical-align: top;\n",
              "    }\n",
              "\n",
              "    .dataframe thead th {\n",
              "        text-align: right;\n",
              "    }\n",
              "</style>\n",
              "<table border=\"1\" class=\"dataframe\">\n",
              "  <thead>\n",
              "    <tr style=\"text-align: right;\">\n",
              "      <th></th>\n",
              "      <th>fpd5_flg</th>\n",
              "      <th>dt</th>\n",
              "      <th>gender</th>\n",
              "      <th>device_quaility_index</th>\n",
              "      <th>behavioral_index</th>\n",
              "      <th>type_of_document</th>\n",
              "      <th>age</th>\n",
              "      <th>email_domain_formatted</th>\n",
              "      <th>social_status</th>\n",
              "      <th>salary</th>\n",
              "      <th>disbursment_type</th>\n",
              "      <th>os</th>\n",
              "      <th>email_index</th>\n",
              "    </tr>\n",
              "  </thead>\n",
              "  <tbody>\n",
              "    <tr>\n",
              "      <th>0</th>\n",
              "      <td>0</td>\n",
              "      <td>2021-01-22</td>\n",
              "      <td>0</td>\n",
              "      <td>NaN</td>\n",
              "      <td>NaN</td>\n",
              "      <td>UMID</td>\n",
              "      <td>26</td>\n",
              "      <td>GMAIL.COM</td>\n",
              "      <td>Private Company Employee</td>\n",
              "      <td>20000.0</td>\n",
              "      <td>Bank</td>\n",
              "      <td>Android</td>\n",
              "      <td>0.0</td>\n",
              "    </tr>\n",
              "    <tr>\n",
              "      <th>1</th>\n",
              "      <td>0</td>\n",
              "      <td>2020-12-14</td>\n",
              "      <td>1</td>\n",
              "      <td>3.0</td>\n",
              "      <td>4.0</td>\n",
              "      <td>UMID</td>\n",
              "      <td>32</td>\n",
              "      <td>GMAIL.COM</td>\n",
              "      <td>Other</td>\n",
              "      <td>18000.0</td>\n",
              "      <td>E-wallet</td>\n",
              "      <td>Android</td>\n",
              "      <td>1.0</td>\n",
              "    </tr>\n",
              "    <tr>\n",
              "      <th>2</th>\n",
              "      <td>1</td>\n",
              "      <td>2021-01-26</td>\n",
              "      <td>0</td>\n",
              "      <td>0.0</td>\n",
              "      <td>3.0</td>\n",
              "      <td>SSS</td>\n",
              "      <td>41</td>\n",
              "      <td>YAHOO.COM</td>\n",
              "      <td>Private Company Employee</td>\n",
              "      <td>14000.0</td>\n",
              "      <td>Bank</td>\n",
              "      <td>Android</td>\n",
              "      <td>1.0</td>\n",
              "    </tr>\n",
              "    <tr>\n",
              "      <th>3</th>\n",
              "      <td>1</td>\n",
              "      <td>2020-12-10</td>\n",
              "      <td>1</td>\n",
              "      <td>0.0</td>\n",
              "      <td>5.0</td>\n",
              "      <td>TIN</td>\n",
              "      <td>28</td>\n",
              "      <td>GMAIL.COM</td>\n",
              "      <td>BPO Professionals</td>\n",
              "      <td>40000.0</td>\n",
              "      <td>E-wallet</td>\n",
              "      <td>Android</td>\n",
              "      <td>1.0</td>\n",
              "    </tr>\n",
              "    <tr>\n",
              "      <th>4</th>\n",
              "      <td>1</td>\n",
              "      <td>2021-01-17</td>\n",
              "      <td>0</td>\n",
              "      <td>3.0</td>\n",
              "      <td>3.0</td>\n",
              "      <td>UMID</td>\n",
              "      <td>31</td>\n",
              "      <td>GMAIL.COM</td>\n",
              "      <td>BPO Professionals</td>\n",
              "      <td>25000.0</td>\n",
              "      <td>Bank</td>\n",
              "      <td>Android</td>\n",
              "      <td>0.0</td>\n",
              "    </tr>\n",
              "    <tr>\n",
              "      <th>...</th>\n",
              "      <td>...</td>\n",
              "      <td>...</td>\n",
              "      <td>...</td>\n",
              "      <td>...</td>\n",
              "      <td>...</td>\n",
              "      <td>...</td>\n",
              "      <td>...</td>\n",
              "      <td>...</td>\n",
              "      <td>...</td>\n",
              "      <td>...</td>\n",
              "      <td>...</td>\n",
              "      <td>...</td>\n",
              "      <td>...</td>\n",
              "    </tr>\n",
              "    <tr>\n",
              "      <th>15358</th>\n",
              "      <td>0</td>\n",
              "      <td>2021-01-05</td>\n",
              "      <td>1</td>\n",
              "      <td>3.0</td>\n",
              "      <td>5.0</td>\n",
              "      <td>UMID</td>\n",
              "      <td>36</td>\n",
              "      <td>GMAIL.COM</td>\n",
              "      <td>Business Owner</td>\n",
              "      <td>25000.0</td>\n",
              "      <td>E-wallet</td>\n",
              "      <td>Android</td>\n",
              "      <td>6.0</td>\n",
              "    </tr>\n",
              "    <tr>\n",
              "      <th>15359</th>\n",
              "      <td>1</td>\n",
              "      <td>2021-01-23</td>\n",
              "      <td>1</td>\n",
              "      <td>0.0</td>\n",
              "      <td>3.0</td>\n",
              "      <td>Passport</td>\n",
              "      <td>32</td>\n",
              "      <td>GMAIL.COM</td>\n",
              "      <td>Self-Employed</td>\n",
              "      <td>25000.0</td>\n",
              "      <td>E-wallet</td>\n",
              "      <td>Android</td>\n",
              "      <td>1.0</td>\n",
              "    </tr>\n",
              "    <tr>\n",
              "      <th>15360</th>\n",
              "      <td>1</td>\n",
              "      <td>2021-02-01</td>\n",
              "      <td>1</td>\n",
              "      <td>1.0</td>\n",
              "      <td>5.0</td>\n",
              "      <td>UMID</td>\n",
              "      <td>29</td>\n",
              "      <td>GMAIL.COM</td>\n",
              "      <td>Private Company Employee</td>\n",
              "      <td>25000.0</td>\n",
              "      <td>E-wallet</td>\n",
              "      <td>Android</td>\n",
              "      <td>0.0</td>\n",
              "    </tr>\n",
              "    <tr>\n",
              "      <th>15361</th>\n",
              "      <td>0</td>\n",
              "      <td>2020-12-14</td>\n",
              "      <td>1</td>\n",
              "      <td>1.0</td>\n",
              "      <td>5.0</td>\n",
              "      <td>UMID</td>\n",
              "      <td>37</td>\n",
              "      <td>GMAIL.COM</td>\n",
              "      <td>Private Company Employee</td>\n",
              "      <td>25000.0</td>\n",
              "      <td>Bank</td>\n",
              "      <td>Android</td>\n",
              "      <td>6.0</td>\n",
              "    </tr>\n",
              "    <tr>\n",
              "      <th>15362</th>\n",
              "      <td>0</td>\n",
              "      <td>2021-01-30</td>\n",
              "      <td>1</td>\n",
              "      <td>3.0</td>\n",
              "      <td>4.0</td>\n",
              "      <td>SSS</td>\n",
              "      <td>41</td>\n",
              "      <td>GMAIL.COM</td>\n",
              "      <td>Private Company Employee</td>\n",
              "      <td>35000.0</td>\n",
              "      <td>Bank</td>\n",
              "      <td>Android</td>\n",
              "      <td>0.0</td>\n",
              "    </tr>\n",
              "  </tbody>\n",
              "</table>\n",
              "<p>15363 rows × 13 columns</p>\n",
              "</div>"
            ],
            "text/plain": [
              "       fpd5_flg         dt  gender  ...  disbursment_type       os email_index\n",
              "0             0 2021-01-22       0  ...              Bank  Android         0.0\n",
              "1             0 2020-12-14       1  ...          E-wallet  Android         1.0\n",
              "2             1 2021-01-26       0  ...              Bank  Android         1.0\n",
              "3             1 2020-12-10       1  ...          E-wallet  Android         1.0\n",
              "4             1 2021-01-17       0  ...              Bank  Android         0.0\n",
              "...         ...        ...     ...  ...               ...      ...         ...\n",
              "15358         0 2021-01-05       1  ...          E-wallet  Android         6.0\n",
              "15359         1 2021-01-23       1  ...          E-wallet  Android         1.0\n",
              "15360         1 2021-02-01       1  ...          E-wallet  Android         0.0\n",
              "15361         0 2020-12-14       1  ...              Bank  Android         6.0\n",
              "15362         0 2021-01-30       1  ...              Bank  Android         0.0\n",
              "\n",
              "[15363 rows x 13 columns]"
            ]
          },
          "metadata": {},
          "execution_count": 12
        }
      ]
    },
    {
      "cell_type": "code",
      "metadata": {
        "colab": {
          "base_uri": "https://localhost:8080/",
          "height": 300
        },
        "id": "m-5ddTu5tdLG",
        "outputId": "a34513cb-50e3-45bd-eec8-5304021f8e85"
      },
      "source": [
        "df.groupby('os')['fpd5_flg'].agg(['count','mean'])"
      ],
      "execution_count": null,
      "outputs": [
        {
          "output_type": "execute_result",
          "data": {
            "text/html": [
              "<div>\n",
              "<style scoped>\n",
              "    .dataframe tbody tr th:only-of-type {\n",
              "        vertical-align: middle;\n",
              "    }\n",
              "\n",
              "    .dataframe tbody tr th {\n",
              "        vertical-align: top;\n",
              "    }\n",
              "\n",
              "    .dataframe thead th {\n",
              "        text-align: right;\n",
              "    }\n",
              "</style>\n",
              "<table border=\"1\" class=\"dataframe\">\n",
              "  <thead>\n",
              "    <tr style=\"text-align: right;\">\n",
              "      <th></th>\n",
              "      <th>count</th>\n",
              "      <th>mean</th>\n",
              "    </tr>\n",
              "    <tr>\n",
              "      <th>os</th>\n",
              "      <th></th>\n",
              "      <th></th>\n",
              "    </tr>\n",
              "  </thead>\n",
              "  <tbody>\n",
              "    <tr>\n",
              "      <th>Android</th>\n",
              "      <td>11499</td>\n",
              "      <td>0.284460</td>\n",
              "    </tr>\n",
              "    <tr>\n",
              "      <th>Chrome OS</th>\n",
              "      <td>5</td>\n",
              "      <td>0.600000</td>\n",
              "    </tr>\n",
              "    <tr>\n",
              "      <th>Linux</th>\n",
              "      <td>7</td>\n",
              "      <td>0.571429</td>\n",
              "    </tr>\n",
              "    <tr>\n",
              "      <th>OS X</th>\n",
              "      <td>4</td>\n",
              "      <td>0.500000</td>\n",
              "    </tr>\n",
              "    <tr>\n",
              "      <th>Windows</th>\n",
              "      <td>845</td>\n",
              "      <td>0.261538</td>\n",
              "    </tr>\n",
              "    <tr>\n",
              "      <th>iOS</th>\n",
              "      <td>2947</td>\n",
              "      <td>0.230743</td>\n",
              "    </tr>\n",
              "    <tr>\n",
              "      <th>macOS</th>\n",
              "      <td>40</td>\n",
              "      <td>0.150000</td>\n",
              "    </tr>\n",
              "  </tbody>\n",
              "</table>\n",
              "</div>"
            ],
            "text/plain": [
              "           count      mean\n",
              "os                        \n",
              "Android    11499  0.284460\n",
              "Chrome OS      5  0.600000\n",
              "Linux          7  0.571429\n",
              "OS X           4  0.500000\n",
              "Windows      845  0.261538\n",
              "iOS         2947  0.230743\n",
              "macOS         40  0.150000"
            ]
          },
          "metadata": {},
          "execution_count": 13
        }
      ]
    },
    {
      "cell_type": "code",
      "metadata": {
        "colab": {
          "base_uri": "https://localhost:8080/",
          "height": 617
        },
        "id": "yyVpbADotrI3",
        "outputId": "0e078ccd-8887-445e-c49e-1ce190bf453a"
      },
      "source": [
        "df"
      ],
      "execution_count": null,
      "outputs": [
        {
          "output_type": "execute_result",
          "data": {
            "text/html": [
              "<div>\n",
              "<style scoped>\n",
              "    .dataframe tbody tr th:only-of-type {\n",
              "        vertical-align: middle;\n",
              "    }\n",
              "\n",
              "    .dataframe tbody tr th {\n",
              "        vertical-align: top;\n",
              "    }\n",
              "\n",
              "    .dataframe thead th {\n",
              "        text-align: right;\n",
              "    }\n",
              "</style>\n",
              "<table border=\"1\" class=\"dataframe\">\n",
              "  <thead>\n",
              "    <tr style=\"text-align: right;\">\n",
              "      <th></th>\n",
              "      <th>fpd5_flg</th>\n",
              "      <th>dt</th>\n",
              "      <th>gender</th>\n",
              "      <th>device_quaility_index</th>\n",
              "      <th>behavioral_index</th>\n",
              "      <th>type_of_document</th>\n",
              "      <th>age</th>\n",
              "      <th>email_domain_formatted</th>\n",
              "      <th>social_status</th>\n",
              "      <th>salary</th>\n",
              "      <th>disbursment_type</th>\n",
              "      <th>os</th>\n",
              "      <th>email_index</th>\n",
              "    </tr>\n",
              "  </thead>\n",
              "  <tbody>\n",
              "    <tr>\n",
              "      <th>0</th>\n",
              "      <td>0</td>\n",
              "      <td>2021-01-22</td>\n",
              "      <td>0</td>\n",
              "      <td>NaN</td>\n",
              "      <td>NaN</td>\n",
              "      <td>UMID</td>\n",
              "      <td>26</td>\n",
              "      <td>GMAIL.COM</td>\n",
              "      <td>Private Company Employee</td>\n",
              "      <td>20000.0</td>\n",
              "      <td>Bank</td>\n",
              "      <td>Android</td>\n",
              "      <td>0.0</td>\n",
              "    </tr>\n",
              "    <tr>\n",
              "      <th>1</th>\n",
              "      <td>0</td>\n",
              "      <td>2020-12-14</td>\n",
              "      <td>1</td>\n",
              "      <td>3.0</td>\n",
              "      <td>4.0</td>\n",
              "      <td>UMID</td>\n",
              "      <td>32</td>\n",
              "      <td>GMAIL.COM</td>\n",
              "      <td>Other</td>\n",
              "      <td>18000.0</td>\n",
              "      <td>E-wallet</td>\n",
              "      <td>Android</td>\n",
              "      <td>1.0</td>\n",
              "    </tr>\n",
              "    <tr>\n",
              "      <th>2</th>\n",
              "      <td>1</td>\n",
              "      <td>2021-01-26</td>\n",
              "      <td>0</td>\n",
              "      <td>0.0</td>\n",
              "      <td>3.0</td>\n",
              "      <td>SSS</td>\n",
              "      <td>41</td>\n",
              "      <td>YAHOO.COM</td>\n",
              "      <td>Private Company Employee</td>\n",
              "      <td>14000.0</td>\n",
              "      <td>Bank</td>\n",
              "      <td>Android</td>\n",
              "      <td>1.0</td>\n",
              "    </tr>\n",
              "    <tr>\n",
              "      <th>3</th>\n",
              "      <td>1</td>\n",
              "      <td>2020-12-10</td>\n",
              "      <td>1</td>\n",
              "      <td>0.0</td>\n",
              "      <td>5.0</td>\n",
              "      <td>TIN</td>\n",
              "      <td>28</td>\n",
              "      <td>GMAIL.COM</td>\n",
              "      <td>BPO Professionals</td>\n",
              "      <td>40000.0</td>\n",
              "      <td>E-wallet</td>\n",
              "      <td>Android</td>\n",
              "      <td>1.0</td>\n",
              "    </tr>\n",
              "    <tr>\n",
              "      <th>4</th>\n",
              "      <td>1</td>\n",
              "      <td>2021-01-17</td>\n",
              "      <td>0</td>\n",
              "      <td>3.0</td>\n",
              "      <td>3.0</td>\n",
              "      <td>UMID</td>\n",
              "      <td>31</td>\n",
              "      <td>GMAIL.COM</td>\n",
              "      <td>BPO Professionals</td>\n",
              "      <td>25000.0</td>\n",
              "      <td>Bank</td>\n",
              "      <td>Android</td>\n",
              "      <td>0.0</td>\n",
              "    </tr>\n",
              "    <tr>\n",
              "      <th>...</th>\n",
              "      <td>...</td>\n",
              "      <td>...</td>\n",
              "      <td>...</td>\n",
              "      <td>...</td>\n",
              "      <td>...</td>\n",
              "      <td>...</td>\n",
              "      <td>...</td>\n",
              "      <td>...</td>\n",
              "      <td>...</td>\n",
              "      <td>...</td>\n",
              "      <td>...</td>\n",
              "      <td>...</td>\n",
              "      <td>...</td>\n",
              "    </tr>\n",
              "    <tr>\n",
              "      <th>15358</th>\n",
              "      <td>0</td>\n",
              "      <td>2021-01-05</td>\n",
              "      <td>1</td>\n",
              "      <td>3.0</td>\n",
              "      <td>5.0</td>\n",
              "      <td>UMID</td>\n",
              "      <td>36</td>\n",
              "      <td>GMAIL.COM</td>\n",
              "      <td>Business Owner</td>\n",
              "      <td>25000.0</td>\n",
              "      <td>E-wallet</td>\n",
              "      <td>Android</td>\n",
              "      <td>6.0</td>\n",
              "    </tr>\n",
              "    <tr>\n",
              "      <th>15359</th>\n",
              "      <td>1</td>\n",
              "      <td>2021-01-23</td>\n",
              "      <td>1</td>\n",
              "      <td>0.0</td>\n",
              "      <td>3.0</td>\n",
              "      <td>Passport</td>\n",
              "      <td>32</td>\n",
              "      <td>GMAIL.COM</td>\n",
              "      <td>Self-Employed</td>\n",
              "      <td>25000.0</td>\n",
              "      <td>E-wallet</td>\n",
              "      <td>Android</td>\n",
              "      <td>1.0</td>\n",
              "    </tr>\n",
              "    <tr>\n",
              "      <th>15360</th>\n",
              "      <td>1</td>\n",
              "      <td>2021-02-01</td>\n",
              "      <td>1</td>\n",
              "      <td>1.0</td>\n",
              "      <td>5.0</td>\n",
              "      <td>UMID</td>\n",
              "      <td>29</td>\n",
              "      <td>GMAIL.COM</td>\n",
              "      <td>Private Company Employee</td>\n",
              "      <td>25000.0</td>\n",
              "      <td>E-wallet</td>\n",
              "      <td>Android</td>\n",
              "      <td>0.0</td>\n",
              "    </tr>\n",
              "    <tr>\n",
              "      <th>15361</th>\n",
              "      <td>0</td>\n",
              "      <td>2020-12-14</td>\n",
              "      <td>1</td>\n",
              "      <td>1.0</td>\n",
              "      <td>5.0</td>\n",
              "      <td>UMID</td>\n",
              "      <td>37</td>\n",
              "      <td>GMAIL.COM</td>\n",
              "      <td>Private Company Employee</td>\n",
              "      <td>25000.0</td>\n",
              "      <td>Bank</td>\n",
              "      <td>Android</td>\n",
              "      <td>6.0</td>\n",
              "    </tr>\n",
              "    <tr>\n",
              "      <th>15362</th>\n",
              "      <td>0</td>\n",
              "      <td>2021-01-30</td>\n",
              "      <td>1</td>\n",
              "      <td>3.0</td>\n",
              "      <td>4.0</td>\n",
              "      <td>SSS</td>\n",
              "      <td>41</td>\n",
              "      <td>GMAIL.COM</td>\n",
              "      <td>Private Company Employee</td>\n",
              "      <td>35000.0</td>\n",
              "      <td>Bank</td>\n",
              "      <td>Android</td>\n",
              "      <td>0.0</td>\n",
              "    </tr>\n",
              "  </tbody>\n",
              "</table>\n",
              "<p>15363 rows × 13 columns</p>\n",
              "</div>"
            ],
            "text/plain": [
              "       fpd5_flg         dt  gender  ...  disbursment_type       os email_index\n",
              "0             0 2021-01-22       0  ...              Bank  Android         0.0\n",
              "1             0 2020-12-14       1  ...          E-wallet  Android         1.0\n",
              "2             1 2021-01-26       0  ...              Bank  Android         1.0\n",
              "3             1 2020-12-10       1  ...          E-wallet  Android         1.0\n",
              "4             1 2021-01-17       0  ...              Bank  Android         0.0\n",
              "...         ...        ...     ...  ...               ...      ...         ...\n",
              "15358         0 2021-01-05       1  ...          E-wallet  Android         6.0\n",
              "15359         1 2021-01-23       1  ...          E-wallet  Android         1.0\n",
              "15360         1 2021-02-01       1  ...          E-wallet  Android         0.0\n",
              "15361         0 2020-12-14       1  ...              Bank  Android         6.0\n",
              "15362         0 2021-01-30       1  ...              Bank  Android         0.0\n",
              "\n",
              "[15363 rows x 13 columns]"
            ]
          },
          "metadata": {},
          "execution_count": 14
        }
      ]
    },
    {
      "cell_type": "code",
      "metadata": {
        "id": "60rQHnEZuJ3B"
      },
      "source": [
        "t = df.groupby('email_domain_formatted')['fpd5_flg'].agg(['count','mean'])"
      ],
      "execution_count": null,
      "outputs": []
    },
    {
      "cell_type": "code",
      "metadata": {
        "colab": {
          "base_uri": "https://localhost:8080/",
          "height": 394
        },
        "id": "qV_x5BdWuN2_",
        "outputId": "a419095d-bc21-4f68-d0a5-7e4a4c84e361"
      },
      "source": [
        "t.sort_values('count',ascending=False).head(10)"
      ],
      "execution_count": null,
      "outputs": [
        {
          "output_type": "execute_result",
          "data": {
            "text/html": [
              "<div>\n",
              "<style scoped>\n",
              "    .dataframe tbody tr th:only-of-type {\n",
              "        vertical-align: middle;\n",
              "    }\n",
              "\n",
              "    .dataframe tbody tr th {\n",
              "        vertical-align: top;\n",
              "    }\n",
              "\n",
              "    .dataframe thead th {\n",
              "        text-align: right;\n",
              "    }\n",
              "</style>\n",
              "<table border=\"1\" class=\"dataframe\">\n",
              "  <thead>\n",
              "    <tr style=\"text-align: right;\">\n",
              "      <th></th>\n",
              "      <th>count</th>\n",
              "      <th>mean</th>\n",
              "    </tr>\n",
              "    <tr>\n",
              "      <th>email_domain_formatted</th>\n",
              "      <th></th>\n",
              "      <th></th>\n",
              "    </tr>\n",
              "  </thead>\n",
              "  <tbody>\n",
              "    <tr>\n",
              "      <th>GMAIL.COM</th>\n",
              "      <td>12109</td>\n",
              "      <td>0.286564</td>\n",
              "    </tr>\n",
              "    <tr>\n",
              "      <th>YAHOO.COM</th>\n",
              "      <td>2626</td>\n",
              "      <td>0.228104</td>\n",
              "    </tr>\n",
              "    <tr>\n",
              "      <th>YAHOO.COM.PH</th>\n",
              "      <td>182</td>\n",
              "      <td>0.153846</td>\n",
              "    </tr>\n",
              "    <tr>\n",
              "      <th>DEPED.GOV.PH</th>\n",
              "      <td>100</td>\n",
              "      <td>0.230000</td>\n",
              "    </tr>\n",
              "    <tr>\n",
              "      <th>ICLOUD.COM</th>\n",
              "      <td>88</td>\n",
              "      <td>0.238636</td>\n",
              "    </tr>\n",
              "    <tr>\n",
              "      <th>YMAIL.COM</th>\n",
              "      <td>67</td>\n",
              "      <td>0.223881</td>\n",
              "    </tr>\n",
              "    <tr>\n",
              "      <th>ROCKETMAIL.COM</th>\n",
              "      <td>37</td>\n",
              "      <td>0.216216</td>\n",
              "    </tr>\n",
              "    <tr>\n",
              "      <th>HOTMAIL.COM</th>\n",
              "      <td>22</td>\n",
              "      <td>0.136364</td>\n",
              "    </tr>\n",
              "    <tr>\n",
              "      <th>OUTLOOK.COM</th>\n",
              "      <td>19</td>\n",
              "      <td>0.210526</td>\n",
              "    </tr>\n",
              "    <tr>\n",
              "      <th>EMAIL.COM</th>\n",
              "      <td>10</td>\n",
              "      <td>0.300000</td>\n",
              "    </tr>\n",
              "  </tbody>\n",
              "</table>\n",
              "</div>"
            ],
            "text/plain": [
              "                        count      mean\n",
              "email_domain_formatted                 \n",
              "GMAIL.COM               12109  0.286564\n",
              "YAHOO.COM                2626  0.228104\n",
              "YAHOO.COM.PH              182  0.153846\n",
              "DEPED.GOV.PH              100  0.230000\n",
              "ICLOUD.COM                 88  0.238636\n",
              "YMAIL.COM                  67  0.223881\n",
              "ROCKETMAIL.COM             37  0.216216\n",
              "HOTMAIL.COM                22  0.136364\n",
              "OUTLOOK.COM                19  0.210526\n",
              "EMAIL.COM                  10  0.300000"
            ]
          },
          "metadata": {},
          "execution_count": 16
        }
      ]
    },
    {
      "cell_type": "code",
      "metadata": {
        "colab": {
          "base_uri": "https://localhost:8080/",
          "height": 617
        },
        "id": "iADRY7ciuP0B",
        "outputId": "6f8080f6-2c3b-4729-f1ec-78ac390eebd0"
      },
      "source": [
        "df"
      ],
      "execution_count": null,
      "outputs": [
        {
          "output_type": "execute_result",
          "data": {
            "text/html": [
              "<div>\n",
              "<style scoped>\n",
              "    .dataframe tbody tr th:only-of-type {\n",
              "        vertical-align: middle;\n",
              "    }\n",
              "\n",
              "    .dataframe tbody tr th {\n",
              "        vertical-align: top;\n",
              "    }\n",
              "\n",
              "    .dataframe thead th {\n",
              "        text-align: right;\n",
              "    }\n",
              "</style>\n",
              "<table border=\"1\" class=\"dataframe\">\n",
              "  <thead>\n",
              "    <tr style=\"text-align: right;\">\n",
              "      <th></th>\n",
              "      <th>fpd5_flg</th>\n",
              "      <th>dt</th>\n",
              "      <th>gender</th>\n",
              "      <th>device_quaility_index</th>\n",
              "      <th>behavioral_index</th>\n",
              "      <th>type_of_document</th>\n",
              "      <th>age</th>\n",
              "      <th>email_domain_formatted</th>\n",
              "      <th>social_status</th>\n",
              "      <th>salary</th>\n",
              "      <th>disbursment_type</th>\n",
              "      <th>os</th>\n",
              "      <th>email_index</th>\n",
              "    </tr>\n",
              "  </thead>\n",
              "  <tbody>\n",
              "    <tr>\n",
              "      <th>0</th>\n",
              "      <td>0</td>\n",
              "      <td>2021-01-22</td>\n",
              "      <td>0</td>\n",
              "      <td>NaN</td>\n",
              "      <td>NaN</td>\n",
              "      <td>UMID</td>\n",
              "      <td>26</td>\n",
              "      <td>GMAIL.COM</td>\n",
              "      <td>Private Company Employee</td>\n",
              "      <td>20000.0</td>\n",
              "      <td>Bank</td>\n",
              "      <td>Android</td>\n",
              "      <td>0.0</td>\n",
              "    </tr>\n",
              "    <tr>\n",
              "      <th>1</th>\n",
              "      <td>0</td>\n",
              "      <td>2020-12-14</td>\n",
              "      <td>1</td>\n",
              "      <td>3.0</td>\n",
              "      <td>4.0</td>\n",
              "      <td>UMID</td>\n",
              "      <td>32</td>\n",
              "      <td>GMAIL.COM</td>\n",
              "      <td>Other</td>\n",
              "      <td>18000.0</td>\n",
              "      <td>E-wallet</td>\n",
              "      <td>Android</td>\n",
              "      <td>1.0</td>\n",
              "    </tr>\n",
              "    <tr>\n",
              "      <th>2</th>\n",
              "      <td>1</td>\n",
              "      <td>2021-01-26</td>\n",
              "      <td>0</td>\n",
              "      <td>0.0</td>\n",
              "      <td>3.0</td>\n",
              "      <td>SSS</td>\n",
              "      <td>41</td>\n",
              "      <td>YAHOO.COM</td>\n",
              "      <td>Private Company Employee</td>\n",
              "      <td>14000.0</td>\n",
              "      <td>Bank</td>\n",
              "      <td>Android</td>\n",
              "      <td>1.0</td>\n",
              "    </tr>\n",
              "    <tr>\n",
              "      <th>3</th>\n",
              "      <td>1</td>\n",
              "      <td>2020-12-10</td>\n",
              "      <td>1</td>\n",
              "      <td>0.0</td>\n",
              "      <td>5.0</td>\n",
              "      <td>TIN</td>\n",
              "      <td>28</td>\n",
              "      <td>GMAIL.COM</td>\n",
              "      <td>BPO Professionals</td>\n",
              "      <td>40000.0</td>\n",
              "      <td>E-wallet</td>\n",
              "      <td>Android</td>\n",
              "      <td>1.0</td>\n",
              "    </tr>\n",
              "    <tr>\n",
              "      <th>4</th>\n",
              "      <td>1</td>\n",
              "      <td>2021-01-17</td>\n",
              "      <td>0</td>\n",
              "      <td>3.0</td>\n",
              "      <td>3.0</td>\n",
              "      <td>UMID</td>\n",
              "      <td>31</td>\n",
              "      <td>GMAIL.COM</td>\n",
              "      <td>BPO Professionals</td>\n",
              "      <td>25000.0</td>\n",
              "      <td>Bank</td>\n",
              "      <td>Android</td>\n",
              "      <td>0.0</td>\n",
              "    </tr>\n",
              "    <tr>\n",
              "      <th>...</th>\n",
              "      <td>...</td>\n",
              "      <td>...</td>\n",
              "      <td>...</td>\n",
              "      <td>...</td>\n",
              "      <td>...</td>\n",
              "      <td>...</td>\n",
              "      <td>...</td>\n",
              "      <td>...</td>\n",
              "      <td>...</td>\n",
              "      <td>...</td>\n",
              "      <td>...</td>\n",
              "      <td>...</td>\n",
              "      <td>...</td>\n",
              "    </tr>\n",
              "    <tr>\n",
              "      <th>15358</th>\n",
              "      <td>0</td>\n",
              "      <td>2021-01-05</td>\n",
              "      <td>1</td>\n",
              "      <td>3.0</td>\n",
              "      <td>5.0</td>\n",
              "      <td>UMID</td>\n",
              "      <td>36</td>\n",
              "      <td>GMAIL.COM</td>\n",
              "      <td>Business Owner</td>\n",
              "      <td>25000.0</td>\n",
              "      <td>E-wallet</td>\n",
              "      <td>Android</td>\n",
              "      <td>6.0</td>\n",
              "    </tr>\n",
              "    <tr>\n",
              "      <th>15359</th>\n",
              "      <td>1</td>\n",
              "      <td>2021-01-23</td>\n",
              "      <td>1</td>\n",
              "      <td>0.0</td>\n",
              "      <td>3.0</td>\n",
              "      <td>Passport</td>\n",
              "      <td>32</td>\n",
              "      <td>GMAIL.COM</td>\n",
              "      <td>Self-Employed</td>\n",
              "      <td>25000.0</td>\n",
              "      <td>E-wallet</td>\n",
              "      <td>Android</td>\n",
              "      <td>1.0</td>\n",
              "    </tr>\n",
              "    <tr>\n",
              "      <th>15360</th>\n",
              "      <td>1</td>\n",
              "      <td>2021-02-01</td>\n",
              "      <td>1</td>\n",
              "      <td>1.0</td>\n",
              "      <td>5.0</td>\n",
              "      <td>UMID</td>\n",
              "      <td>29</td>\n",
              "      <td>GMAIL.COM</td>\n",
              "      <td>Private Company Employee</td>\n",
              "      <td>25000.0</td>\n",
              "      <td>E-wallet</td>\n",
              "      <td>Android</td>\n",
              "      <td>0.0</td>\n",
              "    </tr>\n",
              "    <tr>\n",
              "      <th>15361</th>\n",
              "      <td>0</td>\n",
              "      <td>2020-12-14</td>\n",
              "      <td>1</td>\n",
              "      <td>1.0</td>\n",
              "      <td>5.0</td>\n",
              "      <td>UMID</td>\n",
              "      <td>37</td>\n",
              "      <td>GMAIL.COM</td>\n",
              "      <td>Private Company Employee</td>\n",
              "      <td>25000.0</td>\n",
              "      <td>Bank</td>\n",
              "      <td>Android</td>\n",
              "      <td>6.0</td>\n",
              "    </tr>\n",
              "    <tr>\n",
              "      <th>15362</th>\n",
              "      <td>0</td>\n",
              "      <td>2021-01-30</td>\n",
              "      <td>1</td>\n",
              "      <td>3.0</td>\n",
              "      <td>4.0</td>\n",
              "      <td>SSS</td>\n",
              "      <td>41</td>\n",
              "      <td>GMAIL.COM</td>\n",
              "      <td>Private Company Employee</td>\n",
              "      <td>35000.0</td>\n",
              "      <td>Bank</td>\n",
              "      <td>Android</td>\n",
              "      <td>0.0</td>\n",
              "    </tr>\n",
              "  </tbody>\n",
              "</table>\n",
              "<p>15363 rows × 13 columns</p>\n",
              "</div>"
            ],
            "text/plain": [
              "       fpd5_flg         dt  gender  ...  disbursment_type       os email_index\n",
              "0             0 2021-01-22       0  ...              Bank  Android         0.0\n",
              "1             0 2020-12-14       1  ...          E-wallet  Android         1.0\n",
              "2             1 2021-01-26       0  ...              Bank  Android         1.0\n",
              "3             1 2020-12-10       1  ...          E-wallet  Android         1.0\n",
              "4             1 2021-01-17       0  ...              Bank  Android         0.0\n",
              "...         ...        ...     ...  ...               ...      ...         ...\n",
              "15358         0 2021-01-05       1  ...          E-wallet  Android         6.0\n",
              "15359         1 2021-01-23       1  ...          E-wallet  Android         1.0\n",
              "15360         1 2021-02-01       1  ...          E-wallet  Android         0.0\n",
              "15361         0 2020-12-14       1  ...              Bank  Android         6.0\n",
              "15362         0 2021-01-30       1  ...              Bank  Android         0.0\n",
              "\n",
              "[15363 rows x 13 columns]"
            ]
          },
          "metadata": {},
          "execution_count": 17
        }
      ]
    },
    {
      "cell_type": "code",
      "metadata": {
        "colab": {
          "base_uri": "https://localhost:8080/",
          "height": 300
        },
        "id": "l7Ky-FPEulxn",
        "outputId": "b18b7682-e6b5-4f18-c9a9-7bcf29cd7aa0"
      },
      "source": [
        "df.groupby('behavioral_index',dropna=False)['fpd5_flg'].agg(['count','mean'])"
      ],
      "execution_count": null,
      "outputs": [
        {
          "output_type": "execute_result",
          "data": {
            "text/html": [
              "<div>\n",
              "<style scoped>\n",
              "    .dataframe tbody tr th:only-of-type {\n",
              "        vertical-align: middle;\n",
              "    }\n",
              "\n",
              "    .dataframe tbody tr th {\n",
              "        vertical-align: top;\n",
              "    }\n",
              "\n",
              "    .dataframe thead th {\n",
              "        text-align: right;\n",
              "    }\n",
              "</style>\n",
              "<table border=\"1\" class=\"dataframe\">\n",
              "  <thead>\n",
              "    <tr style=\"text-align: right;\">\n",
              "      <th></th>\n",
              "      <th>count</th>\n",
              "      <th>mean</th>\n",
              "    </tr>\n",
              "    <tr>\n",
              "      <th>behavioral_index</th>\n",
              "      <th></th>\n",
              "      <th></th>\n",
              "    </tr>\n",
              "  </thead>\n",
              "  <tbody>\n",
              "    <tr>\n",
              "      <th>1.0</th>\n",
              "      <td>23</td>\n",
              "      <td>0.043478</td>\n",
              "    </tr>\n",
              "    <tr>\n",
              "      <th>2.0</th>\n",
              "      <td>202</td>\n",
              "      <td>0.198020</td>\n",
              "    </tr>\n",
              "    <tr>\n",
              "      <th>3.0</th>\n",
              "      <td>4675</td>\n",
              "      <td>0.265027</td>\n",
              "    </tr>\n",
              "    <tr>\n",
              "      <th>4.0</th>\n",
              "      <td>4721</td>\n",
              "      <td>0.260538</td>\n",
              "    </tr>\n",
              "    <tr>\n",
              "      <th>5.0</th>\n",
              "      <td>4447</td>\n",
              "      <td>0.287385</td>\n",
              "    </tr>\n",
              "    <tr>\n",
              "      <th>6.0</th>\n",
              "      <td>730</td>\n",
              "      <td>0.324658</td>\n",
              "    </tr>\n",
              "    <tr>\n",
              "      <th>NaN</th>\n",
              "      <td>565</td>\n",
              "      <td>0.293805</td>\n",
              "    </tr>\n",
              "  </tbody>\n",
              "</table>\n",
              "</div>"
            ],
            "text/plain": [
              "                  count      mean\n",
              "behavioral_index                 \n",
              "1.0                  23  0.043478\n",
              "2.0                 202  0.198020\n",
              "3.0                4675  0.265027\n",
              "4.0                4721  0.260538\n",
              "5.0                4447  0.287385\n",
              "6.0                 730  0.324658\n",
              "NaN                 565  0.293805"
            ]
          },
          "metadata": {},
          "execution_count": 18
        }
      ]
    },
    {
      "cell_type": "code",
      "metadata": {
        "colab": {
          "base_uri": "https://localhost:8080/",
          "height": 298
        },
        "id": "nVU9bTf6usgW",
        "outputId": "a7f6cfe5-d016-4a56-8c9a-648e14e0cb36"
      },
      "source": [
        "df.groupby('behavioral_index',dropna=False)['fpd5_flg'].mean().plot()"
      ],
      "execution_count": null,
      "outputs": [
        {
          "output_type": "execute_result",
          "data": {
            "text/plain": [
              "<matplotlib.axes._subplots.AxesSubplot at 0x7f4af1cef110>"
            ]
          },
          "metadata": {},
          "execution_count": 19
        },
        {
          "output_type": "display_data",
          "data": {
            "image/png": "[encoded data removed]",
            "text/plain": [
              "<Figure size 432x288 with 1 Axes>"
            ]
          },
          "metadata": {}
        }
      ]
    },
    {
      "cell_type": "code",
      "metadata": {
        "colab": {
          "base_uri": "https://localhost:8080/",
          "height": 269
        },
        "id": "paZaadThux77",
        "outputId": "60e3680a-4d2f-4f63-8859-6265b4a39df8"
      },
      "source": [
        "df.groupby('device_quaility_index',dropna=False)['fpd5_flg'].agg(['count','mean'])"
      ],
      "execution_count": null,
      "outputs": [
        {
          "output_type": "execute_result",
          "data": {
            "text/html": [
              "<div>\n",
              "<style scoped>\n",
              "    .dataframe tbody tr th:only-of-type {\n",
              "        vertical-align: middle;\n",
              "    }\n",
              "\n",
              "    .dataframe tbody tr th {\n",
              "        vertical-align: top;\n",
              "    }\n",
              "\n",
              "    .dataframe thead th {\n",
              "        text-align: right;\n",
              "    }\n",
              "</style>\n",
              "<table border=\"1\" class=\"dataframe\">\n",
              "  <thead>\n",
              "    <tr style=\"text-align: right;\">\n",
              "      <th></th>\n",
              "      <th>count</th>\n",
              "      <th>mean</th>\n",
              "    </tr>\n",
              "    <tr>\n",
              "      <th>device_quaility_index</th>\n",
              "      <th></th>\n",
              "      <th></th>\n",
              "    </tr>\n",
              "  </thead>\n",
              "  <tbody>\n",
              "    <tr>\n",
              "      <th>0.0</th>\n",
              "      <td>1122</td>\n",
              "      <td>0.330660</td>\n",
              "    </tr>\n",
              "    <tr>\n",
              "      <th>1.0</th>\n",
              "      <td>2374</td>\n",
              "      <td>0.291070</td>\n",
              "    </tr>\n",
              "    <tr>\n",
              "      <th>2.0</th>\n",
              "      <td>2337</td>\n",
              "      <td>0.307659</td>\n",
              "    </tr>\n",
              "    <tr>\n",
              "      <th>3.0</th>\n",
              "      <td>7837</td>\n",
              "      <td>0.257496</td>\n",
              "    </tr>\n",
              "    <tr>\n",
              "      <th>4.0</th>\n",
              "      <td>1128</td>\n",
              "      <td>0.200355</td>\n",
              "    </tr>\n",
              "    <tr>\n",
              "      <th>NaN</th>\n",
              "      <td>565</td>\n",
              "      <td>0.293805</td>\n",
              "    </tr>\n",
              "  </tbody>\n",
              "</table>\n",
              "</div>"
            ],
            "text/plain": [
              "                       count      mean\n",
              "device_quaility_index                 \n",
              "0.0                     1122  0.330660\n",
              "1.0                     2374  0.291070\n",
              "2.0                     2337  0.307659\n",
              "3.0                     7837  0.257496\n",
              "4.0                     1128  0.200355\n",
              "NaN                      565  0.293805"
            ]
          },
          "metadata": {},
          "execution_count": 20
        }
      ]
    },
    {
      "cell_type": "code",
      "metadata": {
        "colab": {
          "base_uri": "https://localhost:8080/",
          "height": 298
        },
        "id": "HVsf0D38vFzP",
        "outputId": "c16bbb33-ed09-4760-c2c5-6f41fb28fc94"
      },
      "source": [
        "df.groupby('device_quaility_index',dropna=False)['fpd5_flg'].mean().plot()"
      ],
      "execution_count": null,
      "outputs": [
        {
          "output_type": "execute_result",
          "data": {
            "text/plain": [
              "<matplotlib.axes._subplots.AxesSubplot at 0x7f4af1b755d0>"
            ]
          },
          "metadata": {},
          "execution_count": 21
        },
        {
          "output_type": "display_data",
          "data": {
            "image/png": "[encoded data removed]",
            "text/plain": [
              "<Figure size 432x288 with 1 Axes>"
            ]
          },
          "metadata": {}
        }
      ]
    },
    {
      "cell_type": "code",
      "metadata": {
        "colab": {
          "base_uri": "https://localhost:8080/",
          "height": 617
        },
        "id": "BJjKgeCgvJss",
        "outputId": "91d2b676-9a96-4d04-f354-e5791432fe96"
      },
      "source": [
        "df"
      ],
      "execution_count": null,
      "outputs": [
        {
          "output_type": "execute_result",
          "data": {
            "text/html": [
              "<div>\n",
              "<style scoped>\n",
              "    .dataframe tbody tr th:only-of-type {\n",
              "        vertical-align: middle;\n",
              "    }\n",
              "\n",
              "    .dataframe tbody tr th {\n",
              "        vertical-align: top;\n",
              "    }\n",
              "\n",
              "    .dataframe thead th {\n",
              "        text-align: right;\n",
              "    }\n",
              "</style>\n",
              "<table border=\"1\" class=\"dataframe\">\n",
              "  <thead>\n",
              "    <tr style=\"text-align: right;\">\n",
              "      <th></th>\n",
              "      <th>fpd5_flg</th>\n",
              "      <th>dt</th>\n",
              "      <th>gender</th>\n",
              "      <th>device_quaility_index</th>\n",
              "      <th>behavioral_index</th>\n",
              "      <th>type_of_document</th>\n",
              "      <th>age</th>\n",
              "      <th>email_domain_formatted</th>\n",
              "      <th>social_status</th>\n",
              "      <th>salary</th>\n",
              "      <th>disbursment_type</th>\n",
              "      <th>os</th>\n",
              "      <th>email_index</th>\n",
              "    </tr>\n",
              "  </thead>\n",
              "  <tbody>\n",
              "    <tr>\n",
              "      <th>0</th>\n",
              "      <td>0</td>\n",
              "      <td>2021-01-22</td>\n",
              "      <td>0</td>\n",
              "      <td>NaN</td>\n",
              "      <td>NaN</td>\n",
              "      <td>UMID</td>\n",
              "      <td>26</td>\n",
              "      <td>GMAIL.COM</td>\n",
              "      <td>Private Company Employee</td>\n",
              "      <td>20000.0</td>\n",
              "      <td>Bank</td>\n",
              "      <td>Android</td>\n",
              "      <td>0.0</td>\n",
              "    </tr>\n",
              "    <tr>\n",
              "      <th>1</th>\n",
              "      <td>0</td>\n",
              "      <td>2020-12-14</td>\n",
              "      <td>1</td>\n",
              "      <td>3.0</td>\n",
              "      <td>4.0</td>\n",
              "      <td>UMID</td>\n",
              "      <td>32</td>\n",
              "      <td>GMAIL.COM</td>\n",
              "      <td>Other</td>\n",
              "      <td>18000.0</td>\n",
              "      <td>E-wallet</td>\n",
              "      <td>Android</td>\n",
              "      <td>1.0</td>\n",
              "    </tr>\n",
              "    <tr>\n",
              "      <th>2</th>\n",
              "      <td>1</td>\n",
              "      <td>2021-01-26</td>\n",
              "      <td>0</td>\n",
              "      <td>0.0</td>\n",
              "      <td>3.0</td>\n",
              "      <td>SSS</td>\n",
              "      <td>41</td>\n",
              "      <td>YAHOO.COM</td>\n",
              "      <td>Private Company Employee</td>\n",
              "      <td>14000.0</td>\n",
              "      <td>Bank</td>\n",
              "      <td>Android</td>\n",
              "      <td>1.0</td>\n",
              "    </tr>\n",
              "    <tr>\n",
              "      <th>3</th>\n",
              "      <td>1</td>\n",
              "      <td>2020-12-10</td>\n",
              "      <td>1</td>\n",
              "      <td>0.0</td>\n",
              "      <td>5.0</td>\n",
              "      <td>TIN</td>\n",
              "      <td>28</td>\n",
              "      <td>GMAIL.COM</td>\n",
              "      <td>BPO Professionals</td>\n",
              "      <td>40000.0</td>\n",
              "      <td>E-wallet</td>\n",
              "      <td>Android</td>\n",
              "      <td>1.0</td>\n",
              "    </tr>\n",
              "    <tr>\n",
              "      <th>4</th>\n",
              "      <td>1</td>\n",
              "      <td>2021-01-17</td>\n",
              "      <td>0</td>\n",
              "      <td>3.0</td>\n",
              "      <td>3.0</td>\n",
              "      <td>UMID</td>\n",
              "      <td>31</td>\n",
              "      <td>GMAIL.COM</td>\n",
              "      <td>BPO Professionals</td>\n",
              "      <td>25000.0</td>\n",
              "      <td>Bank</td>\n",
              "      <td>Android</td>\n",
              "      <td>0.0</td>\n",
              "    </tr>\n",
              "    <tr>\n",
              "      <th>...</th>\n",
              "      <td>...</td>\n",
              "      <td>...</td>\n",
              "      <td>...</td>\n",
              "      <td>...</td>\n",
              "      <td>...</td>\n",
              "      <td>...</td>\n",
              "      <td>...</td>\n",
              "      <td>...</td>\n",
              "      <td>...</td>\n",
              "      <td>...</td>\n",
              "      <td>...</td>\n",
              "      <td>...</td>\n",
              "      <td>...</td>\n",
              "    </tr>\n",
              "    <tr>\n",
              "      <th>15358</th>\n",
              "      <td>0</td>\n",
              "      <td>2021-01-05</td>\n",
              "      <td>1</td>\n",
              "      <td>3.0</td>\n",
              "      <td>5.0</td>\n",
              "      <td>UMID</td>\n",
              "      <td>36</td>\n",
              "      <td>GMAIL.COM</td>\n",
              "      <td>Business Owner</td>\n",
              "      <td>25000.0</td>\n",
              "      <td>E-wallet</td>\n",
              "      <td>Android</td>\n",
              "      <td>6.0</td>\n",
              "    </tr>\n",
              "    <tr>\n",
              "      <th>15359</th>\n",
              "      <td>1</td>\n",
              "      <td>2021-01-23</td>\n",
              "      <td>1</td>\n",
              "      <td>0.0</td>\n",
              "      <td>3.0</td>\n",
              "      <td>Passport</td>\n",
              "      <td>32</td>\n",
              "      <td>GMAIL.COM</td>\n",
              "      <td>Self-Employed</td>\n",
              "      <td>25000.0</td>\n",
              "      <td>E-wallet</td>\n",
              "      <td>Android</td>\n",
              "      <td>1.0</td>\n",
              "    </tr>\n",
              "    <tr>\n",
              "      <th>15360</th>\n",
              "      <td>1</td>\n",
              "      <td>2021-02-01</td>\n",
              "      <td>1</td>\n",
              "      <td>1.0</td>\n",
              "      <td>5.0</td>\n",
              "      <td>UMID</td>\n",
              "      <td>29</td>\n",
              "      <td>GMAIL.COM</td>\n",
              "      <td>Private Company Employee</td>\n",
              "      <td>25000.0</td>\n",
              "      <td>E-wallet</td>\n",
              "      <td>Android</td>\n",
              "      <td>0.0</td>\n",
              "    </tr>\n",
              "    <tr>\n",
              "      <th>15361</th>\n",
              "      <td>0</td>\n",
              "      <td>2020-12-14</td>\n",
              "      <td>1</td>\n",
              "      <td>1.0</td>\n",
              "      <td>5.0</td>\n",
              "      <td>UMID</td>\n",
              "      <td>37</td>\n",
              "      <td>GMAIL.COM</td>\n",
              "      <td>Private Company Employee</td>\n",
              "      <td>25000.0</td>\n",
              "      <td>Bank</td>\n",
              "      <td>Android</td>\n",
              "      <td>6.0</td>\n",
              "    </tr>\n",
              "    <tr>\n",
              "      <th>15362</th>\n",
              "      <td>0</td>\n",
              "      <td>2021-01-30</td>\n",
              "      <td>1</td>\n",
              "      <td>3.0</td>\n",
              "      <td>4.0</td>\n",
              "      <td>SSS</td>\n",
              "      <td>41</td>\n",
              "      <td>GMAIL.COM</td>\n",
              "      <td>Private Company Employee</td>\n",
              "      <td>35000.0</td>\n",
              "      <td>Bank</td>\n",
              "      <td>Android</td>\n",
              "      <td>0.0</td>\n",
              "    </tr>\n",
              "  </tbody>\n",
              "</table>\n",
              "<p>15363 rows × 13 columns</p>\n",
              "</div>"
            ],
            "text/plain": [
              "       fpd5_flg         dt  gender  ...  disbursment_type       os email_index\n",
              "0             0 2021-01-22       0  ...              Bank  Android         0.0\n",
              "1             0 2020-12-14       1  ...          E-wallet  Android         1.0\n",
              "2             1 2021-01-26       0  ...              Bank  Android         1.0\n",
              "3             1 2020-12-10       1  ...          E-wallet  Android         1.0\n",
              "4             1 2021-01-17       0  ...              Bank  Android         0.0\n",
              "...         ...        ...     ...  ...               ...      ...         ...\n",
              "15358         0 2021-01-05       1  ...          E-wallet  Android         6.0\n",
              "15359         1 2021-01-23       1  ...          E-wallet  Android         1.0\n",
              "15360         1 2021-02-01       1  ...          E-wallet  Android         0.0\n",
              "15361         0 2020-12-14       1  ...              Bank  Android         6.0\n",
              "15362         0 2021-01-30       1  ...              Bank  Android         0.0\n",
              "\n",
              "[15363 rows x 13 columns]"
            ]
          },
          "metadata": {},
          "execution_count": 22
        }
      ]
    },
    {
      "cell_type": "code",
      "metadata": {
        "colab": {
          "base_uri": "https://localhost:8080/",
          "height": 269
        },
        "id": "1qx7Z3LevbAz",
        "outputId": "8e51adcf-7657-4d90-b92c-72d57813a1bd"
      },
      "source": [
        "df.groupby('type_of_document',dropna=False)['fpd5_flg'].agg(['count','mean'])"
      ],
      "execution_count": null,
      "outputs": [
        {
          "output_type": "execute_result",
          "data": {
            "text/html": [
              "<div>\n",
              "<style scoped>\n",
              "    .dataframe tbody tr th:only-of-type {\n",
              "        vertical-align: middle;\n",
              "    }\n",
              "\n",
              "    .dataframe tbody tr th {\n",
              "        vertical-align: top;\n",
              "    }\n",
              "\n",
              "    .dataframe thead th {\n",
              "        text-align: right;\n",
              "    }\n",
              "</style>\n",
              "<table border=\"1\" class=\"dataframe\">\n",
              "  <thead>\n",
              "    <tr style=\"text-align: right;\">\n",
              "      <th></th>\n",
              "      <th>count</th>\n",
              "      <th>mean</th>\n",
              "    </tr>\n",
              "    <tr>\n",
              "      <th>type_of_document</th>\n",
              "      <th></th>\n",
              "      <th></th>\n",
              "    </tr>\n",
              "  </thead>\n",
              "  <tbody>\n",
              "    <tr>\n",
              "      <th>Driver license ID</th>\n",
              "      <td>3073</td>\n",
              "      <td>0.277904</td>\n",
              "    </tr>\n",
              "    <tr>\n",
              "      <th>PRC</th>\n",
              "      <td>449</td>\n",
              "      <td>0.187082</td>\n",
              "    </tr>\n",
              "    <tr>\n",
              "      <th>Passport</th>\n",
              "      <td>1867</td>\n",
              "      <td>0.274772</td>\n",
              "    </tr>\n",
              "    <tr>\n",
              "      <th>SSS</th>\n",
              "      <td>1498</td>\n",
              "      <td>0.242991</td>\n",
              "    </tr>\n",
              "    <tr>\n",
              "      <th>TIN</th>\n",
              "      <td>3057</td>\n",
              "      <td>0.307164</td>\n",
              "    </tr>\n",
              "    <tr>\n",
              "      <th>UMID</th>\n",
              "      <td>5419</td>\n",
              "      <td>0.265178</td>\n",
              "    </tr>\n",
              "  </tbody>\n",
              "</table>\n",
              "</div>"
            ],
            "text/plain": [
              "                   count      mean\n",
              "type_of_document                  \n",
              "Driver license ID   3073  0.277904\n",
              "PRC                  449  0.187082\n",
              "Passport            1867  0.274772\n",
              "SSS                 1498  0.242991\n",
              "TIN                 3057  0.307164\n",
              "UMID                5419  0.265178"
            ]
          },
          "metadata": {},
          "execution_count": 23
        }
      ]
    },
    {
      "cell_type": "code",
      "metadata": {
        "colab": {
          "base_uri": "https://localhost:8080/",
          "height": 371
        },
        "id": "WA8SGCuVvONA",
        "outputId": "bbb5c86b-a110-47a5-d5e0-c0647e6a47ee"
      },
      "source": [
        "df.groupby('type_of_document',dropna=False)['fpd5_flg'].mean().plot(kind='bar')"
      ],
      "execution_count": null,
      "outputs": [
        {
          "output_type": "execute_result",
          "data": {
            "text/plain": [
              "<matplotlib.axes._subplots.AxesSubplot at 0x7f4af1ba9bd0>"
            ]
          },
          "metadata": {},
          "execution_count": 24
        },
        {
          "output_type": "display_data",
          "data": {
            "image/png": "[encoded data removed]",
            "text/plain": [
              "<Figure size 432x288 with 1 Axes>"
            ]
          },
          "metadata": {}
        }
      ]
    },
    {
      "cell_type": "code",
      "metadata": {
        "colab": {
          "base_uri": "https://localhost:8080/",
          "height": 617
        },
        "id": "loLrh72LvUcd",
        "outputId": "c3984ff0-b171-42dd-ed22-f43cb3c22e4d"
      },
      "source": [
        "df"
      ],
      "execution_count": null,
      "outputs": [
        {
          "output_type": "execute_result",
          "data": {
            "text/html": [
              "<div>\n",
              "<style scoped>\n",
              "    .dataframe tbody tr th:only-of-type {\n",
              "        vertical-align: middle;\n",
              "    }\n",
              "\n",
              "    .dataframe tbody tr th {\n",
              "        vertical-align: top;\n",
              "    }\n",
              "\n",
              "    .dataframe thead th {\n",
              "        text-align: right;\n",
              "    }\n",
              "</style>\n",
              "<table border=\"1\" class=\"dataframe\">\n",
              "  <thead>\n",
              "    <tr style=\"text-align: right;\">\n",
              "      <th></th>\n",
              "      <th>fpd5_flg</th>\n",
              "      <th>dt</th>\n",
              "      <th>gender</th>\n",
              "      <th>device_quaility_index</th>\n",
              "      <th>behavioral_index</th>\n",
              "      <th>type_of_document</th>\n",
              "      <th>age</th>\n",
              "      <th>email_domain_formatted</th>\n",
              "      <th>social_status</th>\n",
              "      <th>salary</th>\n",
              "      <th>disbursment_type</th>\n",
              "      <th>os</th>\n",
              "      <th>email_index</th>\n",
              "    </tr>\n",
              "  </thead>\n",
              "  <tbody>\n",
              "    <tr>\n",
              "      <th>0</th>\n",
              "      <td>0</td>\n",
              "      <td>2021-01-22</td>\n",
              "      <td>0</td>\n",
              "      <td>NaN</td>\n",
              "      <td>NaN</td>\n",
              "      <td>UMID</td>\n",
              "      <td>26</td>\n",
              "      <td>GMAIL.COM</td>\n",
              "      <td>Private Company Employee</td>\n",
              "      <td>20000.0</td>\n",
              "      <td>Bank</td>\n",
              "      <td>Android</td>\n",
              "      <td>0.0</td>\n",
              "    </tr>\n",
              "    <tr>\n",
              "      <th>1</th>\n",
              "      <td>0</td>\n",
              "      <td>2020-12-14</td>\n",
              "      <td>1</td>\n",
              "      <td>3.0</td>\n",
              "      <td>4.0</td>\n",
              "      <td>UMID</td>\n",
              "      <td>32</td>\n",
              "      <td>GMAIL.COM</td>\n",
              "      <td>Other</td>\n",
              "      <td>18000.0</td>\n",
              "      <td>E-wallet</td>\n",
              "      <td>Android</td>\n",
              "      <td>1.0</td>\n",
              "    </tr>\n",
              "    <tr>\n",
              "      <th>2</th>\n",
              "      <td>1</td>\n",
              "      <td>2021-01-26</td>\n",
              "      <td>0</td>\n",
              "      <td>0.0</td>\n",
              "      <td>3.0</td>\n",
              "      <td>SSS</td>\n",
              "      <td>41</td>\n",
              "      <td>YAHOO.COM</td>\n",
              "      <td>Private Company Employee</td>\n",
              "      <td>14000.0</td>\n",
              "      <td>Bank</td>\n",
              "      <td>Android</td>\n",
              "      <td>1.0</td>\n",
              "    </tr>\n",
              "    <tr>\n",
              "      <th>3</th>\n",
              "      <td>1</td>\n",
              "      <td>2020-12-10</td>\n",
              "      <td>1</td>\n",
              "      <td>0.0</td>\n",
              "      <td>5.0</td>\n",
              "      <td>TIN</td>\n",
              "      <td>28</td>\n",
              "      <td>GMAIL.COM</td>\n",
              "      <td>BPO Professionals</td>\n",
              "      <td>40000.0</td>\n",
              "      <td>E-wallet</td>\n",
              "      <td>Android</td>\n",
              "      <td>1.0</td>\n",
              "    </tr>\n",
              "    <tr>\n",
              "      <th>4</th>\n",
              "      <td>1</td>\n",
              "      <td>2021-01-17</td>\n",
              "      <td>0</td>\n",
              "      <td>3.0</td>\n",
              "      <td>3.0</td>\n",
              "      <td>UMID</td>\n",
              "      <td>31</td>\n",
              "      <td>GMAIL.COM</td>\n",
              "      <td>BPO Professionals</td>\n",
              "      <td>25000.0</td>\n",
              "      <td>Bank</td>\n",
              "      <td>Android</td>\n",
              "      <td>0.0</td>\n",
              "    </tr>\n",
              "    <tr>\n",
              "      <th>...</th>\n",
              "      <td>...</td>\n",
              "      <td>...</td>\n",
              "      <td>...</td>\n",
              "      <td>...</td>\n",
              "      <td>...</td>\n",
              "      <td>...</td>\n",
              "      <td>...</td>\n",
              "      <td>...</td>\n",
              "      <td>...</td>\n",
              "      <td>...</td>\n",
              "      <td>...</td>\n",
              "      <td>...</td>\n",
              "      <td>...</td>\n",
              "    </tr>\n",
              "    <tr>\n",
              "      <th>15358</th>\n",
              "      <td>0</td>\n",
              "      <td>2021-01-05</td>\n",
              "      <td>1</td>\n",
              "      <td>3.0</td>\n",
              "      <td>5.0</td>\n",
              "      <td>UMID</td>\n",
              "      <td>36</td>\n",
              "      <td>GMAIL.COM</td>\n",
              "      <td>Business Owner</td>\n",
              "      <td>25000.0</td>\n",
              "      <td>E-wallet</td>\n",
              "      <td>Android</td>\n",
              "      <td>6.0</td>\n",
              "    </tr>\n",
              "    <tr>\n",
              "      <th>15359</th>\n",
              "      <td>1</td>\n",
              "      <td>2021-01-23</td>\n",
              "      <td>1</td>\n",
              "      <td>0.0</td>\n",
              "      <td>3.0</td>\n",
              "      <td>Passport</td>\n",
              "      <td>32</td>\n",
              "      <td>GMAIL.COM</td>\n",
              "      <td>Self-Employed</td>\n",
              "      <td>25000.0</td>\n",
              "      <td>E-wallet</td>\n",
              "      <td>Android</td>\n",
              "      <td>1.0</td>\n",
              "    </tr>\n",
              "    <tr>\n",
              "      <th>15360</th>\n",
              "      <td>1</td>\n",
              "      <td>2021-02-01</td>\n",
              "      <td>1</td>\n",
              "      <td>1.0</td>\n",
              "      <td>5.0</td>\n",
              "      <td>UMID</td>\n",
              "      <td>29</td>\n",
              "      <td>GMAIL.COM</td>\n",
              "      <td>Private Company Employee</td>\n",
              "      <td>25000.0</td>\n",
              "      <td>E-wallet</td>\n",
              "      <td>Android</td>\n",
              "      <td>0.0</td>\n",
              "    </tr>\n",
              "    <tr>\n",
              "      <th>15361</th>\n",
              "      <td>0</td>\n",
              "      <td>2020-12-14</td>\n",
              "      <td>1</td>\n",
              "      <td>1.0</td>\n",
              "      <td>5.0</td>\n",
              "      <td>UMID</td>\n",
              "      <td>37</td>\n",
              "      <td>GMAIL.COM</td>\n",
              "      <td>Private Company Employee</td>\n",
              "      <td>25000.0</td>\n",
              "      <td>Bank</td>\n",
              "      <td>Android</td>\n",
              "      <td>6.0</td>\n",
              "    </tr>\n",
              "    <tr>\n",
              "      <th>15362</th>\n",
              "      <td>0</td>\n",
              "      <td>2021-01-30</td>\n",
              "      <td>1</td>\n",
              "      <td>3.0</td>\n",
              "      <td>4.0</td>\n",
              "      <td>SSS</td>\n",
              "      <td>41</td>\n",
              "      <td>GMAIL.COM</td>\n",
              "      <td>Private Company Employee</td>\n",
              "      <td>35000.0</td>\n",
              "      <td>Bank</td>\n",
              "      <td>Android</td>\n",
              "      <td>0.0</td>\n",
              "    </tr>\n",
              "  </tbody>\n",
              "</table>\n",
              "<p>15363 rows × 13 columns</p>\n",
              "</div>"
            ],
            "text/plain": [
              "       fpd5_flg         dt  gender  ...  disbursment_type       os email_index\n",
              "0             0 2021-01-22       0  ...              Bank  Android         0.0\n",
              "1             0 2020-12-14       1  ...          E-wallet  Android         1.0\n",
              "2             1 2021-01-26       0  ...              Bank  Android         1.0\n",
              "3             1 2020-12-10       1  ...          E-wallet  Android         1.0\n",
              "4             1 2021-01-17       0  ...              Bank  Android         0.0\n",
              "...         ...        ...     ...  ...               ...      ...         ...\n",
              "15358         0 2021-01-05       1  ...          E-wallet  Android         6.0\n",
              "15359         1 2021-01-23       1  ...          E-wallet  Android         1.0\n",
              "15360         1 2021-02-01       1  ...          E-wallet  Android         0.0\n",
              "15361         0 2020-12-14       1  ...              Bank  Android         6.0\n",
              "15362         0 2021-01-30       1  ...              Bank  Android         0.0\n",
              "\n",
              "[15363 rows x 13 columns]"
            ]
          },
          "metadata": {},
          "execution_count": 25
        }
      ]
    },
    {
      "cell_type": "code",
      "metadata": {
        "colab": {
          "base_uri": "https://localhost:8080/",
          "height": 283
        },
        "id": "dTaBAm66vhSo",
        "outputId": "90acd268-4960-476d-c2ac-67a1a8fe177a"
      },
      "source": [
        "df['age'].hist()"
      ],
      "execution_count": null,
      "outputs": [
        {
          "output_type": "execute_result",
          "data": {
            "text/plain": [
              "<matplotlib.axes._subplots.AxesSubplot at 0x7f4af1c41610>"
            ]
          },
          "metadata": {},
          "execution_count": 26
        },
        {
          "output_type": "display_data",
          "data": {
            "image/png": "[encoded data removed]",
            "text/plain": [
              "<Figure size 432x288 with 1 Axes>"
            ]
          },
          "metadata": {}
        }
      ]
    },
    {
      "cell_type": "code",
      "metadata": {
        "id": "l0rIcGxvvloo"
      },
      "source": [
        "df['age_bin'] = pd.qcut(df['age'],5)"
      ],
      "execution_count": null,
      "outputs": []
    },
    {
      "cell_type": "code",
      "metadata": {
        "colab": {
          "base_uri": "https://localhost:8080/",
          "height": 237
        },
        "id": "Pxno2uLRvwjz",
        "outputId": "494275e0-29d9-4fa6-9b32-45df5131dce4"
      },
      "source": [
        "df.groupby('age_bin',dropna=False)['fpd5_flg'].agg(['count','mean'])"
      ],
      "execution_count": null,
      "outputs": [
        {
          "output_type": "execute_result",
          "data": {
            "text/html": [
              "<div>\n",
              "<style scoped>\n",
              "    .dataframe tbody tr th:only-of-type {\n",
              "        vertical-align: middle;\n",
              "    }\n",
              "\n",
              "    .dataframe tbody tr th {\n",
              "        vertical-align: top;\n",
              "    }\n",
              "\n",
              "    .dataframe thead th {\n",
              "        text-align: right;\n",
              "    }\n",
              "</style>\n",
              "<table border=\"1\" class=\"dataframe\">\n",
              "  <thead>\n",
              "    <tr style=\"text-align: right;\">\n",
              "      <th></th>\n",
              "      <th>count</th>\n",
              "      <th>mean</th>\n",
              "    </tr>\n",
              "    <tr>\n",
              "      <th>age_bin</th>\n",
              "      <th></th>\n",
              "      <th></th>\n",
              "    </tr>\n",
              "  </thead>\n",
              "  <tbody>\n",
              "    <tr>\n",
              "      <th>(20.999, 27.0]</th>\n",
              "      <td>3635</td>\n",
              "      <td>0.298212</td>\n",
              "    </tr>\n",
              "    <tr>\n",
              "      <th>(27.0, 31.0]</th>\n",
              "      <td>2766</td>\n",
              "      <td>0.287419</td>\n",
              "    </tr>\n",
              "    <tr>\n",
              "      <th>(31.0, 36.0]</th>\n",
              "      <td>2887</td>\n",
              "      <td>0.283685</td>\n",
              "    </tr>\n",
              "    <tr>\n",
              "      <th>(36.0, 43.0]</th>\n",
              "      <td>3381</td>\n",
              "      <td>0.262053</td>\n",
              "    </tr>\n",
              "    <tr>\n",
              "      <th>(43.0, 69.0]</th>\n",
              "      <td>2694</td>\n",
              "      <td>0.225316</td>\n",
              "    </tr>\n",
              "  </tbody>\n",
              "</table>\n",
              "</div>"
            ],
            "text/plain": [
              "                count      mean\n",
              "age_bin                        \n",
              "(20.999, 27.0]   3635  0.298212\n",
              "(27.0, 31.0]     2766  0.287419\n",
              "(31.0, 36.0]     2887  0.283685\n",
              "(36.0, 43.0]     3381  0.262053\n",
              "(43.0, 69.0]     2694  0.225316"
            ]
          },
          "metadata": {},
          "execution_count": 28
        }
      ]
    },
    {
      "cell_type": "code",
      "metadata": {
        "colab": {
          "base_uri": "https://localhost:8080/",
          "height": 298
        },
        "id": "8CqIP0d1vzG1",
        "outputId": "b7346bc9-ea32-4625-980b-a61c4adfc40b"
      },
      "source": [
        "df.groupby('age_bin',dropna=False)['fpd5_flg'].mean().plot()"
      ],
      "execution_count": null,
      "outputs": [
        {
          "output_type": "execute_result",
          "data": {
            "text/plain": [
              "<matplotlib.axes._subplots.AxesSubplot at 0x7f4af1b50d50>"
            ]
          },
          "metadata": {},
          "execution_count": 29
        },
        {
          "output_type": "display_data",
          "data": {
            "image/png": "[encoded data removed]",
            "text/plain": [
              "<Figure size 432x288 with 1 Axes>"
            ]
          },
          "metadata": {}
        }
      ]
    },
    {
      "cell_type": "code",
      "metadata": {
        "colab": {
          "base_uri": "https://localhost:8080/",
          "height": 617
        },
        "id": "jIBAi8pWv2uv",
        "outputId": "9ad053ae-ec36-4985-a8dd-1b1dc209ada5"
      },
      "source": [
        "df"
      ],
      "execution_count": null,
      "outputs": [
        {
          "output_type": "execute_result",
          "data": {
            "text/html": [
              "<div>\n",
              "<style scoped>\n",
              "    .dataframe tbody tr th:only-of-type {\n",
              "        vertical-align: middle;\n",
              "    }\n",
              "\n",
              "    .dataframe tbody tr th {\n",
              "        vertical-align: top;\n",
              "    }\n",
              "\n",
              "    .dataframe thead th {\n",
              "        text-align: right;\n",
              "    }\n",
              "</style>\n",
              "<table border=\"1\" class=\"dataframe\">\n",
              "  <thead>\n",
              "    <tr style=\"text-align: right;\">\n",
              "      <th></th>\n",
              "      <th>fpd5_flg</th>\n",
              "      <th>dt</th>\n",
              "      <th>gender</th>\n",
              "      <th>device_quaility_index</th>\n",
              "      <th>behavioral_index</th>\n",
              "      <th>type_of_document</th>\n",
              "      <th>age</th>\n",
              "      <th>email_domain_formatted</th>\n",
              "      <th>social_status</th>\n",
              "      <th>salary</th>\n",
              "      <th>disbursment_type</th>\n",
              "      <th>os</th>\n",
              "      <th>email_index</th>\n",
              "      <th>age_bin</th>\n",
              "    </tr>\n",
              "  </thead>\n",
              "  <tbody>\n",
              "    <tr>\n",
              "      <th>0</th>\n",
              "      <td>0</td>\n",
              "      <td>2021-01-22</td>\n",
              "      <td>0</td>\n",
              "      <td>NaN</td>\n",
              "      <td>NaN</td>\n",
              "      <td>UMID</td>\n",
              "      <td>26</td>\n",
              "      <td>GMAIL.COM</td>\n",
              "      <td>Private Company Employee</td>\n",
              "      <td>20000.0</td>\n",
              "      <td>Bank</td>\n",
              "      <td>Android</td>\n",
              "      <td>0.0</td>\n",
              "      <td>(20.999, 27.0]</td>\n",
              "    </tr>\n",
              "    <tr>\n",
              "      <th>1</th>\n",
              "      <td>0</td>\n",
              "      <td>2020-12-14</td>\n",
              "      <td>1</td>\n",
              "      <td>3.0</td>\n",
              "      <td>4.0</td>\n",
              "      <td>UMID</td>\n",
              "      <td>32</td>\n",
              "      <td>GMAIL.COM</td>\n",
              "      <td>Other</td>\n",
              "      <td>18000.0</td>\n",
              "      <td>E-wallet</td>\n",
              "      <td>Android</td>\n",
              "      <td>1.0</td>\n",
              "      <td>(31.0, 36.0]</td>\n",
              "    </tr>\n",
              "    <tr>\n",
              "      <th>2</th>\n",
              "      <td>1</td>\n",
              "      <td>2021-01-26</td>\n",
              "      <td>0</td>\n",
              "      <td>0.0</td>\n",
              "      <td>3.0</td>\n",
              "      <td>SSS</td>\n",
              "      <td>41</td>\n",
              "      <td>YAHOO.COM</td>\n",
              "      <td>Private Company Employee</td>\n",
              "      <td>14000.0</td>\n",
              "      <td>Bank</td>\n",
              "      <td>Android</td>\n",
              "      <td>1.0</td>\n",
              "      <td>(36.0, 43.0]</td>\n",
              "    </tr>\n",
              "    <tr>\n",
              "      <th>3</th>\n",
              "      <td>1</td>\n",
              "      <td>2020-12-10</td>\n",
              "      <td>1</td>\n",
              "      <td>0.0</td>\n",
              "      <td>5.0</td>\n",
              "      <td>TIN</td>\n",
              "      <td>28</td>\n",
              "      <td>GMAIL.COM</td>\n",
              "      <td>BPO Professionals</td>\n",
              "      <td>40000.0</td>\n",
              "      <td>E-wallet</td>\n",
              "      <td>Android</td>\n",
              "      <td>1.0</td>\n",
              "      <td>(27.0, 31.0]</td>\n",
              "    </tr>\n",
              "    <tr>\n",
              "      <th>4</th>\n",
              "      <td>1</td>\n",
              "      <td>2021-01-17</td>\n",
              "      <td>0</td>\n",
              "      <td>3.0</td>\n",
              "      <td>3.0</td>\n",
              "      <td>UMID</td>\n",
              "      <td>31</td>\n",
              "      <td>GMAIL.COM</td>\n",
              "      <td>BPO Professionals</td>\n",
              "      <td>25000.0</td>\n",
              "      <td>Bank</td>\n",
              "      <td>Android</td>\n",
              "      <td>0.0</td>\n",
              "      <td>(27.0, 31.0]</td>\n",
              "    </tr>\n",
              "    <tr>\n",
              "      <th>...</th>\n",
              "      <td>...</td>\n",
              "      <td>...</td>\n",
              "      <td>...</td>\n",
              "      <td>...</td>\n",
              "      <td>...</td>\n",
              "      <td>...</td>\n",
              "      <td>...</td>\n",
              "      <td>...</td>\n",
              "      <td>...</td>\n",
              "      <td>...</td>\n",
              "      <td>...</td>\n",
              "      <td>...</td>\n",
              "      <td>...</td>\n",
              "      <td>...</td>\n",
              "    </tr>\n",
              "    <tr>\n",
              "      <th>15358</th>\n",
              "      <td>0</td>\n",
              "      <td>2021-01-05</td>\n",
              "      <td>1</td>\n",
              "      <td>3.0</td>\n",
              "      <td>5.0</td>\n",
              "      <td>UMID</td>\n",
              "      <td>36</td>\n",
              "      <td>GMAIL.COM</td>\n",
              "      <td>Business Owner</td>\n",
              "      <td>25000.0</td>\n",
              "      <td>E-wallet</td>\n",
              "      <td>Android</td>\n",
              "      <td>6.0</td>\n",
              "      <td>(31.0, 36.0]</td>\n",
              "    </tr>\n",
              "    <tr>\n",
              "      <th>15359</th>\n",
              "      <td>1</td>\n",
              "      <td>2021-01-23</td>\n",
              "      <td>1</td>\n",
              "      <td>0.0</td>\n",
              "      <td>3.0</td>\n",
              "      <td>Passport</td>\n",
              "      <td>32</td>\n",
              "      <td>GMAIL.COM</td>\n",
              "      <td>Self-Employed</td>\n",
              "      <td>25000.0</td>\n",
              "      <td>E-wallet</td>\n",
              "      <td>Android</td>\n",
              "      <td>1.0</td>\n",
              "      <td>(31.0, 36.0]</td>\n",
              "    </tr>\n",
              "    <tr>\n",
              "      <th>15360</th>\n",
              "      <td>1</td>\n",
              "      <td>2021-02-01</td>\n",
              "      <td>1</td>\n",
              "      <td>1.0</td>\n",
              "      <td>5.0</td>\n",
              "      <td>UMID</td>\n",
              "      <td>29</td>\n",
              "      <td>GMAIL.COM</td>\n",
              "      <td>Private Company Employee</td>\n",
              "      <td>25000.0</td>\n",
              "      <td>E-wallet</td>\n",
              "      <td>Android</td>\n",
              "      <td>0.0</td>\n",
              "      <td>(27.0, 31.0]</td>\n",
              "    </tr>\n",
              "    <tr>\n",
              "      <th>15361</th>\n",
              "      <td>0</td>\n",
              "      <td>2020-12-14</td>\n",
              "      <td>1</td>\n",
              "      <td>1.0</td>\n",
              "      <td>5.0</td>\n",
              "      <td>UMID</td>\n",
              "      <td>37</td>\n",
              "      <td>GMAIL.COM</td>\n",
              "      <td>Private Company Employee</td>\n",
              "      <td>25000.0</td>\n",
              "      <td>Bank</td>\n",
              "      <td>Android</td>\n",
              "      <td>6.0</td>\n",
              "      <td>(36.0, 43.0]</td>\n",
              "    </tr>\n",
              "    <tr>\n",
              "      <th>15362</th>\n",
              "      <td>0</td>\n",
              "      <td>2021-01-30</td>\n",
              "      <td>1</td>\n",
              "      <td>3.0</td>\n",
              "      <td>4.0</td>\n",
              "      <td>SSS</td>\n",
              "      <td>41</td>\n",
              "      <td>GMAIL.COM</td>\n",
              "      <td>Private Company Employee</td>\n",
              "      <td>35000.0</td>\n",
              "      <td>Bank</td>\n",
              "      <td>Android</td>\n",
              "      <td>0.0</td>\n",
              "      <td>(36.0, 43.0]</td>\n",
              "    </tr>\n",
              "  </tbody>\n",
              "</table>\n",
              "<p>15363 rows × 14 columns</p>\n",
              "</div>"
            ],
            "text/plain": [
              "       fpd5_flg         dt  gender  ...       os  email_index         age_bin\n",
              "0             0 2021-01-22       0  ...  Android          0.0  (20.999, 27.0]\n",
              "1             0 2020-12-14       1  ...  Android          1.0    (31.0, 36.0]\n",
              "2             1 2021-01-26       0  ...  Android          1.0    (36.0, 43.0]\n",
              "3             1 2020-12-10       1  ...  Android          1.0    (27.0, 31.0]\n",
              "4             1 2021-01-17       0  ...  Android          0.0    (27.0, 31.0]\n",
              "...         ...        ...     ...  ...      ...          ...             ...\n",
              "15358         0 2021-01-05       1  ...  Android          6.0    (31.0, 36.0]\n",
              "15359         1 2021-01-23       1  ...  Android          1.0    (31.0, 36.0]\n",
              "15360         1 2021-02-01       1  ...  Android          0.0    (27.0, 31.0]\n",
              "15361         0 2020-12-14       1  ...  Android          6.0    (36.0, 43.0]\n",
              "15362         0 2021-01-30       1  ...  Android          0.0    (36.0, 43.0]\n",
              "\n",
              "[15363 rows x 14 columns]"
            ]
          },
          "metadata": {},
          "execution_count": 30
        }
      ]
    },
    {
      "cell_type": "code",
      "metadata": {
        "id": "R7JkK-Euv5y9"
      },
      "source": [
        "t = df.groupby('social_status',dropna=False)['fpd5_flg'].agg(['count','mean'])"
      ],
      "execution_count": null,
      "outputs": []
    },
    {
      "cell_type": "code",
      "metadata": {
        "colab": {
          "base_uri": "https://localhost:8080/",
          "height": 457
        },
        "id": "ht8W-I_gTgWh",
        "outputId": "4f03fb5a-8d9c-4e92-f561-2fb8651b5d72"
      },
      "source": [
        "t"
      ],
      "execution_count": null,
      "outputs": [
        {
          "output_type": "execute_result",
          "data": {
            "text/html": [
              "<div>\n",
              "<style scoped>\n",
              "    .dataframe tbody tr th:only-of-type {\n",
              "        vertical-align: middle;\n",
              "    }\n",
              "\n",
              "    .dataframe tbody tr th {\n",
              "        vertical-align: top;\n",
              "    }\n",
              "\n",
              "    .dataframe thead th {\n",
              "        text-align: right;\n",
              "    }\n",
              "</style>\n",
              "<table border=\"1\" class=\"dataframe\">\n",
              "  <thead>\n",
              "    <tr style=\"text-align: right;\">\n",
              "      <th></th>\n",
              "      <th>count</th>\n",
              "      <th>mean</th>\n",
              "    </tr>\n",
              "    <tr>\n",
              "      <th>social_status</th>\n",
              "      <th></th>\n",
              "      <th></th>\n",
              "    </tr>\n",
              "  </thead>\n",
              "  <tbody>\n",
              "    <tr>\n",
              "      <th>BPO Professionals</th>\n",
              "      <td>2295</td>\n",
              "      <td>0.272767</td>\n",
              "    </tr>\n",
              "    <tr>\n",
              "      <th>Business Owner</th>\n",
              "      <td>1680</td>\n",
              "      <td>0.284524</td>\n",
              "    </tr>\n",
              "    <tr>\n",
              "      <th>Financial Services</th>\n",
              "      <td>247</td>\n",
              "      <td>0.182186</td>\n",
              "    </tr>\n",
              "    <tr>\n",
              "      <th>Freelance</th>\n",
              "      <td>777</td>\n",
              "      <td>0.280566</td>\n",
              "    </tr>\n",
              "    <tr>\n",
              "      <th>Government Employee</th>\n",
              "      <td>1061</td>\n",
              "      <td>0.258247</td>\n",
              "    </tr>\n",
              "    <tr>\n",
              "      <th>Other</th>\n",
              "      <td>1703</td>\n",
              "      <td>0.276571</td>\n",
              "    </tr>\n",
              "    <tr>\n",
              "      <th>Private Company Employee</th>\n",
              "      <td>3500</td>\n",
              "      <td>0.264286</td>\n",
              "    </tr>\n",
              "    <tr>\n",
              "      <th>Professional Worker (Doctors, Engineers, Accountants, etc.)</th>\n",
              "      <td>642</td>\n",
              "      <td>0.194704</td>\n",
              "    </tr>\n",
              "    <tr>\n",
              "      <th>Retail Worker</th>\n",
              "      <td>402</td>\n",
              "      <td>0.298507</td>\n",
              "    </tr>\n",
              "    <tr>\n",
              "      <th>Retired</th>\n",
              "      <td>91</td>\n",
              "      <td>0.241758</td>\n",
              "    </tr>\n",
              "    <tr>\n",
              "      <th>Self-Employed</th>\n",
              "      <td>2323</td>\n",
              "      <td>0.302195</td>\n",
              "    </tr>\n",
              "    <tr>\n",
              "      <th>Unemployed</th>\n",
              "      <td>642</td>\n",
              "      <td>0.288162</td>\n",
              "    </tr>\n",
              "  </tbody>\n",
              "</table>\n",
              "</div>"
            ],
            "text/plain": [
              "                                                    count      mean\n",
              "social_status                                                      \n",
              "BPO Professionals                                    2295  0.272767\n",
              "Business Owner                                       1680  0.284524\n",
              "Financial Services                                    247  0.182186\n",
              "Freelance                                             777  0.280566\n",
              "Government Employee                                  1061  0.258247\n",
              "Other                                                1703  0.276571\n",
              "Private Company Employee                             3500  0.264286\n",
              "Professional Worker (Doctors, Engineers, Accoun...    642  0.194704\n",
              "Retail Worker                                         402  0.298507\n",
              "Retired                                                91  0.241758\n",
              "Self-Employed                                        2323  0.302195\n",
              "Unemployed                                            642  0.288162"
            ]
          },
          "metadata": {},
          "execution_count": 32
        }
      ]
    },
    {
      "cell_type": "code",
      "metadata": {
        "colab": {
          "base_uri": "https://localhost:8080/",
          "height": 585
        },
        "id": "78beUO_sv_AC",
        "outputId": "db0ad654-6951-4203-a888-a35e9f9eca44"
      },
      "source": [
        "t.sort_values('count',ascending=False)['mean'].plot(kind='bar')"
      ],
      "execution_count": null,
      "outputs": [
        {
          "output_type": "execute_result",
          "data": {
            "text/plain": [
              "<matplotlib.axes._subplots.AxesSubplot at 0x7f4af1b88550>"
            ]
          },
          "metadata": {},
          "execution_count": 33
        },
        {
          "output_type": "display_data",
          "data": {
            "image/png": "[encoded data removed]",
            "text/plain": [
              "<Figure size 432x288 with 1 Axes>"
            ]
          },
          "metadata": {}
        }
      ]
    },
    {
      "cell_type": "code",
      "metadata": {
        "colab": {
          "base_uri": "https://localhost:8080/",
          "height": 296
        },
        "id": "ZEDUh4DswEJP",
        "outputId": "8812df91-077b-499a-9a09-fd4c7d40e8ab"
      },
      "source": [
        "df['salary'].hist()"
      ],
      "execution_count": null,
      "outputs": [
        {
          "output_type": "execute_result",
          "data": {
            "text/plain": [
              "<matplotlib.axes._subplots.AxesSubplot at 0x7f4af1db8e90>"
            ]
          },
          "metadata": {},
          "execution_count": 34
        },
        {
          "output_type": "display_data",
          "data": {
            "image/png": "[encoded data removed]",
            "text/plain": [
              "<Figure size 432x288 with 1 Axes>"
            ]
          },
          "metadata": {}
        }
      ]
    },
    {
      "cell_type": "code",
      "metadata": {
        "id": "Gkl0KEU-wR28"
      },
      "source": [
        "df['salary_bin'] = pd.qcut(df['salary'],5)"
      ],
      "execution_count": null,
      "outputs": []
    },
    {
      "cell_type": "code",
      "metadata": {
        "colab": {
          "base_uri": "https://localhost:8080/",
          "height": 237
        },
        "id": "Sd2L3FJ2wcSE",
        "outputId": "c7217072-e148-4ecf-b747-6b10b1e9129f"
      },
      "source": [
        "df.groupby('salary_bin',dropna=False)['fpd5_flg'].agg(['count','mean'])"
      ],
      "execution_count": null,
      "outputs": [
        {
          "output_type": "execute_result",
          "data": {
            "text/html": [
              "<div>\n",
              "<style scoped>\n",
              "    .dataframe tbody tr th:only-of-type {\n",
              "        vertical-align: middle;\n",
              "    }\n",
              "\n",
              "    .dataframe tbody tr th {\n",
              "        vertical-align: top;\n",
              "    }\n",
              "\n",
              "    .dataframe thead th {\n",
              "        text-align: right;\n",
              "    }\n",
              "</style>\n",
              "<table border=\"1\" class=\"dataframe\">\n",
              "  <thead>\n",
              "    <tr style=\"text-align: right;\">\n",
              "      <th></th>\n",
              "      <th>count</th>\n",
              "      <th>mean</th>\n",
              "    </tr>\n",
              "    <tr>\n",
              "      <th>salary_bin</th>\n",
              "      <th></th>\n",
              "      <th></th>\n",
              "    </tr>\n",
              "  </thead>\n",
              "  <tbody>\n",
              "    <tr>\n",
              "      <th>(-0.001, 14000.0]</th>\n",
              "      <td>3026</td>\n",
              "      <td>0.298083</td>\n",
              "    </tr>\n",
              "    <tr>\n",
              "      <th>(14000.0, 18000.0]</th>\n",
              "      <td>3036</td>\n",
              "      <td>0.291173</td>\n",
              "    </tr>\n",
              "    <tr>\n",
              "      <th>(18000.0, 22000.0]</th>\n",
              "      <td>2820</td>\n",
              "      <td>0.275532</td>\n",
              "    </tr>\n",
              "    <tr>\n",
              "      <th>(22000.0, 30000.0]</th>\n",
              "      <td>3906</td>\n",
              "      <td>0.273682</td>\n",
              "    </tr>\n",
              "    <tr>\n",
              "      <th>(30000.0, 1500020000.0]</th>\n",
              "      <td>1861</td>\n",
              "      <td>0.193982</td>\n",
              "    </tr>\n",
              "  </tbody>\n",
              "</table>\n",
              "</div>"
            ],
            "text/plain": [
              "                         count      mean\n",
              "salary_bin                              \n",
              "(-0.001, 14000.0]         3026  0.298083\n",
              "(14000.0, 18000.0]        3036  0.291173\n",
              "(18000.0, 22000.0]        2820  0.275532\n",
              "(22000.0, 30000.0]        3906  0.273682\n",
              "(30000.0, 1500020000.0]   1861  0.193982"
            ]
          },
          "metadata": {},
          "execution_count": 36
        }
      ]
    },
    {
      "cell_type": "code",
      "metadata": {
        "colab": {
          "base_uri": "https://localhost:8080/",
          "height": 617
        },
        "id": "vs92_aLjwfoD",
        "outputId": "cd881274-0cbb-4d10-8afc-cd62a202642c"
      },
      "source": [
        "df"
      ],
      "execution_count": null,
      "outputs": [
        {
          "output_type": "execute_result",
          "data": {
            "text/html": [
              "<div>\n",
              "<style scoped>\n",
              "    .dataframe tbody tr th:only-of-type {\n",
              "        vertical-align: middle;\n",
              "    }\n",
              "\n",
              "    .dataframe tbody tr th {\n",
              "        vertical-align: top;\n",
              "    }\n",
              "\n",
              "    .dataframe thead th {\n",
              "        text-align: right;\n",
              "    }\n",
              "</style>\n",
              "<table border=\"1\" class=\"dataframe\">\n",
              "  <thead>\n",
              "    <tr style=\"text-align: right;\">\n",
              "      <th></th>\n",
              "      <th>fpd5_flg</th>\n",
              "      <th>dt</th>\n",
              "      <th>gender</th>\n",
              "      <th>device_quaility_index</th>\n",
              "      <th>behavioral_index</th>\n",
              "      <th>type_of_document</th>\n",
              "      <th>age</th>\n",
              "      <th>email_domain_formatted</th>\n",
              "      <th>social_status</th>\n",
              "      <th>salary</th>\n",
              "      <th>disbursment_type</th>\n",
              "      <th>os</th>\n",
              "      <th>email_index</th>\n",
              "      <th>age_bin</th>\n",
              "      <th>salary_bin</th>\n",
              "    </tr>\n",
              "  </thead>\n",
              "  <tbody>\n",
              "    <tr>\n",
              "      <th>0</th>\n",
              "      <td>0</td>\n",
              "      <td>2021-01-22</td>\n",
              "      <td>0</td>\n",
              "      <td>NaN</td>\n",
              "      <td>NaN</td>\n",
              "      <td>UMID</td>\n",
              "      <td>26</td>\n",
              "      <td>GMAIL.COM</td>\n",
              "      <td>Private Company Employee</td>\n",
              "      <td>20000.0</td>\n",
              "      <td>Bank</td>\n",
              "      <td>Android</td>\n",
              "      <td>0.0</td>\n",
              "      <td>(20.999, 27.0]</td>\n",
              "      <td>(18000.0, 22000.0]</td>\n",
              "    </tr>\n",
              "    <tr>\n",
              "      <th>1</th>\n",
              "      <td>0</td>\n",
              "      <td>2020-12-14</td>\n",
              "      <td>1</td>\n",
              "      <td>3.0</td>\n",
              "      <td>4.0</td>\n",
              "      <td>UMID</td>\n",
              "      <td>32</td>\n",
              "      <td>GMAIL.COM</td>\n",
              "      <td>Other</td>\n",
              "      <td>18000.0</td>\n",
              "      <td>E-wallet</td>\n",
              "      <td>Android</td>\n",
              "      <td>1.0</td>\n",
              "      <td>(31.0, 36.0]</td>\n",
              "      <td>(14000.0, 18000.0]</td>\n",
              "    </tr>\n",
              "    <tr>\n",
              "      <th>2</th>\n",
              "      <td>1</td>\n",
              "      <td>2021-01-26</td>\n",
              "      <td>0</td>\n",
              "      <td>0.0</td>\n",
              "      <td>3.0</td>\n",
              "      <td>SSS</td>\n",
              "      <td>41</td>\n",
              "      <td>YAHOO.COM</td>\n",
              "      <td>Private Company Employee</td>\n",
              "      <td>14000.0</td>\n",
              "      <td>Bank</td>\n",
              "      <td>Android</td>\n",
              "      <td>1.0</td>\n",
              "      <td>(36.0, 43.0]</td>\n",
              "      <td>(-0.001, 14000.0]</td>\n",
              "    </tr>\n",
              "    <tr>\n",
              "      <th>3</th>\n",
              "      <td>1</td>\n",
              "      <td>2020-12-10</td>\n",
              "      <td>1</td>\n",
              "      <td>0.0</td>\n",
              "      <td>5.0</td>\n",
              "      <td>TIN</td>\n",
              "      <td>28</td>\n",
              "      <td>GMAIL.COM</td>\n",
              "      <td>BPO Professionals</td>\n",
              "      <td>40000.0</td>\n",
              "      <td>E-wallet</td>\n",
              "      <td>Android</td>\n",
              "      <td>1.0</td>\n",
              "      <td>(27.0, 31.0]</td>\n",
              "      <td>(30000.0, 1500020000.0]</td>\n",
              "    </tr>\n",
              "    <tr>\n",
              "      <th>4</th>\n",
              "      <td>1</td>\n",
              "      <td>2021-01-17</td>\n",
              "      <td>0</td>\n",
              "      <td>3.0</td>\n",
              "      <td>3.0</td>\n",
              "      <td>UMID</td>\n",
              "      <td>31</td>\n",
              "      <td>GMAIL.COM</td>\n",
              "      <td>BPO Professionals</td>\n",
              "      <td>25000.0</td>\n",
              "      <td>Bank</td>\n",
              "      <td>Android</td>\n",
              "      <td>0.0</td>\n",
              "      <td>(27.0, 31.0]</td>\n",
              "      <td>(22000.0, 30000.0]</td>\n",
              "    </tr>\n",
              "    <tr>\n",
              "      <th>...</th>\n",
              "      <td>...</td>\n",
              "      <td>...</td>\n",
              "      <td>...</td>\n",
              "      <td>...</td>\n",
              "      <td>...</td>\n",
              "      <td>...</td>\n",
              "      <td>...</td>\n",
              "      <td>...</td>\n",
              "      <td>...</td>\n",
              "      <td>...</td>\n",
              "      <td>...</td>\n",
              "      <td>...</td>\n",
              "      <td>...</td>\n",
              "      <td>...</td>\n",
              "      <td>...</td>\n",
              "    </tr>\n",
              "    <tr>\n",
              "      <th>15358</th>\n",
              "      <td>0</td>\n",
              "      <td>2021-01-05</td>\n",
              "      <td>1</td>\n",
              "      <td>3.0</td>\n",
              "      <td>5.0</td>\n",
              "      <td>UMID</td>\n",
              "      <td>36</td>\n",
              "      <td>GMAIL.COM</td>\n",
              "      <td>Business Owner</td>\n",
              "      <td>25000.0</td>\n",
              "      <td>E-wallet</td>\n",
              "      <td>Android</td>\n",
              "      <td>6.0</td>\n",
              "      <td>(31.0, 36.0]</td>\n",
              "      <td>(22000.0, 30000.0]</td>\n",
              "    </tr>\n",
              "    <tr>\n",
              "      <th>15359</th>\n",
              "      <td>1</td>\n",
              "      <td>2021-01-23</td>\n",
              "      <td>1</td>\n",
              "      <td>0.0</td>\n",
              "      <td>3.0</td>\n",
              "      <td>Passport</td>\n",
              "      <td>32</td>\n",
              "      <td>GMAIL.COM</td>\n",
              "      <td>Self-Employed</td>\n",
              "      <td>25000.0</td>\n",
              "      <td>E-wallet</td>\n",
              "      <td>Android</td>\n",
              "      <td>1.0</td>\n",
              "      <td>(31.0, 36.0]</td>\n",
              "      <td>(22000.0, 30000.0]</td>\n",
              "    </tr>\n",
              "    <tr>\n",
              "      <th>15360</th>\n",
              "      <td>1</td>\n",
              "      <td>2021-02-01</td>\n",
              "      <td>1</td>\n",
              "      <td>1.0</td>\n",
              "      <td>5.0</td>\n",
              "      <td>UMID</td>\n",
              "      <td>29</td>\n",
              "      <td>GMAIL.COM</td>\n",
              "      <td>Private Company Employee</td>\n",
              "      <td>25000.0</td>\n",
              "      <td>E-wallet</td>\n",
              "      <td>Android</td>\n",
              "      <td>0.0</td>\n",
              "      <td>(27.0, 31.0]</td>\n",
              "      <td>(22000.0, 30000.0]</td>\n",
              "    </tr>\n",
              "    <tr>\n",
              "      <th>15361</th>\n",
              "      <td>0</td>\n",
              "      <td>2020-12-14</td>\n",
              "      <td>1</td>\n",
              "      <td>1.0</td>\n",
              "      <td>5.0</td>\n",
              "      <td>UMID</td>\n",
              "      <td>37</td>\n",
              "      <td>GMAIL.COM</td>\n",
              "      <td>Private Company Employee</td>\n",
              "      <td>25000.0</td>\n",
              "      <td>Bank</td>\n",
              "      <td>Android</td>\n",
              "      <td>6.0</td>\n",
              "      <td>(36.0, 43.0]</td>\n",
              "      <td>(22000.0, 30000.0]</td>\n",
              "    </tr>\n",
              "    <tr>\n",
              "      <th>15362</th>\n",
              "      <td>0</td>\n",
              "      <td>2021-01-30</td>\n",
              "      <td>1</td>\n",
              "      <td>3.0</td>\n",
              "      <td>4.0</td>\n",
              "      <td>SSS</td>\n",
              "      <td>41</td>\n",
              "      <td>GMAIL.COM</td>\n",
              "      <td>Private Company Employee</td>\n",
              "      <td>35000.0</td>\n",
              "      <td>Bank</td>\n",
              "      <td>Android</td>\n",
              "      <td>0.0</td>\n",
              "      <td>(36.0, 43.0]</td>\n",
              "      <td>(30000.0, 1500020000.0]</td>\n",
              "    </tr>\n",
              "  </tbody>\n",
              "</table>\n",
              "<p>15363 rows × 15 columns</p>\n",
              "</div>"
            ],
            "text/plain": [
              "       fpd5_flg         dt  ...         age_bin               salary_bin\n",
              "0             0 2021-01-22  ...  (20.999, 27.0]       (18000.0, 22000.0]\n",
              "1             0 2020-12-14  ...    (31.0, 36.0]       (14000.0, 18000.0]\n",
              "2             1 2021-01-26  ...    (36.0, 43.0]        (-0.001, 14000.0]\n",
              "3             1 2020-12-10  ...    (27.0, 31.0]  (30000.0, 1500020000.0]\n",
              "4             1 2021-01-17  ...    (27.0, 31.0]       (22000.0, 30000.0]\n",
              "...         ...        ...  ...             ...                      ...\n",
              "15358         0 2021-01-05  ...    (31.0, 36.0]       (22000.0, 30000.0]\n",
              "15359         1 2021-01-23  ...    (31.0, 36.0]       (22000.0, 30000.0]\n",
              "15360         1 2021-02-01  ...    (27.0, 31.0]       (22000.0, 30000.0]\n",
              "15361         0 2020-12-14  ...    (36.0, 43.0]       (22000.0, 30000.0]\n",
              "15362         0 2021-01-30  ...    (36.0, 43.0]  (30000.0, 1500020000.0]\n",
              "\n",
              "[15363 rows x 15 columns]"
            ]
          },
          "metadata": {},
          "execution_count": 37
        }
      ]
    },
    {
      "cell_type": "code",
      "metadata": {
        "colab": {
          "base_uri": "https://localhost:8080/",
          "height": 143
        },
        "id": "sNfjau8OwqEc",
        "outputId": "398505d8-862a-4fd2-8d13-5ba6412c7ea3"
      },
      "source": [
        "df.groupby('disbursment_type',dropna=False)['fpd5_flg'].agg(['count','mean'])"
      ],
      "execution_count": null,
      "outputs": [
        {
          "output_type": "execute_result",
          "data": {
            "text/html": [
              "<div>\n",
              "<style scoped>\n",
              "    .dataframe tbody tr th:only-of-type {\n",
              "        vertical-align: middle;\n",
              "    }\n",
              "\n",
              "    .dataframe tbody tr th {\n",
              "        vertical-align: top;\n",
              "    }\n",
              "\n",
              "    .dataframe thead th {\n",
              "        text-align: right;\n",
              "    }\n",
              "</style>\n",
              "<table border=\"1\" class=\"dataframe\">\n",
              "  <thead>\n",
              "    <tr style=\"text-align: right;\">\n",
              "      <th></th>\n",
              "      <th>count</th>\n",
              "      <th>mean</th>\n",
              "    </tr>\n",
              "    <tr>\n",
              "      <th>disbursment_type</th>\n",
              "      <th></th>\n",
              "      <th></th>\n",
              "    </tr>\n",
              "  </thead>\n",
              "  <tbody>\n",
              "    <tr>\n",
              "      <th>Bank</th>\n",
              "      <td>8918</td>\n",
              "      <td>0.216192</td>\n",
              "    </tr>\n",
              "    <tr>\n",
              "      <th>E-wallet</th>\n",
              "      <td>6445</td>\n",
              "      <td>0.351125</td>\n",
              "    </tr>\n",
              "  </tbody>\n",
              "</table>\n",
              "</div>"
            ],
            "text/plain": [
              "                  count      mean\n",
              "disbursment_type                 \n",
              "Bank               8918  0.216192\n",
              "E-wallet           6445  0.351125"
            ]
          },
          "metadata": {},
          "execution_count": 38
        }
      ]
    },
    {
      "cell_type": "code",
      "metadata": {
        "id": "q33yP-Njw0q3"
      },
      "source": [
        "t = df.groupby('email_index',dropna=False)['fpd5_flg'].agg(['count','mean'])"
      ],
      "execution_count": null,
      "outputs": []
    },
    {
      "cell_type": "code",
      "metadata": {
        "colab": {
          "base_uri": "https://localhost:8080/",
          "height": 425
        },
        "id": "xN1Pv6vcw8pq",
        "outputId": "fac24452-69d9-44e2-f0f5-5e1d06ebbc1e"
      },
      "source": [
        "t.sort_values('count',ascending=False)"
      ],
      "execution_count": null,
      "outputs": [
        {
          "output_type": "execute_result",
          "data": {
            "text/html": [
              "<div>\n",
              "<style scoped>\n",
              "    .dataframe tbody tr th:only-of-type {\n",
              "        vertical-align: middle;\n",
              "    }\n",
              "\n",
              "    .dataframe tbody tr th {\n",
              "        vertical-align: top;\n",
              "    }\n",
              "\n",
              "    .dataframe thead th {\n",
              "        text-align: right;\n",
              "    }\n",
              "</style>\n",
              "<table border=\"1\" class=\"dataframe\">\n",
              "  <thead>\n",
              "    <tr style=\"text-align: right;\">\n",
              "      <th></th>\n",
              "      <th>count</th>\n",
              "      <th>mean</th>\n",
              "    </tr>\n",
              "    <tr>\n",
              "      <th>email_index</th>\n",
              "      <th></th>\n",
              "      <th></th>\n",
              "    </tr>\n",
              "  </thead>\n",
              "  <tbody>\n",
              "    <tr>\n",
              "      <th>1.0</th>\n",
              "      <td>8926</td>\n",
              "      <td>0.281201</td>\n",
              "    </tr>\n",
              "    <tr>\n",
              "      <th>0.0</th>\n",
              "      <td>4253</td>\n",
              "      <td>0.236539</td>\n",
              "    </tr>\n",
              "    <tr>\n",
              "      <th>8.0</th>\n",
              "      <td>1329</td>\n",
              "      <td>0.314522</td>\n",
              "    </tr>\n",
              "    <tr>\n",
              "      <th>6.0</th>\n",
              "      <td>273</td>\n",
              "      <td>0.296703</td>\n",
              "    </tr>\n",
              "    <tr>\n",
              "      <th>4.0</th>\n",
              "      <td>232</td>\n",
              "      <td>0.331897</td>\n",
              "    </tr>\n",
              "    <tr>\n",
              "      <th>10.0</th>\n",
              "      <td>176</td>\n",
              "      <td>0.318182</td>\n",
              "    </tr>\n",
              "    <tr>\n",
              "      <th>2.0</th>\n",
              "      <td>129</td>\n",
              "      <td>0.217054</td>\n",
              "    </tr>\n",
              "    <tr>\n",
              "      <th>NaN</th>\n",
              "      <td>33</td>\n",
              "      <td>0.303030</td>\n",
              "    </tr>\n",
              "    <tr>\n",
              "      <th>3.0</th>\n",
              "      <td>7</td>\n",
              "      <td>0.285714</td>\n",
              "    </tr>\n",
              "    <tr>\n",
              "      <th>12.0</th>\n",
              "      <td>4</td>\n",
              "      <td>0.750000</td>\n",
              "    </tr>\n",
              "    <tr>\n",
              "      <th>11.0</th>\n",
              "      <td>1</td>\n",
              "      <td>0.000000</td>\n",
              "    </tr>\n",
              "  </tbody>\n",
              "</table>\n",
              "</div>"
            ],
            "text/plain": [
              "             count      mean\n",
              "email_index                 \n",
              "1.0           8926  0.281201\n",
              "0.0           4253  0.236539\n",
              "8.0           1329  0.314522\n",
              "6.0            273  0.296703\n",
              "4.0            232  0.331897\n",
              "10.0           176  0.318182\n",
              "2.0            129  0.217054\n",
              "NaN             33  0.303030\n",
              "3.0              7  0.285714\n",
              "12.0             4  0.750000\n",
              "11.0             1  0.000000"
            ]
          },
          "metadata": {},
          "execution_count": 40
        }
      ]
    },
    {
      "cell_type": "code",
      "metadata": {
        "colab": {
          "base_uri": "https://localhost:8080/",
          "height": 304
        },
        "id": "CfzwkOXNxLLe",
        "outputId": "200ca67a-b6b0-42d2-d97f-511b47c81440"
      },
      "source": [
        "t.sort_values('count',ascending=False)['mean'].head(5).plot(kind='bar')"
      ],
      "execution_count": null,
      "outputs": [
        {
          "output_type": "execute_result",
          "data": {
            "text/plain": [
              "<matplotlib.axes._subplots.AxesSubplot at 0x7f4af2392c50>"
            ]
          },
          "metadata": {},
          "execution_count": 41
        },
        {
          "output_type": "display_data",
          "data": {
            "image/png": "[encoded data removed]",
            "text/plain": [
              "<Figure size 432x288 with 1 Axes>"
            ]
          },
          "metadata": {}
        }
      ]
    },
    {
      "cell_type": "code",
      "metadata": {
        "colab": {
          "base_uri": "https://localhost:8080/",
          "height": 143
        },
        "id": "6_ma3b452W6t",
        "outputId": "1ae1bc99-c1a9-40d0-b4ef-24351704dca0"
      },
      "source": [
        "df.groupby('gender',dropna=False)['fpd5_flg'].agg(['count','mean'])"
      ],
      "execution_count": null,
      "outputs": [
        {
          "output_type": "execute_result",
          "data": {
            "text/html": [
              "<div>\n",
              "<style scoped>\n",
              "    .dataframe tbody tr th:only-of-type {\n",
              "        vertical-align: middle;\n",
              "    }\n",
              "\n",
              "    .dataframe tbody tr th {\n",
              "        vertical-align: top;\n",
              "    }\n",
              "\n",
              "    .dataframe thead th {\n",
              "        text-align: right;\n",
              "    }\n",
              "</style>\n",
              "<table border=\"1\" class=\"dataframe\">\n",
              "  <thead>\n",
              "    <tr style=\"text-align: right;\">\n",
              "      <th></th>\n",
              "      <th>count</th>\n",
              "      <th>mean</th>\n",
              "    </tr>\n",
              "    <tr>\n",
              "      <th>gender</th>\n",
              "      <th></th>\n",
              "      <th></th>\n",
              "    </tr>\n",
              "  </thead>\n",
              "  <tbody>\n",
              "    <tr>\n",
              "      <th>0</th>\n",
              "      <td>5698</td>\n",
              "      <td>0.307125</td>\n",
              "    </tr>\n",
              "    <tr>\n",
              "      <th>1</th>\n",
              "      <td>9665</td>\n",
              "      <td>0.252561</td>\n",
              "    </tr>\n",
              "  </tbody>\n",
              "</table>\n",
              "</div>"
            ],
            "text/plain": [
              "        count      mean\n",
              "gender                 \n",
              "0        5698  0.307125\n",
              "1        9665  0.252561"
            ]
          },
          "metadata": {},
          "execution_count": 42
        }
      ]
    },
    {
      "cell_type": "markdown",
      "metadata": {
        "id": "xyqUkTCX7kHp"
      },
      "source": [
        "https://towardsdatascience.com/phik-k-get-familiar-with-the-latest-correlation-coefficient-9ba0032b37e7#:~:text=Phik%20(%F0%9D%9C%99k)%20is%20a%20new,a%20bivariate%20normal%20input%20distribution."
      ]
    },
    {
      "cell_type": "markdown",
      "metadata": {
        "id": "ndpmgCEyxQX-"
      },
      "source": [
        "# Model"
      ]
    },
    {
      "cell_type": "code",
      "metadata": {
        "id": "KoJCvnVpxoRd"
      },
      "source": [
        "from sklearn.model_selection import train_test_split"
      ],
      "execution_count": null,
      "outputs": []
    },
    {
      "cell_type": "code",
      "metadata": {
        "colab": {
          "base_uri": "https://localhost:8080/"
        },
        "id": "YWxigfyp0U-u",
        "outputId": "3b8c4ae2-9f0e-4556-e369-f9e922f7cdf2"
      },
      "source": [
        "df.columns"
      ],
      "execution_count": null,
      "outputs": [
        {
          "output_type": "execute_result",
          "data": {
            "text/plain": [
              "Index(['fpd5_flg', 'dt', 'gender', 'device_quaility_index', 'behavioral_index',\n",
              "       'type_of_document', 'age', 'email_domain_formatted', 'social_status',\n",
              "       'salary', 'disbursment_type', 'os', 'email_index', 'age_bin',\n",
              "       'salary_bin'],\n",
              "      dtype='object')"
            ]
          },
          "metadata": {},
          "execution_count": 44
        }
      ]
    },
    {
      "cell_type": "code",
      "metadata": {
        "id": "r9khVXhc0W-g"
      },
      "source": [
        "X = ['gender', 'device_quaility_index', 'behavioral_index',\n",
        "       'type_of_document', 'age', 'email_domain_formatted', 'social_status',\n",
        "       'salary', 'disbursment_type', 'os', 'email_index']\n",
        "\n",
        "y = ['fpd5_flg']"
      ],
      "execution_count": null,
      "outputs": []
    },
    {
      "cell_type": "code",
      "metadata": {
        "id": "wuThqtuaz-Av"
      },
      "source": [
        "X_train, X_test, y_train, y_test = train_test_split(df[X],\n",
        "                                                    df[y],\n",
        "                                                    test_size=0.3,\n",
        "                                                    random_state=42)"
      ],
      "execution_count": null,
      "outputs": []
    },
    {
      "cell_type": "code",
      "metadata": {
        "colab": {
          "base_uri": "https://localhost:8080/",
          "height": 548
        },
        "id": "DKsQpb8H0OuY",
        "outputId": "92fed317-40a1-4efb-f59e-1958a3fa9abd"
      },
      "source": [
        "X_train"
      ],
      "execution_count": null,
      "outputs": [
        {
          "output_type": "execute_result",
          "data": {
            "text/html": [
              "<div>\n",
              "<style scoped>\n",
              "    .dataframe tbody tr th:only-of-type {\n",
              "        vertical-align: middle;\n",
              "    }\n",
              "\n",
              "    .dataframe tbody tr th {\n",
              "        vertical-align: top;\n",
              "    }\n",
              "\n",
              "    .dataframe thead th {\n",
              "        text-align: right;\n",
              "    }\n",
              "</style>\n",
              "<table border=\"1\" class=\"dataframe\">\n",
              "  <thead>\n",
              "    <tr style=\"text-align: right;\">\n",
              "      <th></th>\n",
              "      <th>gender</th>\n",
              "      <th>device_quaility_index</th>\n",
              "      <th>behavioral_index</th>\n",
              "      <th>type_of_document</th>\n",
              "      <th>age</th>\n",
              "      <th>email_domain_formatted</th>\n",
              "      <th>social_status</th>\n",
              "      <th>salary</th>\n",
              "      <th>disbursment_type</th>\n",
              "      <th>os</th>\n",
              "      <th>email_index</th>\n",
              "    </tr>\n",
              "  </thead>\n",
              "  <tbody>\n",
              "    <tr>\n",
              "      <th>3132</th>\n",
              "      <td>0</td>\n",
              "      <td>1.0</td>\n",
              "      <td>5.0</td>\n",
              "      <td>UMID</td>\n",
              "      <td>24</td>\n",
              "      <td>GMAIL.COM</td>\n",
              "      <td>Other</td>\n",
              "      <td>20000.0</td>\n",
              "      <td>E-wallet</td>\n",
              "      <td>Android</td>\n",
              "      <td>0.0</td>\n",
              "    </tr>\n",
              "    <tr>\n",
              "      <th>7655</th>\n",
              "      <td>1</td>\n",
              "      <td>2.0</td>\n",
              "      <td>5.0</td>\n",
              "      <td>Passport</td>\n",
              "      <td>35</td>\n",
              "      <td>YAHOO.COM</td>\n",
              "      <td>Other</td>\n",
              "      <td>15000.0</td>\n",
              "      <td>E-wallet</td>\n",
              "      <td>Android</td>\n",
              "      <td>0.0</td>\n",
              "    </tr>\n",
              "    <tr>\n",
              "      <th>3520</th>\n",
              "      <td>1</td>\n",
              "      <td>3.0</td>\n",
              "      <td>4.0</td>\n",
              "      <td>Passport</td>\n",
              "      <td>37</td>\n",
              "      <td>ICLOUD.COM</td>\n",
              "      <td>Other</td>\n",
              "      <td>25000.0</td>\n",
              "      <td>E-wallet</td>\n",
              "      <td>iOS</td>\n",
              "      <td>8.0</td>\n",
              "    </tr>\n",
              "    <tr>\n",
              "      <th>14251</th>\n",
              "      <td>1</td>\n",
              "      <td>3.0</td>\n",
              "      <td>5.0</td>\n",
              "      <td>UMID</td>\n",
              "      <td>26</td>\n",
              "      <td>GMAIL.COM</td>\n",
              "      <td>Professional Worker (Doctors, Engineers, Accou...</td>\n",
              "      <td>16000.0</td>\n",
              "      <td>Bank</td>\n",
              "      <td>iOS</td>\n",
              "      <td>1.0</td>\n",
              "    </tr>\n",
              "    <tr>\n",
              "      <th>2588</th>\n",
              "      <td>0</td>\n",
              "      <td>3.0</td>\n",
              "      <td>6.0</td>\n",
              "      <td>Driver license ID</td>\n",
              "      <td>50</td>\n",
              "      <td>GMAIL.COM</td>\n",
              "      <td>Business Owner</td>\n",
              "      <td>40000.0</td>\n",
              "      <td>E-wallet</td>\n",
              "      <td>Android</td>\n",
              "      <td>1.0</td>\n",
              "    </tr>\n",
              "    <tr>\n",
              "      <th>...</th>\n",
              "      <td>...</td>\n",
              "      <td>...</td>\n",
              "      <td>...</td>\n",
              "      <td>...</td>\n",
              "      <td>...</td>\n",
              "      <td>...</td>\n",
              "      <td>...</td>\n",
              "      <td>...</td>\n",
              "      <td>...</td>\n",
              "      <td>...</td>\n",
              "      <td>...</td>\n",
              "    </tr>\n",
              "    <tr>\n",
              "      <th>5191</th>\n",
              "      <td>0</td>\n",
              "      <td>NaN</td>\n",
              "      <td>NaN</td>\n",
              "      <td>TIN</td>\n",
              "      <td>24</td>\n",
              "      <td>GMAIL.COM</td>\n",
              "      <td>Private Company Employee</td>\n",
              "      <td>24000.0</td>\n",
              "      <td>E-wallet</td>\n",
              "      <td>Android</td>\n",
              "      <td>1.0</td>\n",
              "    </tr>\n",
              "    <tr>\n",
              "      <th>13418</th>\n",
              "      <td>1</td>\n",
              "      <td>2.0</td>\n",
              "      <td>4.0</td>\n",
              "      <td>UMID</td>\n",
              "      <td>26</td>\n",
              "      <td>YAHOO.COM</td>\n",
              "      <td>BPO Professionals</td>\n",
              "      <td>24000.0</td>\n",
              "      <td>Bank</td>\n",
              "      <td>macOS</td>\n",
              "      <td>1.0</td>\n",
              "    </tr>\n",
              "    <tr>\n",
              "      <th>5390</th>\n",
              "      <td>0</td>\n",
              "      <td>3.0</td>\n",
              "      <td>4.0</td>\n",
              "      <td>Driver license ID</td>\n",
              "      <td>24</td>\n",
              "      <td>GMAIL.COM</td>\n",
              "      <td>Self-Employed</td>\n",
              "      <td>18000.0</td>\n",
              "      <td>E-wallet</td>\n",
              "      <td>Android</td>\n",
              "      <td>8.0</td>\n",
              "    </tr>\n",
              "    <tr>\n",
              "      <th>860</th>\n",
              "      <td>1</td>\n",
              "      <td>0.0</td>\n",
              "      <td>3.0</td>\n",
              "      <td>UMID</td>\n",
              "      <td>28</td>\n",
              "      <td>GMAIL.COM</td>\n",
              "      <td>BPO Professionals</td>\n",
              "      <td>25000.0</td>\n",
              "      <td>Bank</td>\n",
              "      <td>Android</td>\n",
              "      <td>1.0</td>\n",
              "    </tr>\n",
              "    <tr>\n",
              "      <th>7270</th>\n",
              "      <td>1</td>\n",
              "      <td>3.0</td>\n",
              "      <td>3.0</td>\n",
              "      <td>SSS</td>\n",
              "      <td>38</td>\n",
              "      <td>GMAIL.COM</td>\n",
              "      <td>Business Owner</td>\n",
              "      <td>3000.0</td>\n",
              "      <td>E-wallet</td>\n",
              "      <td>Android</td>\n",
              "      <td>1.0</td>\n",
              "    </tr>\n",
              "  </tbody>\n",
              "</table>\n",
              "<p>10754 rows × 11 columns</p>\n",
              "</div>"
            ],
            "text/plain": [
              "       gender  device_quaility_index  ...       os email_index\n",
              "3132        0                    1.0  ...  Android         0.0\n",
              "7655        1                    2.0  ...  Android         0.0\n",
              "3520        1                    3.0  ...      iOS         8.0\n",
              "14251       1                    3.0  ...      iOS         1.0\n",
              "2588        0                    3.0  ...  Android         1.0\n",
              "...       ...                    ...  ...      ...         ...\n",
              "5191        0                    NaN  ...  Android         1.0\n",
              "13418       1                    2.0  ...    macOS         1.0\n",
              "5390        0                    3.0  ...  Android         8.0\n",
              "860         1                    0.0  ...  Android         1.0\n",
              "7270        1                    3.0  ...  Android         1.0\n",
              "\n",
              "[10754 rows x 11 columns]"
            ]
          },
          "metadata": {},
          "execution_count": 47
        }
      ]
    },
    {
      "cell_type": "code",
      "metadata": {
        "colab": {
          "base_uri": "https://localhost:8080/",
          "height": 423
        },
        "id": "f09Nt4190uf8",
        "outputId": "ca148eab-4c13-4058-95de-0c5c8fb3b4b5"
      },
      "source": [
        "y_train"
      ],
      "execution_count": null,
      "outputs": [
        {
          "output_type": "execute_result",
          "data": {
            "text/html": [
              "<div>\n",
              "<style scoped>\n",
              "    .dataframe tbody tr th:only-of-type {\n",
              "        vertical-align: middle;\n",
              "    }\n",
              "\n",
              "    .dataframe tbody tr th {\n",
              "        vertical-align: top;\n",
              "    }\n",
              "\n",
              "    .dataframe thead th {\n",
              "        text-align: right;\n",
              "    }\n",
              "</style>\n",
              "<table border=\"1\" class=\"dataframe\">\n",
              "  <thead>\n",
              "    <tr style=\"text-align: right;\">\n",
              "      <th></th>\n",
              "      <th>fpd5_flg</th>\n",
              "    </tr>\n",
              "  </thead>\n",
              "  <tbody>\n",
              "    <tr>\n",
              "      <th>3132</th>\n",
              "      <td>1</td>\n",
              "    </tr>\n",
              "    <tr>\n",
              "      <th>7655</th>\n",
              "      <td>0</td>\n",
              "    </tr>\n",
              "    <tr>\n",
              "      <th>3520</th>\n",
              "      <td>0</td>\n",
              "    </tr>\n",
              "    <tr>\n",
              "      <th>14251</th>\n",
              "      <td>0</td>\n",
              "    </tr>\n",
              "    <tr>\n",
              "      <th>2588</th>\n",
              "      <td>0</td>\n",
              "    </tr>\n",
              "    <tr>\n",
              "      <th>...</th>\n",
              "      <td>...</td>\n",
              "    </tr>\n",
              "    <tr>\n",
              "      <th>5191</th>\n",
              "      <td>0</td>\n",
              "    </tr>\n",
              "    <tr>\n",
              "      <th>13418</th>\n",
              "      <td>0</td>\n",
              "    </tr>\n",
              "    <tr>\n",
              "      <th>5390</th>\n",
              "      <td>0</td>\n",
              "    </tr>\n",
              "    <tr>\n",
              "      <th>860</th>\n",
              "      <td>0</td>\n",
              "    </tr>\n",
              "    <tr>\n",
              "      <th>7270</th>\n",
              "      <td>0</td>\n",
              "    </tr>\n",
              "  </tbody>\n",
              "</table>\n",
              "<p>10754 rows × 1 columns</p>\n",
              "</div>"
            ],
            "text/plain": [
              "       fpd5_flg\n",
              "3132          1\n",
              "7655          0\n",
              "3520          0\n",
              "14251         0\n",
              "2588          0\n",
              "...         ...\n",
              "5191          0\n",
              "13418         0\n",
              "5390          0\n",
              "860           0\n",
              "7270          0\n",
              "\n",
              "[10754 rows x 1 columns]"
            ]
          },
          "metadata": {},
          "execution_count": 48
        }
      ]
    },
    {
      "cell_type": "code",
      "metadata": {
        "id": "yHhmeV010wLo"
      },
      "source": [
        "features_num = X_train.select_dtypes(include='number').copy()"
      ],
      "execution_count": null,
      "outputs": []
    },
    {
      "cell_type": "code",
      "metadata": {
        "colab": {
          "base_uri": "https://localhost:8080/",
          "height": 548
        },
        "id": "AF6H8Uh42L2G",
        "outputId": "614892a0-c60d-4bec-f817-518e422d9cd4"
      },
      "source": [
        "X_train"
      ],
      "execution_count": null,
      "outputs": [
        {
          "output_type": "execute_result",
          "data": {
            "text/html": [
              "<div>\n",
              "<style scoped>\n",
              "    .dataframe tbody tr th:only-of-type {\n",
              "        vertical-align: middle;\n",
              "    }\n",
              "\n",
              "    .dataframe tbody tr th {\n",
              "        vertical-align: top;\n",
              "    }\n",
              "\n",
              "    .dataframe thead th {\n",
              "        text-align: right;\n",
              "    }\n",
              "</style>\n",
              "<table border=\"1\" class=\"dataframe\">\n",
              "  <thead>\n",
              "    <tr style=\"text-align: right;\">\n",
              "      <th></th>\n",
              "      <th>gender</th>\n",
              "      <th>device_quaility_index</th>\n",
              "      <th>behavioral_index</th>\n",
              "      <th>type_of_document</th>\n",
              "      <th>age</th>\n",
              "      <th>email_domain_formatted</th>\n",
              "      <th>social_status</th>\n",
              "      <th>salary</th>\n",
              "      <th>disbursment_type</th>\n",
              "      <th>os</th>\n",
              "      <th>email_index</th>\n",
              "    </tr>\n",
              "  </thead>\n",
              "  <tbody>\n",
              "    <tr>\n",
              "      <th>3132</th>\n",
              "      <td>0</td>\n",
              "      <td>1.0</td>\n",
              "      <td>5.0</td>\n",
              "      <td>UMID</td>\n",
              "      <td>24</td>\n",
              "      <td>GMAIL.COM</td>\n",
              "      <td>Other</td>\n",
              "      <td>20000.0</td>\n",
              "      <td>E-wallet</td>\n",
              "      <td>Android</td>\n",
              "      <td>0.0</td>\n",
              "    </tr>\n",
              "    <tr>\n",
              "      <th>7655</th>\n",
              "      <td>1</td>\n",
              "      <td>2.0</td>\n",
              "      <td>5.0</td>\n",
              "      <td>Passport</td>\n",
              "      <td>35</td>\n",
              "      <td>YAHOO.COM</td>\n",
              "      <td>Other</td>\n",
              "      <td>15000.0</td>\n",
              "      <td>E-wallet</td>\n",
              "      <td>Android</td>\n",
              "      <td>0.0</td>\n",
              "    </tr>\n",
              "    <tr>\n",
              "      <th>3520</th>\n",
              "      <td>1</td>\n",
              "      <td>3.0</td>\n",
              "      <td>4.0</td>\n",
              "      <td>Passport</td>\n",
              "      <td>37</td>\n",
              "      <td>ICLOUD.COM</td>\n",
              "      <td>Other</td>\n",
              "      <td>25000.0</td>\n",
              "      <td>E-wallet</td>\n",
              "      <td>iOS</td>\n",
              "      <td>8.0</td>\n",
              "    </tr>\n",
              "    <tr>\n",
              "      <th>14251</th>\n",
              "      <td>1</td>\n",
              "      <td>3.0</td>\n",
              "      <td>5.0</td>\n",
              "      <td>UMID</td>\n",
              "      <td>26</td>\n",
              "      <td>GMAIL.COM</td>\n",
              "      <td>Professional Worker (Doctors, Engineers, Accou...</td>\n",
              "      <td>16000.0</td>\n",
              "      <td>Bank</td>\n",
              "      <td>iOS</td>\n",
              "      <td>1.0</td>\n",
              "    </tr>\n",
              "    <tr>\n",
              "      <th>2588</th>\n",
              "      <td>0</td>\n",
              "      <td>3.0</td>\n",
              "      <td>6.0</td>\n",
              "      <td>Driver license ID</td>\n",
              "      <td>50</td>\n",
              "      <td>GMAIL.COM</td>\n",
              "      <td>Business Owner</td>\n",
              "      <td>40000.0</td>\n",
              "      <td>E-wallet</td>\n",
              "      <td>Android</td>\n",
              "      <td>1.0</td>\n",
              "    </tr>\n",
              "    <tr>\n",
              "      <th>...</th>\n",
              "      <td>...</td>\n",
              "      <td>...</td>\n",
              "      <td>...</td>\n",
              "      <td>...</td>\n",
              "      <td>...</td>\n",
              "      <td>...</td>\n",
              "      <td>...</td>\n",
              "      <td>...</td>\n",
              "      <td>...</td>\n",
              "      <td>...</td>\n",
              "      <td>...</td>\n",
              "    </tr>\n",
              "    <tr>\n",
              "      <th>5191</th>\n",
              "      <td>0</td>\n",
              "      <td>NaN</td>\n",
              "      <td>NaN</td>\n",
              "      <td>TIN</td>\n",
              "      <td>24</td>\n",
              "      <td>GMAIL.COM</td>\n",
              "      <td>Private Company Employee</td>\n",
              "      <td>24000.0</td>\n",
              "      <td>E-wallet</td>\n",
              "      <td>Android</td>\n",
              "      <td>1.0</td>\n",
              "    </tr>\n",
              "    <tr>\n",
              "      <th>13418</th>\n",
              "      <td>1</td>\n",
              "      <td>2.0</td>\n",
              "      <td>4.0</td>\n",
              "      <td>UMID</td>\n",
              "      <td>26</td>\n",
              "      <td>YAHOO.COM</td>\n",
              "      <td>BPO Professionals</td>\n",
              "      <td>24000.0</td>\n",
              "      <td>Bank</td>\n",
              "      <td>macOS</td>\n",
              "      <td>1.0</td>\n",
              "    </tr>\n",
              "    <tr>\n",
              "      <th>5390</th>\n",
              "      <td>0</td>\n",
              "      <td>3.0</td>\n",
              "      <td>4.0</td>\n",
              "      <td>Driver license ID</td>\n",
              "      <td>24</td>\n",
              "      <td>GMAIL.COM</td>\n",
              "      <td>Self-Employed</td>\n",
              "      <td>18000.0</td>\n",
              "      <td>E-wallet</td>\n",
              "      <td>Android</td>\n",
              "      <td>8.0</td>\n",
              "    </tr>\n",
              "    <tr>\n",
              "      <th>860</th>\n",
              "      <td>1</td>\n",
              "      <td>0.0</td>\n",
              "      <td>3.0</td>\n",
              "      <td>UMID</td>\n",
              "      <td>28</td>\n",
              "      <td>GMAIL.COM</td>\n",
              "      <td>BPO Professionals</td>\n",
              "      <td>25000.0</td>\n",
              "      <td>Bank</td>\n",
              "      <td>Android</td>\n",
              "      <td>1.0</td>\n",
              "    </tr>\n",
              "    <tr>\n",
              "      <th>7270</th>\n",
              "      <td>1</td>\n",
              "      <td>3.0</td>\n",
              "      <td>3.0</td>\n",
              "      <td>SSS</td>\n",
              "      <td>38</td>\n",
              "      <td>GMAIL.COM</td>\n",
              "      <td>Business Owner</td>\n",
              "      <td>3000.0</td>\n",
              "      <td>E-wallet</td>\n",
              "      <td>Android</td>\n",
              "      <td>1.0</td>\n",
              "    </tr>\n",
              "  </tbody>\n",
              "</table>\n",
              "<p>10754 rows × 11 columns</p>\n",
              "</div>"
            ],
            "text/plain": [
              "       gender  device_quaility_index  ...       os email_index\n",
              "3132        0                    1.0  ...  Android         0.0\n",
              "7655        1                    2.0  ...  Android         0.0\n",
              "3520        1                    3.0  ...      iOS         8.0\n",
              "14251       1                    3.0  ...      iOS         1.0\n",
              "2588        0                    3.0  ...  Android         1.0\n",
              "...       ...                    ...  ...      ...         ...\n",
              "5191        0                    NaN  ...  Android         1.0\n",
              "13418       1                    2.0  ...    macOS         1.0\n",
              "5390        0                    3.0  ...  Android         8.0\n",
              "860         1                    0.0  ...  Android         1.0\n",
              "7270        1                    3.0  ...  Android         1.0\n",
              "\n",
              "[10754 rows x 11 columns]"
            ]
          },
          "metadata": {},
          "execution_count": 50
        }
      ]
    },
    {
      "cell_type": "code",
      "metadata": {
        "colab": {
          "base_uri": "https://localhost:8080/",
          "height": 423
        },
        "id": "WyoT9ITC1oFf",
        "outputId": "6dd24395-cd6e-4d5c-c7f3-1c7be45b41c2"
      },
      "source": [
        "features_num"
      ],
      "execution_count": null,
      "outputs": [
        {
          "output_type": "execute_result",
          "data": {
            "text/html": [
              "<div>\n",
              "<style scoped>\n",
              "    .dataframe tbody tr th:only-of-type {\n",
              "        vertical-align: middle;\n",
              "    }\n",
              "\n",
              "    .dataframe tbody tr th {\n",
              "        vertical-align: top;\n",
              "    }\n",
              "\n",
              "    .dataframe thead th {\n",
              "        text-align: right;\n",
              "    }\n",
              "</style>\n",
              "<table border=\"1\" class=\"dataframe\">\n",
              "  <thead>\n",
              "    <tr style=\"text-align: right;\">\n",
              "      <th></th>\n",
              "      <th>gender</th>\n",
              "      <th>device_quaility_index</th>\n",
              "      <th>behavioral_index</th>\n",
              "      <th>age</th>\n",
              "      <th>salary</th>\n",
              "      <th>email_index</th>\n",
              "    </tr>\n",
              "  </thead>\n",
              "  <tbody>\n",
              "    <tr>\n",
              "      <th>3132</th>\n",
              "      <td>0</td>\n",
              "      <td>1.0</td>\n",
              "      <td>5.0</td>\n",
              "      <td>24</td>\n",
              "      <td>20000.0</td>\n",
              "      <td>0.0</td>\n",
              "    </tr>\n",
              "    <tr>\n",
              "      <th>7655</th>\n",
              "      <td>1</td>\n",
              "      <td>2.0</td>\n",
              "      <td>5.0</td>\n",
              "      <td>35</td>\n",
              "      <td>15000.0</td>\n",
              "      <td>0.0</td>\n",
              "    </tr>\n",
              "    <tr>\n",
              "      <th>3520</th>\n",
              "      <td>1</td>\n",
              "      <td>3.0</td>\n",
              "      <td>4.0</td>\n",
              "      <td>37</td>\n",
              "      <td>25000.0</td>\n",
              "      <td>8.0</td>\n",
              "    </tr>\n",
              "    <tr>\n",
              "      <th>14251</th>\n",
              "      <td>1</td>\n",
              "      <td>3.0</td>\n",
              "      <td>5.0</td>\n",
              "      <td>26</td>\n",
              "      <td>16000.0</td>\n",
              "      <td>1.0</td>\n",
              "    </tr>\n",
              "    <tr>\n",
              "      <th>2588</th>\n",
              "      <td>0</td>\n",
              "      <td>3.0</td>\n",
              "      <td>6.0</td>\n",
              "      <td>50</td>\n",
              "      <td>40000.0</td>\n",
              "      <td>1.0</td>\n",
              "    </tr>\n",
              "    <tr>\n",
              "      <th>...</th>\n",
              "      <td>...</td>\n",
              "      <td>...</td>\n",
              "      <td>...</td>\n",
              "      <td>...</td>\n",
              "      <td>...</td>\n",
              "      <td>...</td>\n",
              "    </tr>\n",
              "    <tr>\n",
              "      <th>5191</th>\n",
              "      <td>0</td>\n",
              "      <td>NaN</td>\n",
              "      <td>NaN</td>\n",
              "      <td>24</td>\n",
              "      <td>24000.0</td>\n",
              "      <td>1.0</td>\n",
              "    </tr>\n",
              "    <tr>\n",
              "      <th>13418</th>\n",
              "      <td>1</td>\n",
              "      <td>2.0</td>\n",
              "      <td>4.0</td>\n",
              "      <td>26</td>\n",
              "      <td>24000.0</td>\n",
              "      <td>1.0</td>\n",
              "    </tr>\n",
              "    <tr>\n",
              "      <th>5390</th>\n",
              "      <td>0</td>\n",
              "      <td>3.0</td>\n",
              "      <td>4.0</td>\n",
              "      <td>24</td>\n",
              "      <td>18000.0</td>\n",
              "      <td>8.0</td>\n",
              "    </tr>\n",
              "    <tr>\n",
              "      <th>860</th>\n",
              "      <td>1</td>\n",
              "      <td>0.0</td>\n",
              "      <td>3.0</td>\n",
              "      <td>28</td>\n",
              "      <td>25000.0</td>\n",
              "      <td>1.0</td>\n",
              "    </tr>\n",
              "    <tr>\n",
              "      <th>7270</th>\n",
              "      <td>1</td>\n",
              "      <td>3.0</td>\n",
              "      <td>3.0</td>\n",
              "      <td>38</td>\n",
              "      <td>3000.0</td>\n",
              "      <td>1.0</td>\n",
              "    </tr>\n",
              "  </tbody>\n",
              "</table>\n",
              "<p>10754 rows × 6 columns</p>\n",
              "</div>"
            ],
            "text/plain": [
              "       gender  device_quaility_index  ...   salary  email_index\n",
              "3132        0                    1.0  ...  20000.0          0.0\n",
              "7655        1                    2.0  ...  15000.0          0.0\n",
              "3520        1                    3.0  ...  25000.0          8.0\n",
              "14251       1                    3.0  ...  16000.0          1.0\n",
              "2588        0                    3.0  ...  40000.0          1.0\n",
              "...       ...                    ...  ...      ...          ...\n",
              "5191        0                    NaN  ...  24000.0          1.0\n",
              "13418       1                    2.0  ...  24000.0          1.0\n",
              "5390        0                    3.0  ...  18000.0          8.0\n",
              "860         1                    0.0  ...  25000.0          1.0\n",
              "7270        1                    3.0  ...   3000.0          1.0\n",
              "\n",
              "[10754 rows x 6 columns]"
            ]
          },
          "metadata": {},
          "execution_count": 51
        }
      ]
    },
    {
      "cell_type": "code",
      "metadata": {
        "id": "mbYYUf2K1x1A"
      },
      "source": [
        "features_cat = X_train.select_dtypes(include='object').copy()"
      ],
      "execution_count": null,
      "outputs": []
    },
    {
      "cell_type": "code",
      "metadata": {
        "colab": {
          "base_uri": "https://localhost:8080/",
          "height": 441
        },
        "id": "0z2Q8j9a2u1l",
        "outputId": "de063a6e-04a1-47e6-b180-3c18164ca0a2"
      },
      "source": [
        "features_cat"
      ],
      "execution_count": null,
      "outputs": [
        {
          "output_type": "execute_result",
          "data": {
            "text/html": [
              "<div>\n",
              "<style scoped>\n",
              "    .dataframe tbody tr th:only-of-type {\n",
              "        vertical-align: middle;\n",
              "    }\n",
              "\n",
              "    .dataframe tbody tr th {\n",
              "        vertical-align: top;\n",
              "    }\n",
              "\n",
              "    .dataframe thead th {\n",
              "        text-align: right;\n",
              "    }\n",
              "</style>\n",
              "<table border=\"1\" class=\"dataframe\">\n",
              "  <thead>\n",
              "    <tr style=\"text-align: right;\">\n",
              "      <th></th>\n",
              "      <th>type_of_document</th>\n",
              "      <th>email_domain_formatted</th>\n",
              "      <th>social_status</th>\n",
              "      <th>disbursment_type</th>\n",
              "      <th>os</th>\n",
              "    </tr>\n",
              "  </thead>\n",
              "  <tbody>\n",
              "    <tr>\n",
              "      <th>3132</th>\n",
              "      <td>UMID</td>\n",
              "      <td>GMAIL.COM</td>\n",
              "      <td>Other</td>\n",
              "      <td>E-wallet</td>\n",
              "      <td>Android</td>\n",
              "    </tr>\n",
              "    <tr>\n",
              "      <th>7655</th>\n",
              "      <td>Passport</td>\n",
              "      <td>YAHOO.COM</td>\n",
              "      <td>Other</td>\n",
              "      <td>E-wallet</td>\n",
              "      <td>Android</td>\n",
              "    </tr>\n",
              "    <tr>\n",
              "      <th>3520</th>\n",
              "      <td>Passport</td>\n",
              "      <td>ICLOUD.COM</td>\n",
              "      <td>Other</td>\n",
              "      <td>E-wallet</td>\n",
              "      <td>iOS</td>\n",
              "    </tr>\n",
              "    <tr>\n",
              "      <th>14251</th>\n",
              "      <td>UMID</td>\n",
              "      <td>GMAIL.COM</td>\n",
              "      <td>Professional Worker (Doctors, Engineers, Accou...</td>\n",
              "      <td>Bank</td>\n",
              "      <td>iOS</td>\n",
              "    </tr>\n",
              "    <tr>\n",
              "      <th>2588</th>\n",
              "      <td>Driver license ID</td>\n",
              "      <td>GMAIL.COM</td>\n",
              "      <td>Business Owner</td>\n",
              "      <td>E-wallet</td>\n",
              "      <td>Android</td>\n",
              "    </tr>\n",
              "    <tr>\n",
              "      <th>...</th>\n",
              "      <td>...</td>\n",
              "      <td>...</td>\n",
              "      <td>...</td>\n",
              "      <td>...</td>\n",
              "      <td>...</td>\n",
              "    </tr>\n",
              "    <tr>\n",
              "      <th>5191</th>\n",
              "      <td>TIN</td>\n",
              "      <td>GMAIL.COM</td>\n",
              "      <td>Private Company Employee</td>\n",
              "      <td>E-wallet</td>\n",
              "      <td>Android</td>\n",
              "    </tr>\n",
              "    <tr>\n",
              "      <th>13418</th>\n",
              "      <td>UMID</td>\n",
              "      <td>YAHOO.COM</td>\n",
              "      <td>BPO Professionals</td>\n",
              "      <td>Bank</td>\n",
              "      <td>macOS</td>\n",
              "    </tr>\n",
              "    <tr>\n",
              "      <th>5390</th>\n",
              "      <td>Driver license ID</td>\n",
              "      <td>GMAIL.COM</td>\n",
              "      <td>Self-Employed</td>\n",
              "      <td>E-wallet</td>\n",
              "      <td>Android</td>\n",
              "    </tr>\n",
              "    <tr>\n",
              "      <th>860</th>\n",
              "      <td>UMID</td>\n",
              "      <td>GMAIL.COM</td>\n",
              "      <td>BPO Professionals</td>\n",
              "      <td>Bank</td>\n",
              "      <td>Android</td>\n",
              "    </tr>\n",
              "    <tr>\n",
              "      <th>7270</th>\n",
              "      <td>SSS</td>\n",
              "      <td>GMAIL.COM</td>\n",
              "      <td>Business Owner</td>\n",
              "      <td>E-wallet</td>\n",
              "      <td>Android</td>\n",
              "    </tr>\n",
              "  </tbody>\n",
              "</table>\n",
              "<p>10754 rows × 5 columns</p>\n",
              "</div>"
            ],
            "text/plain": [
              "        type_of_document email_domain_formatted  ... disbursment_type       os\n",
              "3132                UMID              GMAIL.COM  ...         E-wallet  Android\n",
              "7655            Passport              YAHOO.COM  ...         E-wallet  Android\n",
              "3520            Passport             ICLOUD.COM  ...         E-wallet      iOS\n",
              "14251               UMID              GMAIL.COM  ...             Bank      iOS\n",
              "2588   Driver license ID              GMAIL.COM  ...         E-wallet  Android\n",
              "...                  ...                    ...  ...              ...      ...\n",
              "5191                 TIN              GMAIL.COM  ...         E-wallet  Android\n",
              "13418               UMID              YAHOO.COM  ...             Bank    macOS\n",
              "5390   Driver license ID              GMAIL.COM  ...         E-wallet  Android\n",
              "860                 UMID              GMAIL.COM  ...             Bank  Android\n",
              "7270                 SSS              GMAIL.COM  ...         E-wallet  Android\n",
              "\n",
              "[10754 rows x 5 columns]"
            ]
          },
          "metadata": {},
          "execution_count": 53
        }
      ]
    },
    {
      "cell_type": "code",
      "metadata": {
        "colab": {
          "base_uri": "https://localhost:8080/"
        },
        "id": "Pfpn86wo2wRN",
        "outputId": "d85be784-b423-4b2c-e09a-e425aca3ab98"
      },
      "source": [
        "features_num.isna().mean()"
      ],
      "execution_count": null,
      "outputs": [
        {
          "output_type": "execute_result",
          "data": {
            "text/plain": [
              "gender                   0.000000\n",
              "device_quaility_index    0.036545\n",
              "behavioral_index         0.036545\n",
              "age                      0.000000\n",
              "salary                   0.045285\n",
              "email_index              0.002232\n",
              "dtype: float64"
            ]
          },
          "metadata": {},
          "execution_count": 54
        }
      ]
    },
    {
      "cell_type": "code",
      "metadata": {
        "colab": {
          "base_uri": "https://localhost:8080/"
        },
        "id": "K_Gf3O1v5Pdd",
        "outputId": "34c97cb4-28da-45db-e9b5-cdec23b392ce"
      },
      "source": [
        "features_num.columns"
      ],
      "execution_count": null,
      "outputs": [
        {
          "output_type": "execute_result",
          "data": {
            "text/plain": [
              "Index(['gender', 'device_quaility_index', 'behavioral_index', 'age', 'salary',\n",
              "       'email_index'],\n",
              "      dtype='object')"
            ]
          },
          "metadata": {},
          "execution_count": 55
        }
      ]
    },
    {
      "cell_type": "markdown",
      "metadata": {
        "id": "-SRMEQXBAH-B"
      },
      "source": [
        "## Imputer"
      ]
    },
    {
      "cell_type": "code",
      "metadata": {
        "id": "NX2L0q925N92"
      },
      "source": [
        "most_freq_num_features = ['gender', 'device_quaility_index', \n",
        "                  'behavioral_index', 'email_index']"
      ],
      "execution_count": null,
      "outputs": []
    },
    {
      "cell_type": "code",
      "metadata": {
        "id": "S2F3Ti7J66dd"
      },
      "source": [
        "median_num_features = ['age', 'salary']"
      ],
      "execution_count": null,
      "outputs": []
    },
    {
      "cell_type": "code",
      "metadata": {
        "id": "Ia9LjmI_7CqM"
      },
      "source": [
        "from sklearn.impute import SimpleImputer\n",
        "from sklearn.pipeline import Pipeline\n",
        "from sklearn.compose import ColumnTransformer"
      ],
      "execution_count": null,
      "outputs": []
    },
    {
      "cell_type": "code",
      "metadata": {
        "id": "RwfzVsuH7N3D"
      },
      "source": [
        "median_num_pipe = Pipeline([\n",
        "          ('imputer', SimpleImputer(strategy=\"median\"))])"
      ],
      "execution_count": null,
      "outputs": []
    },
    {
      "cell_type": "code",
      "metadata": {
        "id": "Akn01Sun8RHu"
      },
      "source": [
        "most_freq_pipe = Pipeline([\n",
        "          ('imputer', SimpleImputer(strategy=\"most_frequent\"))])"
      ],
      "execution_count": null,
      "outputs": []
    },
    {
      "cell_type": "code",
      "metadata": {
        "id": "2fdb9xw_8gqy"
      },
      "source": [
        "fillna_pipe = ColumnTransformer([\n",
        "        (\"most_freq\", most_freq_pipe, most_freq_num_features),\n",
        "        (\"median\", median_num_pipe, median_num_features),\n",
        "    ])"
      ],
      "execution_count": null,
      "outputs": []
    },
    {
      "cell_type": "code",
      "metadata": {
        "colab": {
          "base_uri": "https://localhost:8080/"
        },
        "id": "75zSL3Kw_RDi",
        "outputId": "bc37f546-978a-4234-c11d-13b9db19306f"
      },
      "source": [
        "fillna_pipe.fit_transform(X_train)"
      ],
      "execution_count": null,
      "outputs": [
        {
          "output_type": "execute_result",
          "data": {
            "text/plain": [
              "array([[0.0e+00, 1.0e+00, 5.0e+00, 0.0e+00, 2.4e+01, 2.0e+04],\n",
              "       [1.0e+00, 2.0e+00, 5.0e+00, 0.0e+00, 3.5e+01, 1.5e+04],\n",
              "       [1.0e+00, 3.0e+00, 4.0e+00, 8.0e+00, 3.7e+01, 2.5e+04],\n",
              "       ...,\n",
              "       [0.0e+00, 3.0e+00, 4.0e+00, 8.0e+00, 2.4e+01, 1.8e+04],\n",
              "       [1.0e+00, 0.0e+00, 3.0e+00, 1.0e+00, 2.8e+01, 2.5e+04],\n",
              "       [1.0e+00, 3.0e+00, 3.0e+00, 1.0e+00, 3.8e+01, 3.0e+03]])"
            ]
          },
          "metadata": {},
          "execution_count": 62
        }
      ]
    },
    {
      "cell_type": "code",
      "metadata": {
        "id": "pOvtDo2A843E"
      },
      "source": [
        "t = pd.DataFrame(fillna_pipe.fit_transform(X_train),columns=most_freq_num_features+median_num_features)"
      ],
      "execution_count": null,
      "outputs": []
    },
    {
      "cell_type": "code",
      "metadata": {
        "id": "BVkSvgf--IK_"
      },
      "source": [
        "t = t.set_index(X_train.index)"
      ],
      "execution_count": null,
      "outputs": []
    },
    {
      "cell_type": "code",
      "metadata": {
        "colab": {
          "base_uri": "https://localhost:8080/"
        },
        "id": "aDQumLaA877z",
        "outputId": "15506c60-e709-438e-f875-756324bec615"
      },
      "source": [
        "t.isna().mean()"
      ],
      "execution_count": null,
      "outputs": [
        {
          "output_type": "execute_result",
          "data": {
            "text/plain": [
              "gender                   0.0\n",
              "device_quaility_index    0.0\n",
              "behavioral_index         0.0\n",
              "email_index              0.0\n",
              "age                      0.0\n",
              "salary                   0.0\n",
              "dtype: float64"
            ]
          },
          "metadata": {},
          "execution_count": 65
        }
      ]
    },
    {
      "cell_type": "code",
      "metadata": {
        "colab": {
          "base_uri": "https://localhost:8080/",
          "height": 423
        },
        "id": "WoWumeml9V3N",
        "outputId": "b0fb2490-eb8a-44cb-9c85-70b6c7019cd5"
      },
      "source": [
        "t"
      ],
      "execution_count": null,
      "outputs": [
        {
          "output_type": "execute_result",
          "data": {
            "text/html": [
              "<div>\n",
              "<style scoped>\n",
              "    .dataframe tbody tr th:only-of-type {\n",
              "        vertical-align: middle;\n",
              "    }\n",
              "\n",
              "    .dataframe tbody tr th {\n",
              "        vertical-align: top;\n",
              "    }\n",
              "\n",
              "    .dataframe thead th {\n",
              "        text-align: right;\n",
              "    }\n",
              "</style>\n",
              "<table border=\"1\" class=\"dataframe\">\n",
              "  <thead>\n",
              "    <tr style=\"text-align: right;\">\n",
              "      <th></th>\n",
              "      <th>gender</th>\n",
              "      <th>device_quaility_index</th>\n",
              "      <th>behavioral_index</th>\n",
              "      <th>email_index</th>\n",
              "      <th>age</th>\n",
              "      <th>salary</th>\n",
              "    </tr>\n",
              "  </thead>\n",
              "  <tbody>\n",
              "    <tr>\n",
              "      <th>3132</th>\n",
              "      <td>0.0</td>\n",
              "      <td>1.0</td>\n",
              "      <td>5.0</td>\n",
              "      <td>0.0</td>\n",
              "      <td>24.0</td>\n",
              "      <td>20000.0</td>\n",
              "    </tr>\n",
              "    <tr>\n",
              "      <th>7655</th>\n",
              "      <td>1.0</td>\n",
              "      <td>2.0</td>\n",
              "      <td>5.0</td>\n",
              "      <td>0.0</td>\n",
              "      <td>35.0</td>\n",
              "      <td>15000.0</td>\n",
              "    </tr>\n",
              "    <tr>\n",
              "      <th>3520</th>\n",
              "      <td>1.0</td>\n",
              "      <td>3.0</td>\n",
              "      <td>4.0</td>\n",
              "      <td>8.0</td>\n",
              "      <td>37.0</td>\n",
              "      <td>25000.0</td>\n",
              "    </tr>\n",
              "    <tr>\n",
              "      <th>14251</th>\n",
              "      <td>1.0</td>\n",
              "      <td>3.0</td>\n",
              "      <td>5.0</td>\n",
              "      <td>1.0</td>\n",
              "      <td>26.0</td>\n",
              "      <td>16000.0</td>\n",
              "    </tr>\n",
              "    <tr>\n",
              "      <th>2588</th>\n",
              "      <td>0.0</td>\n",
              "      <td>3.0</td>\n",
              "      <td>6.0</td>\n",
              "      <td>1.0</td>\n",
              "      <td>50.0</td>\n",
              "      <td>40000.0</td>\n",
              "    </tr>\n",
              "    <tr>\n",
              "      <th>...</th>\n",
              "      <td>...</td>\n",
              "      <td>...</td>\n",
              "      <td>...</td>\n",
              "      <td>...</td>\n",
              "      <td>...</td>\n",
              "      <td>...</td>\n",
              "    </tr>\n",
              "    <tr>\n",
              "      <th>5191</th>\n",
              "      <td>0.0</td>\n",
              "      <td>3.0</td>\n",
              "      <td>3.0</td>\n",
              "      <td>1.0</td>\n",
              "      <td>24.0</td>\n",
              "      <td>24000.0</td>\n",
              "    </tr>\n",
              "    <tr>\n",
              "      <th>13418</th>\n",
              "      <td>1.0</td>\n",
              "      <td>2.0</td>\n",
              "      <td>4.0</td>\n",
              "      <td>1.0</td>\n",
              "      <td>26.0</td>\n",
              "      <td>24000.0</td>\n",
              "    </tr>\n",
              "    <tr>\n",
              "      <th>5390</th>\n",
              "      <td>0.0</td>\n",
              "      <td>3.0</td>\n",
              "      <td>4.0</td>\n",
              "      <td>8.0</td>\n",
              "      <td>24.0</td>\n",
              "      <td>18000.0</td>\n",
              "    </tr>\n",
              "    <tr>\n",
              "      <th>860</th>\n",
              "      <td>1.0</td>\n",
              "      <td>0.0</td>\n",
              "      <td>3.0</td>\n",
              "      <td>1.0</td>\n",
              "      <td>28.0</td>\n",
              "      <td>25000.0</td>\n",
              "    </tr>\n",
              "    <tr>\n",
              "      <th>7270</th>\n",
              "      <td>1.0</td>\n",
              "      <td>3.0</td>\n",
              "      <td>3.0</td>\n",
              "      <td>1.0</td>\n",
              "      <td>38.0</td>\n",
              "      <td>3000.0</td>\n",
              "    </tr>\n",
              "  </tbody>\n",
              "</table>\n",
              "<p>10754 rows × 6 columns</p>\n",
              "</div>"
            ],
            "text/plain": [
              "       gender  device_quaility_index  ...   age   salary\n",
              "3132      0.0                    1.0  ...  24.0  20000.0\n",
              "7655      1.0                    2.0  ...  35.0  15000.0\n",
              "3520      1.0                    3.0  ...  37.0  25000.0\n",
              "14251     1.0                    3.0  ...  26.0  16000.0\n",
              "2588      0.0                    3.0  ...  50.0  40000.0\n",
              "...       ...                    ...  ...   ...      ...\n",
              "5191      0.0                    3.0  ...  24.0  24000.0\n",
              "13418     1.0                    2.0  ...  26.0  24000.0\n",
              "5390      0.0                    3.0  ...  24.0  18000.0\n",
              "860       1.0                    0.0  ...  28.0  25000.0\n",
              "7270      1.0                    3.0  ...  38.0   3000.0\n",
              "\n",
              "[10754 rows x 6 columns]"
            ]
          },
          "metadata": {},
          "execution_count": 66
        }
      ]
    },
    {
      "cell_type": "code",
      "metadata": {
        "colab": {
          "base_uri": "https://localhost:8080/"
        },
        "id": "eKmZTx3o9q3q",
        "outputId": "df33faed-cc20-419b-ea38-f8abd98eb875"
      },
      "source": [
        "X_train['salary'].median()"
      ],
      "execution_count": null,
      "outputs": [
        {
          "output_type": "execute_result",
          "data": {
            "text/plain": [
              "20000.0"
            ]
          },
          "metadata": {},
          "execution_count": 67
        }
      ]
    },
    {
      "cell_type": "code",
      "metadata": {
        "colab": {
          "base_uri": "https://localhost:8080/",
          "height": 423
        },
        "id": "B0BXCBae9Xdf",
        "outputId": "6f2e2004-c5b9-4a35-9a7b-5db3319c20c6"
      },
      "source": [
        "t[t.index.isin(X_train[X_train['salary'].isna()].index)]"
      ],
      "execution_count": null,
      "outputs": [
        {
          "output_type": "execute_result",
          "data": {
            "text/html": [
              "<div>\n",
              "<style scoped>\n",
              "    .dataframe tbody tr th:only-of-type {\n",
              "        vertical-align: middle;\n",
              "    }\n",
              "\n",
              "    .dataframe tbody tr th {\n",
              "        vertical-align: top;\n",
              "    }\n",
              "\n",
              "    .dataframe thead th {\n",
              "        text-align: right;\n",
              "    }\n",
              "</style>\n",
              "<table border=\"1\" class=\"dataframe\">\n",
              "  <thead>\n",
              "    <tr style=\"text-align: right;\">\n",
              "      <th></th>\n",
              "      <th>gender</th>\n",
              "      <th>device_quaility_index</th>\n",
              "      <th>behavioral_index</th>\n",
              "      <th>email_index</th>\n",
              "      <th>age</th>\n",
              "      <th>salary</th>\n",
              "    </tr>\n",
              "  </thead>\n",
              "  <tbody>\n",
              "    <tr>\n",
              "      <th>7412</th>\n",
              "      <td>0.0</td>\n",
              "      <td>3.0</td>\n",
              "      <td>3.0</td>\n",
              "      <td>1.0</td>\n",
              "      <td>31.0</td>\n",
              "      <td>20000.0</td>\n",
              "    </tr>\n",
              "    <tr>\n",
              "      <th>8816</th>\n",
              "      <td>1.0</td>\n",
              "      <td>2.0</td>\n",
              "      <td>3.0</td>\n",
              "      <td>0.0</td>\n",
              "      <td>46.0</td>\n",
              "      <td>20000.0</td>\n",
              "    </tr>\n",
              "    <tr>\n",
              "      <th>5152</th>\n",
              "      <td>1.0</td>\n",
              "      <td>3.0</td>\n",
              "      <td>4.0</td>\n",
              "      <td>0.0</td>\n",
              "      <td>23.0</td>\n",
              "      <td>20000.0</td>\n",
              "    </tr>\n",
              "    <tr>\n",
              "      <th>14282</th>\n",
              "      <td>1.0</td>\n",
              "      <td>3.0</td>\n",
              "      <td>4.0</td>\n",
              "      <td>1.0</td>\n",
              "      <td>28.0</td>\n",
              "      <td>20000.0</td>\n",
              "    </tr>\n",
              "    <tr>\n",
              "      <th>11357</th>\n",
              "      <td>1.0</td>\n",
              "      <td>3.0</td>\n",
              "      <td>3.0</td>\n",
              "      <td>6.0</td>\n",
              "      <td>25.0</td>\n",
              "      <td>20000.0</td>\n",
              "    </tr>\n",
              "    <tr>\n",
              "      <th>...</th>\n",
              "      <td>...</td>\n",
              "      <td>...</td>\n",
              "      <td>...</td>\n",
              "      <td>...</td>\n",
              "      <td>...</td>\n",
              "      <td>...</td>\n",
              "    </tr>\n",
              "    <tr>\n",
              "      <th>2693</th>\n",
              "      <td>0.0</td>\n",
              "      <td>3.0</td>\n",
              "      <td>3.0</td>\n",
              "      <td>1.0</td>\n",
              "      <td>33.0</td>\n",
              "      <td>20000.0</td>\n",
              "    </tr>\n",
              "    <tr>\n",
              "      <th>13471</th>\n",
              "      <td>1.0</td>\n",
              "      <td>4.0</td>\n",
              "      <td>3.0</td>\n",
              "      <td>0.0</td>\n",
              "      <td>22.0</td>\n",
              "      <td>20000.0</td>\n",
              "    </tr>\n",
              "    <tr>\n",
              "      <th>8529</th>\n",
              "      <td>1.0</td>\n",
              "      <td>2.0</td>\n",
              "      <td>6.0</td>\n",
              "      <td>1.0</td>\n",
              "      <td>29.0</td>\n",
              "      <td>20000.0</td>\n",
              "    </tr>\n",
              "    <tr>\n",
              "      <th>8226</th>\n",
              "      <td>1.0</td>\n",
              "      <td>3.0</td>\n",
              "      <td>6.0</td>\n",
              "      <td>1.0</td>\n",
              "      <td>35.0</td>\n",
              "      <td>20000.0</td>\n",
              "    </tr>\n",
              "    <tr>\n",
              "      <th>2734</th>\n",
              "      <td>1.0</td>\n",
              "      <td>2.0</td>\n",
              "      <td>5.0</td>\n",
              "      <td>8.0</td>\n",
              "      <td>30.0</td>\n",
              "      <td>20000.0</td>\n",
              "    </tr>\n",
              "  </tbody>\n",
              "</table>\n",
              "<p>487 rows × 6 columns</p>\n",
              "</div>"
            ],
            "text/plain": [
              "       gender  device_quaility_index  ...   age   salary\n",
              "7412      0.0                    3.0  ...  31.0  20000.0\n",
              "8816      1.0                    2.0  ...  46.0  20000.0\n",
              "5152      1.0                    3.0  ...  23.0  20000.0\n",
              "14282     1.0                    3.0  ...  28.0  20000.0\n",
              "11357     1.0                    3.0  ...  25.0  20000.0\n",
              "...       ...                    ...  ...   ...      ...\n",
              "2693      0.0                    3.0  ...  33.0  20000.0\n",
              "13471     1.0                    4.0  ...  22.0  20000.0\n",
              "8529      1.0                    2.0  ...  29.0  20000.0\n",
              "8226      1.0                    3.0  ...  35.0  20000.0\n",
              "2734      1.0                    2.0  ...  30.0  20000.0\n",
              "\n",
              "[487 rows x 6 columns]"
            ]
          },
          "metadata": {},
          "execution_count": 68
        }
      ]
    },
    {
      "cell_type": "code",
      "metadata": {
        "colab": {
          "base_uri": "https://localhost:8080/"
        },
        "id": "F3DSw9Dr-bnM",
        "outputId": "1db39282-d41a-4bfb-d9b2-113a189918e8"
      },
      "source": [
        "X_train.isna().mean()"
      ],
      "execution_count": null,
      "outputs": [
        {
          "output_type": "execute_result",
          "data": {
            "text/plain": [
              "gender                    0.000000\n",
              "device_quaility_index     0.036545\n",
              "behavioral_index          0.036545\n",
              "type_of_document          0.000000\n",
              "age                       0.000000\n",
              "email_domain_formatted    0.000000\n",
              "social_status             0.000000\n",
              "salary                    0.045285\n",
              "disbursment_type          0.000000\n",
              "os                        0.001116\n",
              "email_index               0.002232\n",
              "dtype: float64"
            ]
          },
          "metadata": {},
          "execution_count": 69
        }
      ]
    },
    {
      "cell_type": "code",
      "metadata": {
        "colab": {
          "base_uri": "https://localhost:8080/"
        },
        "id": "KFiyrpyb-d3O",
        "outputId": "2e8bfa18-7bf2-44ce-ad17-c8f306457eba"
      },
      "source": [
        "X_train['device_quaility_index'].median()"
      ],
      "execution_count": null,
      "outputs": [
        {
          "output_type": "execute_result",
          "data": {
            "text/plain": [
              "3.0"
            ]
          },
          "metadata": {},
          "execution_count": 70
        }
      ]
    },
    {
      "cell_type": "code",
      "metadata": {
        "colab": {
          "base_uri": "https://localhost:8080/",
          "height": 423
        },
        "id": "MyqZlara9oPg",
        "outputId": "6bae5b1f-877b-490b-d04b-48cb9be6501e"
      },
      "source": [
        "t[t.index.isin(X_train[X_train['device_quaility_index'].isna()].index)]"
      ],
      "execution_count": null,
      "outputs": [
        {
          "output_type": "execute_result",
          "data": {
            "text/html": [
              "<div>\n",
              "<style scoped>\n",
              "    .dataframe tbody tr th:only-of-type {\n",
              "        vertical-align: middle;\n",
              "    }\n",
              "\n",
              "    .dataframe tbody tr th {\n",
              "        vertical-align: top;\n",
              "    }\n",
              "\n",
              "    .dataframe thead th {\n",
              "        text-align: right;\n",
              "    }\n",
              "</style>\n",
              "<table border=\"1\" class=\"dataframe\">\n",
              "  <thead>\n",
              "    <tr style=\"text-align: right;\">\n",
              "      <th></th>\n",
              "      <th>gender</th>\n",
              "      <th>device_quaility_index</th>\n",
              "      <th>behavioral_index</th>\n",
              "      <th>email_index</th>\n",
              "      <th>age</th>\n",
              "      <th>salary</th>\n",
              "    </tr>\n",
              "  </thead>\n",
              "  <tbody>\n",
              "    <tr>\n",
              "      <th>8885</th>\n",
              "      <td>1.0</td>\n",
              "      <td>3.0</td>\n",
              "      <td>3.0</td>\n",
              "      <td>10.0</td>\n",
              "      <td>31.0</td>\n",
              "      <td>7000.0</td>\n",
              "    </tr>\n",
              "    <tr>\n",
              "      <th>2666</th>\n",
              "      <td>1.0</td>\n",
              "      <td>3.0</td>\n",
              "      <td>3.0</td>\n",
              "      <td>0.0</td>\n",
              "      <td>33.0</td>\n",
              "      <td>15000.0</td>\n",
              "    </tr>\n",
              "    <tr>\n",
              "      <th>12092</th>\n",
              "      <td>0.0</td>\n",
              "      <td>3.0</td>\n",
              "      <td>3.0</td>\n",
              "      <td>1.0</td>\n",
              "      <td>34.0</td>\n",
              "      <td>21000.0</td>\n",
              "    </tr>\n",
              "    <tr>\n",
              "      <th>1896</th>\n",
              "      <td>0.0</td>\n",
              "      <td>3.0</td>\n",
              "      <td>3.0</td>\n",
              "      <td>1.0</td>\n",
              "      <td>24.0</td>\n",
              "      <td>20000.0</td>\n",
              "    </tr>\n",
              "    <tr>\n",
              "      <th>9002</th>\n",
              "      <td>1.0</td>\n",
              "      <td>3.0</td>\n",
              "      <td>3.0</td>\n",
              "      <td>1.0</td>\n",
              "      <td>36.0</td>\n",
              "      <td>15500.0</td>\n",
              "    </tr>\n",
              "    <tr>\n",
              "      <th>...</th>\n",
              "      <td>...</td>\n",
              "      <td>...</td>\n",
              "      <td>...</td>\n",
              "      <td>...</td>\n",
              "      <td>...</td>\n",
              "      <td>...</td>\n",
              "    </tr>\n",
              "    <tr>\n",
              "      <th>7916</th>\n",
              "      <td>1.0</td>\n",
              "      <td>3.0</td>\n",
              "      <td>3.0</td>\n",
              "      <td>1.0</td>\n",
              "      <td>24.0</td>\n",
              "      <td>9000.0</td>\n",
              "    </tr>\n",
              "    <tr>\n",
              "      <th>6863</th>\n",
              "      <td>0.0</td>\n",
              "      <td>3.0</td>\n",
              "      <td>3.0</td>\n",
              "      <td>1.0</td>\n",
              "      <td>37.0</td>\n",
              "      <td>15100.0</td>\n",
              "    </tr>\n",
              "    <tr>\n",
              "      <th>10233</th>\n",
              "      <td>1.0</td>\n",
              "      <td>3.0</td>\n",
              "      <td>3.0</td>\n",
              "      <td>1.0</td>\n",
              "      <td>28.0</td>\n",
              "      <td>1000.0</td>\n",
              "    </tr>\n",
              "    <tr>\n",
              "      <th>3005</th>\n",
              "      <td>1.0</td>\n",
              "      <td>3.0</td>\n",
              "      <td>3.0</td>\n",
              "      <td>1.0</td>\n",
              "      <td>48.0</td>\n",
              "      <td>20000.0</td>\n",
              "    </tr>\n",
              "    <tr>\n",
              "      <th>5191</th>\n",
              "      <td>0.0</td>\n",
              "      <td>3.0</td>\n",
              "      <td>3.0</td>\n",
              "      <td>1.0</td>\n",
              "      <td>24.0</td>\n",
              "      <td>24000.0</td>\n",
              "    </tr>\n",
              "  </tbody>\n",
              "</table>\n",
              "<p>393 rows × 6 columns</p>\n",
              "</div>"
            ],
            "text/plain": [
              "       gender  device_quaility_index  ...   age   salary\n",
              "8885      1.0                    3.0  ...  31.0   7000.0\n",
              "2666      1.0                    3.0  ...  33.0  15000.0\n",
              "12092     0.0                    3.0  ...  34.0  21000.0\n",
              "1896      0.0                    3.0  ...  24.0  20000.0\n",
              "9002      1.0                    3.0  ...  36.0  15500.0\n",
              "...       ...                    ...  ...   ...      ...\n",
              "7916      1.0                    3.0  ...  24.0   9000.0\n",
              "6863      0.0                    3.0  ...  37.0  15100.0\n",
              "10233     1.0                    3.0  ...  28.0   1000.0\n",
              "3005      1.0                    3.0  ...  48.0  20000.0\n",
              "5191      0.0                    3.0  ...  24.0  24000.0\n",
              "\n",
              "[393 rows x 6 columns]"
            ]
          },
          "metadata": {},
          "execution_count": 71
        }
      ]
    },
    {
      "cell_type": "markdown",
      "metadata": {
        "id": "OQxuQhbO-hPa"
      },
      "source": [
        "## Feature adder"
      ]
    },
    {
      "cell_type": "code",
      "metadata": {
        "id": "ghI4YslFAtFW"
      },
      "source": [
        "df['salary_over_age'] = df['salary'] / df['age']"
      ],
      "execution_count": null,
      "outputs": []
    },
    {
      "cell_type": "code",
      "metadata": {
        "id": "xfnx9iEXA3pm"
      },
      "source": [
        "df['salary_over_age_bins'] = pd.qcut(df['salary_over_age'],5)"
      ],
      "execution_count": null,
      "outputs": []
    },
    {
      "cell_type": "code",
      "metadata": {
        "colab": {
          "base_uri": "https://localhost:8080/",
          "height": 237
        },
        "id": "nkCrtPSvA4Eq",
        "outputId": "ec4d0f26-9112-46b6-bacd-16267a294f7b"
      },
      "source": [
        "df.groupby('salary_over_age_bins')['fpd5_flg'].agg(['count','mean'])"
      ],
      "execution_count": null,
      "outputs": [
        {
          "output_type": "execute_result",
          "data": {
            "text/html": [
              "<div>\n",
              "<style scoped>\n",
              "    .dataframe tbody tr th:only-of-type {\n",
              "        vertical-align: middle;\n",
              "    }\n",
              "\n",
              "    .dataframe tbody tr th {\n",
              "        vertical-align: top;\n",
              "    }\n",
              "\n",
              "    .dataframe thead th {\n",
              "        text-align: right;\n",
              "    }\n",
              "</style>\n",
              "<table border=\"1\" class=\"dataframe\">\n",
              "  <thead>\n",
              "    <tr style=\"text-align: right;\">\n",
              "      <th></th>\n",
              "      <th>count</th>\n",
              "      <th>mean</th>\n",
              "    </tr>\n",
              "    <tr>\n",
              "      <th>salary_over_age_bins</th>\n",
              "      <th></th>\n",
              "      <th></th>\n",
              "    </tr>\n",
              "  </thead>\n",
              "  <tbody>\n",
              "    <tr>\n",
              "      <th>(-0.001, 370.37]</th>\n",
              "      <td>2974</td>\n",
              "      <td>0.296234</td>\n",
              "    </tr>\n",
              "    <tr>\n",
              "      <th>(370.37, 526.316]</th>\n",
              "      <td>2889</td>\n",
              "      <td>0.269297</td>\n",
              "    </tr>\n",
              "    <tr>\n",
              "      <th>(526.316, 681.818]</th>\n",
              "      <td>2990</td>\n",
              "      <td>0.276923</td>\n",
              "    </tr>\n",
              "    <tr>\n",
              "      <th>(681.818, 909.091]</th>\n",
              "      <td>2981</td>\n",
              "      <td>0.270044</td>\n",
              "    </tr>\n",
              "    <tr>\n",
              "      <th>(909.091, 36585853.659]</th>\n",
              "      <td>2815</td>\n",
              "      <td>0.249023</td>\n",
              "    </tr>\n",
              "  </tbody>\n",
              "</table>\n",
              "</div>"
            ],
            "text/plain": [
              "                         count      mean\n",
              "salary_over_age_bins                    \n",
              "(-0.001, 370.37]          2974  0.296234\n",
              "(370.37, 526.316]         2889  0.269297\n",
              "(526.316, 681.818]        2990  0.276923\n",
              "(681.818, 909.091]        2981  0.270044\n",
              "(909.091, 36585853.659]   2815  0.249023"
            ]
          },
          "metadata": {},
          "execution_count": 74
        }
      ]
    },
    {
      "cell_type": "code",
      "metadata": {
        "colab": {
          "base_uri": "https://localhost:8080/",
          "height": 386
        },
        "id": "5M6vkOQoBEVx",
        "outputId": "abefe949-f9d9-438a-bc02-0e7a284f99bc"
      },
      "source": [
        "df.groupby('salary_over_age_bins')['fpd5_flg'].mean().plot(rot=45)"
      ],
      "execution_count": null,
      "outputs": [
        {
          "output_type": "execute_result",
          "data": {
            "text/plain": [
              "<matplotlib.axes._subplots.AxesSubplot at 0x7f4adf3052d0>"
            ]
          },
          "metadata": {},
          "execution_count": 75
        },
        {
          "output_type": "display_data",
          "data": {
            "image/png": "[encoded data removed]",
            "text/plain": [
              "<Figure size 432x288 with 1 Axes>"
            ]
          },
          "metadata": {}
        }
      ]
    },
    {
      "cell_type": "code",
      "metadata": {
        "id": "tN6R5YtLBIPE"
      },
      "source": [
        "from sklearn.base import BaseEstimator, TransformerMixin\n",
        "\n",
        "# column index\n",
        "age_ix, salary_ix = 4, 5\n",
        "\n",
        "class CombinedAttributesAdder(BaseEstimator, TransformerMixin):\n",
        "    def __init__(self): # no *args or **kargs\n",
        "        pass\n",
        "    def fit(self, X, y=None):\n",
        "        return self  # nothing else to do\n",
        "\n",
        "    def transform(self, X):\n",
        "        salary_over_age = X[:, 5] / X[:, 4]\n",
        "\n",
        "\n",
        "        return np.c_[X, salary_over_age]\n",
        "\n",
        "## todo atribute adder with target encoding"
      ],
      "execution_count": null,
      "outputs": []
    },
    {
      "cell_type": "code",
      "metadata": {
        "id": "mX9VGh3uCihP"
      },
      "source": [
        "attr_adder = CombinedAttributesAdder()"
      ],
      "execution_count": null,
      "outputs": []
    },
    {
      "cell_type": "code",
      "metadata": {
        "id": "dyAaFmNYCkzU"
      },
      "source": [
        "from sklearn.preprocessing import StandardScaler"
      ],
      "execution_count": null,
      "outputs": []
    },
    {
      "cell_type": "code",
      "metadata": {
        "id": "2JbA4akzCs6q"
      },
      "source": [
        "num_pipeline = Pipeline([\n",
        "        ('imputer', fillna_pipe),\n",
        "        ('attribs_adder', CombinedAttributesAdder()),\n",
        "        ('std_scaler', StandardScaler()),\n",
        "    ])"
      ],
      "execution_count": null,
      "outputs": []
    },
    {
      "cell_type": "code",
      "metadata": {
        "colab": {
          "base_uri": "https://localhost:8080/"
        },
        "id": "zWUdpp76C20V",
        "outputId": "5bae08f4-7020-4f4b-d744-6729b00c0a16"
      },
      "source": [
        "num_pipeline.fit_transform(X_train)"
      ],
      "execution_count": null,
      "outputs": [
        {
          "output_type": "execute_result",
          "data": {
            "text/plain": [
              "array([[-1.29632505, -1.30853215,  1.04638693, ..., -1.22414823,\n",
              "        -0.00990637, -0.00928491],\n",
              "       [ 0.77141146, -0.3701516 ,  1.04638693, ..., -0.01522725,\n",
              "        -0.01025206, -0.01043227],\n",
              "       [ 0.77141146,  0.56822895, -0.01270437, ...,  0.20457657,\n",
              "        -0.00956068, -0.00973181],\n",
              "       ...,\n",
              "       [-1.29632505,  0.56822895, -0.01270437, ..., -1.22414823,\n",
              "        -0.01004464, -0.00952113],\n",
              "       [ 0.77141146, -2.24691271, -1.07179567, ..., -0.7845406 ,\n",
              "        -0.00956068, -0.00911618],\n",
              "       [ 0.77141146,  0.56822895, -1.07179567, ...,  0.31447847,\n",
              "        -0.01108171, -0.01142333]])"
            ]
          },
          "metadata": {},
          "execution_count": 80
        }
      ]
    },
    {
      "cell_type": "code",
      "metadata": {
        "id": "lm-v5NvpC9h6"
      },
      "source": [
        "t = pd.DataFrame(num_pipeline.fit_transform(X_train),\n",
        "                 columns=most_freq_num_features+median_num_features + ['salary_over_age'])"
      ],
      "execution_count": null,
      "outputs": []
    },
    {
      "cell_type": "code",
      "metadata": {
        "colab": {
          "base_uri": "https://localhost:8080/",
          "height": 443
        },
        "id": "LryFpOTjDQBn",
        "outputId": "47fe066c-750f-4522-f461-722494601f0e"
      },
      "source": [
        "t"
      ],
      "execution_count": null,
      "outputs": [
        {
          "output_type": "execute_result",
          "data": {
            "text/html": [
              "<div>\n",
              "<style scoped>\n",
              "    .dataframe tbody tr th:only-of-type {\n",
              "        vertical-align: middle;\n",
              "    }\n",
              "\n",
              "    .dataframe tbody tr th {\n",
              "        vertical-align: top;\n",
              "    }\n",
              "\n",
              "    .dataframe thead th {\n",
              "        text-align: right;\n",
              "    }\n",
              "</style>\n",
              "<table border=\"1\" class=\"dataframe\">\n",
              "  <thead>\n",
              "    <tr style=\"text-align: right;\">\n",
              "      <th></th>\n",
              "      <th>gender</th>\n",
              "      <th>device_quaility_index</th>\n",
              "      <th>behavioral_index</th>\n",
              "      <th>email_index</th>\n",
              "      <th>age</th>\n",
              "      <th>salary</th>\n",
              "      <th>salary_over_age</th>\n",
              "    </tr>\n",
              "  </thead>\n",
              "  <tbody>\n",
              "    <tr>\n",
              "      <th>0</th>\n",
              "      <td>-1.296325</td>\n",
              "      <td>-1.308532</td>\n",
              "      <td>1.046387</td>\n",
              "      <td>-0.658811</td>\n",
              "      <td>-1.224148</td>\n",
              "      <td>-0.009906</td>\n",
              "      <td>-0.009285</td>\n",
              "    </tr>\n",
              "    <tr>\n",
              "      <th>1</th>\n",
              "      <td>0.771411</td>\n",
              "      <td>-0.370152</td>\n",
              "      <td>1.046387</td>\n",
              "      <td>-0.658811</td>\n",
              "      <td>-0.015227</td>\n",
              "      <td>-0.010252</td>\n",
              "      <td>-0.010432</td>\n",
              "    </tr>\n",
              "    <tr>\n",
              "      <th>2</th>\n",
              "      <td>0.771411</td>\n",
              "      <td>0.568229</td>\n",
              "      <td>-0.012704</td>\n",
              "      <td>2.686848</td>\n",
              "      <td>0.204577</td>\n",
              "      <td>-0.009561</td>\n",
              "      <td>-0.009732</td>\n",
              "    </tr>\n",
              "    <tr>\n",
              "      <th>3</th>\n",
              "      <td>0.771411</td>\n",
              "      <td>0.568229</td>\n",
              "      <td>1.046387</td>\n",
              "      <td>-0.240603</td>\n",
              "      <td>-1.004344</td>\n",
              "      <td>-0.010183</td>\n",
              "      <td>-0.009903</td>\n",
              "    </tr>\n",
              "    <tr>\n",
              "      <th>4</th>\n",
              "      <td>-1.296325</td>\n",
              "      <td>0.568229</td>\n",
              "      <td>2.105478</td>\n",
              "      <td>-0.240603</td>\n",
              "      <td>1.633301</td>\n",
              "      <td>-0.008524</td>\n",
              "      <td>-0.009379</td>\n",
              "    </tr>\n",
              "    <tr>\n",
              "      <th>...</th>\n",
              "      <td>...</td>\n",
              "      <td>...</td>\n",
              "      <td>...</td>\n",
              "      <td>...</td>\n",
              "      <td>...</td>\n",
              "      <td>...</td>\n",
              "      <td>...</td>\n",
              "    </tr>\n",
              "    <tr>\n",
              "      <th>10749</th>\n",
              "      <td>-1.296325</td>\n",
              "      <td>0.568229</td>\n",
              "      <td>-1.071796</td>\n",
              "      <td>-0.240603</td>\n",
              "      <td>-1.224148</td>\n",
              "      <td>-0.009630</td>\n",
              "      <td>-0.008812</td>\n",
              "    </tr>\n",
              "    <tr>\n",
              "      <th>10750</th>\n",
              "      <td>0.771411</td>\n",
              "      <td>-0.370152</td>\n",
              "      <td>-0.012704</td>\n",
              "      <td>-0.240603</td>\n",
              "      <td>-1.004344</td>\n",
              "      <td>-0.009630</td>\n",
              "      <td>-0.009031</td>\n",
              "    </tr>\n",
              "    <tr>\n",
              "      <th>10751</th>\n",
              "      <td>-1.296325</td>\n",
              "      <td>0.568229</td>\n",
              "      <td>-0.012704</td>\n",
              "      <td>2.686848</td>\n",
              "      <td>-1.224148</td>\n",
              "      <td>-0.010045</td>\n",
              "      <td>-0.009521</td>\n",
              "    </tr>\n",
              "    <tr>\n",
              "      <th>10752</th>\n",
              "      <td>0.771411</td>\n",
              "      <td>-2.246913</td>\n",
              "      <td>-1.071796</td>\n",
              "      <td>-0.240603</td>\n",
              "      <td>-0.784541</td>\n",
              "      <td>-0.009561</td>\n",
              "      <td>-0.009116</td>\n",
              "    </tr>\n",
              "    <tr>\n",
              "      <th>10753</th>\n",
              "      <td>0.771411</td>\n",
              "      <td>0.568229</td>\n",
              "      <td>-1.071796</td>\n",
              "      <td>-0.240603</td>\n",
              "      <td>0.314478</td>\n",
              "      <td>-0.011082</td>\n",
              "      <td>-0.011423</td>\n",
              "    </tr>\n",
              "  </tbody>\n",
              "</table>\n",
              "<p>10754 rows × 7 columns</p>\n",
              "</div>"
            ],
            "text/plain": [
              "         gender  device_quaility_index  ...    salary  salary_over_age\n",
              "0     -1.296325              -1.308532  ... -0.009906        -0.009285\n",
              "1      0.771411              -0.370152  ... -0.010252        -0.010432\n",
              "2      0.771411               0.568229  ... -0.009561        -0.009732\n",
              "3      0.771411               0.568229  ... -0.010183        -0.009903\n",
              "4     -1.296325               0.568229  ... -0.008524        -0.009379\n",
              "...         ...                    ...  ...       ...              ...\n",
              "10749 -1.296325               0.568229  ... -0.009630        -0.008812\n",
              "10750  0.771411              -0.370152  ... -0.009630        -0.009031\n",
              "10751 -1.296325               0.568229  ... -0.010045        -0.009521\n",
              "10752  0.771411              -2.246913  ... -0.009561        -0.009116\n",
              "10753  0.771411               0.568229  ... -0.011082        -0.011423\n",
              "\n",
              "[10754 rows x 7 columns]"
            ]
          },
          "metadata": {},
          "execution_count": 82
        }
      ]
    },
    {
      "cell_type": "code",
      "metadata": {
        "id": "uH4717_5DH77"
      },
      "source": [
        "t = pd.DataFrame({'A':[1,0],'B':[0,1]})"
      ],
      "execution_count": null,
      "outputs": []
    },
    {
      "cell_type": "code",
      "metadata": {
        "colab": {
          "base_uri": "https://localhost:8080/",
          "height": 112
        },
        "id": "3SHPmCo3DOdi",
        "outputId": "a1368d4b-9ac3-4a18-e6c9-e3e137b98ffd"
      },
      "source": [
        "t"
      ],
      "execution_count": null,
      "outputs": [
        {
          "output_type": "execute_result",
          "data": {
            "text/html": [
              "<div>\n",
              "<style scoped>\n",
              "    .dataframe tbody tr th:only-of-type {\n",
              "        vertical-align: middle;\n",
              "    }\n",
              "\n",
              "    .dataframe tbody tr th {\n",
              "        vertical-align: top;\n",
              "    }\n",
              "\n",
              "    .dataframe thead th {\n",
              "        text-align: right;\n",
              "    }\n",
              "</style>\n",
              "<table border=\"1\" class=\"dataframe\">\n",
              "  <thead>\n",
              "    <tr style=\"text-align: right;\">\n",
              "      <th></th>\n",
              "      <th>A</th>\n",
              "      <th>B</th>\n",
              "    </tr>\n",
              "  </thead>\n",
              "  <tbody>\n",
              "    <tr>\n",
              "      <th>0</th>\n",
              "      <td>1</td>\n",
              "      <td>0</td>\n",
              "    </tr>\n",
              "    <tr>\n",
              "      <th>1</th>\n",
              "      <td>0</td>\n",
              "      <td>1</td>\n",
              "    </tr>\n",
              "  </tbody>\n",
              "</table>\n",
              "</div>"
            ],
            "text/plain": [
              "   A  B\n",
              "0  1  0\n",
              "1  0  1"
            ]
          },
          "metadata": {},
          "execution_count": 84
        }
      ]
    },
    {
      "cell_type": "code",
      "metadata": {
        "colab": {
          "base_uri": "https://localhost:8080/",
          "height": 112
        },
        "id": "A7lRsj56DPox",
        "outputId": "71a00d82-8d08-4437-d5ca-9cddff1bc481"
      },
      "source": [
        "t.corr()"
      ],
      "execution_count": null,
      "outputs": [
        {
          "output_type": "execute_result",
          "data": {
            "text/html": [
              "<div>\n",
              "<style scoped>\n",
              "    .dataframe tbody tr th:only-of-type {\n",
              "        vertical-align: middle;\n",
              "    }\n",
              "\n",
              "    .dataframe tbody tr th {\n",
              "        vertical-align: top;\n",
              "    }\n",
              "\n",
              "    .dataframe thead th {\n",
              "        text-align: right;\n",
              "    }\n",
              "</style>\n",
              "<table border=\"1\" class=\"dataframe\">\n",
              "  <thead>\n",
              "    <tr style=\"text-align: right;\">\n",
              "      <th></th>\n",
              "      <th>A</th>\n",
              "      <th>B</th>\n",
              "    </tr>\n",
              "  </thead>\n",
              "  <tbody>\n",
              "    <tr>\n",
              "      <th>A</th>\n",
              "      <td>1.0</td>\n",
              "      <td>-1.0</td>\n",
              "    </tr>\n",
              "    <tr>\n",
              "      <th>B</th>\n",
              "      <td>-1.0</td>\n",
              "      <td>1.0</td>\n",
              "    </tr>\n",
              "  </tbody>\n",
              "</table>\n",
              "</div>"
            ],
            "text/plain": [
              "     A    B\n",
              "A  1.0 -1.0\n",
              "B -1.0  1.0"
            ]
          },
          "metadata": {},
          "execution_count": 85
        }
      ]
    },
    {
      "cell_type": "markdown",
      "metadata": {
        "id": "TnTmCnxYDQty"
      },
      "source": [
        "# Categorical pipe"
      ]
    },
    {
      "cell_type": "code",
      "metadata": {
        "id": "MZdMNy5EBipU"
      },
      "source": [
        "num_attribs = list(features_num.columns)"
      ],
      "execution_count": null,
      "outputs": []
    },
    {
      "cell_type": "code",
      "metadata": {
        "id": "5Ch4KxCRBuae"
      },
      "source": [
        "cat_attribs = list(features_cat.columns)"
      ],
      "execution_count": null,
      "outputs": []
    },
    {
      "cell_type": "code",
      "metadata": {
        "id": "beHtX6gTCDgl"
      },
      "source": [
        "from sklearn.preprocessing import OneHotEncoder"
      ],
      "execution_count": null,
      "outputs": []
    },
    {
      "cell_type": "code",
      "metadata": {
        "id": "nBz7dBsOE2UJ"
      },
      "source": [
        "ohe = OneHotEncoder(handle_unknown='ignore')"
      ],
      "execution_count": null,
      "outputs": []
    },
    {
      "cell_type": "code",
      "metadata": {
        "id": "vcgzOgKpBGRT"
      },
      "source": [
        "full_pipeline = ColumnTransformer([\n",
        "        (\"num\", num_pipeline, num_attribs),\n",
        "        (\"cat\", ohe, cat_attribs),\n",
        "    ])"
      ],
      "execution_count": null,
      "outputs": []
    },
    {
      "cell_type": "code",
      "metadata": {
        "id": "DV60zQIGDqHW"
      },
      "source": [
        "t = pd.DataFrame(full_pipeline.fit_transform(X_train).toarray())"
      ],
      "execution_count": null,
      "outputs": []
    },
    {
      "cell_type": "code",
      "metadata": {
        "colab": {
          "base_uri": "https://localhost:8080/"
        },
        "id": "0wbzKX61FJEr",
        "outputId": "990664e9-6295-4d5d-a9b4-882aba986c8d"
      },
      "source": [
        "cat_features_names = list(full_pipeline.transformers_[1][1].get_feature_names())"
      ],
      "execution_count": null,
      "outputs": [
        {
          "output_type": "stream",
          "name": "stderr",
          "text": [
            "/usr/local/lib/python3.7/dist-packages/sklearn/utils/deprecation.py:87: FutureWarning: Function get_feature_names is deprecated; get_feature_names is deprecated in 1.0 and will be removed in 1.2. Please use get_feature_names_out instead.\n",
            "  warnings.warn(msg, category=FutureWarning)\n"
          ]
        }
      ]
    },
    {
      "cell_type": "code",
      "metadata": {
        "id": "2vbbHvxkFAUF"
      },
      "source": [
        "t.columns = most_freq_num_features+median_num_features + ['salary_over_age'] + cat_features_names"
      ],
      "execution_count": null,
      "outputs": []
    },
    {
      "cell_type": "code",
      "metadata": {
        "colab": {
          "base_uri": "https://localhost:8080/"
        },
        "id": "OmClOPnfF0Tf",
        "outputId": "41e3aa5f-1cc2-49b1-a508-a4a01b13a4ad"
      },
      "source": [
        "features_cat.isna().mean()"
      ],
      "execution_count": null,
      "outputs": [
        {
          "output_type": "execute_result",
          "data": {
            "text/plain": [
              "type_of_document          0.000000\n",
              "email_domain_formatted    0.000000\n",
              "social_status             0.000000\n",
              "disbursment_type          0.000000\n",
              "os                        0.001116\n",
              "dtype: float64"
            ]
          },
          "metadata": {},
          "execution_count": 94
        }
      ]
    },
    {
      "cell_type": "code",
      "metadata": {
        "colab": {
          "base_uri": "https://localhost:8080/",
          "height": 531
        },
        "id": "x-p2p8RoFnLM",
        "outputId": "af2b1215-3840-46cc-9a2e-f87986506e70"
      },
      "source": [
        "t"
      ],
      "execution_count": null,
      "outputs": [
        {
          "output_type": "execute_result",
          "data": {
            "text/html": [
              "<div>\n",
              "<style scoped>\n",
              "    .dataframe tbody tr th:only-of-type {\n",
              "        vertical-align: middle;\n",
              "    }\n",
              "\n",
              "    .dataframe tbody tr th {\n",
              "        vertical-align: top;\n",
              "    }\n",
              "\n",
              "    .dataframe thead th {\n",
              "        text-align: right;\n",
              "    }\n",
              "</style>\n",
              "<table border=\"1\" class=\"dataframe\">\n",
              "  <thead>\n",
              "    <tr style=\"text-align: right;\">\n",
              "      <th></th>\n",
              "      <th>gender</th>\n",
              "      <th>device_quaility_index</th>\n",
              "      <th>behavioral_index</th>\n",
              "      <th>email_index</th>\n",
              "      <th>age</th>\n",
              "      <th>salary</th>\n",
              "      <th>salary_over_age</th>\n",
              "      <th>x0_Driver license ID</th>\n",
              "      <th>x0_PRC</th>\n",
              "      <th>x0_Passport</th>\n",
              "      <th>x0_SSS</th>\n",
              "      <th>x0_TIN</th>\n",
              "      <th>x0_UMID</th>\n",
              "      <th>x1_ABS-CBN.COM</th>\n",
              "      <th>x1_ABSOLUTELYCANDO.COM</th>\n",
              "      <th>x1_AMSAMOA.EDU</th>\n",
              "      <th>x1_AOL.COM</th>\n",
              "      <th>x1_BOLTONINTERNATIONAL.COM</th>\n",
              "      <th>x1_BULSU.EDU.PH</th>\n",
              "      <th>x1_BURGANDRILLING.COM</th>\n",
              "      <th>x1_CAREMIN.COM</th>\n",
              "      <th>x1_CIIF.PH</th>\n",
              "      <th>x1_CPSCTECH.ORG</th>\n",
              "      <th>x1_DAVIESPAINTS.COM.PH</th>\n",
              "      <th>x1_DEPED.GOV.PH</th>\n",
              "      <th>x1_DEPEDQC.PH</th>\n",
              "      <th>x1_DEXCOM.COM</th>\n",
              "      <th>x1_DLSU.EDU.PH</th>\n",
              "      <th>x1_EMAIL.COM</th>\n",
              "      <th>x1_EMAIL.COM.PH</th>\n",
              "      <th>x1_EMAIL.PH</th>\n",
              "      <th>x1_EXELCIUSPH.COM</th>\n",
              "      <th>x1_FRONTIER.COM</th>\n",
              "      <th>x1_GLOBE.COM.PH</th>\n",
              "      <th>x1_GLOBEPARTNERS.COM.PH</th>\n",
              "      <th>x1_GMA.COM</th>\n",
              "      <th>x1_GMAIL.COM</th>\n",
              "      <th>x1_GMX.COM</th>\n",
              "      <th>x1_GSIS.GOV.PH</th>\n",
              "      <th>x1_HARADA.COM.PH</th>\n",
              "      <th>...</th>\n",
              "      <th>x1_REDRIBBONBAKESHOP.COM.PH</th>\n",
              "      <th>x1_RGOC.COM.PH</th>\n",
              "      <th>x1_ROCKETMAIL.COM</th>\n",
              "      <th>x1_SECDEP.ORG</th>\n",
              "      <th>x1_SFXC.EDU.PH</th>\n",
              "      <th>x1_TELUS.COM</th>\n",
              "      <th>x1_UPHSL.EDU.PH</th>\n",
              "      <th>x1_USA.COM</th>\n",
              "      <th>x1_UZ.EDU.PH</th>\n",
              "      <th>x1_WGROUP.COM.PH</th>\n",
              "      <th>x1_WHITESHIELD.PH</th>\n",
              "      <th>x1_YAHOO.CO.NZ</th>\n",
              "      <th>x1_YAHOO.CO.UK</th>\n",
              "      <th>x1_YAHOO.COM</th>\n",
              "      <th>x1_YAHOO.COM.PH</th>\n",
              "      <th>x1_YAHOO.COM.SG</th>\n",
              "      <th>x1_YANDEX.COM</th>\n",
              "      <th>x1_YMAIL.COM</th>\n",
              "      <th>x2_BPO Professionals</th>\n",
              "      <th>x2_Business Owner</th>\n",
              "      <th>x2_Financial Services</th>\n",
              "      <th>x2_Freelance</th>\n",
              "      <th>x2_Government Employee</th>\n",
              "      <th>x2_Other</th>\n",
              "      <th>x2_Private Company Employee</th>\n",
              "      <th>x2_Professional Worker (Doctors, Engineers, Accountants, etc.)</th>\n",
              "      <th>x2_Retail Worker</th>\n",
              "      <th>x2_Retired</th>\n",
              "      <th>x2_Self-Employed</th>\n",
              "      <th>x2_Unemployed</th>\n",
              "      <th>x3_Bank</th>\n",
              "      <th>x3_E-wallet</th>\n",
              "      <th>x4_Android</th>\n",
              "      <th>x4_Chrome OS</th>\n",
              "      <th>x4_Linux</th>\n",
              "      <th>x4_OS X</th>\n",
              "      <th>x4_Windows</th>\n",
              "      <th>x4_iOS</th>\n",
              "      <th>x4_macOS</th>\n",
              "      <th>x4_nan</th>\n",
              "    </tr>\n",
              "  </thead>\n",
              "  <tbody>\n",
              "    <tr>\n",
              "      <th>0</th>\n",
              "      <td>-1.296325</td>\n",
              "      <td>-1.308532</td>\n",
              "      <td>1.046387</td>\n",
              "      <td>-0.658811</td>\n",
              "      <td>-1.224148</td>\n",
              "      <td>-0.009906</td>\n",
              "      <td>-0.009285</td>\n",
              "      <td>0.0</td>\n",
              "      <td>0.0</td>\n",
              "      <td>0.0</td>\n",
              "      <td>0.0</td>\n",
              "      <td>0.0</td>\n",
              "      <td>1.0</td>\n",
              "      <td>0.0</td>\n",
              "      <td>0.0</td>\n",
              "      <td>0.0</td>\n",
              "      <td>0.0</td>\n",
              "      <td>0.0</td>\n",
              "      <td>0.0</td>\n",
              "      <td>0.0</td>\n",
              "      <td>0.0</td>\n",
              "      <td>0.0</td>\n",
              "      <td>0.0</td>\n",
              "      <td>0.0</td>\n",
              "      <td>0.0</td>\n",
              "      <td>0.0</td>\n",
              "      <td>0.0</td>\n",
              "      <td>0.0</td>\n",
              "      <td>0.0</td>\n",
              "      <td>0.0</td>\n",
              "      <td>0.0</td>\n",
              "      <td>0.0</td>\n",
              "      <td>0.0</td>\n",
              "      <td>0.0</td>\n",
              "      <td>0.0</td>\n",
              "      <td>0.0</td>\n",
              "      <td>1.0</td>\n",
              "      <td>0.0</td>\n",
              "      <td>0.0</td>\n",
              "      <td>0.0</td>\n",
              "      <td>...</td>\n",
              "      <td>0.0</td>\n",
              "      <td>0.0</td>\n",
              "      <td>0.0</td>\n",
              "      <td>0.0</td>\n",
              "      <td>0.0</td>\n",
              "      <td>0.0</td>\n",
              "      <td>0.0</td>\n",
              "      <td>0.0</td>\n",
              "      <td>0.0</td>\n",
              "      <td>0.0</td>\n",
              "      <td>0.0</td>\n",
              "      <td>0.0</td>\n",
              "      <td>0.0</td>\n",
              "      <td>0.0</td>\n",
              "      <td>0.0</td>\n",
              "      <td>0.0</td>\n",
              "      <td>0.0</td>\n",
              "      <td>0.0</td>\n",
              "      <td>0.0</td>\n",
              "      <td>0.0</td>\n",
              "      <td>0.0</td>\n",
              "      <td>0.0</td>\n",
              "      <td>0.0</td>\n",
              "      <td>1.0</td>\n",
              "      <td>0.0</td>\n",
              "      <td>0.0</td>\n",
              "      <td>0.0</td>\n",
              "      <td>0.0</td>\n",
              "      <td>0.0</td>\n",
              "      <td>0.0</td>\n",
              "      <td>0.0</td>\n",
              "      <td>1.0</td>\n",
              "      <td>1.0</td>\n",
              "      <td>0.0</td>\n",
              "      <td>0.0</td>\n",
              "      <td>0.0</td>\n",
              "      <td>0.0</td>\n",
              "      <td>0.0</td>\n",
              "      <td>0.0</td>\n",
              "      <td>0.0</td>\n",
              "    </tr>\n",
              "    <tr>\n",
              "      <th>1</th>\n",
              "      <td>0.771411</td>\n",
              "      <td>-0.370152</td>\n",
              "      <td>1.046387</td>\n",
              "      <td>-0.658811</td>\n",
              "      <td>-0.015227</td>\n",
              "      <td>-0.010252</td>\n",
              "      <td>-0.010432</td>\n",
              "      <td>0.0</td>\n",
              "      <td>0.0</td>\n",
              "      <td>1.0</td>\n",
              "      <td>0.0</td>\n",
              "      <td>0.0</td>\n",
              "      <td>0.0</td>\n",
              "      <td>0.0</td>\n",
              "      <td>0.0</td>\n",
              "      <td>0.0</td>\n",
              "      <td>0.0</td>\n",
              "      <td>0.0</td>\n",
              "      <td>0.0</td>\n",
              "      <td>0.0</td>\n",
              "      <td>0.0</td>\n",
              "      <td>0.0</td>\n",
              "      <td>0.0</td>\n",
              "      <td>0.0</td>\n",
              "      <td>0.0</td>\n",
              "      <td>0.0</td>\n",
              "      <td>0.0</td>\n",
              "      <td>0.0</td>\n",
              "      <td>0.0</td>\n",
              "      <td>0.0</td>\n",
              "      <td>0.0</td>\n",
              "      <td>0.0</td>\n",
              "      <td>0.0</td>\n",
              "      <td>0.0</td>\n",
              "      <td>0.0</td>\n",
              "      <td>0.0</td>\n",
              "      <td>0.0</td>\n",
              "      <td>0.0</td>\n",
              "      <td>0.0</td>\n",
              "      <td>0.0</td>\n",
              "      <td>...</td>\n",
              "      <td>0.0</td>\n",
              "      <td>0.0</td>\n",
              "      <td>0.0</td>\n",
              "      <td>0.0</td>\n",
              "      <td>0.0</td>\n",
              "      <td>0.0</td>\n",
              "      <td>0.0</td>\n",
              "      <td>0.0</td>\n",
              "      <td>0.0</td>\n",
              "      <td>0.0</td>\n",
              "      <td>0.0</td>\n",
              "      <td>0.0</td>\n",
              "      <td>0.0</td>\n",
              "      <td>1.0</td>\n",
              "      <td>0.0</td>\n",
              "      <td>0.0</td>\n",
              "      <td>0.0</td>\n",
              "      <td>0.0</td>\n",
              "      <td>0.0</td>\n",
              "      <td>0.0</td>\n",
              "      <td>0.0</td>\n",
              "      <td>0.0</td>\n",
              "      <td>0.0</td>\n",
              "      <td>1.0</td>\n",
              "      <td>0.0</td>\n",
              "      <td>0.0</td>\n",
              "      <td>0.0</td>\n",
              "      <td>0.0</td>\n",
              "      <td>0.0</td>\n",
              "      <td>0.0</td>\n",
              "      <td>0.0</td>\n",
              "      <td>1.0</td>\n",
              "      <td>1.0</td>\n",
              "      <td>0.0</td>\n",
              "      <td>0.0</td>\n",
              "      <td>0.0</td>\n",
              "      <td>0.0</td>\n",
              "      <td>0.0</td>\n",
              "      <td>0.0</td>\n",
              "      <td>0.0</td>\n",
              "    </tr>\n",
              "    <tr>\n",
              "      <th>2</th>\n",
              "      <td>0.771411</td>\n",
              "      <td>0.568229</td>\n",
              "      <td>-0.012704</td>\n",
              "      <td>2.686848</td>\n",
              "      <td>0.204577</td>\n",
              "      <td>-0.009561</td>\n",
              "      <td>-0.009732</td>\n",
              "      <td>0.0</td>\n",
              "      <td>0.0</td>\n",
              "      <td>1.0</td>\n",
              "      <td>0.0</td>\n",
              "      <td>0.0</td>\n",
              "      <td>0.0</td>\n",
              "      <td>0.0</td>\n",
              "      <td>0.0</td>\n",
              "      <td>0.0</td>\n",
              "      <td>0.0</td>\n",
              "      <td>0.0</td>\n",
              "      <td>0.0</td>\n",
              "      <td>0.0</td>\n",
              "      <td>0.0</td>\n",
              "      <td>0.0</td>\n",
              "      <td>0.0</td>\n",
              "      <td>0.0</td>\n",
              "      <td>0.0</td>\n",
              "      <td>0.0</td>\n",
              "      <td>0.0</td>\n",
              "      <td>0.0</td>\n",
              "      <td>0.0</td>\n",
              "      <td>0.0</td>\n",
              "      <td>0.0</td>\n",
              "      <td>0.0</td>\n",
              "      <td>0.0</td>\n",
              "      <td>0.0</td>\n",
              "      <td>0.0</td>\n",
              "      <td>0.0</td>\n",
              "      <td>0.0</td>\n",
              "      <td>0.0</td>\n",
              "      <td>0.0</td>\n",
              "      <td>0.0</td>\n",
              "      <td>...</td>\n",
              "      <td>0.0</td>\n",
              "      <td>0.0</td>\n",
              "      <td>0.0</td>\n",
              "      <td>0.0</td>\n",
              "      <td>0.0</td>\n",
              "      <td>0.0</td>\n",
              "      <td>0.0</td>\n",
              "      <td>0.0</td>\n",
              "      <td>0.0</td>\n",
              "      <td>0.0</td>\n",
              "      <td>0.0</td>\n",
              "      <td>0.0</td>\n",
              "      <td>0.0</td>\n",
              "      <td>0.0</td>\n",
              "      <td>0.0</td>\n",
              "      <td>0.0</td>\n",
              "      <td>0.0</td>\n",
              "      <td>0.0</td>\n",
              "      <td>0.0</td>\n",
              "      <td>0.0</td>\n",
              "      <td>0.0</td>\n",
              "      <td>0.0</td>\n",
              "      <td>0.0</td>\n",
              "      <td>1.0</td>\n",
              "      <td>0.0</td>\n",
              "      <td>0.0</td>\n",
              "      <td>0.0</td>\n",
              "      <td>0.0</td>\n",
              "      <td>0.0</td>\n",
              "      <td>0.0</td>\n",
              "      <td>0.0</td>\n",
              "      <td>1.0</td>\n",
              "      <td>0.0</td>\n",
              "      <td>0.0</td>\n",
              "      <td>0.0</td>\n",
              "      <td>0.0</td>\n",
              "      <td>0.0</td>\n",
              "      <td>1.0</td>\n",
              "      <td>0.0</td>\n",
              "      <td>0.0</td>\n",
              "    </tr>\n",
              "    <tr>\n",
              "      <th>3</th>\n",
              "      <td>0.771411</td>\n",
              "      <td>0.568229</td>\n",
              "      <td>1.046387</td>\n",
              "      <td>-0.240603</td>\n",
              "      <td>-1.004344</td>\n",
              "      <td>-0.010183</td>\n",
              "      <td>-0.009903</td>\n",
              "      <td>0.0</td>\n",
              "      <td>0.0</td>\n",
              "      <td>0.0</td>\n",
              "      <td>0.0</td>\n",
              "      <td>0.0</td>\n",
              "      <td>1.0</td>\n",
              "      <td>0.0</td>\n",
              "      <td>0.0</td>\n",
              "      <td>0.0</td>\n",
              "      <td>0.0</td>\n",
              "      <td>0.0</td>\n",
              "      <td>0.0</td>\n",
              "      <td>0.0</td>\n",
              "      <td>0.0</td>\n",
              "      <td>0.0</td>\n",
              "      <td>0.0</td>\n",
              "      <td>0.0</td>\n",
              "      <td>0.0</td>\n",
              "      <td>0.0</td>\n",
              "      <td>0.0</td>\n",
              "      <td>0.0</td>\n",
              "      <td>0.0</td>\n",
              "      <td>0.0</td>\n",
              "      <td>0.0</td>\n",
              "      <td>0.0</td>\n",
              "      <td>0.0</td>\n",
              "      <td>0.0</td>\n",
              "      <td>0.0</td>\n",
              "      <td>0.0</td>\n",
              "      <td>1.0</td>\n",
              "      <td>0.0</td>\n",
              "      <td>0.0</td>\n",
              "      <td>0.0</td>\n",
              "      <td>...</td>\n",
              "      <td>0.0</td>\n",
              "      <td>0.0</td>\n",
              "      <td>0.0</td>\n",
              "      <td>0.0</td>\n",
              "      <td>0.0</td>\n",
              "      <td>0.0</td>\n",
              "      <td>0.0</td>\n",
              "      <td>0.0</td>\n",
              "      <td>0.0</td>\n",
              "      <td>0.0</td>\n",
              "      <td>0.0</td>\n",
              "      <td>0.0</td>\n",
              "      <td>0.0</td>\n",
              "      <td>0.0</td>\n",
              "      <td>0.0</td>\n",
              "      <td>0.0</td>\n",
              "      <td>0.0</td>\n",
              "      <td>0.0</td>\n",
              "      <td>0.0</td>\n",
              "      <td>0.0</td>\n",
              "      <td>0.0</td>\n",
              "      <td>0.0</td>\n",
              "      <td>0.0</td>\n",
              "      <td>0.0</td>\n",
              "      <td>0.0</td>\n",
              "      <td>1.0</td>\n",
              "      <td>0.0</td>\n",
              "      <td>0.0</td>\n",
              "      <td>0.0</td>\n",
              "      <td>0.0</td>\n",
              "      <td>1.0</td>\n",
              "      <td>0.0</td>\n",
              "      <td>0.0</td>\n",
              "      <td>0.0</td>\n",
              "      <td>0.0</td>\n",
              "      <td>0.0</td>\n",
              "      <td>0.0</td>\n",
              "      <td>1.0</td>\n",
              "      <td>0.0</td>\n",
              "      <td>0.0</td>\n",
              "    </tr>\n",
              "    <tr>\n",
              "      <th>4</th>\n",
              "      <td>-1.296325</td>\n",
              "      <td>0.568229</td>\n",
              "      <td>2.105478</td>\n",
              "      <td>-0.240603</td>\n",
              "      <td>1.633301</td>\n",
              "      <td>-0.008524</td>\n",
              "      <td>-0.009379</td>\n",
              "      <td>1.0</td>\n",
              "      <td>0.0</td>\n",
              "      <td>0.0</td>\n",
              "      <td>0.0</td>\n",
              "      <td>0.0</td>\n",
              "      <td>0.0</td>\n",
              "      <td>0.0</td>\n",
              "      <td>0.0</td>\n",
              "      <td>0.0</td>\n",
              "      <td>0.0</td>\n",
              "      <td>0.0</td>\n",
              "      <td>0.0</td>\n",
              "      <td>0.0</td>\n",
              "      <td>0.0</td>\n",
              "      <td>0.0</td>\n",
              "      <td>0.0</td>\n",
              "      <td>0.0</td>\n",
              "      <td>0.0</td>\n",
              "      <td>0.0</td>\n",
              "      <td>0.0</td>\n",
              "      <td>0.0</td>\n",
              "      <td>0.0</td>\n",
              "      <td>0.0</td>\n",
              "      <td>0.0</td>\n",
              "      <td>0.0</td>\n",
              "      <td>0.0</td>\n",
              "      <td>0.0</td>\n",
              "      <td>0.0</td>\n",
              "      <td>0.0</td>\n",
              "      <td>1.0</td>\n",
              "      <td>0.0</td>\n",
              "      <td>0.0</td>\n",
              "      <td>0.0</td>\n",
              "      <td>...</td>\n",
              "      <td>0.0</td>\n",
              "      <td>0.0</td>\n",
              "      <td>0.0</td>\n",
              "      <td>0.0</td>\n",
              "      <td>0.0</td>\n",
              "      <td>0.0</td>\n",
              "      <td>0.0</td>\n",
              "      <td>0.0</td>\n",
              "      <td>0.0</td>\n",
              "      <td>0.0</td>\n",
              "      <td>0.0</td>\n",
              "      <td>0.0</td>\n",
              "      <td>0.0</td>\n",
              "      <td>0.0</td>\n",
              "      <td>0.0</td>\n",
              "      <td>0.0</td>\n",
              "      <td>0.0</td>\n",
              "      <td>0.0</td>\n",
              "      <td>0.0</td>\n",
              "      <td>1.0</td>\n",
              "      <td>0.0</td>\n",
              "      <td>0.0</td>\n",
              "      <td>0.0</td>\n",
              "      <td>0.0</td>\n",
              "      <td>0.0</td>\n",
              "      <td>0.0</td>\n",
              "      <td>0.0</td>\n",
              "      <td>0.0</td>\n",
              "      <td>0.0</td>\n",
              "      <td>0.0</td>\n",
              "      <td>0.0</td>\n",
              "      <td>1.0</td>\n",
              "      <td>1.0</td>\n",
              "      <td>0.0</td>\n",
              "      <td>0.0</td>\n",
              "      <td>0.0</td>\n",
              "      <td>0.0</td>\n",
              "      <td>0.0</td>\n",
              "      <td>0.0</td>\n",
              "      <td>0.0</td>\n",
              "    </tr>\n",
              "    <tr>\n",
              "      <th>...</th>\n",
              "      <td>...</td>\n",
              "      <td>...</td>\n",
              "      <td>...</td>\n",
              "      <td>...</td>\n",
              "      <td>...</td>\n",
              "      <td>...</td>\n",
              "      <td>...</td>\n",
              "      <td>...</td>\n",
              "      <td>...</td>\n",
              "      <td>...</td>\n",
              "      <td>...</td>\n",
              "      <td>...</td>\n",
              "      <td>...</td>\n",
              "      <td>...</td>\n",
              "      <td>...</td>\n",
              "      <td>...</td>\n",
              "      <td>...</td>\n",
              "      <td>...</td>\n",
              "      <td>...</td>\n",
              "      <td>...</td>\n",
              "      <td>...</td>\n",
              "      <td>...</td>\n",
              "      <td>...</td>\n",
              "      <td>...</td>\n",
              "      <td>...</td>\n",
              "      <td>...</td>\n",
              "      <td>...</td>\n",
              "      <td>...</td>\n",
              "      <td>...</td>\n",
              "      <td>...</td>\n",
              "      <td>...</td>\n",
              "      <td>...</td>\n",
              "      <td>...</td>\n",
              "      <td>...</td>\n",
              "      <td>...</td>\n",
              "      <td>...</td>\n",
              "      <td>...</td>\n",
              "      <td>...</td>\n",
              "      <td>...</td>\n",
              "      <td>...</td>\n",
              "      <td>...</td>\n",
              "      <td>...</td>\n",
              "      <td>...</td>\n",
              "      <td>...</td>\n",
              "      <td>...</td>\n",
              "      <td>...</td>\n",
              "      <td>...</td>\n",
              "      <td>...</td>\n",
              "      <td>...</td>\n",
              "      <td>...</td>\n",
              "      <td>...</td>\n",
              "      <td>...</td>\n",
              "      <td>...</td>\n",
              "      <td>...</td>\n",
              "      <td>...</td>\n",
              "      <td>...</td>\n",
              "      <td>...</td>\n",
              "      <td>...</td>\n",
              "      <td>...</td>\n",
              "      <td>...</td>\n",
              "      <td>...</td>\n",
              "      <td>...</td>\n",
              "      <td>...</td>\n",
              "      <td>...</td>\n",
              "      <td>...</td>\n",
              "      <td>...</td>\n",
              "      <td>...</td>\n",
              "      <td>...</td>\n",
              "      <td>...</td>\n",
              "      <td>...</td>\n",
              "      <td>...</td>\n",
              "      <td>...</td>\n",
              "      <td>...</td>\n",
              "      <td>...</td>\n",
              "      <td>...</td>\n",
              "      <td>...</td>\n",
              "      <td>...</td>\n",
              "      <td>...</td>\n",
              "      <td>...</td>\n",
              "      <td>...</td>\n",
              "      <td>...</td>\n",
              "    </tr>\n",
              "    <tr>\n",
              "      <th>10749</th>\n",
              "      <td>-1.296325</td>\n",
              "      <td>0.568229</td>\n",
              "      <td>-1.071796</td>\n",
              "      <td>-0.240603</td>\n",
              "      <td>-1.224148</td>\n",
              "      <td>-0.009630</td>\n",
              "      <td>-0.008812</td>\n",
              "      <td>0.0</td>\n",
              "      <td>0.0</td>\n",
              "      <td>0.0</td>\n",
              "      <td>0.0</td>\n",
              "      <td>1.0</td>\n",
              "      <td>0.0</td>\n",
              "      <td>0.0</td>\n",
              "      <td>0.0</td>\n",
              "      <td>0.0</td>\n",
              "      <td>0.0</td>\n",
              "      <td>0.0</td>\n",
              "      <td>0.0</td>\n",
              "      <td>0.0</td>\n",
              "      <td>0.0</td>\n",
              "      <td>0.0</td>\n",
              "      <td>0.0</td>\n",
              "      <td>0.0</td>\n",
              "      <td>0.0</td>\n",
              "      <td>0.0</td>\n",
              "      <td>0.0</td>\n",
              "      <td>0.0</td>\n",
              "      <td>0.0</td>\n",
              "      <td>0.0</td>\n",
              "      <td>0.0</td>\n",
              "      <td>0.0</td>\n",
              "      <td>0.0</td>\n",
              "      <td>0.0</td>\n",
              "      <td>0.0</td>\n",
              "      <td>0.0</td>\n",
              "      <td>1.0</td>\n",
              "      <td>0.0</td>\n",
              "      <td>0.0</td>\n",
              "      <td>0.0</td>\n",
              "      <td>...</td>\n",
              "      <td>0.0</td>\n",
              "      <td>0.0</td>\n",
              "      <td>0.0</td>\n",
              "      <td>0.0</td>\n",
              "      <td>0.0</td>\n",
              "      <td>0.0</td>\n",
              "      <td>0.0</td>\n",
              "      <td>0.0</td>\n",
              "      <td>0.0</td>\n",
              "      <td>0.0</td>\n",
              "      <td>0.0</td>\n",
              "      <td>0.0</td>\n",
              "      <td>0.0</td>\n",
              "      <td>0.0</td>\n",
              "      <td>0.0</td>\n",
              "      <td>0.0</td>\n",
              "      <td>0.0</td>\n",
              "      <td>0.0</td>\n",
              "      <td>0.0</td>\n",
              "      <td>0.0</td>\n",
              "      <td>0.0</td>\n",
              "      <td>0.0</td>\n",
              "      <td>0.0</td>\n",
              "      <td>0.0</td>\n",
              "      <td>1.0</td>\n",
              "      <td>0.0</td>\n",
              "      <td>0.0</td>\n",
              "      <td>0.0</td>\n",
              "      <td>0.0</td>\n",
              "      <td>0.0</td>\n",
              "      <td>0.0</td>\n",
              "      <td>1.0</td>\n",
              "      <td>1.0</td>\n",
              "      <td>0.0</td>\n",
              "      <td>0.0</td>\n",
              "      <td>0.0</td>\n",
              "      <td>0.0</td>\n",
              "      <td>0.0</td>\n",
              "      <td>0.0</td>\n",
              "      <td>0.0</td>\n",
              "    </tr>\n",
              "    <tr>\n",
              "      <th>10750</th>\n",
              "      <td>0.771411</td>\n",
              "      <td>-0.370152</td>\n",
              "      <td>-0.012704</td>\n",
              "      <td>-0.240603</td>\n",
              "      <td>-1.004344</td>\n",
              "      <td>-0.009630</td>\n",
              "      <td>-0.009031</td>\n",
              "      <td>0.0</td>\n",
              "      <td>0.0</td>\n",
              "      <td>0.0</td>\n",
              "      <td>0.0</td>\n",
              "      <td>0.0</td>\n",
              "      <td>1.0</td>\n",
              "      <td>0.0</td>\n",
              "      <td>0.0</td>\n",
              "      <td>0.0</td>\n",
              "      <td>0.0</td>\n",
              "      <td>0.0</td>\n",
              "      <td>0.0</td>\n",
              "      <td>0.0</td>\n",
              "      <td>0.0</td>\n",
              "      <td>0.0</td>\n",
              "      <td>0.0</td>\n",
              "      <td>0.0</td>\n",
              "      <td>0.0</td>\n",
              "      <td>0.0</td>\n",
              "      <td>0.0</td>\n",
              "      <td>0.0</td>\n",
              "      <td>0.0</td>\n",
              "      <td>0.0</td>\n",
              "      <td>0.0</td>\n",
              "      <td>0.0</td>\n",
              "      <td>0.0</td>\n",
              "      <td>0.0</td>\n",
              "      <td>0.0</td>\n",
              "      <td>0.0</td>\n",
              "      <td>0.0</td>\n",
              "      <td>0.0</td>\n",
              "      <td>0.0</td>\n",
              "      <td>0.0</td>\n",
              "      <td>...</td>\n",
              "      <td>0.0</td>\n",
              "      <td>0.0</td>\n",
              "      <td>0.0</td>\n",
              "      <td>0.0</td>\n",
              "      <td>0.0</td>\n",
              "      <td>0.0</td>\n",
              "      <td>0.0</td>\n",
              "      <td>0.0</td>\n",
              "      <td>0.0</td>\n",
              "      <td>0.0</td>\n",
              "      <td>0.0</td>\n",
              "      <td>0.0</td>\n",
              "      <td>0.0</td>\n",
              "      <td>1.0</td>\n",
              "      <td>0.0</td>\n",
              "      <td>0.0</td>\n",
              "      <td>0.0</td>\n",
              "      <td>0.0</td>\n",
              "      <td>1.0</td>\n",
              "      <td>0.0</td>\n",
              "      <td>0.0</td>\n",
              "      <td>0.0</td>\n",
              "      <td>0.0</td>\n",
              "      <td>0.0</td>\n",
              "      <td>0.0</td>\n",
              "      <td>0.0</td>\n",
              "      <td>0.0</td>\n",
              "      <td>0.0</td>\n",
              "      <td>0.0</td>\n",
              "      <td>0.0</td>\n",
              "      <td>1.0</td>\n",
              "      <td>0.0</td>\n",
              "      <td>0.0</td>\n",
              "      <td>0.0</td>\n",
              "      <td>0.0</td>\n",
              "      <td>0.0</td>\n",
              "      <td>0.0</td>\n",
              "      <td>0.0</td>\n",
              "      <td>1.0</td>\n",
              "      <td>0.0</td>\n",
              "    </tr>\n",
              "    <tr>\n",
              "      <th>10751</th>\n",
              "      <td>-1.296325</td>\n",
              "      <td>0.568229</td>\n",
              "      <td>-0.012704</td>\n",
              "      <td>2.686848</td>\n",
              "      <td>-1.224148</td>\n",
              "      <td>-0.010045</td>\n",
              "      <td>-0.009521</td>\n",
              "      <td>1.0</td>\n",
              "      <td>0.0</td>\n",
              "      <td>0.0</td>\n",
              "      <td>0.0</td>\n",
              "      <td>0.0</td>\n",
              "      <td>0.0</td>\n",
              "      <td>0.0</td>\n",
              "      <td>0.0</td>\n",
              "      <td>0.0</td>\n",
              "      <td>0.0</td>\n",
              "      <td>0.0</td>\n",
              "      <td>0.0</td>\n",
              "      <td>0.0</td>\n",
              "      <td>0.0</td>\n",
              "      <td>0.0</td>\n",
              "      <td>0.0</td>\n",
              "      <td>0.0</td>\n",
              "      <td>0.0</td>\n",
              "      <td>0.0</td>\n",
              "      <td>0.0</td>\n",
              "      <td>0.0</td>\n",
              "      <td>0.0</td>\n",
              "      <td>0.0</td>\n",
              "      <td>0.0</td>\n",
              "      <td>0.0</td>\n",
              "      <td>0.0</td>\n",
              "      <td>0.0</td>\n",
              "      <td>0.0</td>\n",
              "      <td>0.0</td>\n",
              "      <td>1.0</td>\n",
              "      <td>0.0</td>\n",
              "      <td>0.0</td>\n",
              "      <td>0.0</td>\n",
              "      <td>...</td>\n",
              "      <td>0.0</td>\n",
              "      <td>0.0</td>\n",
              "      <td>0.0</td>\n",
              "      <td>0.0</td>\n",
              "      <td>0.0</td>\n",
              "      <td>0.0</td>\n",
              "      <td>0.0</td>\n",
              "      <td>0.0</td>\n",
              "      <td>0.0</td>\n",
              "      <td>0.0</td>\n",
              "      <td>0.0</td>\n",
              "      <td>0.0</td>\n",
              "      <td>0.0</td>\n",
              "      <td>0.0</td>\n",
              "      <td>0.0</td>\n",
              "      <td>0.0</td>\n",
              "      <td>0.0</td>\n",
              "      <td>0.0</td>\n",
              "      <td>0.0</td>\n",
              "      <td>0.0</td>\n",
              "      <td>0.0</td>\n",
              "      <td>0.0</td>\n",
              "      <td>0.0</td>\n",
              "      <td>0.0</td>\n",
              "      <td>0.0</td>\n",
              "      <td>0.0</td>\n",
              "      <td>0.0</td>\n",
              "      <td>0.0</td>\n",
              "      <td>1.0</td>\n",
              "      <td>0.0</td>\n",
              "      <td>0.0</td>\n",
              "      <td>1.0</td>\n",
              "      <td>1.0</td>\n",
              "      <td>0.0</td>\n",
              "      <td>0.0</td>\n",
              "      <td>0.0</td>\n",
              "      <td>0.0</td>\n",
              "      <td>0.0</td>\n",
              "      <td>0.0</td>\n",
              "      <td>0.0</td>\n",
              "    </tr>\n",
              "    <tr>\n",
              "      <th>10752</th>\n",
              "      <td>0.771411</td>\n",
              "      <td>-2.246913</td>\n",
              "      <td>-1.071796</td>\n",
              "      <td>-0.240603</td>\n",
              "      <td>-0.784541</td>\n",
              "      <td>-0.009561</td>\n",
              "      <td>-0.009116</td>\n",
              "      <td>0.0</td>\n",
              "      <td>0.0</td>\n",
              "      <td>0.0</td>\n",
              "      <td>0.0</td>\n",
              "      <td>0.0</td>\n",
              "      <td>1.0</td>\n",
              "      <td>0.0</td>\n",
              "      <td>0.0</td>\n",
              "      <td>0.0</td>\n",
              "      <td>0.0</td>\n",
              "      <td>0.0</td>\n",
              "      <td>0.0</td>\n",
              "      <td>0.0</td>\n",
              "      <td>0.0</td>\n",
              "      <td>0.0</td>\n",
              "      <td>0.0</td>\n",
              "      <td>0.0</td>\n",
              "      <td>0.0</td>\n",
              "      <td>0.0</td>\n",
              "      <td>0.0</td>\n",
              "      <td>0.0</td>\n",
              "      <td>0.0</td>\n",
              "      <td>0.0</td>\n",
              "      <td>0.0</td>\n",
              "      <td>0.0</td>\n",
              "      <td>0.0</td>\n",
              "      <td>0.0</td>\n",
              "      <td>0.0</td>\n",
              "      <td>0.0</td>\n",
              "      <td>1.0</td>\n",
              "      <td>0.0</td>\n",
              "      <td>0.0</td>\n",
              "      <td>0.0</td>\n",
              "      <td>...</td>\n",
              "      <td>0.0</td>\n",
              "      <td>0.0</td>\n",
              "      <td>0.0</td>\n",
              "      <td>0.0</td>\n",
              "      <td>0.0</td>\n",
              "      <td>0.0</td>\n",
              "      <td>0.0</td>\n",
              "      <td>0.0</td>\n",
              "      <td>0.0</td>\n",
              "      <td>0.0</td>\n",
              "      <td>0.0</td>\n",
              "      <td>0.0</td>\n",
              "      <td>0.0</td>\n",
              "      <td>0.0</td>\n",
              "      <td>0.0</td>\n",
              "      <td>0.0</td>\n",
              "      <td>0.0</td>\n",
              "      <td>0.0</td>\n",
              "      <td>1.0</td>\n",
              "      <td>0.0</td>\n",
              "      <td>0.0</td>\n",
              "      <td>0.0</td>\n",
              "      <td>0.0</td>\n",
              "      <td>0.0</td>\n",
              "      <td>0.0</td>\n",
              "      <td>0.0</td>\n",
              "      <td>0.0</td>\n",
              "      <td>0.0</td>\n",
              "      <td>0.0</td>\n",
              "      <td>0.0</td>\n",
              "      <td>1.0</td>\n",
              "      <td>0.0</td>\n",
              "      <td>1.0</td>\n",
              "      <td>0.0</td>\n",
              "      <td>0.0</td>\n",
              "      <td>0.0</td>\n",
              "      <td>0.0</td>\n",
              "      <td>0.0</td>\n",
              "      <td>0.0</td>\n",
              "      <td>0.0</td>\n",
              "    </tr>\n",
              "    <tr>\n",
              "      <th>10753</th>\n",
              "      <td>0.771411</td>\n",
              "      <td>0.568229</td>\n",
              "      <td>-1.071796</td>\n",
              "      <td>-0.240603</td>\n",
              "      <td>0.314478</td>\n",
              "      <td>-0.011082</td>\n",
              "      <td>-0.011423</td>\n",
              "      <td>0.0</td>\n",
              "      <td>0.0</td>\n",
              "      <td>0.0</td>\n",
              "      <td>1.0</td>\n",
              "      <td>0.0</td>\n",
              "      <td>0.0</td>\n",
              "      <td>0.0</td>\n",
              "      <td>0.0</td>\n",
              "      <td>0.0</td>\n",
              "      <td>0.0</td>\n",
              "      <td>0.0</td>\n",
              "      <td>0.0</td>\n",
              "      <td>0.0</td>\n",
              "      <td>0.0</td>\n",
              "      <td>0.0</td>\n",
              "      <td>0.0</td>\n",
              "      <td>0.0</td>\n",
              "      <td>0.0</td>\n",
              "      <td>0.0</td>\n",
              "      <td>0.0</td>\n",
              "      <td>0.0</td>\n",
              "      <td>0.0</td>\n",
              "      <td>0.0</td>\n",
              "      <td>0.0</td>\n",
              "      <td>0.0</td>\n",
              "      <td>0.0</td>\n",
              "      <td>0.0</td>\n",
              "      <td>0.0</td>\n",
              "      <td>0.0</td>\n",
              "      <td>1.0</td>\n",
              "      <td>0.0</td>\n",
              "      <td>0.0</td>\n",
              "      <td>0.0</td>\n",
              "      <td>...</td>\n",
              "      <td>0.0</td>\n",
              "      <td>0.0</td>\n",
              "      <td>0.0</td>\n",
              "      <td>0.0</td>\n",
              "      <td>0.0</td>\n",
              "      <td>0.0</td>\n",
              "      <td>0.0</td>\n",
              "      <td>0.0</td>\n",
              "      <td>0.0</td>\n",
              "      <td>0.0</td>\n",
              "      <td>0.0</td>\n",
              "      <td>0.0</td>\n",
              "      <td>0.0</td>\n",
              "      <td>0.0</td>\n",
              "      <td>0.0</td>\n",
              "      <td>0.0</td>\n",
              "      <td>0.0</td>\n",
              "      <td>0.0</td>\n",
              "      <td>0.0</td>\n",
              "      <td>1.0</td>\n",
              "      <td>0.0</td>\n",
              "      <td>0.0</td>\n",
              "      <td>0.0</td>\n",
              "      <td>0.0</td>\n",
              "      <td>0.0</td>\n",
              "      <td>0.0</td>\n",
              "      <td>0.0</td>\n",
              "      <td>0.0</td>\n",
              "      <td>0.0</td>\n",
              "      <td>0.0</td>\n",
              "      <td>0.0</td>\n",
              "      <td>1.0</td>\n",
              "      <td>1.0</td>\n",
              "      <td>0.0</td>\n",
              "      <td>0.0</td>\n",
              "      <td>0.0</td>\n",
              "      <td>0.0</td>\n",
              "      <td>0.0</td>\n",
              "      <td>0.0</td>\n",
              "      <td>0.0</td>\n",
              "    </tr>\n",
              "  </tbody>\n",
              "</table>\n",
              "<p>10754 rows × 105 columns</p>\n",
              "</div>"
            ],
            "text/plain": [
              "         gender  device_quaility_index  ...  x4_macOS  x4_nan\n",
              "0     -1.296325              -1.308532  ...       0.0     0.0\n",
              "1      0.771411              -0.370152  ...       0.0     0.0\n",
              "2      0.771411               0.568229  ...       0.0     0.0\n",
              "3      0.771411               0.568229  ...       0.0     0.0\n",
              "4     -1.296325               0.568229  ...       0.0     0.0\n",
              "...         ...                    ...  ...       ...     ...\n",
              "10749 -1.296325               0.568229  ...       0.0     0.0\n",
              "10750  0.771411              -0.370152  ...       1.0     0.0\n",
              "10751 -1.296325               0.568229  ...       0.0     0.0\n",
              "10752  0.771411              -2.246913  ...       0.0     0.0\n",
              "10753  0.771411               0.568229  ...       0.0     0.0\n",
              "\n",
              "[10754 rows x 105 columns]"
            ]
          },
          "metadata": {},
          "execution_count": 95
        }
      ]
    },
    {
      "cell_type": "code",
      "metadata": {
        "colab": {
          "base_uri": "https://localhost:8080/"
        },
        "id": "EZx6DyOMFoJG",
        "outputId": "77062977-84ef-44b6-f840-9be1395586c0"
      },
      "source": [
        "full_pipeline.transform(X_test)"
      ],
      "execution_count": null,
      "outputs": [
        {
          "output_type": "execute_result",
          "data": {
            "text/plain": [
              "<4609x105 sparse matrix of type '<class 'numpy.float64'>'\n",
              "\twith 55283 stored elements in Compressed Sparse Row format>"
            ]
          },
          "metadata": {},
          "execution_count": 96
        }
      ]
    },
    {
      "cell_type": "markdown",
      "metadata": {
        "id": "gsLhTegFGEHg"
      },
      "source": [
        "# Full Pipeline"
      ]
    },
    {
      "cell_type": "code",
      "metadata": {
        "id": "VAGj2n-eGcq0"
      },
      "source": [
        "from sklearn.impute import SimpleImputer\n",
        "from sklearn.pipeline import Pipeline\n",
        "from sklearn.compose import ColumnTransformer\n",
        "from sklearn.base import BaseEstimator, TransformerMixin\n",
        "from sklearn.preprocessing import StandardScaler\n",
        "from sklearn.preprocessing import OneHotEncoder"
      ],
      "execution_count": null,
      "outputs": []
    },
    {
      "cell_type": "code",
      "metadata": {
        "id": "en9exXl-GqW3"
      },
      "source": [
        "most_freq_num_features = ['gender', 'device_quaility_index', \n",
        "                  'behavioral_index', 'email_index']"
      ],
      "execution_count": null,
      "outputs": []
    },
    {
      "cell_type": "code",
      "metadata": {
        "id": "9ydrOih4GqW3"
      },
      "source": [
        "median_num_features = ['age', 'salary']"
      ],
      "execution_count": null,
      "outputs": []
    },
    {
      "cell_type": "code",
      "metadata": {
        "id": "OYcGh4JcGqW4"
      },
      "source": [
        "median_num_pipe = Pipeline([\n",
        "          ('imputer', SimpleImputer(strategy=\"median\"))])"
      ],
      "execution_count": null,
      "outputs": []
    },
    {
      "cell_type": "code",
      "metadata": {
        "id": "HDnUkMRyGqW4"
      },
      "source": [
        "most_freq_pipe = Pipeline([\n",
        "          ('imputer', SimpleImputer(strategy=\"most_frequent\"))])"
      ],
      "execution_count": null,
      "outputs": []
    },
    {
      "cell_type": "code",
      "metadata": {
        "id": "30JPeHSaGqW4"
      },
      "source": [
        "fillna_pipe = ColumnTransformer([\n",
        "        (\"most_freq\", most_freq_pipe, most_freq_num_features),\n",
        "        (\"median\", median_num_pipe, median_num_features),\n",
        "    ])"
      ],
      "execution_count": null,
      "outputs": []
    },
    {
      "cell_type": "code",
      "metadata": {
        "id": "3j1pjk3IG7pm"
      },
      "source": [
        "# column index\n",
        "age_ix, salary_ix = 4, 5\n",
        "\n",
        "class CombinedAttributesAdder(BaseEstimator, TransformerMixin):\n",
        "    def __init__(self): # no *args or **kargs\n",
        "        pass\n",
        "    def fit(self, X, y=None):\n",
        "        return self  # nothing else to do\n",
        "\n",
        "    def transform(self, X):\n",
        "        salary_over_age = X[:, 5] / X[:, 4]\n",
        "\n",
        "\n",
        "        return np.c_[X, salary_over_age]\n",
        "\n",
        "## todo atribute adder with target encoding"
      ],
      "execution_count": null,
      "outputs": []
    },
    {
      "cell_type": "code",
      "metadata": {
        "id": "NmMd0mFvG7pn"
      },
      "source": [
        "attr_adder = CombinedAttributesAdder()"
      ],
      "execution_count": null,
      "outputs": []
    },
    {
      "cell_type": "code",
      "metadata": {
        "id": "6r-AgWxLG7pn"
      },
      "source": [
        "num_pipeline = Pipeline([\n",
        "        ('imputer', fillna_pipe),\n",
        "        ('attribs_adder', CombinedAttributesAdder()),\n",
        "        ('std_scaler', StandardScaler()),\n",
        "    ])"
      ],
      "execution_count": null,
      "outputs": []
    },
    {
      "cell_type": "code",
      "metadata": {
        "id": "PgixSYRDHMTo"
      },
      "source": [
        "num_attribs = ['gender',\n",
        " 'device_quaility_index',\n",
        " 'behavioral_index',\n",
        " 'age',\n",
        " 'salary',\n",
        " 'email_index']"
      ],
      "execution_count": null,
      "outputs": []
    },
    {
      "cell_type": "code",
      "metadata": {
        "id": "uxhyqLlyHMTp"
      },
      "source": [
        "cat_attribs = ['type_of_document',\n",
        " 'email_domain_formatted',\n",
        " 'social_status',\n",
        " 'disbursment_type',\n",
        " 'os']"
      ],
      "execution_count": null,
      "outputs": []
    },
    {
      "cell_type": "code",
      "metadata": {
        "id": "HxodDDbpHMTp"
      },
      "source": [
        "full_pipeline = ColumnTransformer([\n",
        "        (\"num\", num_pipeline, num_attribs),\n",
        "        (\"cat\", OneHotEncoder(handle_unknown='ignore'), cat_attribs),\n",
        "    ])"
      ],
      "execution_count": null,
      "outputs": []
    },
    {
      "cell_type": "code",
      "metadata": {
        "id": "PIEll9DYHmED"
      },
      "source": [
        "t = pd.DataFrame(full_pipeline.fit_transform(X_train).toarray())"
      ],
      "execution_count": null,
      "outputs": []
    },
    {
      "cell_type": "code",
      "metadata": {
        "colab": {
          "base_uri": "https://localhost:8080/"
        },
        "id": "n6pO2DIsHmEE",
        "outputId": "8b34a706-313f-42dd-a8bd-13121a9bd340"
      },
      "source": [
        "cat_features_names = list(full_pipeline.transformers_[1][1].get_feature_names())"
      ],
      "execution_count": null,
      "outputs": [
        {
          "output_type": "stream",
          "name": "stderr",
          "text": [
            "/usr/local/lib/python3.7/dist-packages/sklearn/utils/deprecation.py:87: FutureWarning: Function get_feature_names is deprecated; get_feature_names is deprecated in 1.0 and will be removed in 1.2. Please use get_feature_names_out instead.\n",
            "  warnings.warn(msg, category=FutureWarning)\n"
          ]
        }
      ]
    },
    {
      "cell_type": "code",
      "metadata": {
        "id": "7SR9_UU8HmEE"
      },
      "source": [
        "t.columns = most_freq_num_features+median_num_features + \\\n",
        "            ['salary_over_age'] + cat_features_names"
      ],
      "execution_count": null,
      "outputs": []
    },
    {
      "cell_type": "code",
      "metadata": {
        "colab": {
          "base_uri": "https://localhost:8080/",
          "height": 531
        },
        "id": "MtEWmesPHwIs",
        "outputId": "12fa2d46-f4d2-4e71-8572-8cf941decd73"
      },
      "source": [
        "t"
      ],
      "execution_count": null,
      "outputs": [
        {
          "output_type": "execute_result",
          "data": {
            "text/html": [
              "<div>\n",
              "<style scoped>\n",
              "    .dataframe tbody tr th:only-of-type {\n",
              "        vertical-align: middle;\n",
              "    }\n",
              "\n",
              "    .dataframe tbody tr th {\n",
              "        vertical-align: top;\n",
              "    }\n",
              "\n",
              "    .dataframe thead th {\n",
              "        text-align: right;\n",
              "    }\n",
              "</style>\n",
              "<table border=\"1\" class=\"dataframe\">\n",
              "  <thead>\n",
              "    <tr style=\"text-align: right;\">\n",
              "      <th></th>\n",
              "      <th>gender</th>\n",
              "      <th>device_quaility_index</th>\n",
              "      <th>behavioral_index</th>\n",
              "      <th>email_index</th>\n",
              "      <th>age</th>\n",
              "      <th>salary</th>\n",
              "      <th>salary_over_age</th>\n",
              "      <th>x0_Driver license ID</th>\n",
              "      <th>x0_PRC</th>\n",
              "      <th>x0_Passport</th>\n",
              "      <th>x0_SSS</th>\n",
              "      <th>x0_TIN</th>\n",
              "      <th>x0_UMID</th>\n",
              "      <th>x1_ABS-CBN.COM</th>\n",
              "      <th>x1_ABSOLUTELYCANDO.COM</th>\n",
              "      <th>x1_AMSAMOA.EDU</th>\n",
              "      <th>x1_AOL.COM</th>\n",
              "      <th>x1_BOLTONINTERNATIONAL.COM</th>\n",
              "      <th>x1_BULSU.EDU.PH</th>\n",
              "      <th>x1_BURGANDRILLING.COM</th>\n",
              "      <th>x1_CAREMIN.COM</th>\n",
              "      <th>x1_CIIF.PH</th>\n",
              "      <th>x1_CPSCTECH.ORG</th>\n",
              "      <th>x1_DAVIESPAINTS.COM.PH</th>\n",
              "      <th>x1_DEPED.GOV.PH</th>\n",
              "      <th>x1_DEPEDQC.PH</th>\n",
              "      <th>x1_DEXCOM.COM</th>\n",
              "      <th>x1_DLSU.EDU.PH</th>\n",
              "      <th>x1_EMAIL.COM</th>\n",
              "      <th>x1_EMAIL.COM.PH</th>\n",
              "      <th>x1_EMAIL.PH</th>\n",
              "      <th>x1_EXELCIUSPH.COM</th>\n",
              "      <th>x1_FRONTIER.COM</th>\n",
              "      <th>x1_GLOBE.COM.PH</th>\n",
              "      <th>x1_GLOBEPARTNERS.COM.PH</th>\n",
              "      <th>x1_GMA.COM</th>\n",
              "      <th>x1_GMAIL.COM</th>\n",
              "      <th>x1_GMX.COM</th>\n",
              "      <th>x1_GSIS.GOV.PH</th>\n",
              "      <th>x1_HARADA.COM.PH</th>\n",
              "      <th>...</th>\n",
              "      <th>x1_REDRIBBONBAKESHOP.COM.PH</th>\n",
              "      <th>x1_RGOC.COM.PH</th>\n",
              "      <th>x1_ROCKETMAIL.COM</th>\n",
              "      <th>x1_SECDEP.ORG</th>\n",
              "      <th>x1_SFXC.EDU.PH</th>\n",
              "      <th>x1_TELUS.COM</th>\n",
              "      <th>x1_UPHSL.EDU.PH</th>\n",
              "      <th>x1_USA.COM</th>\n",
              "      <th>x1_UZ.EDU.PH</th>\n",
              "      <th>x1_WGROUP.COM.PH</th>\n",
              "      <th>x1_WHITESHIELD.PH</th>\n",
              "      <th>x1_YAHOO.CO.NZ</th>\n",
              "      <th>x1_YAHOO.CO.UK</th>\n",
              "      <th>x1_YAHOO.COM</th>\n",
              "      <th>x1_YAHOO.COM.PH</th>\n",
              "      <th>x1_YAHOO.COM.SG</th>\n",
              "      <th>x1_YANDEX.COM</th>\n",
              "      <th>x1_YMAIL.COM</th>\n",
              "      <th>x2_BPO Professionals</th>\n",
              "      <th>x2_Business Owner</th>\n",
              "      <th>x2_Financial Services</th>\n",
              "      <th>x2_Freelance</th>\n",
              "      <th>x2_Government Employee</th>\n",
              "      <th>x2_Other</th>\n",
              "      <th>x2_Private Company Employee</th>\n",
              "      <th>x2_Professional Worker (Doctors, Engineers, Accountants, etc.)</th>\n",
              "      <th>x2_Retail Worker</th>\n",
              "      <th>x2_Retired</th>\n",
              "      <th>x2_Self-Employed</th>\n",
              "      <th>x2_Unemployed</th>\n",
              "      <th>x3_Bank</th>\n",
              "      <th>x3_E-wallet</th>\n",
              "      <th>x4_Android</th>\n",
              "      <th>x4_Chrome OS</th>\n",
              "      <th>x4_Linux</th>\n",
              "      <th>x4_OS X</th>\n",
              "      <th>x4_Windows</th>\n",
              "      <th>x4_iOS</th>\n",
              "      <th>x4_macOS</th>\n",
              "      <th>x4_nan</th>\n",
              "    </tr>\n",
              "  </thead>\n",
              "  <tbody>\n",
              "    <tr>\n",
              "      <th>0</th>\n",
              "      <td>-1.296325</td>\n",
              "      <td>-1.308532</td>\n",
              "      <td>1.046387</td>\n",
              "      <td>-0.658811</td>\n",
              "      <td>-1.224148</td>\n",
              "      <td>-0.009906</td>\n",
              "      <td>-0.009285</td>\n",
              "      <td>0.0</td>\n",
              "      <td>0.0</td>\n",
              "      <td>0.0</td>\n",
              "      <td>0.0</td>\n",
              "      <td>0.0</td>\n",
              "      <td>1.0</td>\n",
              "      <td>0.0</td>\n",
              "      <td>0.0</td>\n",
              "      <td>0.0</td>\n",
              "      <td>0.0</td>\n",
              "      <td>0.0</td>\n",
              "      <td>0.0</td>\n",
              "      <td>0.0</td>\n",
              "      <td>0.0</td>\n",
              "      <td>0.0</td>\n",
              "      <td>0.0</td>\n",
              "      <td>0.0</td>\n",
              "      <td>0.0</td>\n",
              "      <td>0.0</td>\n",
              "      <td>0.0</td>\n",
              "      <td>0.0</td>\n",
              "      <td>0.0</td>\n",
              "      <td>0.0</td>\n",
              "      <td>0.0</td>\n",
              "      <td>0.0</td>\n",
              "      <td>0.0</td>\n",
              "      <td>0.0</td>\n",
              "      <td>0.0</td>\n",
              "      <td>0.0</td>\n",
              "      <td>1.0</td>\n",
              "      <td>0.0</td>\n",
              "      <td>0.0</td>\n",
              "      <td>0.0</td>\n",
              "      <td>...</td>\n",
              "      <td>0.0</td>\n",
              "      <td>0.0</td>\n",
              "      <td>0.0</td>\n",
              "      <td>0.0</td>\n",
              "      <td>0.0</td>\n",
              "      <td>0.0</td>\n",
              "      <td>0.0</td>\n",
              "      <td>0.0</td>\n",
              "      <td>0.0</td>\n",
              "      <td>0.0</td>\n",
              "      <td>0.0</td>\n",
              "      <td>0.0</td>\n",
              "      <td>0.0</td>\n",
              "      <td>0.0</td>\n",
              "      <td>0.0</td>\n",
              "      <td>0.0</td>\n",
              "      <td>0.0</td>\n",
              "      <td>0.0</td>\n",
              "      <td>0.0</td>\n",
              "      <td>0.0</td>\n",
              "      <td>0.0</td>\n",
              "      <td>0.0</td>\n",
              "      <td>0.0</td>\n",
              "      <td>1.0</td>\n",
              "      <td>0.0</td>\n",
              "      <td>0.0</td>\n",
              "      <td>0.0</td>\n",
              "      <td>0.0</td>\n",
              "      <td>0.0</td>\n",
              "      <td>0.0</td>\n",
              "      <td>0.0</td>\n",
              "      <td>1.0</td>\n",
              "      <td>1.0</td>\n",
              "      <td>0.0</td>\n",
              "      <td>0.0</td>\n",
              "      <td>0.0</td>\n",
              "      <td>0.0</td>\n",
              "      <td>0.0</td>\n",
              "      <td>0.0</td>\n",
              "      <td>0.0</td>\n",
              "    </tr>\n",
              "    <tr>\n",
              "      <th>1</th>\n",
              "      <td>0.771411</td>\n",
              "      <td>-0.370152</td>\n",
              "      <td>1.046387</td>\n",
              "      <td>-0.658811</td>\n",
              "      <td>-0.015227</td>\n",
              "      <td>-0.010252</td>\n",
              "      <td>-0.010432</td>\n",
              "      <td>0.0</td>\n",
              "      <td>0.0</td>\n",
              "      <td>1.0</td>\n",
              "      <td>0.0</td>\n",
              "      <td>0.0</td>\n",
              "      <td>0.0</td>\n",
              "      <td>0.0</td>\n",
              "      <td>0.0</td>\n",
              "      <td>0.0</td>\n",
              "      <td>0.0</td>\n",
              "      <td>0.0</td>\n",
              "      <td>0.0</td>\n",
              "      <td>0.0</td>\n",
              "      <td>0.0</td>\n",
              "      <td>0.0</td>\n",
              "      <td>0.0</td>\n",
              "      <td>0.0</td>\n",
              "      <td>0.0</td>\n",
              "      <td>0.0</td>\n",
              "      <td>0.0</td>\n",
              "      <td>0.0</td>\n",
              "      <td>0.0</td>\n",
              "      <td>0.0</td>\n",
              "      <td>0.0</td>\n",
              "      <td>0.0</td>\n",
              "      <td>0.0</td>\n",
              "      <td>0.0</td>\n",
              "      <td>0.0</td>\n",
              "      <td>0.0</td>\n",
              "      <td>0.0</td>\n",
              "      <td>0.0</td>\n",
              "      <td>0.0</td>\n",
              "      <td>0.0</td>\n",
              "      <td>...</td>\n",
              "      <td>0.0</td>\n",
              "      <td>0.0</td>\n",
              "      <td>0.0</td>\n",
              "      <td>0.0</td>\n",
              "      <td>0.0</td>\n",
              "      <td>0.0</td>\n",
              "      <td>0.0</td>\n",
              "      <td>0.0</td>\n",
              "      <td>0.0</td>\n",
              "      <td>0.0</td>\n",
              "      <td>0.0</td>\n",
              "      <td>0.0</td>\n",
              "      <td>0.0</td>\n",
              "      <td>1.0</td>\n",
              "      <td>0.0</td>\n",
              "      <td>0.0</td>\n",
              "      <td>0.0</td>\n",
              "      <td>0.0</td>\n",
              "      <td>0.0</td>\n",
              "      <td>0.0</td>\n",
              "      <td>0.0</td>\n",
              "      <td>0.0</td>\n",
              "      <td>0.0</td>\n",
              "      <td>1.0</td>\n",
              "      <td>0.0</td>\n",
              "      <td>0.0</td>\n",
              "      <td>0.0</td>\n",
              "      <td>0.0</td>\n",
              "      <td>0.0</td>\n",
              "      <td>0.0</td>\n",
              "      <td>0.0</td>\n",
              "      <td>1.0</td>\n",
              "      <td>1.0</td>\n",
              "      <td>0.0</td>\n",
              "      <td>0.0</td>\n",
              "      <td>0.0</td>\n",
              "      <td>0.0</td>\n",
              "      <td>0.0</td>\n",
              "      <td>0.0</td>\n",
              "      <td>0.0</td>\n",
              "    </tr>\n",
              "    <tr>\n",
              "      <th>2</th>\n",
              "      <td>0.771411</td>\n",
              "      <td>0.568229</td>\n",
              "      <td>-0.012704</td>\n",
              "      <td>2.686848</td>\n",
              "      <td>0.204577</td>\n",
              "      <td>-0.009561</td>\n",
              "      <td>-0.009732</td>\n",
              "      <td>0.0</td>\n",
              "      <td>0.0</td>\n",
              "      <td>1.0</td>\n",
              "      <td>0.0</td>\n",
              "      <td>0.0</td>\n",
              "      <td>0.0</td>\n",
              "      <td>0.0</td>\n",
              "      <td>0.0</td>\n",
              "      <td>0.0</td>\n",
              "      <td>0.0</td>\n",
              "      <td>0.0</td>\n",
              "      <td>0.0</td>\n",
              "      <td>0.0</td>\n",
              "      <td>0.0</td>\n",
              "      <td>0.0</td>\n",
              "      <td>0.0</td>\n",
              "      <td>0.0</td>\n",
              "      <td>0.0</td>\n",
              "      <td>0.0</td>\n",
              "      <td>0.0</td>\n",
              "      <td>0.0</td>\n",
              "      <td>0.0</td>\n",
              "      <td>0.0</td>\n",
              "      <td>0.0</td>\n",
              "      <td>0.0</td>\n",
              "      <td>0.0</td>\n",
              "      <td>0.0</td>\n",
              "      <td>0.0</td>\n",
              "      <td>0.0</td>\n",
              "      <td>0.0</td>\n",
              "      <td>0.0</td>\n",
              "      <td>0.0</td>\n",
              "      <td>0.0</td>\n",
              "      <td>...</td>\n",
              "      <td>0.0</td>\n",
              "      <td>0.0</td>\n",
              "      <td>0.0</td>\n",
              "      <td>0.0</td>\n",
              "      <td>0.0</td>\n",
              "      <td>0.0</td>\n",
              "      <td>0.0</td>\n",
              "      <td>0.0</td>\n",
              "      <td>0.0</td>\n",
              "      <td>0.0</td>\n",
              "      <td>0.0</td>\n",
              "      <td>0.0</td>\n",
              "      <td>0.0</td>\n",
              "      <td>0.0</td>\n",
              "      <td>0.0</td>\n",
              "      <td>0.0</td>\n",
              "      <td>0.0</td>\n",
              "      <td>0.0</td>\n",
              "      <td>0.0</td>\n",
              "      <td>0.0</td>\n",
              "      <td>0.0</td>\n",
              "      <td>0.0</td>\n",
              "      <td>0.0</td>\n",
              "      <td>1.0</td>\n",
              "      <td>0.0</td>\n",
              "      <td>0.0</td>\n",
              "      <td>0.0</td>\n",
              "      <td>0.0</td>\n",
              "      <td>0.0</td>\n",
              "      <td>0.0</td>\n",
              "      <td>0.0</td>\n",
              "      <td>1.0</td>\n",
              "      <td>0.0</td>\n",
              "      <td>0.0</td>\n",
              "      <td>0.0</td>\n",
              "      <td>0.0</td>\n",
              "      <td>0.0</td>\n",
              "      <td>1.0</td>\n",
              "      <td>0.0</td>\n",
              "      <td>0.0</td>\n",
              "    </tr>\n",
              "    <tr>\n",
              "      <th>3</th>\n",
              "      <td>0.771411</td>\n",
              "      <td>0.568229</td>\n",
              "      <td>1.046387</td>\n",
              "      <td>-0.240603</td>\n",
              "      <td>-1.004344</td>\n",
              "      <td>-0.010183</td>\n",
              "      <td>-0.009903</td>\n",
              "      <td>0.0</td>\n",
              "      <td>0.0</td>\n",
              "      <td>0.0</td>\n",
              "      <td>0.0</td>\n",
              "      <td>0.0</td>\n",
              "      <td>1.0</td>\n",
              "      <td>0.0</td>\n",
              "      <td>0.0</td>\n",
              "      <td>0.0</td>\n",
              "      <td>0.0</td>\n",
              "      <td>0.0</td>\n",
              "      <td>0.0</td>\n",
              "      <td>0.0</td>\n",
              "      <td>0.0</td>\n",
              "      <td>0.0</td>\n",
              "      <td>0.0</td>\n",
              "      <td>0.0</td>\n",
              "      <td>0.0</td>\n",
              "      <td>0.0</td>\n",
              "      <td>0.0</td>\n",
              "      <td>0.0</td>\n",
              "      <td>0.0</td>\n",
              "      <td>0.0</td>\n",
              "      <td>0.0</td>\n",
              "      <td>0.0</td>\n",
              "      <td>0.0</td>\n",
              "      <td>0.0</td>\n",
              "      <td>0.0</td>\n",
              "      <td>0.0</td>\n",
              "      <td>1.0</td>\n",
              "      <td>0.0</td>\n",
              "      <td>0.0</td>\n",
              "      <td>0.0</td>\n",
              "      <td>...</td>\n",
              "      <td>0.0</td>\n",
              "      <td>0.0</td>\n",
              "      <td>0.0</td>\n",
              "      <td>0.0</td>\n",
              "      <td>0.0</td>\n",
              "      <td>0.0</td>\n",
              "      <td>0.0</td>\n",
              "      <td>0.0</td>\n",
              "      <td>0.0</td>\n",
              "      <td>0.0</td>\n",
              "      <td>0.0</td>\n",
              "      <td>0.0</td>\n",
              "      <td>0.0</td>\n",
              "      <td>0.0</td>\n",
              "      <td>0.0</td>\n",
              "      <td>0.0</td>\n",
              "      <td>0.0</td>\n",
              "      <td>0.0</td>\n",
              "      <td>0.0</td>\n",
              "      <td>0.0</td>\n",
              "      <td>0.0</td>\n",
              "      <td>0.0</td>\n",
              "      <td>0.0</td>\n",
              "      <td>0.0</td>\n",
              "      <td>0.0</td>\n",
              "      <td>1.0</td>\n",
              "      <td>0.0</td>\n",
              "      <td>0.0</td>\n",
              "      <td>0.0</td>\n",
              "      <td>0.0</td>\n",
              "      <td>1.0</td>\n",
              "      <td>0.0</td>\n",
              "      <td>0.0</td>\n",
              "      <td>0.0</td>\n",
              "      <td>0.0</td>\n",
              "      <td>0.0</td>\n",
              "      <td>0.0</td>\n",
              "      <td>1.0</td>\n",
              "      <td>0.0</td>\n",
              "      <td>0.0</td>\n",
              "    </tr>\n",
              "    <tr>\n",
              "      <th>4</th>\n",
              "      <td>-1.296325</td>\n",
              "      <td>0.568229</td>\n",
              "      <td>2.105478</td>\n",
              "      <td>-0.240603</td>\n",
              "      <td>1.633301</td>\n",
              "      <td>-0.008524</td>\n",
              "      <td>-0.009379</td>\n",
              "      <td>1.0</td>\n",
              "      <td>0.0</td>\n",
              "      <td>0.0</td>\n",
              "      <td>0.0</td>\n",
              "      <td>0.0</td>\n",
              "      <td>0.0</td>\n",
              "      <td>0.0</td>\n",
              "      <td>0.0</td>\n",
              "      <td>0.0</td>\n",
              "      <td>0.0</td>\n",
              "      <td>0.0</td>\n",
              "      <td>0.0</td>\n",
              "      <td>0.0</td>\n",
              "      <td>0.0</td>\n",
              "      <td>0.0</td>\n",
              "      <td>0.0</td>\n",
              "      <td>0.0</td>\n",
              "      <td>0.0</td>\n",
              "      <td>0.0</td>\n",
              "      <td>0.0</td>\n",
              "      <td>0.0</td>\n",
              "      <td>0.0</td>\n",
              "      <td>0.0</td>\n",
              "      <td>0.0</td>\n",
              "      <td>0.0</td>\n",
              "      <td>0.0</td>\n",
              "      <td>0.0</td>\n",
              "      <td>0.0</td>\n",
              "      <td>0.0</td>\n",
              "      <td>1.0</td>\n",
              "      <td>0.0</td>\n",
              "      <td>0.0</td>\n",
              "      <td>0.0</td>\n",
              "      <td>...</td>\n",
              "      <td>0.0</td>\n",
              "      <td>0.0</td>\n",
              "      <td>0.0</td>\n",
              "      <td>0.0</td>\n",
              "      <td>0.0</td>\n",
              "      <td>0.0</td>\n",
              "      <td>0.0</td>\n",
              "      <td>0.0</td>\n",
              "      <td>0.0</td>\n",
              "      <td>0.0</td>\n",
              "      <td>0.0</td>\n",
              "      <td>0.0</td>\n",
              "      <td>0.0</td>\n",
              "      <td>0.0</td>\n",
              "      <td>0.0</td>\n",
              "      <td>0.0</td>\n",
              "      <td>0.0</td>\n",
              "      <td>0.0</td>\n",
              "      <td>0.0</td>\n",
              "      <td>1.0</td>\n",
              "      <td>0.0</td>\n",
              "      <td>0.0</td>\n",
              "      <td>0.0</td>\n",
              "      <td>0.0</td>\n",
              "      <td>0.0</td>\n",
              "      <td>0.0</td>\n",
              "      <td>0.0</td>\n",
              "      <td>0.0</td>\n",
              "      <td>0.0</td>\n",
              "      <td>0.0</td>\n",
              "      <td>0.0</td>\n",
              "      <td>1.0</td>\n",
              "      <td>1.0</td>\n",
              "      <td>0.0</td>\n",
              "      <td>0.0</td>\n",
              "      <td>0.0</td>\n",
              "      <td>0.0</td>\n",
              "      <td>0.0</td>\n",
              "      <td>0.0</td>\n",
              "      <td>0.0</td>\n",
              "    </tr>\n",
              "    <tr>\n",
              "      <th>...</th>\n",
              "      <td>...</td>\n",
              "      <td>...</td>\n",
              "      <td>...</td>\n",
              "      <td>...</td>\n",
              "      <td>...</td>\n",
              "      <td>...</td>\n",
              "      <td>...</td>\n",
              "      <td>...</td>\n",
              "      <td>...</td>\n",
              "      <td>...</td>\n",
              "      <td>...</td>\n",
              "      <td>...</td>\n",
              "      <td>...</td>\n",
              "      <td>...</td>\n",
              "      <td>...</td>\n",
              "      <td>...</td>\n",
              "      <td>...</td>\n",
              "      <td>...</td>\n",
              "      <td>...</td>\n",
              "      <td>...</td>\n",
              "      <td>...</td>\n",
              "      <td>...</td>\n",
              "      <td>...</td>\n",
              "      <td>...</td>\n",
              "      <td>...</td>\n",
              "      <td>...</td>\n",
              "      <td>...</td>\n",
              "      <td>...</td>\n",
              "      <td>...</td>\n",
              "      <td>...</td>\n",
              "      <td>...</td>\n",
              "      <td>...</td>\n",
              "      <td>...</td>\n",
              "      <td>...</td>\n",
              "      <td>...</td>\n",
              "      <td>...</td>\n",
              "      <td>...</td>\n",
              "      <td>...</td>\n",
              "      <td>...</td>\n",
              "      <td>...</td>\n",
              "      <td>...</td>\n",
              "      <td>...</td>\n",
              "      <td>...</td>\n",
              "      <td>...</td>\n",
              "      <td>...</td>\n",
              "      <td>...</td>\n",
              "      <td>...</td>\n",
              "      <td>...</td>\n",
              "      <td>...</td>\n",
              "      <td>...</td>\n",
              "      <td>...</td>\n",
              "      <td>...</td>\n",
              "      <td>...</td>\n",
              "      <td>...</td>\n",
              "      <td>...</td>\n",
              "      <td>...</td>\n",
              "      <td>...</td>\n",
              "      <td>...</td>\n",
              "      <td>...</td>\n",
              "      <td>...</td>\n",
              "      <td>...</td>\n",
              "      <td>...</td>\n",
              "      <td>...</td>\n",
              "      <td>...</td>\n",
              "      <td>...</td>\n",
              "      <td>...</td>\n",
              "      <td>...</td>\n",
              "      <td>...</td>\n",
              "      <td>...</td>\n",
              "      <td>...</td>\n",
              "      <td>...</td>\n",
              "      <td>...</td>\n",
              "      <td>...</td>\n",
              "      <td>...</td>\n",
              "      <td>...</td>\n",
              "      <td>...</td>\n",
              "      <td>...</td>\n",
              "      <td>...</td>\n",
              "      <td>...</td>\n",
              "      <td>...</td>\n",
              "      <td>...</td>\n",
              "    </tr>\n",
              "    <tr>\n",
              "      <th>10749</th>\n",
              "      <td>-1.296325</td>\n",
              "      <td>0.568229</td>\n",
              "      <td>-1.071796</td>\n",
              "      <td>-0.240603</td>\n",
              "      <td>-1.224148</td>\n",
              "      <td>-0.009630</td>\n",
              "      <td>-0.008812</td>\n",
              "      <td>0.0</td>\n",
              "      <td>0.0</td>\n",
              "      <td>0.0</td>\n",
              "      <td>0.0</td>\n",
              "      <td>1.0</td>\n",
              "      <td>0.0</td>\n",
              "      <td>0.0</td>\n",
              "      <td>0.0</td>\n",
              "      <td>0.0</td>\n",
              "      <td>0.0</td>\n",
              "      <td>0.0</td>\n",
              "      <td>0.0</td>\n",
              "      <td>0.0</td>\n",
              "      <td>0.0</td>\n",
              "      <td>0.0</td>\n",
              "      <td>0.0</td>\n",
              "      <td>0.0</td>\n",
              "      <td>0.0</td>\n",
              "      <td>0.0</td>\n",
              "      <td>0.0</td>\n",
              "      <td>0.0</td>\n",
              "      <td>0.0</td>\n",
              "      <td>0.0</td>\n",
              "      <td>0.0</td>\n",
              "      <td>0.0</td>\n",
              "      <td>0.0</td>\n",
              "      <td>0.0</td>\n",
              "      <td>0.0</td>\n",
              "      <td>0.0</td>\n",
              "      <td>1.0</td>\n",
              "      <td>0.0</td>\n",
              "      <td>0.0</td>\n",
              "      <td>0.0</td>\n",
              "      <td>...</td>\n",
              "      <td>0.0</td>\n",
              "      <td>0.0</td>\n",
              "      <td>0.0</td>\n",
              "      <td>0.0</td>\n",
              "      <td>0.0</td>\n",
              "      <td>0.0</td>\n",
              "      <td>0.0</td>\n",
              "      <td>0.0</td>\n",
              "      <td>0.0</td>\n",
              "      <td>0.0</td>\n",
              "      <td>0.0</td>\n",
              "      <td>0.0</td>\n",
              "      <td>0.0</td>\n",
              "      <td>0.0</td>\n",
              "      <td>0.0</td>\n",
              "      <td>0.0</td>\n",
              "      <td>0.0</td>\n",
              "      <td>0.0</td>\n",
              "      <td>0.0</td>\n",
              "      <td>0.0</td>\n",
              "      <td>0.0</td>\n",
              "      <td>0.0</td>\n",
              "      <td>0.0</td>\n",
              "      <td>0.0</td>\n",
              "      <td>1.0</td>\n",
              "      <td>0.0</td>\n",
              "      <td>0.0</td>\n",
              "      <td>0.0</td>\n",
              "      <td>0.0</td>\n",
              "      <td>0.0</td>\n",
              "      <td>0.0</td>\n",
              "      <td>1.0</td>\n",
              "      <td>1.0</td>\n",
              "      <td>0.0</td>\n",
              "      <td>0.0</td>\n",
              "      <td>0.0</td>\n",
              "      <td>0.0</td>\n",
              "      <td>0.0</td>\n",
              "      <td>0.0</td>\n",
              "      <td>0.0</td>\n",
              "    </tr>\n",
              "    <tr>\n",
              "      <th>10750</th>\n",
              "      <td>0.771411</td>\n",
              "      <td>-0.370152</td>\n",
              "      <td>-0.012704</td>\n",
              "      <td>-0.240603</td>\n",
              "      <td>-1.004344</td>\n",
              "      <td>-0.009630</td>\n",
              "      <td>-0.009031</td>\n",
              "      <td>0.0</td>\n",
              "      <td>0.0</td>\n",
              "      <td>0.0</td>\n",
              "      <td>0.0</td>\n",
              "      <td>0.0</td>\n",
              "      <td>1.0</td>\n",
              "      <td>0.0</td>\n",
              "      <td>0.0</td>\n",
              "      <td>0.0</td>\n",
              "      <td>0.0</td>\n",
              "      <td>0.0</td>\n",
              "      <td>0.0</td>\n",
              "      <td>0.0</td>\n",
              "      <td>0.0</td>\n",
              "      <td>0.0</td>\n",
              "      <td>0.0</td>\n",
              "      <td>0.0</td>\n",
              "      <td>0.0</td>\n",
              "      <td>0.0</td>\n",
              "      <td>0.0</td>\n",
              "      <td>0.0</td>\n",
              "      <td>0.0</td>\n",
              "      <td>0.0</td>\n",
              "      <td>0.0</td>\n",
              "      <td>0.0</td>\n",
              "      <td>0.0</td>\n",
              "      <td>0.0</td>\n",
              "      <td>0.0</td>\n",
              "      <td>0.0</td>\n",
              "      <td>0.0</td>\n",
              "      <td>0.0</td>\n",
              "      <td>0.0</td>\n",
              "      <td>0.0</td>\n",
              "      <td>...</td>\n",
              "      <td>0.0</td>\n",
              "      <td>0.0</td>\n",
              "      <td>0.0</td>\n",
              "      <td>0.0</td>\n",
              "      <td>0.0</td>\n",
              "      <td>0.0</td>\n",
              "      <td>0.0</td>\n",
              "      <td>0.0</td>\n",
              "      <td>0.0</td>\n",
              "      <td>0.0</td>\n",
              "      <td>0.0</td>\n",
              "      <td>0.0</td>\n",
              "      <td>0.0</td>\n",
              "      <td>1.0</td>\n",
              "      <td>0.0</td>\n",
              "      <td>0.0</td>\n",
              "      <td>0.0</td>\n",
              "      <td>0.0</td>\n",
              "      <td>1.0</td>\n",
              "      <td>0.0</td>\n",
              "      <td>0.0</td>\n",
              "      <td>0.0</td>\n",
              "      <td>0.0</td>\n",
              "      <td>0.0</td>\n",
              "      <td>0.0</td>\n",
              "      <td>0.0</td>\n",
              "      <td>0.0</td>\n",
              "      <td>0.0</td>\n",
              "      <td>0.0</td>\n",
              "      <td>0.0</td>\n",
              "      <td>1.0</td>\n",
              "      <td>0.0</td>\n",
              "      <td>0.0</td>\n",
              "      <td>0.0</td>\n",
              "      <td>0.0</td>\n",
              "      <td>0.0</td>\n",
              "      <td>0.0</td>\n",
              "      <td>0.0</td>\n",
              "      <td>1.0</td>\n",
              "      <td>0.0</td>\n",
              "    </tr>\n",
              "    <tr>\n",
              "      <th>10751</th>\n",
              "      <td>-1.296325</td>\n",
              "      <td>0.568229</td>\n",
              "      <td>-0.012704</td>\n",
              "      <td>2.686848</td>\n",
              "      <td>-1.224148</td>\n",
              "      <td>-0.010045</td>\n",
              "      <td>-0.009521</td>\n",
              "      <td>1.0</td>\n",
              "      <td>0.0</td>\n",
              "      <td>0.0</td>\n",
              "      <td>0.0</td>\n",
              "      <td>0.0</td>\n",
              "      <td>0.0</td>\n",
              "      <td>0.0</td>\n",
              "      <td>0.0</td>\n",
              "      <td>0.0</td>\n",
              "      <td>0.0</td>\n",
              "      <td>0.0</td>\n",
              "      <td>0.0</td>\n",
              "      <td>0.0</td>\n",
              "      <td>0.0</td>\n",
              "      <td>0.0</td>\n",
              "      <td>0.0</td>\n",
              "      <td>0.0</td>\n",
              "      <td>0.0</td>\n",
              "      <td>0.0</td>\n",
              "      <td>0.0</td>\n",
              "      <td>0.0</td>\n",
              "      <td>0.0</td>\n",
              "      <td>0.0</td>\n",
              "      <td>0.0</td>\n",
              "      <td>0.0</td>\n",
              "      <td>0.0</td>\n",
              "      <td>0.0</td>\n",
              "      <td>0.0</td>\n",
              "      <td>0.0</td>\n",
              "      <td>1.0</td>\n",
              "      <td>0.0</td>\n",
              "      <td>0.0</td>\n",
              "      <td>0.0</td>\n",
              "      <td>...</td>\n",
              "      <td>0.0</td>\n",
              "      <td>0.0</td>\n",
              "      <td>0.0</td>\n",
              "      <td>0.0</td>\n",
              "      <td>0.0</td>\n",
              "      <td>0.0</td>\n",
              "      <td>0.0</td>\n",
              "      <td>0.0</td>\n",
              "      <td>0.0</td>\n",
              "      <td>0.0</td>\n",
              "      <td>0.0</td>\n",
              "      <td>0.0</td>\n",
              "      <td>0.0</td>\n",
              "      <td>0.0</td>\n",
              "      <td>0.0</td>\n",
              "      <td>0.0</td>\n",
              "      <td>0.0</td>\n",
              "      <td>0.0</td>\n",
              "      <td>0.0</td>\n",
              "      <td>0.0</td>\n",
              "      <td>0.0</td>\n",
              "      <td>0.0</td>\n",
              "      <td>0.0</td>\n",
              "      <td>0.0</td>\n",
              "      <td>0.0</td>\n",
              "      <td>0.0</td>\n",
              "      <td>0.0</td>\n",
              "      <td>0.0</td>\n",
              "      <td>1.0</td>\n",
              "      <td>0.0</td>\n",
              "      <td>0.0</td>\n",
              "      <td>1.0</td>\n",
              "      <td>1.0</td>\n",
              "      <td>0.0</td>\n",
              "      <td>0.0</td>\n",
              "      <td>0.0</td>\n",
              "      <td>0.0</td>\n",
              "      <td>0.0</td>\n",
              "      <td>0.0</td>\n",
              "      <td>0.0</td>\n",
              "    </tr>\n",
              "    <tr>\n",
              "      <th>10752</th>\n",
              "      <td>0.771411</td>\n",
              "      <td>-2.246913</td>\n",
              "      <td>-1.071796</td>\n",
              "      <td>-0.240603</td>\n",
              "      <td>-0.784541</td>\n",
              "      <td>-0.009561</td>\n",
              "      <td>-0.009116</td>\n",
              "      <td>0.0</td>\n",
              "      <td>0.0</td>\n",
              "      <td>0.0</td>\n",
              "      <td>0.0</td>\n",
              "      <td>0.0</td>\n",
              "      <td>1.0</td>\n",
              "      <td>0.0</td>\n",
              "      <td>0.0</td>\n",
              "      <td>0.0</td>\n",
              "      <td>0.0</td>\n",
              "      <td>0.0</td>\n",
              "      <td>0.0</td>\n",
              "      <td>0.0</td>\n",
              "      <td>0.0</td>\n",
              "      <td>0.0</td>\n",
              "      <td>0.0</td>\n",
              "      <td>0.0</td>\n",
              "      <td>0.0</td>\n",
              "      <td>0.0</td>\n",
              "      <td>0.0</td>\n",
              "      <td>0.0</td>\n",
              "      <td>0.0</td>\n",
              "      <td>0.0</td>\n",
              "      <td>0.0</td>\n",
              "      <td>0.0</td>\n",
              "      <td>0.0</td>\n",
              "      <td>0.0</td>\n",
              "      <td>0.0</td>\n",
              "      <td>0.0</td>\n",
              "      <td>1.0</td>\n",
              "      <td>0.0</td>\n",
              "      <td>0.0</td>\n",
              "      <td>0.0</td>\n",
              "      <td>...</td>\n",
              "      <td>0.0</td>\n",
              "      <td>0.0</td>\n",
              "      <td>0.0</td>\n",
              "      <td>0.0</td>\n",
              "      <td>0.0</td>\n",
              "      <td>0.0</td>\n",
              "      <td>0.0</td>\n",
              "      <td>0.0</td>\n",
              "      <td>0.0</td>\n",
              "      <td>0.0</td>\n",
              "      <td>0.0</td>\n",
              "      <td>0.0</td>\n",
              "      <td>0.0</td>\n",
              "      <td>0.0</td>\n",
              "      <td>0.0</td>\n",
              "      <td>0.0</td>\n",
              "      <td>0.0</td>\n",
              "      <td>0.0</td>\n",
              "      <td>1.0</td>\n",
              "      <td>0.0</td>\n",
              "      <td>0.0</td>\n",
              "      <td>0.0</td>\n",
              "      <td>0.0</td>\n",
              "      <td>0.0</td>\n",
              "      <td>0.0</td>\n",
              "      <td>0.0</td>\n",
              "      <td>0.0</td>\n",
              "      <td>0.0</td>\n",
              "      <td>0.0</td>\n",
              "      <td>0.0</td>\n",
              "      <td>1.0</td>\n",
              "      <td>0.0</td>\n",
              "      <td>1.0</td>\n",
              "      <td>0.0</td>\n",
              "      <td>0.0</td>\n",
              "      <td>0.0</td>\n",
              "      <td>0.0</td>\n",
              "      <td>0.0</td>\n",
              "      <td>0.0</td>\n",
              "      <td>0.0</td>\n",
              "    </tr>\n",
              "    <tr>\n",
              "      <th>10753</th>\n",
              "      <td>0.771411</td>\n",
              "      <td>0.568229</td>\n",
              "      <td>-1.071796</td>\n",
              "      <td>-0.240603</td>\n",
              "      <td>0.314478</td>\n",
              "      <td>-0.011082</td>\n",
              "      <td>-0.011423</td>\n",
              "      <td>0.0</td>\n",
              "      <td>0.0</td>\n",
              "      <td>0.0</td>\n",
              "      <td>1.0</td>\n",
              "      <td>0.0</td>\n",
              "      <td>0.0</td>\n",
              "      <td>0.0</td>\n",
              "      <td>0.0</td>\n",
              "      <td>0.0</td>\n",
              "      <td>0.0</td>\n",
              "      <td>0.0</td>\n",
              "      <td>0.0</td>\n",
              "      <td>0.0</td>\n",
              "      <td>0.0</td>\n",
              "      <td>0.0</td>\n",
              "      <td>0.0</td>\n",
              "      <td>0.0</td>\n",
              "      <td>0.0</td>\n",
              "      <td>0.0</td>\n",
              "      <td>0.0</td>\n",
              "      <td>0.0</td>\n",
              "      <td>0.0</td>\n",
              "      <td>0.0</td>\n",
              "      <td>0.0</td>\n",
              "      <td>0.0</td>\n",
              "      <td>0.0</td>\n",
              "      <td>0.0</td>\n",
              "      <td>0.0</td>\n",
              "      <td>0.0</td>\n",
              "      <td>1.0</td>\n",
              "      <td>0.0</td>\n",
              "      <td>0.0</td>\n",
              "      <td>0.0</td>\n",
              "      <td>...</td>\n",
              "      <td>0.0</td>\n",
              "      <td>0.0</td>\n",
              "      <td>0.0</td>\n",
              "      <td>0.0</td>\n",
              "      <td>0.0</td>\n",
              "      <td>0.0</td>\n",
              "      <td>0.0</td>\n",
              "      <td>0.0</td>\n",
              "      <td>0.0</td>\n",
              "      <td>0.0</td>\n",
              "      <td>0.0</td>\n",
              "      <td>0.0</td>\n",
              "      <td>0.0</td>\n",
              "      <td>0.0</td>\n",
              "      <td>0.0</td>\n",
              "      <td>0.0</td>\n",
              "      <td>0.0</td>\n",
              "      <td>0.0</td>\n",
              "      <td>0.0</td>\n",
              "      <td>1.0</td>\n",
              "      <td>0.0</td>\n",
              "      <td>0.0</td>\n",
              "      <td>0.0</td>\n",
              "      <td>0.0</td>\n",
              "      <td>0.0</td>\n",
              "      <td>0.0</td>\n",
              "      <td>0.0</td>\n",
              "      <td>0.0</td>\n",
              "      <td>0.0</td>\n",
              "      <td>0.0</td>\n",
              "      <td>0.0</td>\n",
              "      <td>1.0</td>\n",
              "      <td>1.0</td>\n",
              "      <td>0.0</td>\n",
              "      <td>0.0</td>\n",
              "      <td>0.0</td>\n",
              "      <td>0.0</td>\n",
              "      <td>0.0</td>\n",
              "      <td>0.0</td>\n",
              "      <td>0.0</td>\n",
              "    </tr>\n",
              "  </tbody>\n",
              "</table>\n",
              "<p>10754 rows × 105 columns</p>\n",
              "</div>"
            ],
            "text/plain": [
              "         gender  device_quaility_index  ...  x4_macOS  x4_nan\n",
              "0     -1.296325              -1.308532  ...       0.0     0.0\n",
              "1      0.771411              -0.370152  ...       0.0     0.0\n",
              "2      0.771411               0.568229  ...       0.0     0.0\n",
              "3      0.771411               0.568229  ...       0.0     0.0\n",
              "4     -1.296325               0.568229  ...       0.0     0.0\n",
              "...         ...                    ...  ...       ...     ...\n",
              "10749 -1.296325               0.568229  ...       0.0     0.0\n",
              "10750  0.771411              -0.370152  ...       1.0     0.0\n",
              "10751 -1.296325               0.568229  ...       0.0     0.0\n",
              "10752  0.771411              -2.246913  ...       0.0     0.0\n",
              "10753  0.771411               0.568229  ...       0.0     0.0\n",
              "\n",
              "[10754 rows x 105 columns]"
            ]
          },
          "metadata": {},
          "execution_count": 112
        }
      ]
    },
    {
      "cell_type": "markdown",
      "metadata": {
        "id": "L3eGFlBAHwZ0"
      },
      "source": [
        "# Modeling"
      ]
    },
    {
      "cell_type": "code",
      "metadata": {
        "id": "cUQEGQqRIzw1"
      },
      "source": [
        "from sklearn.linear_model import LogisticRegression"
      ],
      "execution_count": null,
      "outputs": []
    },
    {
      "cell_type": "code",
      "metadata": {
        "id": "fjHBi8yTJNos"
      },
      "source": [
        "X_train_prep = pd.DataFrame(full_pipeline.fit_transform(X_train).toarray())"
      ],
      "execution_count": null,
      "outputs": []
    },
    {
      "cell_type": "code",
      "metadata": {
        "colab": {
          "base_uri": "https://localhost:8080/"
        },
        "id": "BUUlUaM1JNot",
        "outputId": "2c5f319f-248e-4738-b14f-517f88694fb0"
      },
      "source": [
        "cat_features_names = list(full_pipeline.transformers_[1][1].get_feature_names())"
      ],
      "execution_count": null,
      "outputs": [
        {
          "output_type": "stream",
          "name": "stderr",
          "text": [
            "/usr/local/lib/python3.7/dist-packages/sklearn/utils/deprecation.py:87: FutureWarning: Function get_feature_names is deprecated; get_feature_names is deprecated in 1.0 and will be removed in 1.2. Please use get_feature_names_out instead.\n",
            "  warnings.warn(msg, category=FutureWarning)\n"
          ]
        }
      ]
    },
    {
      "cell_type": "code",
      "metadata": {
        "id": "GZTOgYlgJNot"
      },
      "source": [
        "X_train_prep.columns = most_freq_num_features+median_num_features + \\\n",
        "            ['salary_over_age'] + cat_features_names"
      ],
      "execution_count": null,
      "outputs": []
    },
    {
      "cell_type": "code",
      "metadata": {
        "id": "4YwQwXQiIy9Z"
      },
      "source": [
        "log_reg = LogisticRegression(max_iter=10000)"
      ],
      "execution_count": null,
      "outputs": []
    },
    {
      "cell_type": "code",
      "metadata": {
        "id": "PO3rpNkrKeSh"
      },
      "source": [
        "from sklearn.tree import DecisionTreeClassifier\n",
        "\n",
        "tree_reg = DecisionTreeClassifier(random_state=42)"
      ],
      "execution_count": null,
      "outputs": []
    },
    {
      "cell_type": "code",
      "metadata": {
        "id": "F4B90BN-JCdv"
      },
      "source": [
        "from sklearn.model_selection import cross_val_score"
      ],
      "execution_count": null,
      "outputs": []
    },
    {
      "cell_type": "code",
      "metadata": {
        "id": "YF_mwmtKJHJa"
      },
      "source": [
        "from sklearn.metrics import roc_auc_score, average_precision_score"
      ],
      "execution_count": null,
      "outputs": []
    },
    {
      "cell_type": "code",
      "metadata": {
        "id": "TY-DsmWPKAZm"
      },
      "source": [
        "from sklearn.metrics import make_scorer"
      ],
      "execution_count": null,
      "outputs": []
    },
    {
      "cell_type": "code",
      "metadata": {
        "colab": {
          "base_uri": "https://localhost:8080/"
        },
        "id": "hR5-wa4wKKGM",
        "outputId": "c0e8b3aa-8718-40df-e267-7846259e579a"
      },
      "source": [
        "X_train_prep.shape"
      ],
      "execution_count": null,
      "outputs": [
        {
          "output_type": "execute_result",
          "data": {
            "text/plain": [
              "(10754, 105)"
            ]
          },
          "metadata": {},
          "execution_count": 122
        }
      ]
    },
    {
      "cell_type": "code",
      "metadata": {
        "colab": {
          "base_uri": "https://localhost:8080/"
        },
        "id": "YeMIo4tnI5IY",
        "outputId": "4b2174ef-8464-445d-e6be-8fbe87b3580a"
      },
      "source": [
        "scores = cross_val_score(log_reg, X_train_prep, y_train,\n",
        "                         scoring='roc_auc', cv=5)"
      ],
      "execution_count": null,
      "outputs": [
        {
          "output_type": "stream",
          "name": "stderr",
          "text": [
            "/usr/local/lib/python3.7/dist-packages/sklearn/utils/validation.py:985: DataConversionWarning: A column-vector y was passed when a 1d array was expected. Please change the shape of y to (n_samples, ), for example using ravel().\n",
            "  y = column_or_1d(y, warn=True)\n",
            "/usr/local/lib/python3.7/dist-packages/sklearn/utils/validation.py:985: DataConversionWarning: A column-vector y was passed when a 1d array was expected. Please change the shape of y to (n_samples, ), for example using ravel().\n",
            "  y = column_or_1d(y, warn=True)\n",
            "/usr/local/lib/python3.7/dist-packages/sklearn/utils/validation.py:985: DataConversionWarning: A column-vector y was passed when a 1d array was expected. Please change the shape of y to (n_samples, ), for example using ravel().\n",
            "  y = column_or_1d(y, warn=True)\n",
            "/usr/local/lib/python3.7/dist-packages/sklearn/utils/validation.py:985: DataConversionWarning: A column-vector y was passed when a 1d array was expected. Please change the shape of y to (n_samples, ), for example using ravel().\n",
            "  y = column_or_1d(y, warn=True)\n",
            "/usr/local/lib/python3.7/dist-packages/sklearn/utils/validation.py:985: DataConversionWarning: A column-vector y was passed when a 1d array was expected. Please change the shape of y to (n_samples, ), for example using ravel().\n",
            "  y = column_or_1d(y, warn=True)\n"
          ]
        }
      ]
    },
    {
      "cell_type": "code",
      "metadata": {
        "colab": {
          "base_uri": "https://localhost:8080/"
        },
        "id": "HSpLSl_jJ3mJ",
        "outputId": "67419157-76f2-4900-cec0-35467a0c0929"
      },
      "source": [
        "scores"
      ],
      "execution_count": null,
      "outputs": [
        {
          "output_type": "execute_result",
          "data": {
            "text/plain": [
              "array([0.60589449, 0.62983921, 0.6418124 , 0.62814546, 0.61768871])"
            ]
          },
          "metadata": {},
          "execution_count": 124
        }
      ]
    },
    {
      "cell_type": "code",
      "metadata": {
        "id": "aPd-thQHKPUj"
      },
      "source": [
        "from sklearn.ensemble import GradientBoostingClassifier"
      ],
      "execution_count": null,
      "outputs": []
    },
    {
      "cell_type": "code",
      "metadata": {
        "id": "YFbEzjcRK3Bz"
      },
      "source": [
        "gb = GradientBoostingClassifier()"
      ],
      "execution_count": null,
      "outputs": []
    },
    {
      "cell_type": "code",
      "metadata": {
        "id": "dRXcsR3fK9vG"
      },
      "source": [
        "scores = cross_val_score(gb, X_train_prep, y_train['fpd5_flg'].values,\n",
        "                         scoring='roc_auc', cv=5)"
      ],
      "execution_count": null,
      "outputs": []
    },
    {
      "cell_type": "code",
      "metadata": {
        "colab": {
          "base_uri": "https://localhost:8080/"
        },
        "id": "qI7FYT91LAO8",
        "outputId": "e1feebe1-e6b5-4d7f-fb3b-618de9e8a12f"
      },
      "source": [
        "scores"
      ],
      "execution_count": null,
      "outputs": [
        {
          "output_type": "execute_result",
          "data": {
            "text/plain": [
              "array([0.60240364, 0.6351579 , 0.62367669, 0.63363103, 0.62115382])"
            ]
          },
          "metadata": {},
          "execution_count": 128
        }
      ]
    },
    {
      "cell_type": "code",
      "metadata": {
        "id": "tyJ16jaXLEKO",
        "colab": {
          "base_uri": "https://localhost:8080/"
        },
        "outputId": "d8bad88b-b1a0-4564-bd0f-bb104fa98309"
      },
      "source": [
        "! pip install catboost"
      ],
      "execution_count": null,
      "outputs": [
        {
          "output_type": "stream",
          "name": "stdout",
          "text": [
            "Collecting catboost\n",
            "  Downloading catboost-1.0.3-cp37-none-manylinux1_x86_64.whl (76.3 MB)\n",
            "\u001b[K     |████████████████████████████████| 76.3 MB 1.2 MB/s \n",
            "\u001b[?25hRequirement already satisfied: scipy in /usr/local/lib/python3.7/dist-packages (from catboost) (1.4.1)\n",
            "Requirement already satisfied: six in /usr/local/lib/python3.7/dist-packages (from catboost) (1.15.0)\n",
            "Requirement already satisfied: graphviz in /usr/local/lib/python3.7/dist-packages (from catboost) (0.10.1)\n",
            "Requirement already satisfied: numpy>=1.16.0 in /usr/local/lib/python3.7/dist-packages (from catboost) (1.19.5)\n",
            "Requirement already satisfied: pandas>=0.24.0 in /usr/local/lib/python3.7/dist-packages (from catboost) (1.1.5)\n",
            "Requirement already satisfied: matplotlib in /usr/local/lib/python3.7/dist-packages (from catboost) (3.2.2)\n",
            "Requirement already satisfied: plotly in /usr/local/lib/python3.7/dist-packages (from catboost) (4.4.1)\n",
            "Requirement already satisfied: pytz>=2017.2 in /usr/local/lib/python3.7/dist-packages (from pandas>=0.24.0->catboost) (2018.9)\n",
            "Requirement already satisfied: python-dateutil>=2.7.3 in /usr/local/lib/python3.7/dist-packages (from pandas>=0.24.0->catboost) (2.8.2)\n",
            "Requirement already satisfied: kiwisolver>=1.0.1 in /usr/local/lib/python3.7/dist-packages (from matplotlib->catboost) (1.3.2)\n",
            "Requirement already satisfied: cycler>=0.10 in /usr/local/lib/python3.7/dist-packages (from matplotlib->catboost) (0.11.0)\n",
            "Requirement already satisfied: pyparsing!=2.0.4,!=2.1.2,!=2.1.6,>=2.0.1 in /usr/local/lib/python3.7/dist-packages (from matplotlib->catboost) (3.0.6)\n",
            "Requirement already satisfied: retrying>=1.3.3 in /usr/local/lib/python3.7/dist-packages (from plotly->catboost) (1.3.3)\n",
            "Installing collected packages: catboost\n",
            "Successfully installed catboost-1.0.3\n"
          ]
        }
      ]
    },
    {
      "cell_type": "markdown",
      "metadata": {
        "id": "5ER-OcGpMAQe"
      },
      "source": [
        "# Catboost"
      ]
    },
    {
      "cell_type": "code",
      "metadata": {
        "id": "FPDT_cYYLhzu"
      },
      "source": [
        "from catboost import CatBoostClassifier"
      ],
      "execution_count": null,
      "outputs": []
    },
    {
      "cell_type": "code",
      "metadata": {
        "colab": {
          "base_uri": "https://localhost:8080/"
        },
        "id": "RO9wzQgxLpr9",
        "outputId": "d0b76db4-4076-4fb9-ba9b-8ce778318dd2"
      },
      "source": [
        "cat_attribs"
      ],
      "execution_count": null,
      "outputs": [
        {
          "output_type": "execute_result",
          "data": {
            "text/plain": [
              "['type_of_document',\n",
              " 'email_domain_formatted',\n",
              " 'social_status',\n",
              " 'disbursment_type',\n",
              " 'os']"
            ]
          },
          "metadata": {},
          "execution_count": 131
        }
      ]
    },
    {
      "cell_type": "code",
      "metadata": {
        "id": "ULXd68vnM859"
      },
      "source": [
        "X_train_nona = X_train.dropna().copy()"
      ],
      "execution_count": null,
      "outputs": []
    },
    {
      "cell_type": "code",
      "metadata": {
        "id": "Fj18FpXONBiY"
      },
      "source": [
        "y_train_nona = y_train[y_train.index.isin(X_train_nona.index)].copy()"
      ],
      "execution_count": null,
      "outputs": []
    },
    {
      "cell_type": "code",
      "metadata": {
        "id": "pQhok9c2LrUc"
      },
      "source": [
        "X_train_, X_val, y_train_, y_val = train_test_split(X_train_nona,\n",
        "                                                    y_train_nona,\n",
        "                                                    test_size=0.3,\n",
        "                                                    random_state=42)"
      ],
      "execution_count": null,
      "outputs": []
    },
    {
      "cell_type": "code",
      "metadata": {
        "id": "5KY-1ZglMQna"
      },
      "source": [
        "params = {'loss_function':'Logloss',\n",
        "          'eval_metric':'AUC',\n",
        "          'cat_features': cat_attribs,\n",
        "          'verbose': 200,\n",
        "          'random_seed': 42,\n",
        "          'early_stopping_rounds': 200,\n",
        "          \"auto_class_weights\":\"Balanced\"\n",
        "         }"
      ],
      "execution_count": null,
      "outputs": []
    },
    {
      "cell_type": "code",
      "metadata": {
        "id": "Re1kAp0vMM6l"
      },
      "source": [
        "cb = CatBoostClassifier(**params)"
      ],
      "execution_count": null,
      "outputs": []
    },
    {
      "cell_type": "code",
      "metadata": {
        "colab": {
          "base_uri": "https://localhost:8080/"
        },
        "id": "JRx1ep9KMjVM",
        "outputId": "7f6f99e8-5239-4e44-b2e5-0bedb5652bb1"
      },
      "source": [
        "cb.fit(X_train_,y_train_,eval_set=(X_val,y_val))"
      ],
      "execution_count": null,
      "outputs": [
        {
          "output_type": "stream",
          "name": "stdout",
          "text": [
            "Learning rate set to 0.05107\n",
            "0:\ttest: 0.6216208\tbest: 0.6216208 (0)\ttotal: 63.4ms\tremaining: 1m 3s\n",
            "200:\ttest: 0.6281188\tbest: 0.6290820 (21)\ttotal: 2.48s\tremaining: 9.84s\n",
            "Stopped by overfitting detector  (200 iterations wait)\n",
            "\n",
            "bestTest = 0.6290820427\n",
            "bestIteration = 21\n",
            "\n",
            "Shrink model to first 22 iterations.\n"
          ]
        },
        {
          "output_type": "execute_result",
          "data": {
            "text/plain": [
              "<catboost.core.CatBoostClassifier at 0x7f4ac8d49a10>"
            ]
          },
          "metadata": {},
          "execution_count": 137
        }
      ]
    },
    {
      "cell_type": "markdown",
      "metadata": {
        "id": "Tve1HSrtMvMN"
      },
      "source": [
        "# OHE drop first"
      ]
    },
    {
      "cell_type": "code",
      "metadata": {
        "id": "uXXDjNg0NpS4"
      },
      "source": [
        "full_pipeline = ColumnTransformer([\n",
        "        (\"num\", num_pipeline, num_attribs),\n",
        "        (\"cat\", OneHotEncoder(drop='first'), cat_attribs),\n",
        "    ])"
      ],
      "execution_count": null,
      "outputs": []
    },
    {
      "cell_type": "code",
      "metadata": {
        "id": "yZYJTi7cOGJK"
      },
      "source": [
        "X_train_prep = pd.DataFrame(full_pipeline.fit_transform(X_train).toarray())"
      ],
      "execution_count": null,
      "outputs": []
    },
    {
      "cell_type": "code",
      "metadata": {
        "colab": {
          "base_uri": "https://localhost:8080/"
        },
        "id": "jYbemR7IOGJL",
        "outputId": "d2c0028f-eb8c-4a80-eec2-26ccfb60f04d"
      },
      "source": [
        "cat_features_names = list(full_pipeline.transformers_[1][1].get_feature_names())"
      ],
      "execution_count": null,
      "outputs": [
        {
          "output_type": "stream",
          "name": "stderr",
          "text": [
            "/usr/local/lib/python3.7/dist-packages/sklearn/utils/deprecation.py:87: FutureWarning: Function get_feature_names is deprecated; get_feature_names is deprecated in 1.0 and will be removed in 1.2. Please use get_feature_names_out instead.\n",
            "  warnings.warn(msg, category=FutureWarning)\n"
          ]
        }
      ]
    },
    {
      "cell_type": "code",
      "metadata": {
        "id": "iUTbEz6DOGJL"
      },
      "source": [
        "X_train_prep.columns = most_freq_num_features+median_num_features + \\\n",
        "            ['salary_over_age'] + cat_features_names"
      ],
      "execution_count": null,
      "outputs": []
    },
    {
      "cell_type": "code",
      "metadata": {
        "colab": {
          "base_uri": "https://localhost:8080/"
        },
        "id": "4lgT5HpqOHhP",
        "outputId": "0439f7d5-dbe1-4646-d775-cdfa544ded39"
      },
      "source": [
        "X_train_prep.shape"
      ],
      "execution_count": null,
      "outputs": [
        {
          "output_type": "execute_result",
          "data": {
            "text/plain": [
              "(10754, 100)"
            ]
          },
          "metadata": {},
          "execution_count": 142
        }
      ]
    },
    {
      "cell_type": "code",
      "metadata": {
        "id": "_mXdB5LVOJZQ"
      },
      "source": [
        "log_reg = LogisticRegression(max_iter=10000)"
      ],
      "execution_count": null,
      "outputs": []
    },
    {
      "cell_type": "code",
      "metadata": {
        "id": "KmoOC2aQOOuk"
      },
      "source": [
        "scores = cross_val_score(log_reg, X_train_prep, y_train['fpd5_flg'].values,\n",
        "                         scoring=make_scorer(roc_auc_score), cv=5)"
      ],
      "execution_count": null,
      "outputs": []
    },
    {
      "cell_type": "code",
      "metadata": {
        "colab": {
          "base_uri": "https://localhost:8080/"
        },
        "id": "oi26ioosOTQR",
        "outputId": "296e8dcc-3a0a-4881-a08f-5a9e98acc9bb"
      },
      "source": [
        "scores"
      ],
      "execution_count": null,
      "outputs": [
        {
          "output_type": "execute_result",
          "data": {
            "text/plain": [
              "array([0.5050447 , 0.50129679, 0.50280234, 0.50975273, 0.4985337 ])"
            ]
          },
          "metadata": {},
          "execution_count": 145
        }
      ]
    },
    {
      "cell_type": "code",
      "metadata": {
        "id": "DSjlSJs1OxHo"
      },
      "source": [
        "cb = CatBoostClassifier(iterations=500,auto_class_weights=\"Balanced\",verbose=0)"
      ],
      "execution_count": null,
      "outputs": []
    },
    {
      "cell_type": "code",
      "metadata": {
        "id": "mF8NB_qGOkYi"
      },
      "source": [
        "scores = cross_val_score(cb, X_train_prep, y_train['fpd5_flg'].values,\n",
        "                         scoring=make_scorer(roc_auc_score), cv=5,n_jobs=-1)"
      ],
      "execution_count": null,
      "outputs": []
    },
    {
      "cell_type": "code",
      "metadata": {
        "colab": {
          "base_uri": "https://localhost:8080/"
        },
        "id": "smX1bVNwO3eg",
        "outputId": "b73cd438-61b1-498d-ca30-118303fa611a"
      },
      "source": [
        "scores"
      ],
      "execution_count": null,
      "outputs": [
        {
          "output_type": "execute_result",
          "data": {
            "text/plain": [
              "array([0.57719815, 0.59819727, 0.5727554 , 0.57915286, 0.58781535])"
            ]
          },
          "metadata": {},
          "execution_count": 148
        }
      ]
    },
    {
      "cell_type": "markdown",
      "metadata": {
        "id": "J8Bt79E5O7a9"
      },
      "source": [
        "## Pipeline debug"
      ]
    },
    {
      "cell_type": "code",
      "metadata": {
        "id": "Hjz47TONP3cF"
      },
      "source": [
        "params = {'loss_function':'Logloss',\n",
        "          'eval_metric':'AUC',\n",
        "          'verbose': 200,\n",
        "          'random_seed': 42,\n",
        "          'early_stopping_rounds': 200\n",
        "         }"
      ],
      "execution_count": null,
      "outputs": []
    },
    {
      "cell_type": "code",
      "metadata": {
        "id": "o2mtSWHeP3cF"
      },
      "source": [
        "cb = CatBoostClassifier(**params)"
      ],
      "execution_count": null,
      "outputs": []
    },
    {
      "cell_type": "code",
      "metadata": {
        "colab": {
          "base_uri": "https://localhost:8080/"
        },
        "id": "JLAEZaYzP3cF",
        "outputId": "0a743204-aec8-4969-e24f-4f1eb706c0a9"
      },
      "source": [
        "cb.fit(X_train_[num_attribs],y_train_,eval_set=(X_val[num_attribs],y_val))"
      ],
      "execution_count": null,
      "outputs": [
        {
          "output_type": "stream",
          "name": "stdout",
          "text": [
            "Learning rate set to 0.05107\n",
            "0:\ttest: 0.5228330\tbest: 0.5228330 (0)\ttotal: 2.7ms\tremaining: 2.69s\n",
            "200:\ttest: 0.5723855\tbest: 0.5767300 (69)\ttotal: 649ms\tremaining: 2.58s\n",
            "Stopped by overfitting detector  (200 iterations wait)\n",
            "\n",
            "bestTest = 0.5767300184\n",
            "bestIteration = 69\n",
            "\n",
            "Shrink model to first 70 iterations.\n"
          ]
        },
        {
          "output_type": "execute_result",
          "data": {
            "text/plain": [
              "<catboost.core.CatBoostClassifier at 0x7f4ac8d72910>"
            ]
          },
          "metadata": {},
          "execution_count": 151
        }
      ]
    },
    {
      "cell_type": "code",
      "metadata": {
        "id": "tmQRLYunQE04"
      },
      "source": [
        "X_train_num_trans = num_pipeline.fit_transform(X_train)"
      ],
      "execution_count": null,
      "outputs": []
    },
    {
      "cell_type": "code",
      "metadata": {
        "id": "NOsvy5ouQpCT"
      },
      "source": [
        "log_reg = LogisticRegression(class_weight='balanced')"
      ],
      "execution_count": null,
      "outputs": []
    },
    {
      "cell_type": "code",
      "metadata": {
        "id": "4hYUVG0fRJX8"
      },
      "source": [
        "from sklearn.metrics import f1_score"
      ],
      "execution_count": null,
      "outputs": []
    },
    {
      "cell_type": "code",
      "metadata": {
        "id": "VnuFKN5pQpCU"
      },
      "source": [
        "scores = cross_val_score(log_reg, X_train_num_trans, y_train['fpd5_flg'].values,\n",
        "                         scoring=make_scorer(roc_auc_score), cv=5)"
      ],
      "execution_count": null,
      "outputs": []
    },
    {
      "cell_type": "code",
      "metadata": {
        "colab": {
          "base_uri": "https://localhost:8080/"
        },
        "id": "HV1GqINgQsCO",
        "outputId": "ca277949-8fdd-4e2f-8e89-97324f79919a"
      },
      "source": [
        "scores"
      ],
      "execution_count": null,
      "outputs": [
        {
          "output_type": "execute_result",
          "data": {
            "text/plain": [
              "array([0.55519697, 0.5569162 , 0.54199085, 0.57494525, 0.55923827])"
            ]
          },
          "metadata": {},
          "execution_count": 156
        }
      ]
    },
    {
      "cell_type": "code",
      "metadata": {
        "colab": {
          "base_uri": "https://localhost:8080/"
        },
        "id": "7uf7Sk98Qs59",
        "outputId": "1b7c146b-84db-431a-f131-2f2c4c4429bd"
      },
      "source": [
        "y_train['fpd5_flg'].values.mean()"
      ],
      "execution_count": null,
      "outputs": [
        {
          "output_type": "execute_result",
          "data": {
            "text/plain": [
              "0.2717128510321741"
            ]
          },
          "metadata": {},
          "execution_count": 157
        }
      ]
    },
    {
      "cell_type": "markdown",
      "metadata": {
        "id": "5bgoDxAeSru6"
      },
      "source": [
        ""
      ]
    },
    {
      "cell_type": "markdown",
      "metadata": {
        "id": "fR1XWF3aU4Ni"
      },
      "source": [
        "# Manual prepocessing check"
      ]
    },
    {
      "cell_type": "code",
      "metadata": {
        "colab": {
          "base_uri": "https://localhost:8080/",
          "height": 548
        },
        "id": "8k0RZIImUKk7",
        "outputId": "a6d6c0c1-e1ec-4a01-daf8-75f9154cdb51"
      },
      "source": [
        "X_train"
      ],
      "execution_count": null,
      "outputs": [
        {
          "output_type": "execute_result",
          "data": {
            "text/html": [
              "<div>\n",
              "<style scoped>\n",
              "    .dataframe tbody tr th:only-of-type {\n",
              "        vertical-align: middle;\n",
              "    }\n",
              "\n",
              "    .dataframe tbody tr th {\n",
              "        vertical-align: top;\n",
              "    }\n",
              "\n",
              "    .dataframe thead th {\n",
              "        text-align: right;\n",
              "    }\n",
              "</style>\n",
              "<table border=\"1\" class=\"dataframe\">\n",
              "  <thead>\n",
              "    <tr style=\"text-align: right;\">\n",
              "      <th></th>\n",
              "      <th>gender</th>\n",
              "      <th>device_quaility_index</th>\n",
              "      <th>behavioral_index</th>\n",
              "      <th>type_of_document</th>\n",
              "      <th>age</th>\n",
              "      <th>email_domain_formatted</th>\n",
              "      <th>social_status</th>\n",
              "      <th>salary</th>\n",
              "      <th>disbursment_type</th>\n",
              "      <th>os</th>\n",
              "      <th>email_index</th>\n",
              "    </tr>\n",
              "  </thead>\n",
              "  <tbody>\n",
              "    <tr>\n",
              "      <th>3132</th>\n",
              "      <td>0</td>\n",
              "      <td>1.0</td>\n",
              "      <td>5.0</td>\n",
              "      <td>UMID</td>\n",
              "      <td>24</td>\n",
              "      <td>GMAIL.COM</td>\n",
              "      <td>Other</td>\n",
              "      <td>20000.0</td>\n",
              "      <td>E-wallet</td>\n",
              "      <td>Android</td>\n",
              "      <td>0.0</td>\n",
              "    </tr>\n",
              "    <tr>\n",
              "      <th>7655</th>\n",
              "      <td>1</td>\n",
              "      <td>2.0</td>\n",
              "      <td>5.0</td>\n",
              "      <td>Passport</td>\n",
              "      <td>35</td>\n",
              "      <td>YAHOO.COM</td>\n",
              "      <td>Other</td>\n",
              "      <td>15000.0</td>\n",
              "      <td>E-wallet</td>\n",
              "      <td>Android</td>\n",
              "      <td>0.0</td>\n",
              "    </tr>\n",
              "    <tr>\n",
              "      <th>3520</th>\n",
              "      <td>1</td>\n",
              "      <td>3.0</td>\n",
              "      <td>4.0</td>\n",
              "      <td>Passport</td>\n",
              "      <td>37</td>\n",
              "      <td>ICLOUD.COM</td>\n",
              "      <td>Other</td>\n",
              "      <td>25000.0</td>\n",
              "      <td>E-wallet</td>\n",
              "      <td>iOS</td>\n",
              "      <td>8.0</td>\n",
              "    </tr>\n",
              "    <tr>\n",
              "      <th>14251</th>\n",
              "      <td>1</td>\n",
              "      <td>3.0</td>\n",
              "      <td>5.0</td>\n",
              "      <td>UMID</td>\n",
              "      <td>26</td>\n",
              "      <td>GMAIL.COM</td>\n",
              "      <td>Professional Worker (Doctors, Engineers, Accou...</td>\n",
              "      <td>16000.0</td>\n",
              "      <td>Bank</td>\n",
              "      <td>iOS</td>\n",
              "      <td>1.0</td>\n",
              "    </tr>\n",
              "    <tr>\n",
              "      <th>2588</th>\n",
              "      <td>0</td>\n",
              "      <td>3.0</td>\n",
              "      <td>6.0</td>\n",
              "      <td>Driver license ID</td>\n",
              "      <td>50</td>\n",
              "      <td>GMAIL.COM</td>\n",
              "      <td>Business Owner</td>\n",
              "      <td>40000.0</td>\n",
              "      <td>E-wallet</td>\n",
              "      <td>Android</td>\n",
              "      <td>1.0</td>\n",
              "    </tr>\n",
              "    <tr>\n",
              "      <th>...</th>\n",
              "      <td>...</td>\n",
              "      <td>...</td>\n",
              "      <td>...</td>\n",
              "      <td>...</td>\n",
              "      <td>...</td>\n",
              "      <td>...</td>\n",
              "      <td>...</td>\n",
              "      <td>...</td>\n",
              "      <td>...</td>\n",
              "      <td>...</td>\n",
              "      <td>...</td>\n",
              "    </tr>\n",
              "    <tr>\n",
              "      <th>5191</th>\n",
              "      <td>0</td>\n",
              "      <td>NaN</td>\n",
              "      <td>NaN</td>\n",
              "      <td>TIN</td>\n",
              "      <td>24</td>\n",
              "      <td>GMAIL.COM</td>\n",
              "      <td>Private Company Employee</td>\n",
              "      <td>24000.0</td>\n",
              "      <td>E-wallet</td>\n",
              "      <td>Android</td>\n",
              "      <td>1.0</td>\n",
              "    </tr>\n",
              "    <tr>\n",
              "      <th>13418</th>\n",
              "      <td>1</td>\n",
              "      <td>2.0</td>\n",
              "      <td>4.0</td>\n",
              "      <td>UMID</td>\n",
              "      <td>26</td>\n",
              "      <td>YAHOO.COM</td>\n",
              "      <td>BPO Professionals</td>\n",
              "      <td>24000.0</td>\n",
              "      <td>Bank</td>\n",
              "      <td>macOS</td>\n",
              "      <td>1.0</td>\n",
              "    </tr>\n",
              "    <tr>\n",
              "      <th>5390</th>\n",
              "      <td>0</td>\n",
              "      <td>3.0</td>\n",
              "      <td>4.0</td>\n",
              "      <td>Driver license ID</td>\n",
              "      <td>24</td>\n",
              "      <td>GMAIL.COM</td>\n",
              "      <td>Self-Employed</td>\n",
              "      <td>18000.0</td>\n",
              "      <td>E-wallet</td>\n",
              "      <td>Android</td>\n",
              "      <td>8.0</td>\n",
              "    </tr>\n",
              "    <tr>\n",
              "      <th>860</th>\n",
              "      <td>1</td>\n",
              "      <td>0.0</td>\n",
              "      <td>3.0</td>\n",
              "      <td>UMID</td>\n",
              "      <td>28</td>\n",
              "      <td>GMAIL.COM</td>\n",
              "      <td>BPO Professionals</td>\n",
              "      <td>25000.0</td>\n",
              "      <td>Bank</td>\n",
              "      <td>Android</td>\n",
              "      <td>1.0</td>\n",
              "    </tr>\n",
              "    <tr>\n",
              "      <th>7270</th>\n",
              "      <td>1</td>\n",
              "      <td>3.0</td>\n",
              "      <td>3.0</td>\n",
              "      <td>SSS</td>\n",
              "      <td>38</td>\n",
              "      <td>GMAIL.COM</td>\n",
              "      <td>Business Owner</td>\n",
              "      <td>3000.0</td>\n",
              "      <td>E-wallet</td>\n",
              "      <td>Android</td>\n",
              "      <td>1.0</td>\n",
              "    </tr>\n",
              "  </tbody>\n",
              "</table>\n",
              "<p>10754 rows × 11 columns</p>\n",
              "</div>"
            ],
            "text/plain": [
              "       gender  device_quaility_index  ...       os email_index\n",
              "3132        0                    1.0  ...  Android         0.0\n",
              "7655        1                    2.0  ...  Android         0.0\n",
              "3520        1                    3.0  ...      iOS         8.0\n",
              "14251       1                    3.0  ...      iOS         1.0\n",
              "2588        0                    3.0  ...  Android         1.0\n",
              "...       ...                    ...  ...      ...         ...\n",
              "5191        0                    NaN  ...  Android         1.0\n",
              "13418       1                    2.0  ...    macOS         1.0\n",
              "5390        0                    3.0  ...  Android         8.0\n",
              "860         1                    0.0  ...  Android         1.0\n",
              "7270        1                    3.0  ...  Android         1.0\n",
              "\n",
              "[10754 rows x 11 columns]"
            ]
          },
          "metadata": {},
          "execution_count": 158
        }
      ]
    },
    {
      "cell_type": "code",
      "metadata": {
        "id": "Gi1fvoJEUfq6"
      },
      "source": [
        "ohe = OneHotEncoder(drop='first')"
      ],
      "execution_count": null,
      "outputs": []
    },
    {
      "cell_type": "code",
      "metadata": {
        "id": "QK8IS0oRU0Ws"
      },
      "source": [
        "scaler = StandardScaler()"
      ],
      "execution_count": null,
      "outputs": []
    },
    {
      "cell_type": "code",
      "metadata": {
        "id": "gUAmMUeUU9Yc"
      },
      "source": [
        "X_train_num_manual = pd.DataFrame(scaler.fit_transform(X_train_nona[num_attribs]))"
      ],
      "execution_count": null,
      "outputs": []
    },
    {
      "cell_type": "code",
      "metadata": {
        "colab": {
          "base_uri": "https://localhost:8080/",
          "height": 423
        },
        "id": "kthGHYgKVDM4",
        "outputId": "e8152074-bd6f-402d-ce74-1f4d739868ab"
      },
      "source": [
        "X_train_num_manual"
      ],
      "execution_count": null,
      "outputs": [
        {
          "output_type": "execute_result",
          "data": {
            "text/html": [
              "<div>\n",
              "<style scoped>\n",
              "    .dataframe tbody tr th:only-of-type {\n",
              "        vertical-align: middle;\n",
              "    }\n",
              "\n",
              "    .dataframe tbody tr th {\n",
              "        vertical-align: top;\n",
              "    }\n",
              "\n",
              "    .dataframe thead th {\n",
              "        text-align: right;\n",
              "    }\n",
              "</style>\n",
              "<table border=\"1\" class=\"dataframe\">\n",
              "  <thead>\n",
              "    <tr style=\"text-align: right;\">\n",
              "      <th></th>\n",
              "      <th>0</th>\n",
              "      <th>1</th>\n",
              "      <th>2</th>\n",
              "      <th>3</th>\n",
              "      <th>4</th>\n",
              "      <th>5</th>\n",
              "    </tr>\n",
              "  </thead>\n",
              "  <tbody>\n",
              "    <tr>\n",
              "      <th>0</th>\n",
              "      <td>-1.286261</td>\n",
              "      <td>-1.292496</td>\n",
              "      <td>1.008107</td>\n",
              "      <td>-1.234379</td>\n",
              "      <td>-0.010344</td>\n",
              "      <td>-0.655161</td>\n",
              "    </tr>\n",
              "    <tr>\n",
              "      <th>1</th>\n",
              "      <td>0.777447</td>\n",
              "      <td>-0.359242</td>\n",
              "      <td>1.008107</td>\n",
              "      <td>-0.009494</td>\n",
              "      <td>-0.010675</td>\n",
              "      <td>-0.655161</td>\n",
              "    </tr>\n",
              "    <tr>\n",
              "      <th>2</th>\n",
              "      <td>0.777447</td>\n",
              "      <td>0.574012</td>\n",
              "      <td>-0.054169</td>\n",
              "      <td>0.213213</td>\n",
              "      <td>-0.010013</td>\n",
              "      <td>2.744145</td>\n",
              "    </tr>\n",
              "    <tr>\n",
              "      <th>3</th>\n",
              "      <td>0.777447</td>\n",
              "      <td>0.574012</td>\n",
              "      <td>1.008107</td>\n",
              "      <td>-1.011673</td>\n",
              "      <td>-0.010609</td>\n",
              "      <td>-0.230247</td>\n",
              "    </tr>\n",
              "    <tr>\n",
              "      <th>4</th>\n",
              "      <td>-1.286261</td>\n",
              "      <td>0.574012</td>\n",
              "      <td>2.070382</td>\n",
              "      <td>1.660804</td>\n",
              "      <td>-0.009020</td>\n",
              "      <td>-0.230247</td>\n",
              "    </tr>\n",
              "    <tr>\n",
              "      <th>...</th>\n",
              "      <td>...</td>\n",
              "      <td>...</td>\n",
              "      <td>...</td>\n",
              "      <td>...</td>\n",
              "      <td>...</td>\n",
              "      <td>...</td>\n",
              "    </tr>\n",
              "    <tr>\n",
              "      <th>9859</th>\n",
              "      <td>-1.286261</td>\n",
              "      <td>0.574012</td>\n",
              "      <td>-1.116445</td>\n",
              "      <td>1.772158</td>\n",
              "      <td>-0.008689</td>\n",
              "      <td>-0.230247</td>\n",
              "    </tr>\n",
              "    <tr>\n",
              "      <th>9860</th>\n",
              "      <td>0.777447</td>\n",
              "      <td>-0.359242</td>\n",
              "      <td>-0.054169</td>\n",
              "      <td>-1.011673</td>\n",
              "      <td>-0.010079</td>\n",
              "      <td>-0.230247</td>\n",
              "    </tr>\n",
              "    <tr>\n",
              "      <th>9861</th>\n",
              "      <td>-1.286261</td>\n",
              "      <td>0.574012</td>\n",
              "      <td>-0.054169</td>\n",
              "      <td>-1.234379</td>\n",
              "      <td>-0.010477</td>\n",
              "      <td>2.744145</td>\n",
              "    </tr>\n",
              "    <tr>\n",
              "      <th>9862</th>\n",
              "      <td>0.777447</td>\n",
              "      <td>-2.225750</td>\n",
              "      <td>-1.116445</td>\n",
              "      <td>-0.788967</td>\n",
              "      <td>-0.010013</td>\n",
              "      <td>-0.230247</td>\n",
              "    </tr>\n",
              "    <tr>\n",
              "      <th>9863</th>\n",
              "      <td>0.777447</td>\n",
              "      <td>0.574012</td>\n",
              "      <td>-1.116445</td>\n",
              "      <td>0.324566</td>\n",
              "      <td>-0.011470</td>\n",
              "      <td>-0.230247</td>\n",
              "    </tr>\n",
              "  </tbody>\n",
              "</table>\n",
              "<p>9864 rows × 6 columns</p>\n",
              "</div>"
            ],
            "text/plain": [
              "             0         1         2         3         4         5\n",
              "0    -1.286261 -1.292496  1.008107 -1.234379 -0.010344 -0.655161\n",
              "1     0.777447 -0.359242  1.008107 -0.009494 -0.010675 -0.655161\n",
              "2     0.777447  0.574012 -0.054169  0.213213 -0.010013  2.744145\n",
              "3     0.777447  0.574012  1.008107 -1.011673 -0.010609 -0.230247\n",
              "4    -1.286261  0.574012  2.070382  1.660804 -0.009020 -0.230247\n",
              "...        ...       ...       ...       ...       ...       ...\n",
              "9859 -1.286261  0.574012 -1.116445  1.772158 -0.008689 -0.230247\n",
              "9860  0.777447 -0.359242 -0.054169 -1.011673 -0.010079 -0.230247\n",
              "9861 -1.286261  0.574012 -0.054169 -1.234379 -0.010477  2.744145\n",
              "9862  0.777447 -2.225750 -1.116445 -0.788967 -0.010013 -0.230247\n",
              "9863  0.777447  0.574012 -1.116445  0.324566 -0.011470 -0.230247\n",
              "\n",
              "[9864 rows x 6 columns]"
            ]
          },
          "metadata": {},
          "execution_count": 162
        }
      ]
    },
    {
      "cell_type": "code",
      "metadata": {
        "id": "OGZZFSY5VJdY"
      },
      "source": [
        "X_train_cat_manual = pd.DataFrame(ohe.fit_transform(X_train_nona[cat_attribs]).toarray())"
      ],
      "execution_count": null,
      "outputs": []
    },
    {
      "cell_type": "code",
      "metadata": {
        "colab": {
          "base_uri": "https://localhost:8080/",
          "height": 443
        },
        "id": "-EydGX36VPJK",
        "outputId": "9d0d2ce8-5eaf-42f8-df1d-f2326fb3c7f9"
      },
      "source": [
        "X_train_cat_manual"
      ],
      "execution_count": null,
      "outputs": [
        {
          "output_type": "execute_result",
          "data": {
            "text/html": [
              "<div>\n",
              "<style scoped>\n",
              "    .dataframe tbody tr th:only-of-type {\n",
              "        vertical-align: middle;\n",
              "    }\n",
              "\n",
              "    .dataframe tbody tr th {\n",
              "        vertical-align: top;\n",
              "    }\n",
              "\n",
              "    .dataframe thead th {\n",
              "        text-align: right;\n",
              "    }\n",
              "</style>\n",
              "<table border=\"1\" class=\"dataframe\">\n",
              "  <thead>\n",
              "    <tr style=\"text-align: right;\">\n",
              "      <th></th>\n",
              "      <th>0</th>\n",
              "      <th>1</th>\n",
              "      <th>2</th>\n",
              "      <th>3</th>\n",
              "      <th>4</th>\n",
              "      <th>5</th>\n",
              "      <th>6</th>\n",
              "      <th>7</th>\n",
              "      <th>8</th>\n",
              "      <th>9</th>\n",
              "      <th>10</th>\n",
              "      <th>11</th>\n",
              "      <th>12</th>\n",
              "      <th>13</th>\n",
              "      <th>14</th>\n",
              "      <th>15</th>\n",
              "      <th>16</th>\n",
              "      <th>17</th>\n",
              "      <th>18</th>\n",
              "      <th>19</th>\n",
              "      <th>20</th>\n",
              "      <th>21</th>\n",
              "      <th>22</th>\n",
              "      <th>23</th>\n",
              "      <th>24</th>\n",
              "      <th>25</th>\n",
              "      <th>26</th>\n",
              "      <th>27</th>\n",
              "      <th>28</th>\n",
              "      <th>29</th>\n",
              "      <th>30</th>\n",
              "      <th>31</th>\n",
              "      <th>32</th>\n",
              "      <th>33</th>\n",
              "      <th>34</th>\n",
              "      <th>35</th>\n",
              "      <th>36</th>\n",
              "      <th>37</th>\n",
              "      <th>38</th>\n",
              "      <th>39</th>\n",
              "      <th>...</th>\n",
              "      <th>47</th>\n",
              "      <th>48</th>\n",
              "      <th>49</th>\n",
              "      <th>50</th>\n",
              "      <th>51</th>\n",
              "      <th>52</th>\n",
              "      <th>53</th>\n",
              "      <th>54</th>\n",
              "      <th>55</th>\n",
              "      <th>56</th>\n",
              "      <th>57</th>\n",
              "      <th>58</th>\n",
              "      <th>59</th>\n",
              "      <th>60</th>\n",
              "      <th>61</th>\n",
              "      <th>62</th>\n",
              "      <th>63</th>\n",
              "      <th>64</th>\n",
              "      <th>65</th>\n",
              "      <th>66</th>\n",
              "      <th>67</th>\n",
              "      <th>68</th>\n",
              "      <th>69</th>\n",
              "      <th>70</th>\n",
              "      <th>71</th>\n",
              "      <th>72</th>\n",
              "      <th>73</th>\n",
              "      <th>74</th>\n",
              "      <th>75</th>\n",
              "      <th>76</th>\n",
              "      <th>77</th>\n",
              "      <th>78</th>\n",
              "      <th>79</th>\n",
              "      <th>80</th>\n",
              "      <th>81</th>\n",
              "      <th>82</th>\n",
              "      <th>83</th>\n",
              "      <th>84</th>\n",
              "      <th>85</th>\n",
              "      <th>86</th>\n",
              "    </tr>\n",
              "  </thead>\n",
              "  <tbody>\n",
              "    <tr>\n",
              "      <th>0</th>\n",
              "      <td>0.0</td>\n",
              "      <td>0.0</td>\n",
              "      <td>0.0</td>\n",
              "      <td>0.0</td>\n",
              "      <td>1.0</td>\n",
              "      <td>0.0</td>\n",
              "      <td>0.0</td>\n",
              "      <td>0.0</td>\n",
              "      <td>0.0</td>\n",
              "      <td>0.0</td>\n",
              "      <td>0.0</td>\n",
              "      <td>0.0</td>\n",
              "      <td>0.0</td>\n",
              "      <td>0.0</td>\n",
              "      <td>0.0</td>\n",
              "      <td>0.0</td>\n",
              "      <td>0.0</td>\n",
              "      <td>0.0</td>\n",
              "      <td>0.0</td>\n",
              "      <td>0.0</td>\n",
              "      <td>0.0</td>\n",
              "      <td>0.0</td>\n",
              "      <td>0.0</td>\n",
              "      <td>0.0</td>\n",
              "      <td>0.0</td>\n",
              "      <td>1.0</td>\n",
              "      <td>0.0</td>\n",
              "      <td>0.0</td>\n",
              "      <td>0.0</td>\n",
              "      <td>0.0</td>\n",
              "      <td>0.0</td>\n",
              "      <td>0.0</td>\n",
              "      <td>0.0</td>\n",
              "      <td>0.0</td>\n",
              "      <td>0.0</td>\n",
              "      <td>0.0</td>\n",
              "      <td>0.0</td>\n",
              "      <td>0.0</td>\n",
              "      <td>0.0</td>\n",
              "      <td>0.0</td>\n",
              "      <td>...</td>\n",
              "      <td>0.0</td>\n",
              "      <td>0.0</td>\n",
              "      <td>0.0</td>\n",
              "      <td>0.0</td>\n",
              "      <td>0.0</td>\n",
              "      <td>0.0</td>\n",
              "      <td>0.0</td>\n",
              "      <td>0.0</td>\n",
              "      <td>0.0</td>\n",
              "      <td>0.0</td>\n",
              "      <td>0.0</td>\n",
              "      <td>0.0</td>\n",
              "      <td>0.0</td>\n",
              "      <td>0.0</td>\n",
              "      <td>0.0</td>\n",
              "      <td>0.0</td>\n",
              "      <td>0.0</td>\n",
              "      <td>0.0</td>\n",
              "      <td>0.0</td>\n",
              "      <td>0.0</td>\n",
              "      <td>0.0</td>\n",
              "      <td>0.0</td>\n",
              "      <td>0.0</td>\n",
              "      <td>0.0</td>\n",
              "      <td>0.0</td>\n",
              "      <td>0.0</td>\n",
              "      <td>0.0</td>\n",
              "      <td>1.0</td>\n",
              "      <td>0.0</td>\n",
              "      <td>0.0</td>\n",
              "      <td>0.0</td>\n",
              "      <td>0.0</td>\n",
              "      <td>0.0</td>\n",
              "      <td>1.0</td>\n",
              "      <td>0.0</td>\n",
              "      <td>0.0</td>\n",
              "      <td>0.0</td>\n",
              "      <td>0.0</td>\n",
              "      <td>0.0</td>\n",
              "      <td>0.0</td>\n",
              "    </tr>\n",
              "    <tr>\n",
              "      <th>1</th>\n",
              "      <td>0.0</td>\n",
              "      <td>1.0</td>\n",
              "      <td>0.0</td>\n",
              "      <td>0.0</td>\n",
              "      <td>0.0</td>\n",
              "      <td>0.0</td>\n",
              "      <td>0.0</td>\n",
              "      <td>0.0</td>\n",
              "      <td>0.0</td>\n",
              "      <td>0.0</td>\n",
              "      <td>0.0</td>\n",
              "      <td>0.0</td>\n",
              "      <td>0.0</td>\n",
              "      <td>0.0</td>\n",
              "      <td>0.0</td>\n",
              "      <td>0.0</td>\n",
              "      <td>0.0</td>\n",
              "      <td>0.0</td>\n",
              "      <td>0.0</td>\n",
              "      <td>0.0</td>\n",
              "      <td>0.0</td>\n",
              "      <td>0.0</td>\n",
              "      <td>0.0</td>\n",
              "      <td>0.0</td>\n",
              "      <td>0.0</td>\n",
              "      <td>0.0</td>\n",
              "      <td>0.0</td>\n",
              "      <td>0.0</td>\n",
              "      <td>0.0</td>\n",
              "      <td>0.0</td>\n",
              "      <td>0.0</td>\n",
              "      <td>0.0</td>\n",
              "      <td>0.0</td>\n",
              "      <td>0.0</td>\n",
              "      <td>0.0</td>\n",
              "      <td>0.0</td>\n",
              "      <td>0.0</td>\n",
              "      <td>0.0</td>\n",
              "      <td>0.0</td>\n",
              "      <td>0.0</td>\n",
              "      <td>...</td>\n",
              "      <td>0.0</td>\n",
              "      <td>0.0</td>\n",
              "      <td>0.0</td>\n",
              "      <td>0.0</td>\n",
              "      <td>0.0</td>\n",
              "      <td>0.0</td>\n",
              "      <td>0.0</td>\n",
              "      <td>0.0</td>\n",
              "      <td>0.0</td>\n",
              "      <td>0.0</td>\n",
              "      <td>0.0</td>\n",
              "      <td>0.0</td>\n",
              "      <td>0.0</td>\n",
              "      <td>0.0</td>\n",
              "      <td>0.0</td>\n",
              "      <td>0.0</td>\n",
              "      <td>0.0</td>\n",
              "      <td>0.0</td>\n",
              "      <td>1.0</td>\n",
              "      <td>0.0</td>\n",
              "      <td>0.0</td>\n",
              "      <td>0.0</td>\n",
              "      <td>0.0</td>\n",
              "      <td>0.0</td>\n",
              "      <td>0.0</td>\n",
              "      <td>0.0</td>\n",
              "      <td>0.0</td>\n",
              "      <td>1.0</td>\n",
              "      <td>0.0</td>\n",
              "      <td>0.0</td>\n",
              "      <td>0.0</td>\n",
              "      <td>0.0</td>\n",
              "      <td>0.0</td>\n",
              "      <td>1.0</td>\n",
              "      <td>0.0</td>\n",
              "      <td>0.0</td>\n",
              "      <td>0.0</td>\n",
              "      <td>0.0</td>\n",
              "      <td>0.0</td>\n",
              "      <td>0.0</td>\n",
              "    </tr>\n",
              "    <tr>\n",
              "      <th>2</th>\n",
              "      <td>0.0</td>\n",
              "      <td>1.0</td>\n",
              "      <td>0.0</td>\n",
              "      <td>0.0</td>\n",
              "      <td>0.0</td>\n",
              "      <td>0.0</td>\n",
              "      <td>0.0</td>\n",
              "      <td>0.0</td>\n",
              "      <td>0.0</td>\n",
              "      <td>0.0</td>\n",
              "      <td>0.0</td>\n",
              "      <td>0.0</td>\n",
              "      <td>0.0</td>\n",
              "      <td>0.0</td>\n",
              "      <td>0.0</td>\n",
              "      <td>0.0</td>\n",
              "      <td>0.0</td>\n",
              "      <td>0.0</td>\n",
              "      <td>0.0</td>\n",
              "      <td>0.0</td>\n",
              "      <td>0.0</td>\n",
              "      <td>0.0</td>\n",
              "      <td>0.0</td>\n",
              "      <td>0.0</td>\n",
              "      <td>0.0</td>\n",
              "      <td>0.0</td>\n",
              "      <td>0.0</td>\n",
              "      <td>0.0</td>\n",
              "      <td>0.0</td>\n",
              "      <td>0.0</td>\n",
              "      <td>0.0</td>\n",
              "      <td>1.0</td>\n",
              "      <td>0.0</td>\n",
              "      <td>0.0</td>\n",
              "      <td>0.0</td>\n",
              "      <td>0.0</td>\n",
              "      <td>0.0</td>\n",
              "      <td>0.0</td>\n",
              "      <td>0.0</td>\n",
              "      <td>0.0</td>\n",
              "      <td>...</td>\n",
              "      <td>0.0</td>\n",
              "      <td>0.0</td>\n",
              "      <td>0.0</td>\n",
              "      <td>0.0</td>\n",
              "      <td>0.0</td>\n",
              "      <td>0.0</td>\n",
              "      <td>0.0</td>\n",
              "      <td>0.0</td>\n",
              "      <td>0.0</td>\n",
              "      <td>0.0</td>\n",
              "      <td>0.0</td>\n",
              "      <td>0.0</td>\n",
              "      <td>0.0</td>\n",
              "      <td>0.0</td>\n",
              "      <td>0.0</td>\n",
              "      <td>0.0</td>\n",
              "      <td>0.0</td>\n",
              "      <td>0.0</td>\n",
              "      <td>0.0</td>\n",
              "      <td>0.0</td>\n",
              "      <td>0.0</td>\n",
              "      <td>0.0</td>\n",
              "      <td>0.0</td>\n",
              "      <td>0.0</td>\n",
              "      <td>0.0</td>\n",
              "      <td>0.0</td>\n",
              "      <td>0.0</td>\n",
              "      <td>1.0</td>\n",
              "      <td>0.0</td>\n",
              "      <td>0.0</td>\n",
              "      <td>0.0</td>\n",
              "      <td>0.0</td>\n",
              "      <td>0.0</td>\n",
              "      <td>1.0</td>\n",
              "      <td>0.0</td>\n",
              "      <td>0.0</td>\n",
              "      <td>0.0</td>\n",
              "      <td>0.0</td>\n",
              "      <td>1.0</td>\n",
              "      <td>0.0</td>\n",
              "    </tr>\n",
              "    <tr>\n",
              "      <th>3</th>\n",
              "      <td>0.0</td>\n",
              "      <td>0.0</td>\n",
              "      <td>0.0</td>\n",
              "      <td>0.0</td>\n",
              "      <td>1.0</td>\n",
              "      <td>0.0</td>\n",
              "      <td>0.0</td>\n",
              "      <td>0.0</td>\n",
              "      <td>0.0</td>\n",
              "      <td>0.0</td>\n",
              "      <td>0.0</td>\n",
              "      <td>0.0</td>\n",
              "      <td>0.0</td>\n",
              "      <td>0.0</td>\n",
              "      <td>0.0</td>\n",
              "      <td>0.0</td>\n",
              "      <td>0.0</td>\n",
              "      <td>0.0</td>\n",
              "      <td>0.0</td>\n",
              "      <td>0.0</td>\n",
              "      <td>0.0</td>\n",
              "      <td>0.0</td>\n",
              "      <td>0.0</td>\n",
              "      <td>0.0</td>\n",
              "      <td>0.0</td>\n",
              "      <td>1.0</td>\n",
              "      <td>0.0</td>\n",
              "      <td>0.0</td>\n",
              "      <td>0.0</td>\n",
              "      <td>0.0</td>\n",
              "      <td>0.0</td>\n",
              "      <td>0.0</td>\n",
              "      <td>0.0</td>\n",
              "      <td>0.0</td>\n",
              "      <td>0.0</td>\n",
              "      <td>0.0</td>\n",
              "      <td>0.0</td>\n",
              "      <td>0.0</td>\n",
              "      <td>0.0</td>\n",
              "      <td>0.0</td>\n",
              "      <td>...</td>\n",
              "      <td>0.0</td>\n",
              "      <td>0.0</td>\n",
              "      <td>0.0</td>\n",
              "      <td>0.0</td>\n",
              "      <td>0.0</td>\n",
              "      <td>0.0</td>\n",
              "      <td>0.0</td>\n",
              "      <td>0.0</td>\n",
              "      <td>0.0</td>\n",
              "      <td>0.0</td>\n",
              "      <td>0.0</td>\n",
              "      <td>0.0</td>\n",
              "      <td>0.0</td>\n",
              "      <td>0.0</td>\n",
              "      <td>0.0</td>\n",
              "      <td>0.0</td>\n",
              "      <td>0.0</td>\n",
              "      <td>0.0</td>\n",
              "      <td>0.0</td>\n",
              "      <td>0.0</td>\n",
              "      <td>0.0</td>\n",
              "      <td>0.0</td>\n",
              "      <td>0.0</td>\n",
              "      <td>0.0</td>\n",
              "      <td>0.0</td>\n",
              "      <td>0.0</td>\n",
              "      <td>0.0</td>\n",
              "      <td>0.0</td>\n",
              "      <td>0.0</td>\n",
              "      <td>1.0</td>\n",
              "      <td>0.0</td>\n",
              "      <td>0.0</td>\n",
              "      <td>0.0</td>\n",
              "      <td>0.0</td>\n",
              "      <td>0.0</td>\n",
              "      <td>0.0</td>\n",
              "      <td>0.0</td>\n",
              "      <td>0.0</td>\n",
              "      <td>1.0</td>\n",
              "      <td>0.0</td>\n",
              "    </tr>\n",
              "    <tr>\n",
              "      <th>4</th>\n",
              "      <td>0.0</td>\n",
              "      <td>0.0</td>\n",
              "      <td>0.0</td>\n",
              "      <td>0.0</td>\n",
              "      <td>0.0</td>\n",
              "      <td>0.0</td>\n",
              "      <td>0.0</td>\n",
              "      <td>0.0</td>\n",
              "      <td>0.0</td>\n",
              "      <td>0.0</td>\n",
              "      <td>0.0</td>\n",
              "      <td>0.0</td>\n",
              "      <td>0.0</td>\n",
              "      <td>0.0</td>\n",
              "      <td>0.0</td>\n",
              "      <td>0.0</td>\n",
              "      <td>0.0</td>\n",
              "      <td>0.0</td>\n",
              "      <td>0.0</td>\n",
              "      <td>0.0</td>\n",
              "      <td>0.0</td>\n",
              "      <td>0.0</td>\n",
              "      <td>0.0</td>\n",
              "      <td>0.0</td>\n",
              "      <td>0.0</td>\n",
              "      <td>1.0</td>\n",
              "      <td>0.0</td>\n",
              "      <td>0.0</td>\n",
              "      <td>0.0</td>\n",
              "      <td>0.0</td>\n",
              "      <td>0.0</td>\n",
              "      <td>0.0</td>\n",
              "      <td>0.0</td>\n",
              "      <td>0.0</td>\n",
              "      <td>0.0</td>\n",
              "      <td>0.0</td>\n",
              "      <td>0.0</td>\n",
              "      <td>0.0</td>\n",
              "      <td>0.0</td>\n",
              "      <td>0.0</td>\n",
              "      <td>...</td>\n",
              "      <td>0.0</td>\n",
              "      <td>0.0</td>\n",
              "      <td>0.0</td>\n",
              "      <td>0.0</td>\n",
              "      <td>0.0</td>\n",
              "      <td>0.0</td>\n",
              "      <td>0.0</td>\n",
              "      <td>0.0</td>\n",
              "      <td>0.0</td>\n",
              "      <td>0.0</td>\n",
              "      <td>0.0</td>\n",
              "      <td>0.0</td>\n",
              "      <td>0.0</td>\n",
              "      <td>0.0</td>\n",
              "      <td>0.0</td>\n",
              "      <td>0.0</td>\n",
              "      <td>0.0</td>\n",
              "      <td>0.0</td>\n",
              "      <td>0.0</td>\n",
              "      <td>0.0</td>\n",
              "      <td>0.0</td>\n",
              "      <td>0.0</td>\n",
              "      <td>0.0</td>\n",
              "      <td>1.0</td>\n",
              "      <td>0.0</td>\n",
              "      <td>0.0</td>\n",
              "      <td>0.0</td>\n",
              "      <td>0.0</td>\n",
              "      <td>0.0</td>\n",
              "      <td>0.0</td>\n",
              "      <td>0.0</td>\n",
              "      <td>0.0</td>\n",
              "      <td>0.0</td>\n",
              "      <td>1.0</td>\n",
              "      <td>0.0</td>\n",
              "      <td>0.0</td>\n",
              "      <td>0.0</td>\n",
              "      <td>0.0</td>\n",
              "      <td>0.0</td>\n",
              "      <td>0.0</td>\n",
              "    </tr>\n",
              "    <tr>\n",
              "      <th>...</th>\n",
              "      <td>...</td>\n",
              "      <td>...</td>\n",
              "      <td>...</td>\n",
              "      <td>...</td>\n",
              "      <td>...</td>\n",
              "      <td>...</td>\n",
              "      <td>...</td>\n",
              "      <td>...</td>\n",
              "      <td>...</td>\n",
              "      <td>...</td>\n",
              "      <td>...</td>\n",
              "      <td>...</td>\n",
              "      <td>...</td>\n",
              "      <td>...</td>\n",
              "      <td>...</td>\n",
              "      <td>...</td>\n",
              "      <td>...</td>\n",
              "      <td>...</td>\n",
              "      <td>...</td>\n",
              "      <td>...</td>\n",
              "      <td>...</td>\n",
              "      <td>...</td>\n",
              "      <td>...</td>\n",
              "      <td>...</td>\n",
              "      <td>...</td>\n",
              "      <td>...</td>\n",
              "      <td>...</td>\n",
              "      <td>...</td>\n",
              "      <td>...</td>\n",
              "      <td>...</td>\n",
              "      <td>...</td>\n",
              "      <td>...</td>\n",
              "      <td>...</td>\n",
              "      <td>...</td>\n",
              "      <td>...</td>\n",
              "      <td>...</td>\n",
              "      <td>...</td>\n",
              "      <td>...</td>\n",
              "      <td>...</td>\n",
              "      <td>...</td>\n",
              "      <td>...</td>\n",
              "      <td>...</td>\n",
              "      <td>...</td>\n",
              "      <td>...</td>\n",
              "      <td>...</td>\n",
              "      <td>...</td>\n",
              "      <td>...</td>\n",
              "      <td>...</td>\n",
              "      <td>...</td>\n",
              "      <td>...</td>\n",
              "      <td>...</td>\n",
              "      <td>...</td>\n",
              "      <td>...</td>\n",
              "      <td>...</td>\n",
              "      <td>...</td>\n",
              "      <td>...</td>\n",
              "      <td>...</td>\n",
              "      <td>...</td>\n",
              "      <td>...</td>\n",
              "      <td>...</td>\n",
              "      <td>...</td>\n",
              "      <td>...</td>\n",
              "      <td>...</td>\n",
              "      <td>...</td>\n",
              "      <td>...</td>\n",
              "      <td>...</td>\n",
              "      <td>...</td>\n",
              "      <td>...</td>\n",
              "      <td>...</td>\n",
              "      <td>...</td>\n",
              "      <td>...</td>\n",
              "      <td>...</td>\n",
              "      <td>...</td>\n",
              "      <td>...</td>\n",
              "      <td>...</td>\n",
              "      <td>...</td>\n",
              "      <td>...</td>\n",
              "      <td>...</td>\n",
              "      <td>...</td>\n",
              "      <td>...</td>\n",
              "      <td>...</td>\n",
              "    </tr>\n",
              "    <tr>\n",
              "      <th>9859</th>\n",
              "      <td>0.0</td>\n",
              "      <td>1.0</td>\n",
              "      <td>0.0</td>\n",
              "      <td>0.0</td>\n",
              "      <td>0.0</td>\n",
              "      <td>0.0</td>\n",
              "      <td>0.0</td>\n",
              "      <td>0.0</td>\n",
              "      <td>0.0</td>\n",
              "      <td>0.0</td>\n",
              "      <td>0.0</td>\n",
              "      <td>0.0</td>\n",
              "      <td>0.0</td>\n",
              "      <td>0.0</td>\n",
              "      <td>0.0</td>\n",
              "      <td>0.0</td>\n",
              "      <td>0.0</td>\n",
              "      <td>0.0</td>\n",
              "      <td>0.0</td>\n",
              "      <td>0.0</td>\n",
              "      <td>0.0</td>\n",
              "      <td>0.0</td>\n",
              "      <td>0.0</td>\n",
              "      <td>0.0</td>\n",
              "      <td>0.0</td>\n",
              "      <td>1.0</td>\n",
              "      <td>0.0</td>\n",
              "      <td>0.0</td>\n",
              "      <td>0.0</td>\n",
              "      <td>0.0</td>\n",
              "      <td>0.0</td>\n",
              "      <td>0.0</td>\n",
              "      <td>0.0</td>\n",
              "      <td>0.0</td>\n",
              "      <td>0.0</td>\n",
              "      <td>0.0</td>\n",
              "      <td>0.0</td>\n",
              "      <td>0.0</td>\n",
              "      <td>0.0</td>\n",
              "      <td>0.0</td>\n",
              "      <td>...</td>\n",
              "      <td>0.0</td>\n",
              "      <td>0.0</td>\n",
              "      <td>0.0</td>\n",
              "      <td>0.0</td>\n",
              "      <td>0.0</td>\n",
              "      <td>0.0</td>\n",
              "      <td>0.0</td>\n",
              "      <td>0.0</td>\n",
              "      <td>0.0</td>\n",
              "      <td>0.0</td>\n",
              "      <td>0.0</td>\n",
              "      <td>0.0</td>\n",
              "      <td>0.0</td>\n",
              "      <td>0.0</td>\n",
              "      <td>0.0</td>\n",
              "      <td>0.0</td>\n",
              "      <td>0.0</td>\n",
              "      <td>0.0</td>\n",
              "      <td>0.0</td>\n",
              "      <td>0.0</td>\n",
              "      <td>0.0</td>\n",
              "      <td>0.0</td>\n",
              "      <td>0.0</td>\n",
              "      <td>0.0</td>\n",
              "      <td>0.0</td>\n",
              "      <td>0.0</td>\n",
              "      <td>0.0</td>\n",
              "      <td>1.0</td>\n",
              "      <td>0.0</td>\n",
              "      <td>0.0</td>\n",
              "      <td>0.0</td>\n",
              "      <td>0.0</td>\n",
              "      <td>0.0</td>\n",
              "      <td>0.0</td>\n",
              "      <td>0.0</td>\n",
              "      <td>0.0</td>\n",
              "      <td>0.0</td>\n",
              "      <td>0.0</td>\n",
              "      <td>1.0</td>\n",
              "      <td>0.0</td>\n",
              "    </tr>\n",
              "    <tr>\n",
              "      <th>9860</th>\n",
              "      <td>0.0</td>\n",
              "      <td>0.0</td>\n",
              "      <td>0.0</td>\n",
              "      <td>0.0</td>\n",
              "      <td>1.0</td>\n",
              "      <td>0.0</td>\n",
              "      <td>0.0</td>\n",
              "      <td>0.0</td>\n",
              "      <td>0.0</td>\n",
              "      <td>0.0</td>\n",
              "      <td>0.0</td>\n",
              "      <td>0.0</td>\n",
              "      <td>0.0</td>\n",
              "      <td>0.0</td>\n",
              "      <td>0.0</td>\n",
              "      <td>0.0</td>\n",
              "      <td>0.0</td>\n",
              "      <td>0.0</td>\n",
              "      <td>0.0</td>\n",
              "      <td>0.0</td>\n",
              "      <td>0.0</td>\n",
              "      <td>0.0</td>\n",
              "      <td>0.0</td>\n",
              "      <td>0.0</td>\n",
              "      <td>0.0</td>\n",
              "      <td>0.0</td>\n",
              "      <td>0.0</td>\n",
              "      <td>0.0</td>\n",
              "      <td>0.0</td>\n",
              "      <td>0.0</td>\n",
              "      <td>0.0</td>\n",
              "      <td>0.0</td>\n",
              "      <td>0.0</td>\n",
              "      <td>0.0</td>\n",
              "      <td>0.0</td>\n",
              "      <td>0.0</td>\n",
              "      <td>0.0</td>\n",
              "      <td>0.0</td>\n",
              "      <td>0.0</td>\n",
              "      <td>0.0</td>\n",
              "      <td>...</td>\n",
              "      <td>0.0</td>\n",
              "      <td>0.0</td>\n",
              "      <td>0.0</td>\n",
              "      <td>0.0</td>\n",
              "      <td>0.0</td>\n",
              "      <td>0.0</td>\n",
              "      <td>0.0</td>\n",
              "      <td>0.0</td>\n",
              "      <td>0.0</td>\n",
              "      <td>0.0</td>\n",
              "      <td>0.0</td>\n",
              "      <td>0.0</td>\n",
              "      <td>0.0</td>\n",
              "      <td>0.0</td>\n",
              "      <td>0.0</td>\n",
              "      <td>0.0</td>\n",
              "      <td>0.0</td>\n",
              "      <td>0.0</td>\n",
              "      <td>1.0</td>\n",
              "      <td>0.0</td>\n",
              "      <td>0.0</td>\n",
              "      <td>0.0</td>\n",
              "      <td>0.0</td>\n",
              "      <td>0.0</td>\n",
              "      <td>0.0</td>\n",
              "      <td>0.0</td>\n",
              "      <td>0.0</td>\n",
              "      <td>0.0</td>\n",
              "      <td>0.0</td>\n",
              "      <td>0.0</td>\n",
              "      <td>0.0</td>\n",
              "      <td>0.0</td>\n",
              "      <td>0.0</td>\n",
              "      <td>0.0</td>\n",
              "      <td>0.0</td>\n",
              "      <td>0.0</td>\n",
              "      <td>0.0</td>\n",
              "      <td>0.0</td>\n",
              "      <td>0.0</td>\n",
              "      <td>1.0</td>\n",
              "    </tr>\n",
              "    <tr>\n",
              "      <th>9861</th>\n",
              "      <td>0.0</td>\n",
              "      <td>0.0</td>\n",
              "      <td>0.0</td>\n",
              "      <td>0.0</td>\n",
              "      <td>0.0</td>\n",
              "      <td>0.0</td>\n",
              "      <td>0.0</td>\n",
              "      <td>0.0</td>\n",
              "      <td>0.0</td>\n",
              "      <td>0.0</td>\n",
              "      <td>0.0</td>\n",
              "      <td>0.0</td>\n",
              "      <td>0.0</td>\n",
              "      <td>0.0</td>\n",
              "      <td>0.0</td>\n",
              "      <td>0.0</td>\n",
              "      <td>0.0</td>\n",
              "      <td>0.0</td>\n",
              "      <td>0.0</td>\n",
              "      <td>0.0</td>\n",
              "      <td>0.0</td>\n",
              "      <td>0.0</td>\n",
              "      <td>0.0</td>\n",
              "      <td>0.0</td>\n",
              "      <td>0.0</td>\n",
              "      <td>1.0</td>\n",
              "      <td>0.0</td>\n",
              "      <td>0.0</td>\n",
              "      <td>0.0</td>\n",
              "      <td>0.0</td>\n",
              "      <td>0.0</td>\n",
              "      <td>0.0</td>\n",
              "      <td>0.0</td>\n",
              "      <td>0.0</td>\n",
              "      <td>0.0</td>\n",
              "      <td>0.0</td>\n",
              "      <td>0.0</td>\n",
              "      <td>0.0</td>\n",
              "      <td>0.0</td>\n",
              "      <td>0.0</td>\n",
              "      <td>...</td>\n",
              "      <td>0.0</td>\n",
              "      <td>0.0</td>\n",
              "      <td>0.0</td>\n",
              "      <td>0.0</td>\n",
              "      <td>0.0</td>\n",
              "      <td>0.0</td>\n",
              "      <td>0.0</td>\n",
              "      <td>0.0</td>\n",
              "      <td>0.0</td>\n",
              "      <td>0.0</td>\n",
              "      <td>0.0</td>\n",
              "      <td>0.0</td>\n",
              "      <td>0.0</td>\n",
              "      <td>0.0</td>\n",
              "      <td>0.0</td>\n",
              "      <td>0.0</td>\n",
              "      <td>0.0</td>\n",
              "      <td>0.0</td>\n",
              "      <td>0.0</td>\n",
              "      <td>0.0</td>\n",
              "      <td>0.0</td>\n",
              "      <td>0.0</td>\n",
              "      <td>0.0</td>\n",
              "      <td>0.0</td>\n",
              "      <td>0.0</td>\n",
              "      <td>0.0</td>\n",
              "      <td>0.0</td>\n",
              "      <td>0.0</td>\n",
              "      <td>0.0</td>\n",
              "      <td>0.0</td>\n",
              "      <td>0.0</td>\n",
              "      <td>1.0</td>\n",
              "      <td>0.0</td>\n",
              "      <td>1.0</td>\n",
              "      <td>0.0</td>\n",
              "      <td>0.0</td>\n",
              "      <td>0.0</td>\n",
              "      <td>0.0</td>\n",
              "      <td>0.0</td>\n",
              "      <td>0.0</td>\n",
              "    </tr>\n",
              "    <tr>\n",
              "      <th>9862</th>\n",
              "      <td>0.0</td>\n",
              "      <td>0.0</td>\n",
              "      <td>0.0</td>\n",
              "      <td>0.0</td>\n",
              "      <td>1.0</td>\n",
              "      <td>0.0</td>\n",
              "      <td>0.0</td>\n",
              "      <td>0.0</td>\n",
              "      <td>0.0</td>\n",
              "      <td>0.0</td>\n",
              "      <td>0.0</td>\n",
              "      <td>0.0</td>\n",
              "      <td>0.0</td>\n",
              "      <td>0.0</td>\n",
              "      <td>0.0</td>\n",
              "      <td>0.0</td>\n",
              "      <td>0.0</td>\n",
              "      <td>0.0</td>\n",
              "      <td>0.0</td>\n",
              "      <td>0.0</td>\n",
              "      <td>0.0</td>\n",
              "      <td>0.0</td>\n",
              "      <td>0.0</td>\n",
              "      <td>0.0</td>\n",
              "      <td>0.0</td>\n",
              "      <td>1.0</td>\n",
              "      <td>0.0</td>\n",
              "      <td>0.0</td>\n",
              "      <td>0.0</td>\n",
              "      <td>0.0</td>\n",
              "      <td>0.0</td>\n",
              "      <td>0.0</td>\n",
              "      <td>0.0</td>\n",
              "      <td>0.0</td>\n",
              "      <td>0.0</td>\n",
              "      <td>0.0</td>\n",
              "      <td>0.0</td>\n",
              "      <td>0.0</td>\n",
              "      <td>0.0</td>\n",
              "      <td>0.0</td>\n",
              "      <td>...</td>\n",
              "      <td>0.0</td>\n",
              "      <td>0.0</td>\n",
              "      <td>0.0</td>\n",
              "      <td>0.0</td>\n",
              "      <td>0.0</td>\n",
              "      <td>0.0</td>\n",
              "      <td>0.0</td>\n",
              "      <td>0.0</td>\n",
              "      <td>0.0</td>\n",
              "      <td>0.0</td>\n",
              "      <td>0.0</td>\n",
              "      <td>0.0</td>\n",
              "      <td>0.0</td>\n",
              "      <td>0.0</td>\n",
              "      <td>0.0</td>\n",
              "      <td>0.0</td>\n",
              "      <td>0.0</td>\n",
              "      <td>0.0</td>\n",
              "      <td>0.0</td>\n",
              "      <td>0.0</td>\n",
              "      <td>0.0</td>\n",
              "      <td>0.0</td>\n",
              "      <td>0.0</td>\n",
              "      <td>0.0</td>\n",
              "      <td>0.0</td>\n",
              "      <td>0.0</td>\n",
              "      <td>0.0</td>\n",
              "      <td>0.0</td>\n",
              "      <td>0.0</td>\n",
              "      <td>0.0</td>\n",
              "      <td>0.0</td>\n",
              "      <td>0.0</td>\n",
              "      <td>0.0</td>\n",
              "      <td>0.0</td>\n",
              "      <td>0.0</td>\n",
              "      <td>0.0</td>\n",
              "      <td>0.0</td>\n",
              "      <td>0.0</td>\n",
              "      <td>0.0</td>\n",
              "      <td>0.0</td>\n",
              "    </tr>\n",
              "    <tr>\n",
              "      <th>9863</th>\n",
              "      <td>0.0</td>\n",
              "      <td>0.0</td>\n",
              "      <td>1.0</td>\n",
              "      <td>0.0</td>\n",
              "      <td>0.0</td>\n",
              "      <td>0.0</td>\n",
              "      <td>0.0</td>\n",
              "      <td>0.0</td>\n",
              "      <td>0.0</td>\n",
              "      <td>0.0</td>\n",
              "      <td>0.0</td>\n",
              "      <td>0.0</td>\n",
              "      <td>0.0</td>\n",
              "      <td>0.0</td>\n",
              "      <td>0.0</td>\n",
              "      <td>0.0</td>\n",
              "      <td>0.0</td>\n",
              "      <td>0.0</td>\n",
              "      <td>0.0</td>\n",
              "      <td>0.0</td>\n",
              "      <td>0.0</td>\n",
              "      <td>0.0</td>\n",
              "      <td>0.0</td>\n",
              "      <td>0.0</td>\n",
              "      <td>0.0</td>\n",
              "      <td>1.0</td>\n",
              "      <td>0.0</td>\n",
              "      <td>0.0</td>\n",
              "      <td>0.0</td>\n",
              "      <td>0.0</td>\n",
              "      <td>0.0</td>\n",
              "      <td>0.0</td>\n",
              "      <td>0.0</td>\n",
              "      <td>0.0</td>\n",
              "      <td>0.0</td>\n",
              "      <td>0.0</td>\n",
              "      <td>0.0</td>\n",
              "      <td>0.0</td>\n",
              "      <td>0.0</td>\n",
              "      <td>0.0</td>\n",
              "      <td>...</td>\n",
              "      <td>0.0</td>\n",
              "      <td>0.0</td>\n",
              "      <td>0.0</td>\n",
              "      <td>0.0</td>\n",
              "      <td>0.0</td>\n",
              "      <td>0.0</td>\n",
              "      <td>0.0</td>\n",
              "      <td>0.0</td>\n",
              "      <td>0.0</td>\n",
              "      <td>0.0</td>\n",
              "      <td>0.0</td>\n",
              "      <td>0.0</td>\n",
              "      <td>0.0</td>\n",
              "      <td>0.0</td>\n",
              "      <td>0.0</td>\n",
              "      <td>0.0</td>\n",
              "      <td>0.0</td>\n",
              "      <td>0.0</td>\n",
              "      <td>0.0</td>\n",
              "      <td>0.0</td>\n",
              "      <td>0.0</td>\n",
              "      <td>0.0</td>\n",
              "      <td>0.0</td>\n",
              "      <td>1.0</td>\n",
              "      <td>0.0</td>\n",
              "      <td>0.0</td>\n",
              "      <td>0.0</td>\n",
              "      <td>0.0</td>\n",
              "      <td>0.0</td>\n",
              "      <td>0.0</td>\n",
              "      <td>0.0</td>\n",
              "      <td>0.0</td>\n",
              "      <td>0.0</td>\n",
              "      <td>1.0</td>\n",
              "      <td>0.0</td>\n",
              "      <td>0.0</td>\n",
              "      <td>0.0</td>\n",
              "      <td>0.0</td>\n",
              "      <td>0.0</td>\n",
              "      <td>0.0</td>\n",
              "    </tr>\n",
              "  </tbody>\n",
              "</table>\n",
              "<p>9864 rows × 87 columns</p>\n",
              "</div>"
            ],
            "text/plain": [
              "       0    1    2    3    4    5    6   ...   80   81   82   83   84   85   86\n",
              "0     0.0  0.0  0.0  0.0  1.0  0.0  0.0  ...  1.0  0.0  0.0  0.0  0.0  0.0  0.0\n",
              "1     0.0  1.0  0.0  0.0  0.0  0.0  0.0  ...  1.0  0.0  0.0  0.0  0.0  0.0  0.0\n",
              "2     0.0  1.0  0.0  0.0  0.0  0.0  0.0  ...  1.0  0.0  0.0  0.0  0.0  1.0  0.0\n",
              "3     0.0  0.0  0.0  0.0  1.0  0.0  0.0  ...  0.0  0.0  0.0  0.0  0.0  1.0  0.0\n",
              "4     0.0  0.0  0.0  0.0  0.0  0.0  0.0  ...  1.0  0.0  0.0  0.0  0.0  0.0  0.0\n",
              "...   ...  ...  ...  ...  ...  ...  ...  ...  ...  ...  ...  ...  ...  ...  ...\n",
              "9859  0.0  1.0  0.0  0.0  0.0  0.0  0.0  ...  0.0  0.0  0.0  0.0  0.0  1.0  0.0\n",
              "9860  0.0  0.0  0.0  0.0  1.0  0.0  0.0  ...  0.0  0.0  0.0  0.0  0.0  0.0  1.0\n",
              "9861  0.0  0.0  0.0  0.0  0.0  0.0  0.0  ...  1.0  0.0  0.0  0.0  0.0  0.0  0.0\n",
              "9862  0.0  0.0  0.0  0.0  1.0  0.0  0.0  ...  0.0  0.0  0.0  0.0  0.0  0.0  0.0\n",
              "9863  0.0  0.0  1.0  0.0  0.0  0.0  0.0  ...  1.0  0.0  0.0  0.0  0.0  0.0  0.0\n",
              "\n",
              "[9864 rows x 87 columns]"
            ]
          },
          "metadata": {},
          "execution_count": 164
        }
      ]
    },
    {
      "cell_type": "code",
      "metadata": {
        "id": "ek7vAP7NViPg"
      },
      "source": [
        "X_train_manual_prep = pd.concat([X_train_num_manual,X_train_cat_manual],axis=1)"
      ],
      "execution_count": null,
      "outputs": []
    },
    {
      "cell_type": "code",
      "metadata": {
        "colab": {
          "base_uri": "https://localhost:8080/"
        },
        "id": "N_p2hENpWlu1",
        "outputId": "dd69884a-257e-42c1-e937-f532e13e13af"
      },
      "source": [
        "X_train_manual_prep.shape"
      ],
      "execution_count": null,
      "outputs": [
        {
          "output_type": "execute_result",
          "data": {
            "text/plain": [
              "(9864, 93)"
            ]
          },
          "metadata": {},
          "execution_count": 166
        }
      ]
    },
    {
      "cell_type": "code",
      "metadata": {
        "id": "iKDW8apKWHkz"
      },
      "source": [
        "log_reg = LogisticRegression(class_weight='balanced',max_iter=1000)"
      ],
      "execution_count": null,
      "outputs": []
    },
    {
      "cell_type": "code",
      "metadata": {
        "id": "tIp3KsqiWHkz"
      },
      "source": [
        "scores = cross_val_score(log_reg, X_train_manual_prep, y_train_nona['fpd5_flg'].values,\n",
        "                         scoring=make_scorer(roc_auc_score), cv=5)"
      ],
      "execution_count": null,
      "outputs": []
    },
    {
      "cell_type": "code",
      "metadata": {
        "colab": {
          "base_uri": "https://localhost:8080/"
        },
        "id": "bqkW2d_MWHkz",
        "outputId": "76179848-6511-4d48-db28-b4b3b6437ad8"
      },
      "source": [
        "scores"
      ],
      "execution_count": null,
      "outputs": [
        {
          "output_type": "execute_result",
          "data": {
            "text/plain": [
              "array([0.57338073, 0.58399312, 0.60534586, 0.58477589, 0.59212493])"
            ]
          },
          "metadata": {},
          "execution_count": 169
        }
      ]
    },
    {
      "cell_type": "markdown",
      "metadata": {
        "id": "3a42dE57V0rX"
      },
      "source": [
        "1. Target encoding in pipeline\n",
        "2. regroup categorical features\n",
        "3. In order to debug pipeline fit logistic regression on original data (prepared manualy)\n",
        "4. cross val with two metrics"
      ]
    },
    {
      "cell_type": "markdown",
      "source": [
        "# Delete outliers"
      ],
      "metadata": {
        "id": "ZkNogdN3YTNP"
      }
    },
    {
      "cell_type": "code",
      "source": [
        "X_train['salary'].hist()"
      ],
      "metadata": {
        "colab": {
          "base_uri": "https://localhost:8080/",
          "height": 296
        },
        "id": "bPYu-uQZiq4c",
        "outputId": "f0a8b9c2-23af-4196-8051-e343626841f6"
      },
      "execution_count": null,
      "outputs": [
        {
          "output_type": "execute_result",
          "data": {
            "text/plain": [
              "<matplotlib.axes._subplots.AxesSubplot at 0x7f4ac8d3a390>"
            ]
          },
          "metadata": {},
          "execution_count": 170
        },
        {
          "output_type": "display_data",
          "data": {
            "image/png": "[encoded data removed]",
            "text/plain": [
              "<Figure size 432x288 with 1 Axes>"
            ]
          },
          "metadata": {}
        }
      ]
    },
    {
      "cell_type": "code",
      "source": [
        "X_train_nona_noout = X_train_nona[X_train_nona['salary'] <= X_train_nona['salary'].quantile(0.99)].copy()"
      ],
      "metadata": {
        "id": "yCRz-utLir2X"
      },
      "execution_count": null,
      "outputs": []
    },
    {
      "cell_type": "code",
      "source": [
        "y_train_nona_noout = y_train_nona[y_train_nona.index.isin(X_train_nona_noout.index)].copy()"
      ],
      "metadata": {
        "id": "wtjV_-dgi4Cg"
      },
      "execution_count": null,
      "outputs": []
    },
    {
      "cell_type": "code",
      "metadata": {
        "id": "vuYGv660jni8"
      },
      "source": [
        "ohe = OneHotEncoder(drop='first')"
      ],
      "execution_count": null,
      "outputs": []
    },
    {
      "cell_type": "code",
      "metadata": {
        "id": "VYOjFYLWjni8"
      },
      "source": [
        "scaler = StandardScaler()"
      ],
      "execution_count": null,
      "outputs": []
    },
    {
      "cell_type": "code",
      "metadata": {
        "id": "pZyCIygajni8"
      },
      "source": [
        "X_train_num_manual = pd.DataFrame(scaler.fit_transform(X_train_nona_noout[num_attribs]))"
      ],
      "execution_count": null,
      "outputs": []
    },
    {
      "cell_type": "code",
      "metadata": {
        "id": "ej2wK3Vbjni9"
      },
      "source": [
        "X_train_cat_manual = pd.DataFrame(ohe.fit_transform(X_train_nona_noout[cat_attribs]).toarray())"
      ],
      "execution_count": null,
      "outputs": []
    },
    {
      "cell_type": "code",
      "metadata": {
        "id": "pyJ6gWfPjni9"
      },
      "source": [
        "X_train_manual_prep = pd.concat([X_train_num_manual,X_train_cat_manual],axis=1)"
      ],
      "execution_count": null,
      "outputs": []
    },
    {
      "cell_type": "code",
      "metadata": {
        "colab": {
          "base_uri": "https://localhost:8080/"
        },
        "outputId": "7db978a5-199e-4325-c683-bc63106bf4cd",
        "id": "bXZk2lI5jni9"
      },
      "source": [
        "X_train_manual_prep.shape"
      ],
      "execution_count": null,
      "outputs": [
        {
          "output_type": "execute_result",
          "data": {
            "text/plain": [
              "(9767, 91)"
            ]
          },
          "metadata": {},
          "execution_count": 178
        }
      ]
    },
    {
      "cell_type": "code",
      "metadata": {
        "id": "W7yfeE7Djni9"
      },
      "source": [
        "log_reg = LogisticRegression(max_iter=1000)"
      ],
      "execution_count": null,
      "outputs": []
    },
    {
      "cell_type": "code",
      "metadata": {
        "id": "6ON3GvgEjni9"
      },
      "source": [
        "scores = cross_val_score(log_reg, X_train_manual_prep, y_train_nona_noout['fpd5_flg'].values,\n",
        "                         scoring=make_scorer(roc_auc_score), cv=5)"
      ],
      "execution_count": null,
      "outputs": []
    },
    {
      "cell_type": "code",
      "metadata": {
        "colab": {
          "base_uri": "https://localhost:8080/"
        },
        "outputId": "ae14f6e9-203c-4133-f589-de5e4bbee840",
        "id": "Mvgv9ajpjni9"
      },
      "source": [
        "scores"
      ],
      "execution_count": null,
      "outputs": [
        {
          "output_type": "execute_result",
          "data": {
            "text/plain": [
              "array([0.50517909, 0.49989161, 0.50317604, 0.50918973, 0.49930868])"
            ]
          },
          "metadata": {},
          "execution_count": 181
        }
      ]
    },
    {
      "cell_type": "code",
      "source": [
        "log_reg = LogisticRegression()"
      ],
      "metadata": {
        "id": "mn1vNGUrmgAF"
      },
      "execution_count": null,
      "outputs": []
    },
    {
      "cell_type": "code",
      "source": [
        "scores = cross_val_score(log_reg, X_train_num_manual, y_train_nona_noout['fpd5_flg'].values,\n",
        "                         scoring=make_scorer(roc_auc_score), cv=5)"
      ],
      "metadata": {
        "id": "MhNV0GP0j8qp"
      },
      "execution_count": null,
      "outputs": []
    },
    {
      "cell_type": "code",
      "source": [
        "scores"
      ],
      "metadata": {
        "colab": {
          "base_uri": "https://localhost:8080/"
        },
        "id": "mFterqsgmUuE",
        "outputId": "225773a9-4102-4e08-bed0-94a4b80e903f"
      },
      "execution_count": null,
      "outputs": [
        {
          "output_type": "execute_result",
          "data": {
            "text/plain": [
              "array([0.49964838, 0.5       , 0.5       , 0.5       , 0.5       ])"
            ]
          },
          "metadata": {},
          "execution_count": 184
        }
      ]
    },
    {
      "cell_type": "code",
      "source": [
        "cb = CatBoostClassifier(iterations=100,verbose=0)"
      ],
      "metadata": {
        "id": "m0ZlEt5wmncX"
      },
      "execution_count": null,
      "outputs": []
    },
    {
      "cell_type": "code",
      "source": [
        "from sklearn.model_selection import RepeatedStratifiedKFold"
      ],
      "metadata": {
        "id": "rjEMybzRpLpp"
      },
      "execution_count": null,
      "outputs": []
    },
    {
      "cell_type": "code",
      "source": [
        "cv = RepeatedStratifiedKFold(n_splits=10, n_repeats=3, random_state=1)"
      ],
      "metadata": {
        "id": "jMlTr_wGpLOH"
      },
      "execution_count": null,
      "outputs": []
    },
    {
      "cell_type": "code",
      "source": [
        "scores = cross_val_score(log_reg, X_train_nona_noout[num_attribs], y_train_nona_noout['fpd5_flg'].values,\n",
        "                         scoring='roc_auc', cv=cv)"
      ],
      "metadata": {
        "id": "h7za1pGemeA8"
      },
      "execution_count": null,
      "outputs": []
    },
    {
      "cell_type": "code",
      "source": [
        "scores"
      ],
      "metadata": {
        "colab": {
          "base_uri": "https://localhost:8080/"
        },
        "id": "Yr7xH52mmsfE",
        "outputId": "e296ea3d-eb7f-4d81-a0c6-bdb2f813ef2f"
      },
      "execution_count": null,
      "outputs": [
        {
          "output_type": "execute_result",
          "data": {
            "text/plain": [
              "array([0.5441531 , 0.5175888 , 0.53649155, 0.57066453, 0.55315768,\n",
              "       0.57112454, 0.56430898, 0.54325691, 0.56890906, 0.57449513,\n",
              "       0.55865402, 0.57191766, 0.54230513, 0.54214386, 0.52213604,\n",
              "       0.55486554, 0.56955152, 0.60805888, 0.56029775, 0.56749463,\n",
              "       0.60827438, 0.57263676, 0.57103465, 0.59152893, 0.56751584,\n",
              "       0.57070154, 0.5590215 , 0.52585513, 0.52763846, 0.54957673])"
            ]
          },
          "metadata": {},
          "execution_count": 189
        }
      ]
    },
    {
      "cell_type": "code",
      "source": [
        "log_reg = LogisticRegression(max_iter=10000)"
      ],
      "metadata": {
        "id": "_thgxYnhpu0y"
      },
      "execution_count": null,
      "outputs": []
    },
    {
      "cell_type": "code",
      "source": [
        "scores = cross_val_score(log_reg, X_train_manual_prep, y_train_nona_noout['fpd5_flg'].values,\n",
        "                         scoring='roc_auc', cv=cv)"
      ],
      "metadata": {
        "id": "D1AwTUdBmtma"
      },
      "execution_count": null,
      "outputs": []
    },
    {
      "cell_type": "code",
      "source": [
        "scores"
      ],
      "metadata": {
        "colab": {
          "base_uri": "https://localhost:8080/"
        },
        "id": "q4SYAqGhpqtw",
        "outputId": "55b423cd-8b88-46e4-f066-4fdd993ddb20"
      },
      "execution_count": null,
      "outputs": [
        {
          "output_type": "execute_result",
          "data": {
            "text/plain": [
              "array([0.64420545, 0.62012098, 0.57826528, 0.61101594, 0.60517856,\n",
              "       0.64755771, 0.61200998, 0.63512655, 0.62876098, 0.63978983,\n",
              "       0.60729355, 0.66577837, 0.58483233, 0.59810655, 0.61712826,\n",
              "       0.61231666, 0.67026744, 0.65277984, 0.622132  , 0.60581695,\n",
              "       0.65636666, 0.62125514, 0.65553123, 0.61684538, 0.60523143,\n",
              "       0.63683999, 0.63030995, 0.59366727, 0.6144203 , 0.60154977])"
            ]
          },
          "metadata": {},
          "execution_count": 192
        }
      ]
    },
    {
      "cell_type": "code",
      "source": [
        "scores.mean()"
      ],
      "metadata": {
        "colab": {
          "base_uri": "https://localhost:8080/"
        },
        "id": "0dVJVgWQp4I2",
        "outputId": "88be4224-4224-4daf-83d9-07f466938536"
      },
      "execution_count": null,
      "outputs": [
        {
          "output_type": "execute_result",
          "data": {
            "text/plain": [
              "0.6230166775287878"
            ]
          },
          "metadata": {},
          "execution_count": 193
        }
      ]
    },
    {
      "cell_type": "code",
      "source": [
        "scores = cross_val_score(log_reg, X_train_prep, y_train['fpd5_flg'].values,\n",
        "                         scoring='roc_auc', cv=cv)"
      ],
      "metadata": {
        "id": "J-C9spsEtoFC"
      },
      "execution_count": null,
      "outputs": []
    },
    {
      "cell_type": "code",
      "source": [
        "scores.mean()"
      ],
      "metadata": {
        "colab": {
          "base_uri": "https://localhost:8080/"
        },
        "id": "Mn5IPiK2tyoO",
        "outputId": "c90d130b-5c29-4933-9eb7-52695a162004"
      },
      "execution_count": null,
      "outputs": [
        {
          "output_type": "execute_result",
          "data": {
            "text/plain": [
              "0.62494116888101"
            ]
          },
          "metadata": {},
          "execution_count": 195
        }
      ]
    },
    {
      "cell_type": "code",
      "source": [
        "log_reg = LogisticRegression(max_iter=10000,class_weight='balanced')"
      ],
      "metadata": {
        "id": "Svuy4HV5t4uw"
      },
      "execution_count": null,
      "outputs": []
    },
    {
      "cell_type": "code",
      "source": [
        "scores = cross_val_score(log_reg, X_train_prep, y_train['fpd5_flg'].values,\n",
        "                         scoring='roc_auc', cv=cv)"
      ],
      "metadata": {
        "id": "ux1y0NuAuEhz"
      },
      "execution_count": null,
      "outputs": []
    },
    {
      "cell_type": "code",
      "source": [
        "scores.mean()"
      ],
      "metadata": {
        "colab": {
          "base_uri": "https://localhost:8080/"
        },
        "outputId": "e8f75f06-073e-4b0e-99d9-b52a59d47b5e",
        "id": "hYMt4rVEuEhz"
      },
      "execution_count": null,
      "outputs": [
        {
          "output_type": "execute_result",
          "data": {
            "text/plain": [
              "0.6250738145655755"
            ]
          },
          "metadata": {},
          "execution_count": 198
        }
      ]
    },
    {
      "cell_type": "markdown",
      "source": [
        "1. Target encoding in pipeline\n",
        "2. regroup categorical features\n",
        "3. In order to debug pipeline fit logistic regression on original data (prepared manualy)\n",
        "4. cross val with two metrics"
      ],
      "metadata": {
        "id": "ZXVmSMPWuI0H"
      }
    },
    {
      "cell_type": "markdown",
      "source": [
        "# Cross validation with two metrics"
      ],
      "metadata": {
        "id": "BunflINMTdpb"
      }
    },
    {
      "cell_type": "code",
      "metadata": {
        "id": "h1CJdsjNUkYj"
      },
      "source": [
        "X_train_prep = pd.DataFrame(full_pipeline.fit_transform(X_train).toarray())"
      ],
      "execution_count": null,
      "outputs": []
    },
    {
      "cell_type": "code",
      "metadata": {
        "colab": {
          "base_uri": "https://localhost:8080/"
        },
        "outputId": "14fb7c8f-9082-4b7a-c4a2-4ac7330f82c9",
        "id": "c1r1HIK1UkYk"
      },
      "source": [
        "cat_features_names = list(full_pipeline.transformers_[1][1].get_feature_names())"
      ],
      "execution_count": null,
      "outputs": [
        {
          "output_type": "stream",
          "name": "stderr",
          "text": [
            "/usr/local/lib/python3.7/dist-packages/sklearn/utils/deprecation.py:87: FutureWarning: Function get_feature_names is deprecated; get_feature_names is deprecated in 1.0 and will be removed in 1.2. Please use get_feature_names_out instead.\n",
            "  warnings.warn(msg, category=FutureWarning)\n"
          ]
        }
      ]
    },
    {
      "cell_type": "code",
      "metadata": {
        "id": "Cwao6PwiUkYk"
      },
      "source": [
        "X_train_prep.columns = most_freq_num_features+median_num_features + \\\n",
        "            ['salary_over_age'] + cat_features_names"
      ],
      "execution_count": null,
      "outputs": []
    },
    {
      "cell_type": "code",
      "metadata": {
        "id": "Slx1-ZdyUkYk"
      },
      "source": [
        "log_reg = LogisticRegression(max_iter=10000)"
      ],
      "execution_count": null,
      "outputs": []
    },
    {
      "cell_type": "code",
      "metadata": {
        "id": "X3MJ00R0UkYk"
      },
      "source": [
        "tree_reg = DecisionTreeClassifier(random_state=42)"
      ],
      "execution_count": null,
      "outputs": []
    },
    {
      "cell_type": "code",
      "source": [
        "from sklearn.model_selection import cross_validate"
      ],
      "metadata": {
        "id": "IxUC7rEdUr4B"
      },
      "execution_count": null,
      "outputs": []
    },
    {
      "cell_type": "code",
      "source": [
        "scoring = {'roc_auc': 'roc_auc',\n",
        "           'average_precision': 'average_precision'}"
      ],
      "metadata": {
        "id": "5TmauqiGUy1E"
      },
      "execution_count": null,
      "outputs": []
    },
    {
      "cell_type": "code",
      "source": [
        "scores = cross_validate(log_reg, X_train_prep, y_train['fpd5_flg'].values, scoring=scoring,\n",
        "                         cv=cv, return_train_score=True)"
      ],
      "metadata": {
        "id": "-WTvxDPzU82x"
      },
      "execution_count": null,
      "outputs": []
    },
    {
      "cell_type": "code",
      "metadata": {
        "colab": {
          "base_uri": "https://localhost:8080/"
        },
        "outputId": "eb9c57a4-a031-4778-adf7-da098e98f913",
        "id": "VsSN3U-zUkYk"
      },
      "source": [
        "scores['test_average_precision'].mean()"
      ],
      "execution_count": null,
      "outputs": [
        {
          "output_type": "execute_result",
          "data": {
            "text/plain": [
              "0.36795643916354576"
            ]
          },
          "metadata": {},
          "execution_count": 207
        }
      ]
    },
    {
      "cell_type": "code",
      "source": [
        "scores['test_roc_auc'].mean()"
      ],
      "metadata": {
        "colab": {
          "base_uri": "https://localhost:8080/"
        },
        "id": "SBQEZhu-WDGA",
        "outputId": "b0fbff60-426b-49a6-dea4-40c9dfb2b770"
      },
      "execution_count": null,
      "outputs": [
        {
          "output_type": "execute_result",
          "data": {
            "text/plain": [
              "0.62494116888101"
            ]
          },
          "metadata": {},
          "execution_count": 208
        }
      ]
    },
    {
      "cell_type": "code",
      "metadata": {
        "colab": {
          "base_uri": "https://localhost:8080/"
        },
        "outputId": "4d1b3581-1606-47eb-dbf6-85d0132f68e9",
        "id": "6YiLQHGOmCm4"
      },
      "source": [
        "scores['test_average_precision'].mean()"
      ],
      "execution_count": null,
      "outputs": [
        {
          "output_type": "execute_result",
          "data": {
            "text/plain": [
              "0.36795643916354576"
            ]
          },
          "metadata": {},
          "execution_count": 209
        }
      ]
    },
    {
      "cell_type": "code",
      "source": [
        "import matplotlib.pyplot as plt\n",
        "\n",
        "\n",
        "plt.style.use('dark_background')"
      ],
      "metadata": {
        "id": "3dNWIoN2WmK5"
      },
      "execution_count": null,
      "outputs": []
    },
    {
      "cell_type": "code",
      "source": [
        "pd.Series(scores['test_roc_auc']).hist()"
      ],
      "metadata": {
        "colab": {
          "base_uri": "https://localhost:8080/",
          "height": 283
        },
        "id": "g_fO4RMwWUrP",
        "outputId": "3227e652-9604-41e3-94db-da02d101a963"
      },
      "execution_count": null,
      "outputs": [
        {
          "output_type": "execute_result",
          "data": {
            "text/plain": [
              "<matplotlib.axes._subplots.AxesSubplot at 0x7f4ac7c12110>"
            ]
          },
          "metadata": {},
          "execution_count": 211
        },
        {
          "output_type": "display_data",
          "data": {
            "image/png": "[encoded data removed]",
            "text/plain": [
              "<Figure size 432x288 with 1 Axes>"
            ]
          },
          "metadata": {}
        }
      ]
    },
    {
      "cell_type": "code",
      "source": [
        "scores = cross_validate(tree_reg, X_train_prep, y_train['fpd5_flg'].values, scoring=scoring,\n",
        "                         cv=cv, return_train_score=True)"
      ],
      "metadata": {
        "id": "of9CkziNbSba"
      },
      "execution_count": null,
      "outputs": []
    },
    {
      "cell_type": "code",
      "metadata": {
        "colab": {
          "base_uri": "https://localhost:8080/"
        },
        "outputId": "e9d194aa-3aba-45a6-854f-01c7fca01048",
        "id": "BOsZNcqUbV0J"
      },
      "source": [
        "scores['test_average_precision'].mean()"
      ],
      "execution_count": null,
      "outputs": [
        {
          "output_type": "execute_result",
          "data": {
            "text/plain": [
              "0.2813511831500889"
            ]
          },
          "metadata": {},
          "execution_count": 213
        }
      ]
    },
    {
      "cell_type": "code",
      "source": [
        "scores['test_roc_auc'].mean()"
      ],
      "metadata": {
        "colab": {
          "base_uri": "https://localhost:8080/"
        },
        "outputId": "2389a2cf-7adc-4b90-fc77-4982fa4d9bcc",
        "id": "4UapEru7bV0K"
      },
      "execution_count": null,
      "outputs": [
        {
          "output_type": "execute_result",
          "data": {
            "text/plain": [
              "0.5206769245058787"
            ]
          },
          "metadata": {},
          "execution_count": 214
        }
      ]
    },
    {
      "cell_type": "markdown",
      "source": [
        "# Target encoding"
      ],
      "metadata": {
        "id": "JnLyVCL_WgwZ"
      }
    },
    {
      "cell_type": "code",
      "source": [
        "df['type_of_document'].value_counts()"
      ],
      "metadata": {
        "colab": {
          "base_uri": "https://localhost:8080/"
        },
        "id": "VnZlcw4uXeit",
        "outputId": "7d565549-55db-47d6-b34d-683f16613537"
      },
      "execution_count": null,
      "outputs": [
        {
          "output_type": "execute_result",
          "data": {
            "text/plain": [
              "UMID                 5419\n",
              "Driver license ID    3073\n",
              "TIN                  3057\n",
              "Passport             1867\n",
              "SSS                  1498\n",
              "PRC                   449\n",
              "Name: type_of_document, dtype: int64"
            ]
          },
          "metadata": {},
          "execution_count": 215
        }
      ]
    },
    {
      "cell_type": "code",
      "source": [
        "cat_dict = df.groupby('type_of_document')['fpd5_flg'].mean().to_dict()"
      ],
      "metadata": {
        "id": "aekSgDF5Xjap"
      },
      "execution_count": null,
      "outputs": []
    },
    {
      "cell_type": "code",
      "source": [
        "cat_dict"
      ],
      "metadata": {
        "colab": {
          "base_uri": "https://localhost:8080/"
        },
        "id": "IuUvbo87YCZT",
        "outputId": "be530925-101a-4d93-eef3-42a51ec68558"
      },
      "execution_count": null,
      "outputs": [
        {
          "output_type": "execute_result",
          "data": {
            "text/plain": [
              "{'Driver license ID': 0.27790432801822323,\n",
              " 'PRC': 0.1870824053452116,\n",
              " 'Passport': 0.2747723620782003,\n",
              " 'SSS': 0.24299065420560748,\n",
              " 'TIN': 0.3071638861629048,\n",
              " 'UMID': 0.26517807713600294}"
            ]
          },
          "metadata": {},
          "execution_count": 217
        }
      ]
    },
    {
      "cell_type": "code",
      "source": [
        "df['type_of_document'].map(cat_dict)"
      ],
      "metadata": {
        "colab": {
          "base_uri": "https://localhost:8080/"
        },
        "id": "jzwGDcVqX059",
        "outputId": "f7bdc435-e6f6-4d99-eea7-0a788e21f8e0"
      },
      "execution_count": null,
      "outputs": [
        {
          "output_type": "execute_result",
          "data": {
            "text/plain": [
              "0        0.265178\n",
              "1        0.265178\n",
              "2        0.242991\n",
              "3        0.307164\n",
              "4        0.265178\n",
              "           ...   \n",
              "15358    0.265178\n",
              "15359    0.274772\n",
              "15360    0.265178\n",
              "15361    0.265178\n",
              "15362    0.242991\n",
              "Name: type_of_document, Length: 15363, dtype: float64"
            ]
          },
          "metadata": {},
          "execution_count": 218
        }
      ]
    },
    {
      "cell_type": "code",
      "source": [
        "class TargetEncoder(BaseEstimator, TransformerMixin):\n",
        "    def __init__(self): # no *args or **kargs\n",
        "        self.features_dict = {}\n",
        "        self.mean_pd = None\n",
        "    def fit(self, X, y=None):\n",
        "\n",
        "        df = X.copy()\n",
        "        df = df.fillna('na')\n",
        "        cols = df.columns\n",
        "        df['fpd5_flg'] = y\n",
        "        self.mean_pd = df['fpd5_flg'].mean()\n",
        "\n",
        "        for col in cols:\n",
        "          self.features_dict[col] = df.groupby(col)['fpd5_flg'].mean().to_dict()\n",
        "\n",
        "        return self\n",
        "\n",
        "    def transform(self, X):\n",
        "        X = X.fillna('na')\n",
        "        for col, d in self.features_dict.items():\n",
        "          X[col] = X[col].map(d)\n",
        "\n",
        "        return X.fillna(self.mean_pd)\n",
        "\n",
        "## todo atribute adder with target encoding"
      ],
      "metadata": {
        "id": "-uIzZeU-Wv-o"
      },
      "execution_count": null,
      "outputs": []
    },
    {
      "cell_type": "code",
      "source": [
        "te = TargetEncoder()"
      ],
      "metadata": {
        "id": "7PYQXnnvZF7h"
      },
      "execution_count": null,
      "outputs": []
    },
    {
      "cell_type": "code",
      "source": [
        "te.fit(X_train[cat_attribs],y_train)"
      ],
      "metadata": {
        "colab": {
          "base_uri": "https://localhost:8080/"
        },
        "id": "pNIJRtpqZJdJ",
        "outputId": "a1ed67a0-450d-4daf-f2f8-669f4d9ce1b1"
      },
      "execution_count": null,
      "outputs": [
        {
          "output_type": "execute_result",
          "data": {
            "text/plain": [
              "TargetEncoder()"
            ]
          },
          "metadata": {},
          "execution_count": 221
        }
      ]
    },
    {
      "cell_type": "code",
      "source": [
        "te.transform(X_train[cat_attribs]).isna().mean()"
      ],
      "metadata": {
        "colab": {
          "base_uri": "https://localhost:8080/"
        },
        "id": "IHoQec_VZQ_3",
        "outputId": "f5f4f48a-533e-4ac2-e0c5-1c09b81870f1"
      },
      "execution_count": null,
      "outputs": [
        {
          "output_type": "execute_result",
          "data": {
            "text/plain": [
              "type_of_document          0.0\n",
              "email_domain_formatted    0.0\n",
              "social_status             0.0\n",
              "disbursment_type          0.0\n",
              "os                        0.0\n",
              "dtype: float64"
            ]
          },
          "metadata": {},
          "execution_count": 222
        }
      ]
    },
    {
      "cell_type": "code",
      "source": [
        "te.transform(X_test[cat_attribs]).isna().mean()"
      ],
      "metadata": {
        "colab": {
          "base_uri": "https://localhost:8080/"
        },
        "id": "HIWa0DaHhc5b",
        "outputId": "e6ec21b7-4047-4016-cb04-1911d06007d3"
      },
      "execution_count": null,
      "outputs": [
        {
          "output_type": "execute_result",
          "data": {
            "text/plain": [
              "type_of_document          0.0\n",
              "email_domain_formatted    0.0\n",
              "social_status             0.0\n",
              "disbursment_type          0.0\n",
              "os                        0.0\n",
              "dtype: float64"
            ]
          },
          "metadata": {},
          "execution_count": 223
        }
      ]
    },
    {
      "cell_type": "code",
      "source": [
        "log_reg = LogisticRegression(max_iter=10000)"
      ],
      "metadata": {
        "id": "-_DyT5KddHE0"
      },
      "execution_count": null,
      "outputs": []
    },
    {
      "cell_type": "code",
      "metadata": {
        "id": "n9k8JcENcWEx"
      },
      "source": [
        "full_pipeline = ColumnTransformer([\n",
        "        (\"num\", num_pipeline, num_attribs),\n",
        "        (\"cat\", TargetEncoder(), cat_attribs),\n",
        "    ])"
      ],
      "execution_count": null,
      "outputs": []
    },
    {
      "cell_type": "code",
      "source": [
        "model_pipe = Pipeline([\n",
        "    ('preprocessing', full_pipeline),\n",
        "    ('model', log_reg)]\n",
        ")"
      ],
      "metadata": {
        "id": "-BKfBuoddanH"
      },
      "execution_count": null,
      "outputs": []
    },
    {
      "cell_type": "code",
      "source": [
        "model_pipe.fit(X_train,y_train)"
      ],
      "metadata": {
        "colab": {
          "base_uri": "https://localhost:8080/"
        },
        "id": "rcmt6HbZc1fF",
        "outputId": "a5fcc3d5-9ba5-42c8-fd1e-1a8595d1dab0"
      },
      "execution_count": null,
      "outputs": [
        {
          "output_type": "stream",
          "name": "stderr",
          "text": [
            "/usr/local/lib/python3.7/dist-packages/sklearn/utils/validation.py:985: DataConversionWarning: A column-vector y was passed when a 1d array was expected. Please change the shape of y to (n_samples, ), for example using ravel().\n",
            "  y = column_or_1d(y, warn=True)\n"
          ]
        },
        {
          "output_type": "execute_result",
          "data": {
            "text/plain": [
              "Pipeline(steps=[('preprocessing',\n",
              "                 ColumnTransformer(transformers=[('num',\n",
              "                                                  Pipeline(steps=[('imputer',\n",
              "                                                                   ColumnTransformer(transformers=[('most_freq',\n",
              "                                                                                                    Pipeline(steps=[('imputer',\n",
              "                                                                                                                     SimpleImputer(strategy='most_frequent'))]),\n",
              "                                                                                                    ['gender',\n",
              "                                                                                                     'device_quaility_index',\n",
              "                                                                                                     'behavioral_index',\n",
              "                                                                                                     'email_index']),\n",
              "                                                                                                   ('median',\n",
              "                                                                                                    Pipeline(steps=[('imputer',\n",
              "                                                                                                                     SimpleImputer(strategy='median'))]),\n",
              "                                                                                                    ['age',\n",
              "                                                                                                     'salary'])])),\n",
              "                                                                  ('attribs_adder',\n",
              "                                                                   CombinedAttributesAdder()),\n",
              "                                                                  ('std_scaler',\n",
              "                                                                   StandardScaler())]),\n",
              "                                                  ['gender',\n",
              "                                                   'device_quaility_index',\n",
              "                                                   'behavioral_index', 'age',\n",
              "                                                   'salary', 'email_index']),\n",
              "                                                 ('cat', TargetEncoder(),\n",
              "                                                  ['type_of_document',\n",
              "                                                   'email_domain_formatted',\n",
              "                                                   'social_status',\n",
              "                                                   'disbursment_type',\n",
              "                                                   'os'])])),\n",
              "                ('model', LogisticRegression(max_iter=10000))])"
            ]
          },
          "metadata": {},
          "execution_count": 227
        }
      ]
    },
    {
      "cell_type": "code",
      "source": [
        "model_pipe.predict(X_test)"
      ],
      "metadata": {
        "colab": {
          "base_uri": "https://localhost:8080/"
        },
        "id": "qr5eC5L0dSPF",
        "outputId": "0d0e6dd1-04e3-4a62-9b94-ef9c11386df7"
      },
      "execution_count": null,
      "outputs": [
        {
          "output_type": "execute_result",
          "data": {
            "text/plain": [
              "array([0, 0, 0, ..., 0, 0, 0])"
            ]
          },
          "metadata": {},
          "execution_count": 228
        }
      ]
    },
    {
      "cell_type": "code",
      "source": [
        "scores = cross_validate(model_pipe, X_train, y_train['fpd5_flg'].values, \n",
        "                        scoring=scoring,\n",
        "                         cv=cv, return_train_score=True)"
      ],
      "metadata": {
        "id": "x3ZOIZ0HfsV9"
      },
      "execution_count": null,
      "outputs": []
    },
    {
      "cell_type": "code",
      "source": [
        "scores"
      ],
      "metadata": {
        "colab": {
          "base_uri": "https://localhost:8080/"
        },
        "id": "_JFG0yRbgBSI",
        "outputId": "2ac21690-e704-4f64-8cdc-ab48499b1d32"
      },
      "execution_count": null,
      "outputs": [
        {
          "output_type": "execute_result",
          "data": {
            "text/plain": [
              "{'fit_time': array([0.27454948, 0.22841263, 0.1743598 , 0.19128847, 0.19730973,\n",
              "        0.2175653 , 0.16575861, 0.18616247, 0.18782783, 0.2165792 ,\n",
              "        0.21004081, 0.17765784, 0.25563025, 0.1877625 , 0.1884737 ,\n",
              "        0.19584417, 0.22311854, 0.19163179, 0.2362442 , 0.1700964 ,\n",
              "        0.18346357, 0.16553187, 0.17283368, 0.17721128, 0.23617887,\n",
              "        0.18046308, 0.21087432, 0.18800426, 0.20096922, 0.18642139]),\n",
              " 'score_time': array([0.02818084, 0.03146243, 0.02619624, 0.0272429 , 0.02517271,\n",
              "        0.02482343, 0.02514839, 0.02586699, 0.0257256 , 0.02785254,\n",
              "        0.02985477, 0.02736306, 0.0272243 , 0.02865505, 0.03084874,\n",
              "        0.0251143 , 0.02647781, 0.03136039, 0.02600741, 0.02607799,\n",
              "        0.02664804, 0.02857137, 0.0277102 , 0.02771211, 0.02697158,\n",
              "        0.02584291, 0.02493906, 0.02602339, 0.02506542, 0.02986002]),\n",
              " 'test_average_precision': array([0.33313164, 0.360215  , 0.36629928, 0.40055284, 0.39817389,\n",
              "        0.35987185, 0.35668131, 0.36181554, 0.36533368, 0.36973239,\n",
              "        0.36208131, 0.35590103, 0.40009447, 0.37442076, 0.36598603,\n",
              "        0.35411384, 0.36685181, 0.38314882, 0.34411227, 0.3671245 ,\n",
              "        0.39919309, 0.38190465, 0.34882941, 0.37656096, 0.36370403,\n",
              "        0.38295097, 0.35717573, 0.35905319, 0.34867467, 0.35709909]),\n",
              " 'test_roc_auc': array([0.58923629, 0.62723881, 0.62659439, 0.65464251, 0.65533643,\n",
              "        0.62032663, 0.60796637, 0.61860337, 0.62079025, 0.62779702,\n",
              "        0.6218709 , 0.61562251, 0.65105186, 0.64477914, 0.61704194,\n",
              "        0.63270439, 0.62332704, 0.60865743, 0.59843157, 0.6378698 ,\n",
              "        0.65059128, 0.62452543, 0.60605081, 0.63609519, 0.60655146,\n",
              "        0.6398205 , 0.62837873, 0.61092085, 0.61936878, 0.6320527 ]),\n",
              " 'train_average_precision': array([0.38056783, 0.3759414 , 0.37580915, 0.37382769, 0.37548066,\n",
              "        0.379658  , 0.37850934, 0.37908682, 0.37777705, 0.37717402,\n",
              "        0.37872661, 0.37894848, 0.37159635, 0.37558187, 0.37741864,\n",
              "        0.37808163, 0.37883612, 0.37706518, 0.38010406, 0.37677495,\n",
              "        0.37389294, 0.37443281, 0.37871131, 0.377316  , 0.37604654,\n",
              "        0.37671329, 0.38042375, 0.37803443, 0.37958166, 0.37880706]),\n",
              " 'train_roc_auc': array([0.63899665, 0.63311417, 0.6337425 , 0.6307489 , 0.63171836,\n",
              "        0.63469837, 0.63630707, 0.63572462, 0.63458423, 0.63398778,\n",
              "        0.63508386, 0.6354818 , 0.6317555 , 0.63201682, 0.63498007,\n",
              "        0.63346609, 0.63480296, 0.63672131, 0.63702977, 0.63239011,\n",
              "        0.63155032, 0.63383768, 0.6362289 , 0.63394912, 0.63706315,\n",
              "        0.63252766, 0.63435619, 0.63567685, 0.63499226, 0.63353953])}"
            ]
          },
          "metadata": {},
          "execution_count": 230
        }
      ]
    },
    {
      "cell_type": "code",
      "source": [
        "scores['test_roc_auc'].mean()"
      ],
      "metadata": {
        "colab": {
          "base_uri": "https://localhost:8080/"
        },
        "outputId": "9b4f3f0f-a5f4-479f-a61c-450f832e1d8e",
        "id": "2Zwj3SbgmGES"
      },
      "execution_count": null,
      "outputs": [
        {
          "output_type": "execute_result",
          "data": {
            "text/plain": [
              "0.6251414790060298"
            ]
          },
          "metadata": {},
          "execution_count": 231
        }
      ]
    },
    {
      "cell_type": "code",
      "metadata": {
        "colab": {
          "base_uri": "https://localhost:8080/"
        },
        "outputId": "6f8e0d32-e609-4d3a-edeb-472169790896",
        "id": "uQHHzw7LmGET"
      },
      "source": [
        "scores['test_average_precision'].mean()"
      ],
      "execution_count": null,
      "outputs": [
        {
          "output_type": "execute_result",
          "data": {
            "text/plain": [
              "0.36735960010569324"
            ]
          },
          "metadata": {},
          "execution_count": 232
        }
      ]
    },
    {
      "cell_type": "code",
      "source": [
        "scores['test_roc_auc'].mean()"
      ],
      "metadata": {
        "colab": {
          "base_uri": "https://localhost:8080/"
        },
        "outputId": "c3ba8988-6e7c-497a-c4ba-fd10bd234ce3",
        "id": "DOYCiO83mHPT"
      },
      "execution_count": null,
      "outputs": [
        {
          "output_type": "execute_result",
          "data": {
            "text/plain": [
              "0.6251414790060298"
            ]
          },
          "metadata": {},
          "execution_count": 233
        }
      ]
    },
    {
      "cell_type": "code",
      "metadata": {
        "colab": {
          "base_uri": "https://localhost:8080/"
        },
        "outputId": "7ba25ca5-1b65-437d-ccb5-2452e61e9dca",
        "id": "nw0uoG3GmHPU"
      },
      "source": [
        "scores['test_average_precision'].mean()"
      ],
      "execution_count": null,
      "outputs": [
        {
          "output_type": "execute_result",
          "data": {
            "text/plain": [
              "0.36735960010569324"
            ]
          },
          "metadata": {},
          "execution_count": 234
        }
      ]
    },
    {
      "cell_type": "markdown",
      "source": [
        "# Target encoding + ohe"
      ],
      "metadata": {
        "id": "7J5AalC0mJYv"
      }
    },
    {
      "cell_type": "code",
      "metadata": {
        "id": "ChqRs_1DmZrf"
      },
      "source": [
        "full_pipeline = ColumnTransformer([\n",
        "        (\"num\", num_pipeline, num_attribs),\n",
        "        (\"cat_te\", TargetEncoder(), cat_attribs),\n",
        "        (\"cat_ohe\", OneHotEncoder(handle_unknown='ignore'), cat_attribs),\n",
        "    ])"
      ],
      "execution_count": null,
      "outputs": []
    },
    {
      "cell_type": "code",
      "source": [
        "model_pipe = Pipeline([\n",
        "    ('preprocessing', full_pipeline),\n",
        "    ('model', log_reg)]\n",
        ")"
      ],
      "metadata": {
        "id": "NzS3lVJ8mZrf"
      },
      "execution_count": null,
      "outputs": []
    },
    {
      "cell_type": "code",
      "source": [
        "scores = cross_validate(model_pipe, X_train, y_train['fpd5_flg'].values, \n",
        "                        scoring=scoring,\n",
        "                         cv=cv, return_train_score=True)"
      ],
      "metadata": {
        "id": "ratAs2Z_mlVy"
      },
      "execution_count": null,
      "outputs": []
    },
    {
      "cell_type": "code",
      "source": [
        "scores['test_roc_auc'].mean()"
      ],
      "metadata": {
        "colab": {
          "base_uri": "https://localhost:8080/"
        },
        "outputId": "52574cfb-90bd-4ce9-bf1b-5e2917f2cdd6",
        "id": "8soZcQ9nmySA"
      },
      "execution_count": null,
      "outputs": [
        {
          "output_type": "execute_result",
          "data": {
            "text/plain": [
              "0.6251489076614877"
            ]
          },
          "metadata": {},
          "execution_count": 238
        }
      ]
    },
    {
      "cell_type": "code",
      "metadata": {
        "colab": {
          "base_uri": "https://localhost:8080/"
        },
        "outputId": "0402c2e6-d5c4-463d-a9cf-b0f50036806b",
        "id": "VGVJwJ2HmySA"
      },
      "source": [
        "scores['test_average_precision'].mean()"
      ],
      "execution_count": null,
      "outputs": [
        {
          "output_type": "execute_result",
          "data": {
            "text/plain": [
              "0.3677830487038905"
            ]
          },
          "metadata": {},
          "execution_count": 239
        }
      ]
    },
    {
      "cell_type": "markdown",
      "source": [
        "# Grid search"
      ],
      "metadata": {
        "id": "VMvnhFREmzRn"
      }
    },
    {
      "cell_type": "code",
      "source": [
        "log_reg = LogisticRegression()"
      ],
      "metadata": {
        "id": "pZ8FJn1ywG_m"
      },
      "execution_count": null,
      "outputs": []
    },
    {
      "cell_type": "code",
      "metadata": {
        "id": "g7oX4AMewA6i"
      },
      "source": [
        "full_pipeline = ColumnTransformer([\n",
        "        (\"num\", num_pipeline, num_attribs),\n",
        "        (\"cat_te\", TargetEncoder(), cat_attribs),\n",
        "    ])"
      ],
      "execution_count": null,
      "outputs": []
    },
    {
      "cell_type": "code",
      "source": [
        "model_pipe = Pipeline([\n",
        "    ('preprocessing', full_pipeline),\n",
        "    ('model', log_reg)]\n",
        ")"
      ],
      "metadata": {
        "id": "s8BDv0ZWwA6j"
      },
      "execution_count": null,
      "outputs": []
    },
    {
      "cell_type": "code",
      "source": [
        "scores = cross_validate(model_pipe, X_train, y_train['fpd5_flg'].values, \n",
        "                        scoring=scoring,\n",
        "                        cv=5, return_train_score=True)"
      ],
      "metadata": {
        "id": "30haK_3Dvx0_"
      },
      "execution_count": null,
      "outputs": []
    },
    {
      "cell_type": "code",
      "source": [
        "scores['test_roc_auc'].mean()"
      ],
      "metadata": {
        "colab": {
          "base_uri": "https://localhost:8080/"
        },
        "id": "ZKP47M2EwOEt",
        "outputId": "67240476-7e0c-489a-9338-b85bbd405d4c"
      },
      "execution_count": null,
      "outputs": [
        {
          "output_type": "execute_result",
          "data": {
            "text/plain": [
              "0.6244114975592275"
            ]
          },
          "metadata": {},
          "execution_count": 303
        }
      ]
    },
    {
      "cell_type": "code",
      "source": [
        " param_grid={'model__C': [0.001, 0.01, 0.1, 1, 10, 100, 1000],\n",
        "             'model__penalty': ['none', 'l1']}"
      ],
      "metadata": {
        "id": "i6an6Bj8wRns"
      },
      "execution_count": null,
      "outputs": []
    },
    {
      "cell_type": "code",
      "source": [
        "from sklearn.model_selection import GridSearchCV"
      ],
      "metadata": {
        "id": "yMfhMwoWwv15"
      },
      "execution_count": null,
      "outputs": []
    },
    {
      "cell_type": "code",
      "source": [
        "cv = RepeatedStratifiedKFold(n_splits=10, n_repeats=3, random_state=1)"
      ],
      "metadata": {
        "id": "xXDaUkjMx1Z0"
      },
      "execution_count": null,
      "outputs": []
    },
    {
      "cell_type": "code",
      "source": [
        "clf = GridSearchCV(model_pipe, param_grid,cv=5,scoring='roc_auc',n_jobs=-1)"
      ],
      "metadata": {
        "id": "hYXpBDPSw4Uj"
      },
      "execution_count": null,
      "outputs": []
    },
    {
      "cell_type": "code",
      "source": [
        "clf.fit(X_train, y_train['fpd5_flg'].values)"
      ],
      "metadata": {
        "colab": {
          "base_uri": "https://localhost:8080/"
        },
        "id": "ee8o7zNuxGyY",
        "outputId": "b726e008-6fac-4dc5-e2cb-5a4e87afeb58"
      },
      "execution_count": null,
      "outputs": [
        {
          "output_type": "stream",
          "name": "stderr",
          "text": [
            "/usr/local/lib/python3.7/dist-packages/sklearn/model_selection/_validation.py:372: FitFailedWarning: \n",
            "35 fits failed out of a total of 70.\n",
            "The score on these train-test partitions for these parameters will be set to nan.\n",
            "If these failures are not expected, you can try to debug them by setting error_score='raise'.\n",
            "\n",
            "Below are more details about the failures:\n",
            "--------------------------------------------------------------------------------\n",
            "35 fits failed with the following error:\n",
            "Traceback (most recent call last):\n",
            "  File \"/usr/local/lib/python3.7/dist-packages/sklearn/model_selection/_validation.py\", line 681, in _fit_and_score\n",
            "    estimator.fit(X_train, y_train, **fit_params)\n",
            "  File \"/usr/local/lib/python3.7/dist-packages/sklearn/pipeline.py\", line 394, in fit\n",
            "    self._final_estimator.fit(Xt, y, **fit_params_last_step)\n",
            "  File \"/usr/local/lib/python3.7/dist-packages/sklearn/linear_model/_logistic.py\", line 1461, in fit\n",
            "    solver = _check_solver(self.solver, self.penalty, self.dual)\n",
            "  File \"/usr/local/lib/python3.7/dist-packages/sklearn/linear_model/_logistic.py\", line 449, in _check_solver\n",
            "    % (solver, penalty)\n",
            "ValueError: Solver lbfgs supports only 'l2' or 'none' penalties, got l1 penalty.\n",
            "\n",
            "  warnings.warn(some_fits_failed_message, FitFailedWarning)\n",
            "/usr/local/lib/python3.7/dist-packages/sklearn/model_selection/_search.py:972: UserWarning: One or more of the test scores are non-finite: [0.6230374       nan 0.6230374       nan 0.6230374       nan 0.6230374\n",
            "       nan 0.6230374       nan 0.6230374       nan 0.6230374       nan]\n",
            "  category=UserWarning,\n",
            "/usr/local/lib/python3.7/dist-packages/sklearn/linear_model/_logistic.py:1484: UserWarning: Setting penalty='none' will ignore the C and l1_ratio parameters\n",
            "  \"Setting penalty='none' will ignore the C and l1_ratio parameters\"\n",
            "/usr/local/lib/python3.7/dist-packages/sklearn/linear_model/_logistic.py:818: ConvergenceWarning: lbfgs failed to converge (status=1):\n",
            "STOP: TOTAL NO. of ITERATIONS REACHED LIMIT.\n",
            "\n",
            "Increase the number of iterations (max_iter) or scale the data as shown in:\n",
            "    https://scikit-learn.org/stable/modules/preprocessing.html\n",
            "Please also refer to the documentation for alternative solver options:\n",
            "    https://scikit-learn.org/stable/modules/linear_model.html#logistic-regression\n",
            "  extra_warning_msg=_LOGISTIC_SOLVER_CONVERGENCE_MSG,\n"
          ]
        },
        {
          "output_type": "execute_result",
          "data": {
            "text/plain": [
              "GridSearchCV(cv=5,\n",
              "             estimator=Pipeline(steps=[('preprocessing',\n",
              "                                        ColumnTransformer(transformers=[('num',\n",
              "                                                                         Pipeline(steps=[('imputer',\n",
              "                                                                                          ColumnTransformer(transformers=[('most_freq',\n",
              "                                                                                                                           Pipeline(steps=[('imputer',\n",
              "                                                                                                                                            SimpleImputer(strategy='most_frequent'))]),\n",
              "                                                                                                                           ['gender',\n",
              "                                                                                                                            'device_quaility_index',\n",
              "                                                                                                                            'behavioral_index',\n",
              "                                                                                                                            'email_index']),\n",
              "                                                                                                                          ('median',\n",
              "                                                                                                                           Pipeline(steps=[('imputer',\n",
              "                                                                                                                                            Si...\n",
              "                                                                                          StandardScaler())]),\n",
              "                                                                         ['gender',\n",
              "                                                                          'device_quaility_index',\n",
              "                                                                          'behavioral_index',\n",
              "                                                                          'age',\n",
              "                                                                          'salary',\n",
              "                                                                          'email_index']),\n",
              "                                                                        ('cat_te',\n",
              "                                                                         TargetEncoder(),\n",
              "                                                                         ['type_of_document',\n",
              "                                                                          'email_domain_formatted',\n",
              "                                                                          'social_status',\n",
              "                                                                          'disbursment_type',\n",
              "                                                                          'os'])])),\n",
              "                                       ('model', LogisticRegression())]),\n",
              "             n_jobs=-1,\n",
              "             param_grid={'model__C': [0.001, 0.01, 0.1, 1, 10, 100, 1000],\n",
              "                         'model__penalty': ['none', 'l1']},\n",
              "             scoring='roc_auc')"
            ]
          },
          "metadata": {},
          "execution_count": 308
        }
      ]
    },
    {
      "cell_type": "code",
      "source": [
        "clf.best_params_"
      ],
      "metadata": {
        "colab": {
          "base_uri": "https://localhost:8080/"
        },
        "id": "rqq64yVmxUn2",
        "outputId": "ad97fd85-8ae9-47db-fa29-d5bb9b125989"
      },
      "execution_count": null,
      "outputs": [
        {
          "output_type": "execute_result",
          "data": {
            "text/plain": [
              "{'model__C': 1, 'model__penalty': 'l2'}"
            ]
          },
          "metadata": {},
          "execution_count": 268
        }
      ]
    },
    {
      "cell_type": "code",
      "source": [
        ""
      ],
      "metadata": {
        "id": "YaVPxnIsxqSG"
      },
      "execution_count": null,
      "outputs": []
    }
  ]
}